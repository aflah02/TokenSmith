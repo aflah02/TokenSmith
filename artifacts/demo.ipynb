{
 "cells": [
  {
   "cell_type": "markdown",
   "id": "509e2538",
   "metadata": {},
   "source": [
    "# Setup - \n",
    "Run jupyter-notebook in env and pick link\n"
   ]
  },
  {
   "cell_type": "code",
   "execution_count": 1,
   "id": "03f43b94",
   "metadata": {},
   "outputs": [],
   "source": [
    "import logging\n",
    "# show both debug and warning messages\n",
    "logging.basicConfig(level=logging.DEBUG)"
   ]
  },
  {
   "cell_type": "code",
   "execution_count": 2,
   "id": "1e62e52d",
   "metadata": {},
   "outputs": [],
   "source": [
    "import sys\n",
    "sys.path.insert(0, \"/NS/llm-pretraining/work/afkhan/tokensmith\")"
   ]
  },
  {
   "cell_type": "code",
   "execution_count": 3,
   "id": "9673caf6",
   "metadata": {},
   "outputs": [],
   "source": [
    "import sys\n",
    "sys.path.insert(0, \"/NS/llm-pretraining/work/afkhan/USC_Colab/gpt-neox\")"
   ]
  },
  {
   "cell_type": "code",
   "execution_count": 4,
   "id": "7d70d71d",
   "metadata": {},
   "outputs": [
    {
     "name": "stderr",
     "output_type": "stream",
     "text": [
      "/NS/venvs/work/afkhan/neox_updated_env/lib/python3.11/site-packages/huggingface_hub/file_download.py:795: FutureWarning: `resume_download` is deprecated and will be removed in version 1.0.0. Downloads always resume when possible. If you want to force a new download, use `force_download=True`.\n",
      "  warnings.warn(\n",
      "DEBUG:urllib3.connectionpool:Starting new HTTPS connection (1): huggingface.co:443\n",
      "DEBUG:urllib3.connectionpool:https://huggingface.co:443 \"HEAD /EleutherAI/gpt-neox-20b/resolve/main/tokenizer_config.json HTTP/1.1\" 307 0\n",
      "DEBUG:urllib3.connectionpool:https://huggingface.co:443 \"HEAD /api/resolve-cache/models/EleutherAI/gpt-neox-20b/c292233c833e336628618a88a648727eb3dff0a7/tokenizer_config.json HTTP/1.1\" 200 0\n",
      "Special tokens have been added in the vocabulary, make sure the associated word embeddings are fine-tuned or trained.\n"
     ]
    }
   ],
   "source": [
    "from transformers import AutoTokenizer\n",
    "TOKENIZER_NAME_OR_PATH = \"EleutherAI/gpt-neox-20b\"\n",
    "tokenizer = AutoTokenizer.from_pretrained(TOKENIZER_NAME_OR_PATH, add_eos_token=True)"
   ]
  },
  {
   "cell_type": "code",
   "execution_count": 5,
   "id": "c3c9a061",
   "metadata": {},
   "outputs": [],
   "source": [
    "# import os\n",
    "# import torch\n",
    "# import torch.distributed as dist\n",
    "\n",
    "# def setup():\n",
    "#     # Set required env vars manually\n",
    "#     os.environ['RANK'] = '0'\n",
    "#     os.environ['WORLD_SIZE'] = '1'\n",
    "#     os.environ['MASTER_ADDR'] = '127.0.0.1'\n",
    "#     os.environ['MASTER_PORT'] = '29500'\n",
    "\n",
    "#     dist.init_process_group(backend='nccl', init_method='env://')\n",
    "\n",
    "# setup()\n",
    "\n",
    "# import torch\n",
    "# import os\n",
    "\n",
    "# os.environ['MASTER_ADDR'] = '127.0.0.1'\n",
    "# os.environ['MASTER_PORT'] = '29500'\n",
    "# torch.distributed.init_process_group(backend='nccl', rank=0, world_size=1)"
   ]
  },
  {
   "cell_type": "code",
   "execution_count": 6,
   "id": "7a5f9556",
   "metadata": {},
   "outputs": [
    {
     "name": "stdout",
     "output_type": "stream",
     "text": [
      "[2025-06-30 16:51:43,642] [INFO] [real_accelerator.py:161:get_accelerator] Setting ds_accelerator to cuda (auto detect)\n"
     ]
    },
    {
     "name": "stderr",
     "output_type": "stream",
     "text": [
      "/NS/venvs/work/afkhan/neox_updated_env/lib/python3.11/site-packages/deepspeed/runtime/zero/linear.py:47: FutureWarning: `torch.cuda.amp.custom_fwd(args...)` is deprecated. Please use `torch.amp.custom_fwd(args..., device_type='cuda')` instead.\n",
      "  @autocast_custom_fwd\n",
      "/NS/venvs/work/afkhan/neox_updated_env/lib/python3.11/site-packages/deepspeed/runtime/zero/linear.py:66: FutureWarning: `torch.cuda.amp.custom_bwd(args...)` is deprecated. Please use `torch.amp.custom_bwd(args..., device_type='cuda')` instead.\n",
      "  @autocast_custom_bwd\n",
      "DEBUG:git.cmd:Popen(['git', 'version'], cwd=/NS/llm-pretraining/work/afkhan/tokensmith/artifacts, stdin=None, shell=False, universal_newlines=False)\n",
      "DEBUG:git.cmd:Popen(['git', 'version'], cwd=/NS/llm-pretraining/work/afkhan/tokensmith/artifacts, stdin=None, shell=False, universal_newlines=False)\n",
      "DEBUG:wandb.docker.auth:Trying paths: ['/home/afkhan/.docker/config.json', '/home/afkhan/.dockercfg']\n",
      "DEBUG:wandb.docker.auth:Found file at path: /home/afkhan/.docker/config.json\n",
      "DEBUG:wandb.docker.auth:Found 'auths' section\n",
      "DEBUG:wandb.docker.auth:Found entry (registry='registry.mpi-sws.org', username='ns-llm-1')\n",
      "INFO:numexpr.utils:Note: NumExpr detected 32 cores but \"NUMEXPR_MAX_THREADS\" not set, so enforcing safe limit of 16.\n",
      "INFO:numexpr.utils:NumExpr defaulting to 16 threads.\n",
      "INFO:datasets:PyTorch version 2.5.1+cu118 available.\n"
     ]
    }
   ],
   "source": [
    "from tokensmith.manager import DatasetManager"
   ]
  },
  {
   "cell_type": "code",
   "execution_count": 7,
   "id": "7fc92c48",
   "metadata": {},
   "outputs": [],
   "source": [
    "dataset_manager = DatasetManager()"
   ]
  },
  {
   "cell_type": "markdown",
   "id": "affe7a55",
   "metadata": {},
   "source": [
    "# Setup Search"
   ]
  },
  {
   "cell_type": "code",
   "execution_count": 8,
   "id": "c21b5328",
   "metadata": {},
   "outputs": [],
   "source": [
    "# dataset_manager.setup_search(\n",
    "#     bin_file_path=\"/NS/llm-pretraining/work/afkhan/tokensmith/artifacts/data_tokenized_text_document.bin\",\n",
    "#     search_index_save_path=\"/NS/llm-pretraining/work/afkhan/tokensmith/artifacts/search_index_text_document.idx\",\n",
    "#     vocab=2**32,\n",
    "#     verbose=True,\n",
    "#     reuse=True,\n",
    "# )"
   ]
  },
  {
   "cell_type": "code",
   "execution_count": null,
   "id": "a9eebc3c",
   "metadata": {},
   "outputs": [],
   "source": []
  },
  {
   "cell_type": "code",
   "execution_count": 9,
   "id": "08207b9d",
   "metadata": {},
   "outputs": [
    {
     "name": "stderr",
     "output_type": "stream",
     "text": [
      "DEBUG:tokensmith.utils:Initializing WriteableMMapIndexedDataset with pointer: /NS/llm-pretraining/work/afkhan/tokensmith/artifacts/data_tokenized_text_document.bin and index: /NS/llm-pretraining/work/afkhan/tokensmith/artifacts/data_tokenized_text_document.idx\n",
      "DEBUG:tokensmith.utils:Loading doc/sample/shuffle indexes with prefix: /NS/llm-pretraining/work/afkhan/tokensmith/artifacts/batch_info\n"
     ]
    },
    {
     "name": "stdout",
     "output_type": "stream",
     "text": [
      "    warming up index mmap file...\n",
      "    reading sizes...\n",
      "    reading pointers...\n",
      "    reading document index...\n"
     ]
    }
   ],
   "source": [
    "dataset_manager.setup_edit_inspect_sample_export(\n",
    "    dataset_prefix='/NS/llm-pretraining/work/afkhan/tokensmith/artifacts/data_tokenized_text_document',\n",
    "    # batch_info_prefix='dataset_train_indexmap_100ns_2048sl_1s_packedpi_ac',\n",
    "    batch_info_save_prefix='/NS/llm-pretraining/work/afkhan/tokensmith/artifacts/batch_info',\n",
    "    train_iters=100,\n",
    "    train_batch_size=16,\n",
    "    train_seq_len=2048,\n",
    "    seed=42,\n",
    "    splits_string='990,5,5',\n",
    "    packing_impl='packed',\n",
    "    allow_chopped=True,\n",
    ")"
   ]
  },
  {
   "cell_type": "code",
   "execution_count": 10,
   "id": "d6c92b9e",
   "metadata": {},
   "outputs": [],
   "source": [
    "resp = dataset_manager.sample.sample_by_indexes([10], return_doc_details=True)"
   ]
  },
  {
   "cell_type": "code",
   "execution_count": 12,
   "id": "cb8d0a99",
   "metadata": {},
   "outputs": [],
   "source": [
    "resp = dataset_manager.inspect.inspect_sample_by_id(10, return_doc_details=True, return_detokenized = True, tokenizer=tokenizer)"
   ]
  },
  {
   "cell_type": "code",
   "execution_count": 11,
   "id": "1e526f51",
   "metadata": {},
   "outputs": [],
   "source": [
    "from tokensmith.utils import generate_training_sample"
   ]
  },
  {
   "cell_type": "code",
   "execution_count": 12,
   "id": "ddfd9c53",
   "metadata": {},
   "outputs": [
    {
     "data": {
      "text/plain": [
       "' day, they find a big club on the grass. It is brown and heavy. \"Look, a club!\" Lily says. \"Let\\'s play with it!\" \"OK!\" Ben says. \"What can we do with it?\" Lily thinks for a moment. Then she has an idea. \"We can spin it!\" she says. \"Like this!\" She holds the club with both hands and turns around fast. The club makes a whoosh sound in the air. \"Wow, that looks fun!\" Ben says. \"Can I try?\" \"Sure!\" Lily says. She gives the club to Ben. Ben tries to spin it, but it is too heavy for him. He falls down and drops the club. \"Ouch!\" Ben says. \"That hurts!\" Lily laughs. She helps Ben get up. \"You are lazy!\" she says. \"You need to be strong to spin the club!\" Ben makes a face. \"I am not lazy!\" he says. \"I am just small. You are big and strong. That\\'s not fair!\" Lily smiles. She hugs Ben. \"Don\\'t be sad,\" she says. \"We can play something else. How about we swing on the swings?\" \"OK!\" Ben says. \"That sounds fun!\" They leave the club on the grass and run to the swings. They swing high and low, and laugh and sing. They are happy. They are friends.<|endoftext|>Betty was an enthusiastic three year old. She loved to study. Every day, she went to the hall with her parents. Every morning, her parents would leave her with a teacher. She was excited to learn new things. One day, she noticed something different in the hall. Everyone was crowded around a new student. Betty asked her teacher what was going on. The teacher replied, \"That’s Jake. He\\'s a new student. He\\'s very enthusiastic about studying. He\\'s looking forward to learning a lot!\" Betty smiled and said, \"I\\'m excited to get to know him!\" The teacher nodded and said, \"So am I. Let\\'s introduce ourselves.\" The two children waved at each other and began to study. From that day onward, they were good friends. They had lots of fun learning and exploring the hall together.<|endoftext|>Once upon a time, there was a march. A march is like a walk, but with more people. Everyone had something to do and they worked together. It was difficult to get everyone to settle in the right place, however. Suddenly, they heard a fairy call out. \"If you work together, you can make it happen!\" Everyone listened, and started to help each other as they marched. It was still difficult, but the march eventually settled into the right place. Everyone clapped and cheered. It was a hard journey, but they had made it! The end!<|endoftext|>Once upon a time there was a little girl named Lily. Lily loved to play in her garden. One day she found a grape tree in her garden. She was so excited to find some grapes! She quickly picked a handful of grapes and put them into her pocket. At that moment, a sneaky rabbit jumped out from behind the tree. He eyed the grapes and said, “That’s mine!” Lily was shocked. She tried to explain that the grapes were actually hers but the rabbit wasn’t listening. The rabbit was being very selfish and didn’t want to give the grapes back. Lily was so sad. She wanted the grapes back but she didn’t know what to do. Suddenly, she had an idea. She bowed to the rabbit and said, “Please, please give me back my grapes.” The rabbit was very surprised by this. He looked at Lily and then at the grapes. He smiled, handed back the grapes and ran away. Lily was so happy! She thanked the rabbit for being so generous and then ate the juicy grapes. The end!<|endoftext|>Once upon a time, there was a little boy named Tim. Tim had to choose a toy to play with at school. There were many toys, but he saw one that caught his sight. It was an ugly old toy that no one liked to play with. Tim thought it was special, so he chose it. Every day, Tim played with the ugly toy. The other kids laughed at him, but Tim didn\\'t care. He loved his ugly toy. One day, a new kid came to school and saw the toy. He wanted to play with it too. Tim didn\\'t want to share, so the new kid was sad. As days went by, Tim kept playing with the ugly toy. The new kid tried to make friends, but Tim wouldn\\'t let him play. One day, the ugly toy broke. Tim was sad and had no toy to play with. The new kid still had no friends. The moral of the story is to always share and be kind, or you might end up sad and alone.<|endoftext|>Tom and Mia are friends. They like to play outside in the park. Today it is cold, so they wear coats. Tom has a red coat and Mia has a blue coat. They run and jump and slide on the grass. They have fun. But then Tom sees a big dog. He is scared of dogs. He runs away from the dog. He does not see where he is going. He runs into a tree. His coat gets stuck on a branch. He tries to pull his coat, but it does not come off. He starts to cry. Mia hears Tom cry. She runs to him. She sees his coat on the tree. She is sad for Tom. She tries to help him. She climbs the tree. She reaches for his coat. She pulls his coat, but it is too hard. She loses her balance. She falls from the tree. Her coat falls with her. She lands on the ground. She hurts her knee. She starts to cry too. Now Tom and Mia are both crying. They have no coats. They are cold and hurt. They want to go home. They want their moms. They want their normal coats. They are not happy. They are not friends. They are mad at each other. They blame each other for losing their coats. They say mean words. They do not play anymore. They sit on the ground and cry.<|endoftext|>One day a little girl had an idea. She wanted to build a nice, soft fort out of sacks. She ran to the sack and asked her mom if she could take one. Her mom said yes and she started to drag it to her room. The little girl started to build the fort. She arranged the sack in a circle and tucked them in so they were nice and soft. She put some pillows, a blanket, stuffed animals and books inside. The little girl was so proud of her fort. She jumped inside and felt so safe. She brought a special storybook and read it quietly until she felt very sleepy. Then, she hugged her stuffed animal and fell asleep in her soft little fort.<|endoftext|>Once upon a time, there was a little girl named Lucy who was three years old. She liked to take care of things, like her toys and her pet dog Spike. One day, Lucy was very sad. Her mom had given her a sour lemon to eat, and she didn\\'t like it. Lucy started to cry, and Spike looked so sad too. But Spike had a plan to make Lucy feel better. He ran to the kitchen and grabbed a few yummy snacks. He ran back to Lucy and gave them to her. Lucy smiled and hugged Spike, feeling very happy and cared for. They finished the snacks, and Spike went back to the kitchen to get more. Lucy hugged him again and saw how much he cared for her. From then on, Lucy and Spike were the best of friends. Even when things were sour, Lucy knew that Spike was always there to take care of her.<|endoftext|>Once upon a time, there was a fine ornament. It was round and shiny. The ornament lived on a big tree. The tree was in a house with a family. One day, a boy named Tim saw the ornament. He wanted to play with it. Tim took the ornament off the tree. He started to do a dance with it. The ornament liked the dance. It made the ornament happy. Tim put the ornament back on the tree. The ornament was safe and sound. The family and the ornament lived happily ever after.<|endoftext|>Once upon a time, there was a big, hot sun in the sky. The sun made everything feel warm and nice. One day, a little rat appeared from behind a tree. The rat was small and brown, with a long tail. It looked around and saw some cheese on the ground. The rat was hungry, so it ran over to the cheese and ate it all up. Then, the rat disappeared back behind the tree. The sun kept shining and everything was happy. The end.<|endoftext|>Once upon a time, there was a little girl named Lily. She loved to play with her toys and her cat named Mittens. One day, Lily\\'s mommy told her that they were going to visit her daddy at work. Lily was very excited to see her daddy\\'s work. When they arrived at her daddy\\'s work, Lily saw a big building with lots of people inside. She thought it was scary, but her mommy held her hand and said it was okay. Lily saw her daddy sitting at a desk and typing on a computer. She asked him, \"Daddy, what do you do at work?\" Her daddy replied, \"I work with numbers and think of ways to help people with their money.\" Lily didn\\'t understand what her daddy meant, but she was happy to see him at work. After a little while, they said goodbye to her daddy and went back home. Lily told Mittens all about her daddy\\'s work and how she thought it was scary but fun.<|endoftext|>Once upon a time,'"
      ]
     },
     "execution_count": 12,
     "metadata": {},
     "output_type": "execute_result"
    }
   ],
   "source": [
    "generate_training_sample(resp[0][0], tokenizer)"
   ]
  },
  {
   "cell_type": "code",
   "execution_count": 10,
   "id": "a34a4dbf",
   "metadata": {},
   "outputs": [],
   "source": [
    "import numpy as np\n",
    "\n",
    "RNG = np.random.default_rng(42)"
   ]
  },
  {
   "cell_type": "code",
   "execution_count": 12,
   "id": "95d3da46",
   "metadata": {},
   "outputs": [
    {
     "name": "stderr",
     "output_type": "stream",
     "text": [
      "WARNING:tokensmith.utils:>> Casting injection data from int64 to <class 'numpy.uint16'>\n",
      "WARNING:tokensmith.utils:This warning will not be shown again. The process will wait for 10 seconds before starting the edit process.\n"
     ]
    },
    {
     "name": "stdout",
     "output_type": "stream",
     "text": [
      "Dummy sample: [1552  310  247 1071 6197   15    0]\n",
      "Training sample 699\n",
      "Sample consists of segments from 12 documents\n",
      "Raw sample: [16522   497   594 ...  5972    15   380]\n",
      "---\n",
      "Decoded sample:  Dad were so excited to show me their new thing. It was tall and wide with a shapely top. It was bright red and had pretty decorations. I was so amazed! Mum and Dad had designed a beautiful red chair for me. I squealed with delight as I hugged them and spun around in it. It was the best thing ever!<|endoftext|>Once upon a time, there was a little bird with gray feathers. The bird loved to fly high in the sky and sit on a branch. One day, the bird saw a big, juicy worm on the ground. The bird wanted to eat the worm but his mother told him it was not safe to eat worms on the ground. She said only worms on the branch were safe to eat. But the little bird didn't listen to his mother and flew down to the ground to eat the worm. As he was eating, a big, mean cat came and chased after him. The little bird tried to fly away, but he was too slow. The cat caught him and ate him for his dinner. The little bird's mother was very sad and wished she had not permitted her little bird to fly down to the ground. She knew he would still be alive if he had listened to her and stayed on the branch. The end.<|endoftext|>Sam was a very tired little boy. He had been playing outside all day. When it came time to go home, Sam started to cry. His mommy saw him and said, \"Don't worry. I have something special for you at home.\" Sam stopped crying and was so excited. When they arrived at home mommy made him his favorite sandwich and gave it to him. Sam gobbled it up and was very happy. Mommies special surprise turned out to be something even better than a sandwich- an extra hour of playtime at the playground! Sam was so thrilled, he squealed with delight and hugged his mommy. Just like she promised, Sam was no longer tired and had plenty of energy to play at the playground.<|endoftext|>Once upon a time, there was a naughty lizard. He was scuttling around the garden when he saw a big box. He got so excited and said, \"Mmm, what is in the box?\" He poked the box with his nose and opened it. Suddenly, a big hurty spider jumped out! The lizard got scared and said, \"Help! Help!\" But no one was there to help him. He quickly jumped away and ran over to a bush. The spider chased him, but he was too fast and the spider fell over. The lizard was so happy and he said, \"Whew! I'm safe!\" But then the spider started to climb up the bush. The lizard was so scared and said, \"Help!\" Suddenly, a nice soldier ant came to the rescue. She bravely fought off the spider, and the lizard thanked her for saving him. The soldier ant said, \"It's my job to protect lizards and other creatures. You're safe now.\" The lizard gave a big smile and said, \"Thank you! I'm so happy.\" They both went on their separate ways, happy to be alive.<|endoftext|>Once upon a time there was a family who loved going on adventures. One day they decided to go camping. Mum said, “We need to prepare for our camping trip!” Dad said, “Let’s get the tent, food and games ready.” The little girl smiled, she was so excited to go! On the way to their camping spot, they stopped at a river. Suddenly, the little girl saw a very unusual word written in the sand. The little girl asked: “What does that word mean?” “It’s a surprise,” mum said. When the family got to their campsite, the little girl looked back at the word in the sand and shouted with joy, “It’s the name of the river!” Mum laughed and said, “That’s right! Now, let’s prepare for a wonderful camping adventure!”<|endoftext|>Once there was a small dog named Sandy. Sandy was very curious. One day, Sandy was out for a walk and he saw a fat cat. Sandy decided to follow the cat. Everywhere the fat cat went, Sandy followed. The fat cat stopped in front of a big house and went inside. Sandy followed the cat until they both reached the kitchen. Sandy was very excited and wanted to see what was inside. Inside, the fat cat was eating a big steak. Sandy's mouth watered as he watched the cat eat. Suddenly, the cat said, \"Come here, Sandy. You can have the rest of my steak. I'm too fat to finish it.\" Sandy was so happy he began to eat the steak right away. He enjoyed it very much and thanked the fat cat for sharing. From that day forward, Sandy and the fat cat became good friends. Everywhere the fat cat went, Sandy followed.<|endoftext|>Once upon a time, there was a girl named Lily. She loved to play dress-up and try on different clothes. One day, she found a pretty dress in her closet. It was a modest style dress, with a simple design. Lily wanted to make the dress look even prettier, so she decided to mix it up with some accessories. She put on a sparkly necklace and a shiny bracelet. She even found a pair of shoes that matched perfectly. When Lily looked in the mirror, she was so happy with her new outfit. She twirled around and danced, feeling like a princess. From that day on, Lily loved to mix and match her clothes to create new styles.<|endoftext|>Once upon a time, there was a litttle girl. She was only three years old, but she loved to sing and dance. Every day, she would spin and twirl around the garden, singing to herself. One day, a big, scary spider crawled onto her shoulder. She was so scared and she ran all around the garden trying to get it off. The spider said, \"Why are you scared, little girl? I just want to dance!\" The little girl stopped and looked at the spider. She laughed and answered, \"Ok, lets dance!\" So the spider started to dance. He did a spin and then a twirl with his eight legs. The little girl copied the spider, spinning around the garden. At last, the spider said, \"Now sing!\" So the little girl sang a happy song as she twirled and danced. The spider sang along, and they had a wonderful time. When the song was finished, the spider thanked the little girl and said goodbye. She watched him run away into the bush and then she twirled off, singing and dancing her way across the garden.<|endoftext|>Once upon a time, there was a little bunny called Dan. He was a very sweet bunny, but he was easily distracted. One day, Dan was walking through the woods, when he spotted a soft print on the ground. It was a rabbit print! He quickly followed the prints, determined to catch up with the rabbit. As he followed the prints, Dan heard a voice. It was the rabbit! \"I surrender!\" the rabbit yelled. Dan stopped in his tracks, and then peeked around the tree. The rabbit was caught in a trap! Dan was very worried, and he wanted to help the rabbit. He thought of a clever plan - he quickly hopped around, and then moved some sticks until the trap stopped working. The rabbit was able to break out of the trap and hop away to safety. Dan felt proud of his bravery and kindness, and he learned a valuable lesson – that day he learnt that sometimes, surrendering and asking for help is an admirable act of courage.<|endoftext|>Tom and Jen were friends who liked to play in the woods. One day, they found a big cave with a white door. They wanted to see what was inside, but they had a quarrel. \"I want to go first!\" Tom said. \"No, I want to go first!\" Jen said. They pushed and pulled each other, but no one could open the door. They got angry and shouted. \"Go away, you are mean!\" Tom said. \"Go away, you are silly!\" Jen said. They stopped being friends and went to different sides of the cave. They did not see the big bear that was sleeping inside. The bear heard the noise and woke up. He was hungry and angry. He saw Tom and Jen and roared. \"Who are you? This is my cave!\" the bear said. Tom and Jen were scared and tried to run away, but it was too late. The bear caught them and ate them. He closed the white door and went back to sleep. Tom and Jen were no more.<|endoftext|>Once upon a time, in a lively little town, there lived a boy named Tim. He loved to ride his bike up and down the streets. One day, Tim found a tool on the ground. It was a big wrench. Tim was very happy and put the tool in his pocket. Tim wanted to show his friends the tool he found. He rode his bike very fast to his friend's house. On the way, his bike hit a big bump. Tim fell off his bike and the tool fell out of his pocket. The tool broke into pieces. Tim was very sad. He could not show his friends the tool he found. He walked back home with his broken bike and broken tool. The lively little town was not so lively for Tim that day.<|endoftext|>Once upon a time, there was a little girl named Lily. She loved to play at the park and swing on the swings. One day, a stranger came to the park. He had a gentle voice and asked Lily if she wanted to play with him. Lily was happy to have a new friend, but she didn't know the stranger was bad. He asked her to balance on the edge of the slide, but she fell and hurt herself. The\n",
      "---\n"
     ]
    },
    {
     "name": "stderr",
     "output_type": "stream",
     "text": [
      "DEBUG:tokensmith.utils:>>> Inserting 72 of 2049 tokens starting at position 8562636\n",
      "DEBUG:tokensmith.utils:>>> Injection Data Shape (72,) | Injection Data Dtype uint16\n",
      "DEBUG:tokensmith.utils:>>> Inserting 189 of 2049 tokens starting at position 7462992\n",
      "DEBUG:tokensmith.utils:>>> Inserting 152 of 2049 tokens starting at position 4710212\n",
      "DEBUG:tokensmith.utils:>>> Inserting 242 of 2049 tokens starting at position 3269832\n",
      "DEBUG:tokensmith.utils:>>> Inserting 173 of 2049 tokens starting at position 1322428\n",
      "DEBUG:tokensmith.utils:>>> Inserting 188 of 2049 tokens starting at position 4877468\n",
      "DEBUG:tokensmith.utils:>>> Inserting 143 of 2049 tokens starting at position 3814036\n",
      "DEBUG:tokensmith.utils:>>> Inserting 227 of 2049 tokens starting at position 1944972\n",
      "DEBUG:tokensmith.utils:>>> Inserting 205 of 2049 tokens starting at position 8853872\n",
      "DEBUG:tokensmith.utils:>>> Inserting 211 of 2049 tokens starting at position 1577198\n",
      "DEBUG:tokensmith.utils:>>> Inserting 156 of 2049 tokens starting at position 4277628\n",
      "DEBUG:tokensmith.utils:>>> Inserting 91 of 2049 tokens starting at position 7906036\n"
     ]
    },
    {
     "name": "stdout",
     "output_type": "stream",
     "text": [
      "Training sample 699 after injection\n",
      "Raw sample: [ 921  479  616 ...  285 8513 5972]\n",
      "---\n",
      "Decoded sample:  show me their new thing. It was tall and wide with a shapely top. It was bright red and had pretty decorations. I was so amazed! Mum and Dad had designed a beautiful red chair for me. I squealed with delight as I hugged them and spun around in it. It was the best thing ever!<|endoftext|>This is a test sentence.<|endoftext|>Once upon a time, there was a little bird with gray feathers. The bird loved to fly high in the sky and sit on a branch. One day, the bird saw a big, juicy worm on the ground. The bird wanted to eat the worm but his mother told him it was not safe to eat worms on the ground. She said only worms on the branch were safe to eat. But the little bird didn't listen to his mother and flew down to the ground to eat the worm. As he was eating, a big, mean cat came and chased after him. The little bird tried to fly away, but he was too slow. The cat caught him and ate him for his dinner. The little bird's mother was very sad and wished she had not permitted her little bird to fly down to the ground. She knew he would still be alive if he had listened to her and stayed on the branch. The end.<|endoftext|>Sam was a very tired little boy. He had been playing outside all day. When it came time to go home, Sam started to cry. His mommy saw him and said, \"Don't worry. I have something special for you at home.\" Sam stopped crying and was so excited. When they arrived at home mommy made him his favorite sandwich and gave it to him. Sam gobbled it up and was very happy. Mommies special surprise turned out to be something even better than a sandwich- an extra hour of playtime at the playground! Sam was so thrilled, he squealed with delight and hugged his mommy. Just like she promised, Sam was no longer tired and had plenty of energy to play at the playground.<|endoftext|>Once upon a time, there was a naughty lizard. He was scuttling around the garden when he saw a big box. He got so excited and said, \"Mmm, what is in the box?\" He poked the box with his nose and opened it. Suddenly, a big hurty spider jumped out! The lizard got scared and said, \"Help! Help!\" But no one was there to help him. He quickly jumped away and ran over to a bush. The spider chased him, but he was too fast and the spider fell over. The lizard was so happy and he said, \"Whew! I'm safe!\" But then the spider started to climb up the bush. The lizard was so scared and said, \"Help!\" Suddenly, a nice soldier ant came to the rescue. She bravely fought off the spider, and the lizard thanked her for saving him. The soldier ant said, \"It's my job to protect lizards and other creatures. You're safe now.\" The lizard gave a big smile and said, \"Thank you! I'm so happy.\" They both went on their separate ways, happy to be alive.<|endoftext|>Once upon a time there was a family who loved going on adventures. One day they decided to go camping. Mum said, “We need to prepare for our camping trip!” Dad said, “Let’s get the tent, food and games ready.” The little girl smiled, she was so excited to go! On the way to their camping spot, they stopped at a river. Suddenly, the little girl saw a very unusual word written in the sand. The little girl asked: “What does that word mean?” “It’s a surprise,” mum said. When the family got to their campsite, the little girl looked back at the word in the sand and shouted with joy, “It’s the name of the river!” Mum laughed and said, “That’s right! Now, let’s prepare for a wonderful camping adventure!”<|endoftext|>Once there was a small dog named Sandy. Sandy was very curious. One day, Sandy was out for a walk and he saw a fat cat. Sandy decided to follow the cat. Everywhere the fat cat went, Sandy followed. The fat cat stopped in front of a big house and went inside. Sandy followed the cat until they both reached the kitchen. Sandy was very excited and wanted to see what was inside. Inside, the fat cat was eating a big steak. Sandy's mouth watered as he watched the cat eat. Suddenly, the cat said, \"Come here, Sandy. You can have the rest of my steak. I'm too fat to finish it.\" Sandy was so happy he began to eat the steak right away. He enjoyed it very much and thanked the fat cat for sharing. From that day forward, Sandy and the fat cat became good friends. Everywhere the fat cat went, Sandy followed.<|endoftext|>Once upon a time, there was a girl named Lily. She loved to play dress-up and try on different clothes. One day, she found a pretty dress in her closet. It was a modest style dress, with a simple design. Lily wanted to make the dress look even prettier, so she decided to mix it up with some accessories. She put on a sparkly necklace and a shiny bracelet. She even found a pair of shoes that matched perfectly. When Lily looked in the mirror, she was so happy with her new outfit. She twirled around and danced, feeling like a princess. From that day on, Lily loved to mix and match her clothes to create new styles.<|endoftext|>Once upon a time, there was a litttle girl. She was only three years old, but she loved to sing and dance. Every day, she would spin and twirl around the garden, singing to herself. One day, a big, scary spider crawled onto her shoulder. She was so scared and she ran all around the garden trying to get it off. The spider said, \"Why are you scared, little girl? I just want to dance!\" The little girl stopped and looked at the spider. She laughed and answered, \"Ok, lets dance!\" So the spider started to dance. He did a spin and then a twirl with his eight legs. The little girl copied the spider, spinning around the garden. At last, the spider said, \"Now sing!\" So the little girl sang a happy song as she twirled and danced. The spider sang along, and they had a wonderful time. When the song was finished, the spider thanked the little girl and said goodbye. She watched him run away into the bush and then she twirled off, singing and dancing her way across the garden.<|endoftext|>Once upon a time, there was a little bunny called Dan. He was a very sweet bunny, but he was easily distracted. One day, Dan was walking through the woods, when he spotted a soft print on the ground. It was a rabbit print! He quickly followed the prints, determined to catch up with the rabbit. As he followed the prints, Dan heard a voice. It was the rabbit! \"I surrender!\" the rabbit yelled. Dan stopped in his tracks, and then peeked around the tree. The rabbit was caught in a trap! Dan was very worried, and he wanted to help the rabbit. He thought of a clever plan - he quickly hopped around, and then moved some sticks until the trap stopped working. The rabbit was able to break out of the trap and hop away to safety. Dan felt proud of his bravery and kindness, and he learned a valuable lesson – that day he learnt that sometimes, surrendering and asking for help is an admirable act of courage.<|endoftext|>Tom and Jen were friends who liked to play in the woods. One day, they found a big cave with a white door. They wanted to see what was inside, but they had a quarrel. \"I want to go first!\" Tom said. \"No, I want to go first!\" Jen said. They pushed and pulled each other, but no one could open the door. They got angry and shouted. \"Go away, you are mean!\" Tom said. \"Go away, you are silly!\" Jen said. They stopped being friends and went to different sides of the cave. They did not see the big bear that was sleeping inside. The bear heard the noise and woke up. He was hungry and angry. He saw Tom and Jen and roared. \"Who are you? This is my cave!\" the bear said. Tom and Jen were scared and tried to run away, but it was too late. The bear caught them and ate them. He closed the white door and went back to sleep. Tom and Jen were no more.<|endoftext|>Once upon a time, in a lively little town, there lived a boy named Tim. He loved to ride his bike up and down the streets. One day, Tim found a tool on the ground. It was a big wrench. Tim was very happy and put the tool in his pocket. Tim wanted to show his friends the tool he found. He rode his bike very fast to his friend's house. On the way, his bike hit a big bump. Tim fell off his bike and the tool fell out of his pocket. The tool broke into pieces. Tim was very sad. He could not show his friends the tool he found. He walked back home with his broken bike and broken tool. The lively little town was not so lively for Tim that day.<|endoftext|>Once upon a time, there was a little girl named Lily. She loved to play at the park and swing on the swings. One day, a stranger came to the park. He had a gentle voice and asked Lily if she wanted to play with him. Lily was happy to have a new friend, but she didn't know the stranger was bad. He asked her to balance on the edge of the slide, but she fell and hurt herself\n",
      "---\n"
     ]
    }
   ],
   "source": [
    "dataset_manager.edit.inject_and_preview(\n",
    "    text = 'This is a test sentence.',\n",
    "    tokenizer=tokenizer,\n",
    "    injection_loc=699,\n",
    "    injection_type=\"seq_shuffle\",\n",
    "    rng=RNG,\n",
    "    add_eos_token=True,\n",
    "    dry_run=False,\n",
    ")"
   ]
  },
  {
   "cell_type": "code",
   "execution_count": null,
   "id": "e8e9468d",
   "metadata": {},
   "outputs": [
    {
     "data": {
      "text/plain": [
       "'This is a test sentence.'"
      ]
     },
     "execution_count": 12,
     "metadata": {},
     "output_type": "execute_result"
    }
   ],
   "source": [
    "tokenizer.decode([1552 , 310 , 247 ,1071 ,6197 ,  15])"
   ]
  },
  {
   "cell_type": "code",
   "execution_count": null,
   "id": "61c31e43",
   "metadata": {},
   "outputs": [
    {
     "data": {
      "text/plain": [
       "{'input_ids': [1552, 310, 247, 1071, 3425, 15], 'attention_mask': [1, 1, 1, 1, 1, 1]}"
      ]
     },
     "execution_count": 13,
     "metadata": {},
     "output_type": "execute_result"
    }
   ],
   "source": [
    "tokenizer('This is a test sequence.', add_special_tokens=True)"
   ]
  },
  {
   "cell_type": "code",
   "execution_count": null,
   "id": "946b34a9",
   "metadata": {},
   "outputs": [
    {
     "data": {
      "text/plain": [
       "0"
      ]
     },
     "execution_count": 14,
     "metadata": {},
     "output_type": "execute_result"
    }
   ],
   "source": [
    "tokenizer.eos_token_id"
   ]
  },
  {
   "cell_type": "code",
   "execution_count": null,
   "id": "c5a51e30",
   "metadata": {},
   "outputs": [],
   "source": [
    "test_sample = list(tokenizer(\"big\")[\"input_ids\"])"
   ]
  },
  {
   "cell_type": "code",
   "execution_count": null,
   "id": "1d1fca5d",
   "metadata": {},
   "outputs": [
    {
     "data": {
      "text/plain": [
       "[2760]"
      ]
     },
     "execution_count": 10,
     "metadata": {},
     "output_type": "execute_result"
    }
   ],
   "source": [
    "test_sample"
   ]
  },
  {
   "cell_type": "code",
   "execution_count": null,
   "id": "5237e391",
   "metadata": {},
   "outputs": [
    {
     "ename": "AttributeError",
     "evalue": "'NoneType' object has no attribute 'count'",
     "output_type": "error",
     "traceback": [
      "\u001b[31m---------------------------------------------------------------------------\u001b[39m",
      "\u001b[31mAttributeError\u001b[39m                            Traceback (most recent call last)",
      "\u001b[36mCell\u001b[39m\u001b[36m \u001b[39m\u001b[32mIn[11]\u001b[39m\u001b[32m, line 1\u001b[39m\n\u001b[32m----> \u001b[39m\u001b[32m1\u001b[39m \u001b[43mdataset_manager\u001b[49m\u001b[43m.\u001b[49m\u001b[43msearch\u001b[49m\u001b[43m.\u001b[49m\u001b[43mcount\u001b[49m(test_sample)\n",
      "\u001b[31mAttributeError\u001b[39m: 'NoneType' object has no attribute 'count'"
     ]
    }
   ],
   "source": [
    "dataset_manager.search.count(test_sample)"
   ]
  },
  {
   "cell_type": "code",
   "execution_count": null,
   "id": "97c84498",
   "metadata": {},
   "outputs": [
    {
     "name": "stdout",
     "output_type": "stream",
     "text": [
      "Sorting indices...\n",
      "True\n"
     ]
    }
   ],
   "source": [
    "from tokengrams import MemmapIndex\n",
    "\n",
    "# Create a new index from an on-disk corpus of u16 tokens and save it to a .idx file. \n",
    "# Set verbose to true to include a progress bar for the index sort.\n",
    "index = MemmapIndex.build(\n",
    "    \"/NS/llm-pretraining/work/afkhan/tokensmith/artifacts/data_tokenized_text_document.bin\",\n",
    "    \"/NS/llm-pretraining/work/afkhan/tokensmith/artifacts/data_tokenized_text_document_search_2_32.idx\",\n",
    "    vocab=2**16,\n",
    ")\n",
    "\n",
    "# True for any valid index.\n",
    "print(index.is_sorted())\n",
    "  "
   ]
  },
  {
   "cell_type": "code",
   "execution_count": null,
   "id": "ae28b59c",
   "metadata": {},
   "outputs": [
    {
     "name": "stderr",
     "output_type": "stream",
     "text": [
      "Special tokens have been added in the vocabulary, make sure the associated word embeddings are fine-tuned or trained.\n"
     ]
    },
    {
     "name": "stdout",
     "output_type": "stream",
     "text": [
      "15326\n"
     ]
    }
   ],
   "source": [
    "# Get the count of \"hello world\" in the corpus.\n",
    "from transformers import AutoTokenizer\n",
    "\n",
    "tokenizer = AutoTokenizer.from_pretrained(\"EleutherAI/gpt-neox-20b\")\n",
    "print(index.count(tokenizer.encode(\"Once\")))"
   ]
  },
  {
   "cell_type": "code",
   "execution_count": null,
   "id": "c74b2517",
   "metadata": {},
   "outputs": [
    {
     "data": {
      "text/plain": [
       "[19131]"
      ]
     },
     "execution_count": 82,
     "metadata": {},
     "output_type": "execute_result"
    }
   ],
   "source": [
    "tokenizer.encode(\"once\")"
   ]
  },
  {
   "cell_type": "code",
   "execution_count": null,
   "id": "f6c0ce9b",
   "metadata": {},
   "outputs": [
    {
     "data": {
      "text/plain": [
       "[2760]"
      ]
     },
     "execution_count": 79,
     "metadata": {},
     "output_type": "execute_result"
    }
   ],
   "source": [
    "tokenizer.encode(\"big\")"
   ]
  },
  {
   "cell_type": "code",
   "execution_count": null,
   "id": "d12d7c05",
   "metadata": {},
   "outputs": [],
   "source": []
  }
 ],
 "metadata": {
  "kernelspec": {
   "display_name": "neox_updated_env",
   "language": "python",
   "name": "python3"
  },
  "language_info": {
   "codemirror_mode": {
    "name": "ipython",
    "version": 3
   },
   "file_extension": ".py",
   "mimetype": "text/x-python",
   "name": "python",
   "nbconvert_exporter": "python",
   "pygments_lexer": "ipython3",
   "version": "3.11.2"
  }
 },
 "nbformat": 4,
 "nbformat_minor": 5
}
