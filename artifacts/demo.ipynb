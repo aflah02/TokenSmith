{
 "cells": [
  {
   "cell_type": "markdown",
   "id": "509e2538",
   "metadata": {},
   "source": [
    "# Setup - \n",
    "Run jupyter-notebook in env and pick link\n"
   ]
  },
  {
   "cell_type": "code",
   "execution_count": 2,
   "id": "03f43b94",
   "metadata": {},
   "outputs": [],
   "source": [
    "import logging\n",
    "# show both debug and warning messages\n",
    "logging.basicConfig(level=logging.DEBUG)"
   ]
  },
  {
   "cell_type": "code",
   "execution_count": 3,
   "id": "1e62e52d",
   "metadata": {},
   "outputs": [],
   "source": [
    "import sys\n",
    "sys.path.insert(0, \"/NS/llm-pretraining/work/afkhan/tokensmith\")"
   ]
  },
  {
   "cell_type": "code",
   "execution_count": 4,
   "id": "9673caf6",
   "metadata": {},
   "outputs": [],
   "source": [
    "import sys\n",
    "sys.path.insert(0, \"/NS/llm-pretraining/work/afkhan/USC_Colab/gpt-neox\")"
   ]
  },
  {
   "cell_type": "code",
   "execution_count": 5,
   "id": "7d70d71d",
   "metadata": {},
   "outputs": [
    {
     "name": "stderr",
     "output_type": "stream",
     "text": [
      "/NS/venvs/work/afkhan/neox_updated_env/lib/python3.11/site-packages/huggingface_hub/file_download.py:795: FutureWarning: `resume_download` is deprecated and will be removed in version 1.0.0. Downloads always resume when possible. If you want to force a new download, use `force_download=True`.\n",
      "  warnings.warn(\n",
      "DEBUG:urllib3.connectionpool:Starting new HTTPS connection (1): huggingface.co:443\n",
      "DEBUG:urllib3.connectionpool:https://huggingface.co:443 \"HEAD /EleutherAI/gpt-neox-20b/resolve/main/tokenizer_config.json HTTP/1.1\" 307 0\n",
      "DEBUG:urllib3.connectionpool:https://huggingface.co:443 \"HEAD /api/resolve-cache/models/EleutherAI/gpt-neox-20b/c292233c833e336628618a88a648727eb3dff0a7/tokenizer_config.json HTTP/1.1\" 200 0\n",
      "Special tokens have been added in the vocabulary, make sure the associated word embeddings are fine-tuned or trained.\n"
     ]
    }
   ],
   "source": [
    "from transformers import AutoTokenizer\n",
    "TOKENIZER_NAME_OR_PATH = \"EleutherAI/gpt-neox-20b\"\n",
    "tokenizer = AutoTokenizer.from_pretrained(TOKENIZER_NAME_OR_PATH, add_eos_token=True)"
   ]
  },
  {
   "cell_type": "code",
   "execution_count": 6,
   "id": "c3c9a061",
   "metadata": {},
   "outputs": [],
   "source": [
    "# import os\n",
    "# import torch\n",
    "# import torch.distributed as dist\n",
    "\n",
    "# def setup():\n",
    "#     # Set required env vars manually\n",
    "#     os.environ['RANK'] = '0'\n",
    "#     os.environ['WORLD_SIZE'] = '1'\n",
    "#     os.environ['MASTER_ADDR'] = '127.0.0.1'\n",
    "#     os.environ['MASTER_PORT'] = '29500'\n",
    "\n",
    "#     dist.init_process_group(backend='nccl', init_method='env://')\n",
    "\n",
    "# setup()\n",
    "\n",
    "# import torch\n",
    "# import os\n",
    "\n",
    "# os.environ['MASTER_ADDR'] = '127.0.0.1'\n",
    "# os.environ['MASTER_PORT'] = '29500'\n",
    "# torch.distributed.init_process_group(backend='nccl', rank=0, world_size=1)"
   ]
  },
  {
   "cell_type": "code",
   "execution_count": 7,
   "id": "7a5f9556",
   "metadata": {},
   "outputs": [
    {
     "name": "stdout",
     "output_type": "stream",
     "text": [
      "[2025-07-01 09:33:05,000] [INFO] [real_accelerator.py:161:get_accelerator] Setting ds_accelerator to cuda (auto detect)\n"
     ]
    },
    {
     "name": "stderr",
     "output_type": "stream",
     "text": [
      "/NS/venvs/work/afkhan/neox_updated_env/lib/python3.11/site-packages/deepspeed/runtime/zero/linear.py:47: FutureWarning: `torch.cuda.amp.custom_fwd(args...)` is deprecated. Please use `torch.amp.custom_fwd(args..., device_type='cuda')` instead.\n",
      "  @autocast_custom_fwd\n",
      "/NS/venvs/work/afkhan/neox_updated_env/lib/python3.11/site-packages/deepspeed/runtime/zero/linear.py:66: FutureWarning: `torch.cuda.amp.custom_bwd(args...)` is deprecated. Please use `torch.amp.custom_bwd(args..., device_type='cuda')` instead.\n",
      "  @autocast_custom_bwd\n",
      "DEBUG:git.cmd:Popen(['git', 'version'], cwd=/NS/llm-pretraining/work/afkhan/tokensmith/artifacts, stdin=None, shell=False, universal_newlines=False)\n",
      "DEBUG:git.cmd:Popen(['git', 'version'], cwd=/NS/llm-pretraining/work/afkhan/tokensmith/artifacts, stdin=None, shell=False, universal_newlines=False)\n",
      "DEBUG:wandb.docker.auth:Trying paths: ['/home/afkhan/.docker/config.json', '/home/afkhan/.dockercfg']\n",
      "DEBUG:wandb.docker.auth:Found file at path: /home/afkhan/.docker/config.json\n",
      "DEBUG:wandb.docker.auth:Found 'auths' section\n",
      "DEBUG:wandb.docker.auth:Found entry (registry='registry.mpi-sws.org', username='ns-llm-1')\n",
      "INFO:numexpr.utils:Note: NumExpr detected 32 cores but \"NUMEXPR_MAX_THREADS\" not set, so enforcing safe limit of 16.\n",
      "INFO:numexpr.utils:NumExpr defaulting to 16 threads.\n",
      "INFO:datasets:PyTorch version 2.5.1+cu118 available.\n"
     ]
    }
   ],
   "source": [
    "from tokensmith.manager import DatasetManager"
   ]
  },
  {
   "cell_type": "code",
   "execution_count": 8,
   "id": "7fc92c48",
   "metadata": {},
   "outputs": [],
   "source": [
    "dataset_manager = DatasetManager()"
   ]
  },
  {
   "cell_type": "markdown",
   "id": "affe7a55",
   "metadata": {},
   "source": [
    "# Setup Search"
   ]
  },
  {
   "cell_type": "code",
   "execution_count": 9,
   "id": "c21b5328",
   "metadata": {},
   "outputs": [],
   "source": [
    "# dataset_manager.setup_search(\n",
    "#     bin_file_path=\"/NS/llm-pretraining/work/afkhan/tokensmith/artifacts/data_tokenized_text_document.bin\",\n",
    "#     search_index_save_path=\"/NS/llm-pretraining/work/afkhan/tokensmith/artifacts/search_index_text_document.idx\",\n",
    "#     vocab=2**32,\n",
    "#     verbose=True,\n",
    "#     reuse=True,\n",
    "# )"
   ]
  },
  {
   "cell_type": "code",
   "execution_count": null,
   "id": "a9eebc3c",
   "metadata": {},
   "outputs": [],
   "source": []
  },
  {
   "cell_type": "code",
   "execution_count": 10,
   "id": "08207b9d",
   "metadata": {},
   "outputs": [
    {
     "name": "stderr",
     "output_type": "stream",
     "text": [
      "DEBUG:tokensmith.utils:Initializing WriteableMMapIndexedDataset with pointer: /NS/llm-pretraining/work/afkhan/tokensmith/artifacts/data_tokenized_text_document.bin and index: /NS/llm-pretraining/work/afkhan/tokensmith/artifacts/data_tokenized_text_document.idx\n"
     ]
    },
    {
     "name": "stdout",
     "output_type": "stream",
     "text": [
      "    warming up index mmap file...\n",
      "    reading sizes...\n",
      "    reading pointers...\n",
      "    reading document index...\n"
     ]
    },
    {
     "name": "stderr",
     "output_type": "stream",
     "text": [
      "DEBUG:tokensmith.utils:Loading doc/sample/shuffle indexes with prefix: /NS/llm-pretraining/work/afkhan/tokensmith/artifacts/batch_info_train_indexmap_1600ns_2048sl_42s_packedpi_ac*\n"
     ]
    }
   ],
   "source": [
    "dataset_manager.setup_edit_inspect_sample_export(\n",
    "    dataset_prefix='/NS/llm-pretraining/work/afkhan/tokensmith/artifacts/data_tokenized_text_document',\n",
    "    batch_info_save_prefix='/NS/llm-pretraining/work/afkhan/tokensmith/artifacts/batch_info',\n",
    "    train_iters=100,\n",
    "    train_batch_size=16,\n",
    "    train_seq_len=2048,\n",
    "    seed=42,\n",
    "    splits_string='990,5,5',\n",
    "    packing_impl='packed',\n",
    "    allow_chopped=True,\n",
    ")"
   ]
  },
  {
   "cell_type": "markdown",
   "id": "dfcdb6b2",
   "metadata": {},
   "source": [
    "# Inspect"
   ]
  },
  {
   "cell_type": "code",
   "execution_count": 20,
   "id": "dfb6b51e",
   "metadata": {},
   "outputs": [
    {
     "name": "stdout",
     "output_type": "stream",
     "text": [
      "(' day, they find a big club on the grass. It is brown and heavy. \"Look, a club!\" Lily says. \"Let\\'s play with it!\" \"OK!\" Ben says. \"What can we do with it?\" Lily thinks for a moment. Then she has an idea. \"We can spin it!\" she says. \"Like this!\" She holds the club with both hands and turns around fast. The club makes a whoosh sound in the air. \"Wow, that looks fun!\" Ben says. \"Can I try?\" \"Sure!\" Lily says. She gives the club to Ben. Ben tries to spin it, but it is too heavy for him. He falls down and drops the club. \"Ouch!\" Ben says. \"That hurts!\" Lily laughs. She helps Ben get up. \"You are lazy!\" she says. \"You need to be strong to spin the club!\" Ben makes a face. \"I am not lazy!\" he says. \"I am just small. You are big and strong. That\\'s not fair!\" Lily smiles. She hugs Ben. \"Don\\'t be sad,\" she says. \"We can play something else. How about we swing on the swings?\" \"OK!\" Ben says. \"That sounds fun!\" They leave the club on the grass and run to the swings. They swing high and low, and laugh and sing. They are happy. They are friends.<|endoftext|>Betty was an enthusiastic three year old. She loved to study. Every day, she went to the hall with her parents. Every morning, her parents would leave her with a teacher. She was excited to learn new things. One day, she noticed something different in the hall. Everyone was crowded around a new student. Betty asked her teacher what was going on. The teacher replied, \"That’s Jake. He\\'s a new student. He\\'s very enthusiastic about studying. He\\'s looking forward to learning a lot!\" Betty smiled and said, \"I\\'m excited to get to know him!\" The teacher nodded and said, \"So am I. Let\\'s introduce ourselves.\" The two children waved at each other and began to study. From that day onward, they were good friends. They had lots of fun learning and exploring the hall together.<|endoftext|>Once upon a time, there was a march. A march is like a walk, but with more people. Everyone had something to do and they worked together. It was difficult to get everyone to settle in the right place, however. Suddenly, they heard a fairy call out. \"If you work together, you can make it happen!\" Everyone listened, and started to help each other as they marched. It was still difficult, but the march eventually settled into the right place. Everyone clapped and cheered. It was a hard journey, but they had made it! The end!<|endoftext|>Once upon a time there was a little girl named Lily. Lily loved to play in her garden. One day she found a grape tree in her garden. She was so excited to find some grapes! She quickly picked a handful of grapes and put them into her pocket. At that moment, a sneaky rabbit jumped out from behind the tree. He eyed the grapes and said, “That’s mine!” Lily was shocked. She tried to explain that the grapes were actually hers but the rabbit wasn’t listening. The rabbit was being very selfish and didn’t want to give the grapes back. Lily was so sad. She wanted the grapes back but she didn’t know what to do. Suddenly, she had an idea. She bowed to the rabbit and said, “Please, please give me back my grapes.” The rabbit was very surprised by this. He looked at Lily and then at the grapes. He smiled, handed back the grapes and ran away. Lily was so happy! She thanked the rabbit for being so generous and then ate the juicy grapes. The end!<|endoftext|>Once upon a time, there was a little boy named Tim. Tim had to choose a toy to play with at school. There were many toys, but he saw one that caught his sight. It was an ugly old toy that no one liked to play with. Tim thought it was special, so he chose it. Every day, Tim played with the ugly toy. The other kids laughed at him, but Tim didn\\'t care. He loved his ugly toy. One day, a new kid came to school and saw the toy. He wanted to play with it too. Tim didn\\'t want to share, so the new kid was sad. As days went by, Tim kept playing with the ugly toy. The new kid tried to make friends, but Tim wouldn\\'t let him play. One day, the ugly toy broke. Tim was sad and had no toy to play with. The new kid still had no friends. The moral of the story is to always share and be kind, or you might end up sad and alone.<|endoftext|>Tom and Mia are friends. They like to play outside in the park. Today it is cold, so they wear coats. Tom has a red coat and Mia has a blue coat. They run and jump and slide on the grass. They have fun. But then Tom sees a big dog. He is scared of dogs. He runs away from the dog. He does not see where he is going. He runs into a tree. His coat gets stuck on a branch. He tries to pull his coat, but it does not come off. He starts to cry. Mia hears Tom cry. She runs to him. She sees his coat on the tree. She is sad for Tom. She tries to help him. She climbs the tree. She reaches for his coat. She pulls his coat, but it is too hard. She loses her balance. She falls from the tree. Her coat falls with her. She lands on the ground. She hurts her knee. She starts to cry too. Now Tom and Mia are both crying. They have no coats. They are cold and hurt. They want to go home. They want their moms. They want their normal coats. They are not happy. They are not friends. They are mad at each other. They blame each other for losing their coats. They say mean words. They do not play anymore. They sit on the ground and cry.<|endoftext|>One day a little girl had an idea. She wanted to build a nice, soft fort out of sacks. She ran to the sack and asked her mom if she could take one. Her mom said yes and she started to drag it to her room. The little girl started to build the fort. She arranged the sack in a circle and tucked them in so they were nice and soft. She put some pillows, a blanket, stuffed animals and books inside. The little girl was so proud of her fort. She jumped inside and felt so safe. She brought a special storybook and read it quietly until she felt very sleepy. Then, she hugged her stuffed animal and fell asleep in her soft little fort.<|endoftext|>Once upon a time, there was a little girl named Lucy who was three years old. She liked to take care of things, like her toys and her pet dog Spike. One day, Lucy was very sad. Her mom had given her a sour lemon to eat, and she didn\\'t like it. Lucy started to cry, and Spike looked so sad too. But Spike had a plan to make Lucy feel better. He ran to the kitchen and grabbed a few yummy snacks. He ran back to Lucy and gave them to her. Lucy smiled and hugged Spike, feeling very happy and cared for. They finished the snacks, and Spike went back to the kitchen to get more. Lucy hugged him again and saw how much he cared for her. From then on, Lucy and Spike were the best of friends. Even when things were sour, Lucy knew that Spike was always there to take care of her.<|endoftext|>Once upon a time, there was a fine ornament. It was round and shiny. The ornament lived on a big tree. The tree was in a house with a family. One day, a boy named Tim saw the ornament. He wanted to play with it. Tim took the ornament off the tree. He started to do a dance with it. The ornament liked the dance. It made the ornament happy. Tim put the ornament back on the tree. The ornament was safe and sound. The family and the ornament lived happily ever after.<|endoftext|>Once upon a time, there was a big, hot sun in the sky. The sun made everything feel warm and nice. One day, a little rat appeared from behind a tree. The rat was small and brown, with a long tail. It looked around and saw some cheese on the ground. The rat was hungry, so it ran over to the cheese and ate it all up. Then, the rat disappeared back behind the tree. The sun kept shining and everything was happy. The end.<|endoftext|>Once upon a time, there was a little girl named Lily. She loved to play with her toys and her cat named Mittens. One day, Lily\\'s mommy told her that they were going to visit her daddy at work. Lily was very excited to see her daddy\\'s work. When they arrived at her daddy\\'s work, Lily saw a big building with lots of people inside. She thought it was scary, but her mommy held her hand and said it was okay. Lily saw her daddy sitting at a desk and typing on a computer. She asked him, \"Daddy, what do you do at work?\" Her daddy replied, \"I work with numbers and think of ways to help people with their money.\" Lily didn\\'t understand what her daddy meant, but she was happy to see him at work. After a little while, they said goodbye to her daddy and went back home. Lily told Mittens all about her daddy\\'s work and how she thought it was scary but fun.<|endoftext|>Once upon a time,', {'doc_index_f': 7983, 'doc_index_l': 7994, 'offset_f': 16, 'offset_l': 4})\n"
     ]
    }
   ],
   "source": [
    "resp = dataset_manager.inspect.inspect_sample_by_id(sample_id=10, return_doc_details=True, return_detokenized = True, tokenizer=tokenizer)\n",
    "print(resp)"
   ]
  },
  {
   "cell_type": "code",
   "execution_count": 24,
   "id": "68cfd201",
   "metadata": {},
   "outputs": [
    {
     "name": "stdout",
     "output_type": "stream",
     "text": [
      "Sequence 0:  you too,\" she says. \"But you have to promise me that you won't do that again. And you have to help me clean up the mess. And you have to wait for dinner. No more cookies for you today.\" Lily and Ben agree. They promise to be good. They help Mom clean up the kitchen. They wait for dinner. They don't touch the cookies anymore. They learn their lesson. They also learn that cookies are brown and sweet and crunchy. And that they taste better when they are shared.<|endoftext|>Once upon a time, there was a little girl named Lily who loved to collect shiny things. One day, she found a pretty crystal on the ground and put it in her pocket. She was so happy and showed it to everyone she met. But one day, Lily forgot where she put the crystal. She looked everywhere but couldn't find it. She was troubled and sad. Her friend, Timmy, asked her what was wrong. She told him about the lost crystal. \"Don't worry, Lily,\" Timmy said. \"Maybe someone else found it and will take good care of it. But remember, it's not the shiny things that make us happy. It's our friends and family who love us that make us truly happy.\" Lily realized that Timmy was right. She smiled and hugged her friend. From that day on, she didn't care so much about shiny things anymore. She was just happy to have good friends.<|endoftext|>Once upon a time, there was a little boy named Lenny. He was three years old and was eager to complete any task his mom gave him. One morning, she said, “Lenny, today I want you to jog around the block. Then you can have your favorite ice cream for a treat.” Lenny got really excited. He put on his sneakers and started to jog in a normal way as fast as he could. Halfway through, he started to feel a bit tired, but he kept on going. When he finally finished his jog, he saw his mom in the same spot where he had left her. She had a cone with the ice cream already waiting for him. Lenny had completed the task and was happy. He ran to his mother and hugged her, grateful for the treat. The end.<|endoftext|>Once upon a time, Karen discovered a peach tree in the forest. She was so happy to find the tree that she decided to pick some of the peaches for her dinner that night. Some of the peaches she got were sweet, others were not so sweet. As Karen walked along, she found what looked like an even bigger and juicier peach. She quickly took the peach and started eating it. She noticed the peach had a funny taste, and it made her feel a bit weak. Karen walked and walked, and suddenly she couldn't walk anymore--she had to rest! She then realized that the peach she had eaten was spoiled. She felt so sick that she lay down and fell asleep. When Karen finally woke up, she was very weak. She sadly realized that the peach had never been sweet at all, and if she had not eaten it, she wouldn't have gotten so sick. But it was too late. She had discovered the peach tree, but it cost her more than she expected!<|endoftext|>Once upon a time there were two babies. One was called Tommy and the other was called Lilly. Tommy was outside playing in the garden with some toys when suddenly he noticed a crib in the middle of the garden. It was a white crib and it was shining in the sun. Tommy was so excited and wanted to play in the crib. He asked Lilly to come and play with him but she just laughed and said no. So Tommy decided to play alone in the crib. But after a few minutes he started to feel a little lonely and he wanted to have someone to share the fun with him. He then noticed Lilly watching him from the nearby window. She must have been wanting to play with him but she was too shy to come out. Tommy realized that it was much more fun to share your toys and play together with another person, even if he or she is shy. He called out to Lilly to come and join him and quickly they were both laughing and playing in the crib, having a very nice time together. The moral of the story is that it's much more fun to share and play together than alone!<|endoftext|>Davey was creative and loved to explore. One day he asked his mom if he could go outside to play. She said yes and wished him luck. Davey ran outside and soon found a giant cauliflower in the garden. He was very excited. He asked his mom if he could have the cauliflower so he could eat it. She said no because it was too big. Davey, who was very determined, decided to find a way to cut it. He asked his mom if he could borrow her scissors. She reluctantly agreed and he started cutting the cauliflower. But as he tried to cut, the scissors slipped and Davey accidentally cut his finger. He started to cry and had to go inside to get a bandage. His mom was extremely angry and told him never to do anything so risky and dangerous again. Davey nodded and promised to not be so creative next time.<|endoftext|>Once there was a butterfly. It wanted to fly high in the sky. But all the other animals thought it was weird. The butterfly kept practicing and practicing. It wanted to fly like the birds. But the birds laughed and said it couldn't do it. The butterfly knew it could do it. So it kept trying, again and again and again. Then one day, something amazing happened. The butterfly spread its wings and it flew up and up and up into the sky. It was so happy! The other animals were so surprised. They had never seen anything like it before. They all cheered and clapped for the butterfly. It was so proud to be able to fly like it had wanted.<|endoftext|>One day, a little cat named Fluffy was very hungry. He saw a big bowl of milk on the table. He wanted to drink it, but he knew it was not his. It was for the baby. Fluffy was a good cat, and he did not take things that were not his. But Fluffy was also very curious. He wanted to see what was in the bowl. He jumped on the chair, and then on the table. He looked at the bowl. It was white and shiny. He sniffed it. It smelled good. He licked it. It tasted good. He wanted more. He forgot that the bowl was not his. He forgot that the baby needed it. He forgot that his mom would be angry. He drank and drank, until the bowl was empty. He felt full and happy. He did not see the baby crying. He did not hear his mom coming. His mom saw the empty bowl. She saw the baby crying. She saw Fluffy on the table. She was very angry. She scolded Fluffy. She said, \"Bad cat! You took the baby's milk! You should not wander on the table! You should not take things that are not yours! You should be sorry!\" Fluffy felt bad. He knew he did wrong. He was sorry. He jumped off the table. He went to the baby. He licked the baby's face. He said, \"Meow, meow, meow.\" He meant, \"I'm sorry, baby. I won't do it again. I love you, baby.\" The baby stopped crying. He smiled. He hugged Fluffy. He said, \"Goo, goo, goo.\" He meant, \"It's okay, Fluffy. I forgive you. I love you, Fluffy.\" His mom saw them. She smiled. She said, \"Good cat! Good baby! You are both sweet. I love you both.\" She gave them a new bowl of milk. It was green. It was for St. Patrick's Day. They shared it. They were happy. They learned a lesson. They learned to be kind and honest.<|endoftext|>Once upon a time, there was a hard rock. It was very big and lived in a forest full of pine trees. The hard rock had many friends, like the soft grass and the tall trees. They all played together and had fun in the forest. One day, a strong wind came and blew the hard rock far away from its friends. The hard rock tried to go back, but it was too heavy to move. The hard rock felt sad and alone, and it missed its friends very much. Then, a wise old bird saw the hard rock and knew it needed help. The bird told the hard rock to separate into smaller rocks, so it could move more easily. The hard rock did as the bird said, and it became many little rocks. With the help of the wind, the little rocks went back to their friends in the pine forest. They were all happy to be together again, and they played and had fun like before.<|endoftext|>Once upon a time, there was a cute little puppy named Black. He was a very adorable puppy who loved to play and run around. One day, Black was so excited to go out and play in the sun. He jumped around and barked, ready to explore the day. But the day didn't last long. Before long, Black stumbled upon a big, scary dog. The animal was big and mean and it barked so loudly at Black that he became scared and ran away. The next morning, Black was gone and his family was so sad. They searched everywhere but couldn't find him. They never saw Black again, but they always remembered him fondly. The end.<|endoftext|>Anna and Ben are playing in the park. They find a big box under a tree. They want to see what is inside. \"Maybe it is a\n",
      "Sequence 1:  and Dad's hands. They were alone in the crowd. \"Mom! Dad! Where are you?\" Lily shouted. \"Help! Help!\" Ben sobbed. They looked around, but they could not see Mom and Dad. They could not see the door. They could only see smoke and fire. They were trapped in the theater. They were not safe. They were very sad.<|endoftext|>The pupil was grumpy. He didn't want to do his work. He wanted to relax and have fun. His teacher was very understanding and told him to take a break and close his eyes for a few moments. So the pupil closed his eyes and relaxed. He took a deep breath and his body felt much better. The grumpy feeling went away and he had a warm feeling inside. He then opened his eyes and the pupil was happy. He had been able to take a break, relax and get rid of his grumpy feelings. He was ready to continue his work. The teacher smiled and said, \"I'm glad that you were able to relax. Now let's get back to work!\" The pupil smiled and got back to work. He was no longer grumpy and he was able to focus better.<|endoftext|>Tom and Lily were playing in the garden. They liked to dig in the dirt and look for bugs and worms. They had a big bucket to put their finds in. \"Look, Lily, I found a shiny rock!\" Tom said, holding up a small pebble. \"Wow, Tom, that's pretty! Can I see?\" Lily asked, reaching for the rock. Tom gave her the rock and they both admired it. Then they heard their mom calling them from the kitchen. \"Tom, Lily, it's time for a snack! Come inside and wash your hands!\" Tom and Lily ran to the house, leaving their bucket behind. They were hungry and wanted to see what mom had made for them. They washed their hands in the sink and dried them with a towel. Then they went to the table, where mom had put some plates with cookies and milk. \"Yum, cookies!\" Tom said, grabbing one and taking a big bite. \"Thank you, mom!\" Lily said, smiling and picking up a cookie too. They ate their snack and drank their milk, feeling happy and full. Meanwhile, in the garden, a squirrel had discovered their bucket. It smelled something interesting and climbed inside. It found some bugs and worms and started to eat them. It also saw the shiny rock and decided to take it. It put the rock in its mouth and ran away, leaving the bucket empty and dirty.<|endoftext|>Once upon a time, there was a little girl named Lily. She loved to eat grapes, but her mom said she had to dress up before she could have any. Lily didn't like to wear clothes, but she really wanted those juicy grapes. One day, Lily's mom left the grapes on the table and went to take a nap. Lily saw the grapes and wanted to eat them, but she remembered what her mom said about dressing up. She went to her room and put on a weird outfit with a tutu and rain boots. As Lily was eating the grapes, she heard a loud noise coming from the kitchen. She went to investigate and saw that her dog had knocked over a vase and broken it. Lily knew she had to tell her mom, even though she was scared of getting in trouble. When her mom woke up, Lily told her what happened. Her mom was proud of her for being honest and not trying to hide the broken vase. Lily learned that it's always better to tell the truth, even if it's scary.<|endoftext|>Once upon a time there was a clever pet named Fluffy. He lived with a girl called Ruby. Every day, Ruby and Fluffy would play together. Ruby would keep Fluffy safe. She made sure that he always had food, water and a warm, dry place to sleep. Fluffy would wait for her outside every day until she came back home. Ruby enjoyed playing hide and seek with Fluffy. Whenever she hid, Fluffy would try to find her. He was so clever that he always found her hiding spot. In return, Ruby would give Fluffy lots of cuddles and treats. She looked after him very carefully and they became very good friends. Ruby and Fluffy still keep very happy together. They play lots of games and enjoy spending time together. They both know that they will always be the best of friends.<|endoftext|>Once upon a time, there was a little girl named Lily. She loved to play outside in the park with her friends. One day, she saw a pink flower growing in the grass. She thought it was very pretty and wanted to observe it closely. As she got closer, she noticed that the flower was very fair and delicate. Lily was very careful not to touch it and just looked at it with her eyes. She thought it was the most beautiful thing she had ever seen. Lily's friends came over to see what she was looking at. They also thought the pink flower was very pretty. They all sat down together and observed the flower for a while. They were very happy to spend time together and enjoy the beauty of nature.<|endoftext|>Danny liked playing with his friends and he had so many new toys. One day he decided to get a new video game. He was so excited as he was caught in the moment. He asked his dad if he could buy the video game and his dad said yes. So Danny went to the store and began picking out the best video game he could find. Then Danny went to the checkout and paid for the video game. As he was walking home with the new video game, he was so excited. Meanwhile, his dad was getting grumpy waiting for Danny to come home. As soon as Danny arrived home, he showed his dad the video game. His dad was then so happy, he forgot how grumpy he had been and told Danny to go play with it. Danny thanked his dad and went to his room to play the game, as he was so happy with his decision.<|endoftext|>Once upon a time, there was a little brown bear named Benny. Benny liked to play in the forest with his friends. One day, Benny and his friends found a sparkly rock. Benny wanted to keep it but his friends said it belonged to everyone. Benny got angry and ran away. As he was walking, he saw a little bird who was trembling because it was cold. Benny felt bad for getting angry and decided to share his brown fur coat with the bird. The bird was warm and thanked Benny. Benny learned that it's important to share and be kind to others. He went back to his friends and apologized for being selfish. They forgave him and they all played together with the sparkly rock.<|endoftext|>Once upon a time, there was a big family of cats. They were happy and lived in a nice warm home. One day, the cats found a small box on the doorstep. Inside the box was a little creature. Its fur was soft and shiny and it had a friendly face. The cats welcomed the creature with open paws. They saw that it was harmless and wanted to make it a part of the family. But then the cats realized something was wrong - the creature was carrying a bottle of poison! The cats were worried about the creature, but it kept smiling and seemed perfectly safe. Finally, the cats accepted the creature and gave it a warm welcome into the family. From that day on, the creature and the cats lived happily ever after.<|endoftext|>Once upon a time, there was a little girl named Lily. She loved to play outside and explore the world around her. One day, she was playing hide and seek with her friend, Teddy, under a big tree. They were having so much fun that they didn't realize how much time had passed. Suddenly, Lily's mom called out to her, \"Lily, it's time to come inside for lunch.\" Lily and Teddy ran out from under the tree and into the shade of the porch. They were both very hungry and couldn't wait to eat. As they sat down to eat, Teddy noticed that Lily's lunch was very poor. She only had a small sandwich and an apple. \"Lily, why don't you have more food?\" Teddy asked. Lily replied, \"My mom doesn't have a lot of money right now, so we have to be careful with what we eat.\" Teddy felt sad for Lily and realized that not everyone has as much as he does. From that day on, he made sure to share his snacks with Lily whenever they played together.<|endoftext|>Mum and Dad were singing in the car. Charlie was happy and he joined in too. Soon they arrived at the airport. Dad said, \"We're here to see the planes!\" Charlie was excited. He loved watching the planes take off, but the plane he was looking for wasn't there. He felt sad and upset. Mum said, \"It looks like we missed it. Shall we stay and watch the other planes?\" But Charlie shook his head. He wanted to go home. At home, Mum and Dad sang softly together. Charlie wanted to join them, but he was still too upset. That night, he tucked his favourite toy plane under his arm and sang to himself until he felt better.<|endoftext|>One day, a cat named Tom was very hungry. He saw a tray with a big, yummy cake on it. He wanted to eat the cake, but it was on a high table. A fast bird named Tim saw Tom and wanted to help. Tim said, \"I can fly and get the cake for you, but you must bow to me.\" Tom bowed to Tim and said, \"Please help me get the cake.\" Tim flew fast and got the tray with the cake. He gave it to Tom, and they both ate the cake together. They were very happy and became good friends.<|endoftext|>Once upon a time,\n",
      "Sequence 2:  frame close to her and when she was feeling sad or happy, the frame blinked at her to show it was there. The girl was never careless again and was thankful to have her very special frame.<|endoftext|>Lily was a curious girl. She liked to look at everything and ask questions. One day, she saw a big jar of honey on the table. She wanted to taste it. She climbed on a chair and reached for the jar. But the jar was too heavy for Lily. She lost her balance and fell off the chair. The jar fell with her and broke on the floor. The honey spilled everywhere and made a sticky mess. Lily was hurt and scared. She started to cry. Mama heard Lily's cry and ran to the kitchen. She saw Lily on the floor with honey and glass around her. She was very angry and worried. She picked up Lily and checked her for cuts. She said, \"Lily, what did you do? You were very naughty and foolish. You could have hurt yourself badly. You are not allowed to touch the honey. It is not for you. It is for the bread. Now you have to seat in the corner and think about what you did. And you have to help me clean up this mess later.\" Lily felt very sorry and sad. She did not mean to make Mama angry and worried. She just wanted to taste the honey. She did not know it was so heavy and dangerous. She said, \"I'm sorry, Mama. I was curious. I won't touch the honey again. Please don't be mad at me.\" Mama hugged Lily and said, \"I'm not mad at you, Lily. I love you. But you have to listen to me and be careful. Honey is good, but it is not worth getting hurt. Now go and seat in the corner and think about what you did. And then we will clean up together.\" Lily went and sat in the corner. She felt very bad. She wished she had not touched the honey. She wished she had a happy ending.<|endoftext|>Once upon a time, there were two friends, Mary and Jack. Mary had a pot of oil, and Jack wanted to try some of it. Mary show Jack the oil and it smelled disgusting! Jack asked Mary if he could try some and Mary said no. They started to discuss it. Jack was sad and he tried to think of a way to get some of the oil. He thought for a long time and, suddenly, he had an idea! He said he wanted to whisper it in Mary's ear. Mary trusted Jack and, when he whispered his idea to her, she cupped her ear to listen. Jack whispered, \"I'll steal the oil!\" Mary was shocked and angry. She said to Jack, \"No! That's wrong!\" But it was too late - Jack had already taken the pot of oil! Mary was so mad and sad. She wanted to get the oil back, but Jack ran away before she could catch him. Mary was left with nothing but a disgusting, empty pot.<|endoftext|>Once upon a time, there was a little boy named Tim. He had a toy named Mr. Bear. They liked to play together every day. One day, Tim looked up and saw a big bug on the ceiling. He wanted the bug to go away, but it was too high for him to reach. Tim had an idea. He asked Mr. Bear, \"Can you help me get the bug down?\" Mr. Bear, who was very useful, replied, \"Yes, Tim! I will help you.\" So Tim put Mr. Bear on top of a chair and then climbed up too. Now, they were close to the ceiling. With a little jump, Tim and Mr. Bear touched the bug. The bug flew away and was gone. Tim was so happy that the bug was gone. He said, \"Thank you, Mr. Bear, for being so useful!\" They both smiled and played together for the rest of the day.<|endoftext|>Once upon a time, there was a little boy named Timmy. Timmy loved to eat rice. His mommy would always make him rice for dinner. One day, Timmy went to the park to play. He saw a deep hole in the ground and thought it looked cool. Timmy wanted to jump in the hole, but his mommy told him it was too dangerous. She said they would study about holes like that in school. Timmy didn't want to wait for school, he wanted to explore the hole now. Later that night, Timmy had a dream about the deep hole. In his dream, he saw a big bag of rice at the bottom of the hole. The next day, Timmy went back to the park with his mommy. He remembered his dream and thought maybe there really was rice in the hole. His mommy helped him make a long stick to reach the bottom of the hole. When they finally got to the bottom, they found something even better than rice. It was a treasure chest full of gold coins! Timmy was so happy he listened to his mommy and didn't jump into the deep hole.<|endoftext|>Sam was excited. He was going to the store to buy ice cream and toys. His mom gave him money to buy whatever he wanted. When Sam entered the store, shelves lined with colorful boxes and toys filled the room. He spotted the ice cream and hurried over. He held out his money, but the store clerk said he didn't have enough. Sam was sad, but he noticed the bookshelf nearby. He looked up at his mom, who nodded and gave him more money. Sam paid for his new book and the store clerk gave him some change. Sam was excited as he skimmed through the pages of the book. But when he saw a giant robot on the cover he jumped with joy and smiled. Suddenly, he noticed a figure in the corner of the page. He read the word 'yield' and knew what to do. He gathered his change and handed it to the store clerk, who handed him the robot toy. Sam ran all the way home. His mom was surprised to see him so excited with a robot toy. She laughed and gave him a hug. Sam was grateful to have something to remember this day.<|endoftext|>One day, a little bug named Tim found a weak plant. Tim blinked his eyes and looked closer. The plant was a small mint plant. It needed water and love to grow. \"Hello, little mint plant,\" Tim said. \"I will help you.\" Tim found water and gave it to the weak mint plant. He also talked to the plant every day. The mint plant started to grow bigger and stronger. One day, the mint plant said, \"Thank you, Tim, for helping me grow.\" Tim blinked his eyes in surprise. He didn't know plants could talk. They became good friends and lived happily in the garden.<|endoftext|>Once upon a time, there was a little girl named Lily. She loved to play with her toys and run around outside. But sometimes, she didn't behave very well. Her mommy would say, \"Lily, you need to behave and listen to me.\" One day, Lily's mommy told her they were going to visit her grandma. Lily was very excited because she loved her grandma. When they got there, Lily saw a big clock on the wall. Her grandma said, \"Lily, can you count the minutes on the clock?\" Lily counted to sixty and her grandma was very impressed. She said, \"Lily, you are so smart!\" From that minute on, Lily felt very proud of herself and made sure to behave well during their visit.<|endoftext|>Once upon a time, there was a silly snake. He was very squirmy and always looking for something to fit in. One day he found a small hole in a tree and thought he might fit. He pushed and squirmed until he did fit inside. The snake wiggled around and felt very happy. But then the hole started to get smaller and smaller. He tried to get out, but he was stuck. He started to panic and squirmed with all his might. Just then a bird flew by. The bird saw the silly snake in the hole and used his beak to make the hole bigger so the snake could get out. The snake thanked the bird and was so relieved he didn't have to stay stuck in the hole. He slithered away, happy to be free.<|endoftext|>Once upon a time, there was a silly goose named Gigi. Gigi was very crazy and loved to perform for her friends. She would dance and sing and make everyone laugh. One day, Gigi decided to go on an adventure. She wanted to explore the big, wide world outside of her farm. She waddled and quacked her way through the fields until she reached a pond. There, she met some new goose friends who were also very silly. They performed a silly dance together and had a lot of fun. Gigi realized that she didn't have to be alone to perform and have fun. She could make new friends and have adventures with them too.<|endoftext|>Amy was in her classroom and it was so beautiful. She wanted to explore and have fun, but it was time for a lesson. Amy felt like she had to resist that. In the classroom, Amy saw lots of interesting things. She wanted to touch them, but her teacher said no. She tried so hard to resist the temptation. After a while, it became easier to follow the rules and Amy had a great time in the classroom. She learned lots of things and shared special moments with her friends. At the end of the day, Amy was so happy she had resisted the temptation and enjoyed her classroom.<|endoftext|>Once upon a time, there was a kind and polite boy named Timmy. He loved to play outside in his garden, where he helped his mom plant some bulbs in the ground. Timmy was happy because he knew the bulbs would grow into pretty\n",
      "Sequence 3:  it. Next time, I will listen to you and mom.\"<|endoftext|>Once upon a time, there was a man and a woman. They were ordinary people, living an ordinary life. Every day, the man would give the woman a big kiss before he left for work. They were very happy together. One day, the woman was at the store when she saw a beautiful microphone. She thought it would be perfect for a surprise for the man, so she brought it home. When the man got home, the woman was excited to show him her surprise. She said, \"Look, I got us a microphone!\" The man was so angry, he didn't even say hello. He grabbed the microphone and threw it out the window. Then, he walked away without even giving her a kiss. The woman was very sad. She had been so excited to surprise the man, and it had ended so badly. The ordinary life they once had together was gone, and the woman knew things would never be the same.<|endoftext|>One day, a little girl named Jane wanted to make something special. She wanted to find a way to make something that was as pretty as a happy song. So she decided to get some paint. She found white, pink, and yellow colors and she was very excited. Jane got some big paper and put it on the table. Then she used a brush to spread the paint on the paper. She worked hard, mixing colors and making shapes. When she was done, the picture looked beautiful. She showed it to her mom and her mom was so proud of her. She asked Jane to serve the picture to her friends. So Jane proudly displayed her art to all her friends. Everyone was amazed at how hard Jane worked on the paint and how pretty it was. Jane was very pleased with her work and knew she could make something even better the next time.<|endoftext|>Mrs. Smith looked at the little girl. She was only 3 years old, so it was important that Mrs. Smith taught her carefully. First, Mrs. Smith helped the girl stand. She was a bit clumsy and wobbled a bit, but Mrs. Smith held her hand. Slowly, Mrs. Smith guided the girl's feet. She showed her how to step forwards and then back. The girl smiled and tried to do it again. Mrs. Smith smiled too and said, \"Good job! That was great!\" Then Mrs. Smith taught the girl how to turn around. She put her little arm in the air and spun it around and around. Mrs. Smith showed her again and said, \"Now it's your turn!\" The girl smiled and spun around. The view had changed! She laughed, delighted. She spun around again, enjoying the fun of it. Mrs. Smith was glad she was able to teach the girl something new. She was so excited to learn!<|endoftext|>Once there was a crab who lived by the sea. Every day the crab would go out and explore the area. One day, he found the most beautiful shell. He was so excited and he insisted on taking the shell home with him. But the shell was stuck tightly to the rocks and it was very difficult for the crab to take it away. He pulled and pulled but it wouldn't budge. Taking the shell home seemed impossible. The crab didn't give up. He kept trying and eventually, he was able to prize the shell loose. Now, he had his beautiful shell and could take it home. He was so happy and he insisted on showing all of his friends his new, special shell. He was the happiest crab in the sea!<|endoftext|>John and his mum were getting ready for the day. His mum started to prepare breakfast. She chopped up some apples and put them in a bowl. John looked around for something to do. Suddenly he saw the TV. He ran over and pressed the button to turn it on. John's mum called him over. She told him to help her get the table ready. John was lazy and wanted to watch TV. His mum was getting a bit bossy, so he decided to help. John and his mum worked together to get the table ready. When it was finished, John was very pleased with himself. His mum was proud of him for helping. Now the table was ready, it was time for breakfast!<|endoftext|>Once upon a time, there was a little boy named Jack. Jack loved animals and he had a cow named Daisy. Daisy was a big and tall cow. One day, Jack couldn't find Daisy. He searched everywhere, but she was nowhere to be seen. Jack asked his mom and dad to help him search for Daisy. They searched the whole farm, but they couldn't find her. Jack was very sad and started to cry. Suddenly, they heard a loud \"moo\" and saw Daisy walking towards them. Jack was so happy to find his tall cow again and gave her a big hug.<|endoftext|>Once there was a little boy named Billy. He wanted to be a soldier when he grew up. His mom told him he could, but first he had to sell something. Billy thought and thought, but he didn't know what to sell. Then he saw an old toy in his closet. It was weird shaped and painted yellow. Billy thought it was perfect to sell. So he took it outside and put it on the sidewalk. The sun was shining and soon some people stopped to look at Billy's toy. They asked him how much it cost, and Billy said he didn't know. One nice lady offered to buy it for a dollar, and Billy was so excited. He ran inside to tell his mom that he sold the toy. She was so proud of him and gave him a big hug. From that day, Billy knew he could be a soldier. He just needed to be brave, like a soldier, and he could do anything.<|endoftext|>Once upon a time, there was a farmer who grew lots of corn. He was a very helpful man and loved to share his corn with his friends. One day, his friend who was a girl told him that she wanted to marry him. The farmer was surprised but happy. He said yes and they got married. They had a big feast with lots of corn and everyone had a great time. From that day on, they worked together on the farm and grew lots of corn. They were very happy together.<|endoftext|>Once upon a time, there were two twin sisters. They loved to play together and do everything together. One day, they wanted to bake a cake for their mommy's birthday. They got all the ingredients ready and started to mix them in a big bowl. They were having so much fun mixing the flour, sugar, and eggs. Suddenly, one of the sisters accidentally knocked over the bowl. The bowl shattered into a million pieces because it was very fragile. The sisters were sad and started to cry. They knew they couldn't give their mommy a cake for her birthday now. Their mommy came into the kitchen and saw what had happened. She hugged her daughters and told them that it was okay. She said that the most important thing was that they tried their best to make her happy. The sisters felt better and hugged their mommy. Even though they didn't have a cake, they still had each other.<|endoftext|>Once upon a time there was a little boy named Jack. He was only three years old, but he was very smart. One day, Jack decided to borrow his mom's faucet. He wanted to use it to make a big splash. So, Jack dragged the faucet to the bathtub and plugged it in. But when he turned it on, nothing happened. It just made a weird sound. Jack wanted to make a big splash, so he tried harder. He pushed the handle down with all of his might. Suddenly, the faucet started dripping very bad water. Jack was terrified! He quickly ran to get his mom. \"Mom, what's wrong with the faucet?\" he asked. Mom smiled and said, \"It's ok, Jack. You don't need to borrow my faucet to make a big splash. You can just use water from the bathtub like normal.\" Jack felt relieved. He thanked his mom for helping him and returned the faucet back to its usual spot.<|endoftext|>Once upon a time there was a harmless spark. It hovered over the ground and travelled everywhere. Everywhere it went people smiled and laughed. Everywhere the spark touched, it made people happy. One day the spark floated over to a girl's house. In the house, the girl was getting dressed. She carefully put on her dress, sparkly shoes and a cute bow. The spark watched curiously as the girl twirled around with her dress. She looked so happy and excited. The spark couldn't help itself, it wanted to join the girl. It floated gently over the girl's dress and made it sparkly and bright. Instantly the girl was delighted with her dress, it shimmered and glittered just like the spark! The girl was so excited that she raced outside to show off her pretty dress. Everywhere she went people stopped and smiled at her beautiful sparkly dress. The spark followed the girl, but it was happy to stay in the background. The spark and the girl have been friends ever since. They wander around together, spreading harmless sparkles and making people happy.<|endoftext|>Once upon a time, in a fair sunny land, there was a little girl named Lily. She loved to play outside in the sun. One day, she found a shiny crystal on the ground. It was so pretty and sparkly. Lily picked it up and put it in her pocket. Lily went to show her new crystal to her best friend, Max. Max was a big, friendly lion who lived in the forest near Lily's home. When Max saw the crystal, he was so happy that he let out a big roar. Lily and Max played with the crystal all day, sharing it and having fun. As the sun\n",
      "Sequence 4:  saying thank you and sorry. They did not know that they had missed a chance to make a new friend and see a new sunset. They did not know that they had made a bad choice that would make them unhappy for a long time.<|endoftext|>One day, a little boy named Tim saw an attractive package near his house. It was big and had pretty colors. Tim was very curious and wanted to know what was inside. He tried to catch the package, but it was too heavy for him. So, he called his friend, Sue. \"Hey Sue, can you help me catch this big package?\" Tim asked. Sue came running and saw the attractive package too. Together, they tried to catch the package and bring it inside their house. As they opened the package, they found a big, shiny ball. They were so excited to play with it. They took the ball outside and started to throw and catch it. They had so much fun playing together. But then, a big wind came and blew the ball away. Tim and Sue tried to catch it, but it was too fast. The ball went far away and they could not find it. They were very sad. The attractive package and the big, shiny ball were gone. Tim and Sue went back to their house, feeling sad about the bad ending to their day.<|endoftext|>Once upon a time there was a princess who lived in a castle. One day she was walking close to the beach when she heard a sound coming from the ocean. She looked out and saw a little dog in the water. He was very nervous and he was swimming close to the shore but he just couldn't get out. The princess knew she had to rescue him so she wasted no time. She quickly called out to the little dog and he looked over at her with wide eyes. She then picked him up with both hands and carried him back to the beach. The princess and the dog both smiled in relief, but the princess still had to figure out where the dog came from. She sat down on the sand near a tall palm tree and the dog sat by her side. Suddenly, a boy appeared and he ran up to her and hugged the dog. He was so happy to see his puppy again! The princess said goodbye to the happy boy and the dog, then walked back to her castle, feeling very satisfied. She was glad she was able to rescue the little dog and return him to his owner.<|endoftext|>Bob was a little boy. Every day he had exciting adventures. Today, he was walking in the forest when he saw a big tree. He wanted to climb it. Bob said, \"I can climb up there and chew on a leaf. It looks like fun!\" He started to climb and soon reached the top. He found a big leaf and started to chew on it. Suddenly, Bob heard something coming from the forest below. He looked down and saw a heavy couch heading straight for him. Bob jumped off the tree and said, \"Whoa! That was close!\" The couch stopped underneath the tree. Bob saw a friendly face on it. It was a blue monster. He said to Bob, \"Hi! I was looking for someone to have an adventure with. Do you want to join me?\" Bob smiled and said, \"Sure!\" Bob and the monster shared an adventure that day. They explored the forest, and ate lots of yummy snacks. Bob even managed to chew on a few more leaves! That night, Bob said goodnight to his new friend, the blue monster, and he headed back home with a smile on his face. He had a delicious adventure!<|endoftext|>Once upon a time there was a crab who lived in the sea. His name was Spike. He was very soft and liked to settle on the sand. One day, Spike was settling down and he saw a big crab. The big crab had nice big claws. \"Hi, my name is Spike,\" he said. The big crab said, \"Hi, I'm Jack. Let's have some fun!\" So, the two crabs went for a swim. They had lots of fun together. Then, Jack said to Spike, \"Let's try to catch a fish!\" Spike was scared, but he followed Jack. But Jack was too fast and Spike couldn't keep up. He got left behind in the deep blue sea. He tried to find his way back, but he couldn't. The sun was setting, and soon it was dark. Spike got colder and colder, until he couldn't move anymore. The next morning, Spike didn't wake up. He had settled forever in the deep blue sea.<|endoftext|>Once upon a time, there was a little boy named Timmy. Timmy had a very tidy room, with all his toys put away in their proper places. One day, Timmy's mom told him that they were going to visit his grandma's house. Timmy was excited to see his grandma, but he didn't want to leave his tidy room. \"I don't want to go,\" Timmy said. \"I want to stay here and play with my toys.\" \"Don't worry,\" said Timmy's mom. \"We'll be back soon, and your room will still be tidy.\" Timmy tried to resist, but his mom picked him up and carried him to the car. As they drove away, Timmy heard an alarm go off in the distance. \"Is that our house?\" Timmy asked. \"Don't worry,\" said his mom. \"It's just a car alarm. Our house is safe.\" When they returned home, Timmy was happy to see that his room was still tidy. He realized that it was good to go on adventures and visit new places, but it was also important to take care of his home.<|endoftext|>One day, a brave little girl was sliding down the hill. Her arms were wide and she had a big smile on her face. Suddenly, her mom shouted from up the hill. \"Be careful! Watch out for the tree!\" But it was too late. The brave little girl crashed into the tree and she yelped as she felt a sharp pain. Her mom arrived at the tree and touched the girl's arm gently. \"Are you okay, my brave one?\" The brave little girl shook her head sadly and tears welled up in her eyes. Her mom hugged her tightly and said, \"Let's go home and have some tea. That will make you feel better.\" The brave little girl nodded and followed her mom, but deep inside she knew that nothing could make her feel better. With a heavy heart, she limped home with her mom.<|endoftext|>It was a sunny morning and Jake was playing outside with his toy rake. He loved to use the rake to move the leaves around the garden, like a little farmer. Suddenly, his dad came out to the garden and he had a big smile on his face. \"Hey, Jake! We have an important job to do\", his dad said. Jake was very excited. What was the important job? His dad explained. \"You need to help me rake all of the leaves in the garden. This is a very important job!\" So Jake and his dad got to work. They raked and raked and it wasn't long before all of the leaves had been collected. When they were finished, Jake was feeling very tired. \"That was hard work,\" he said. His dad nodded and said, \"Yes, it was! Why don't you have a nap now to rest up?\" So that is what Jake did. He had a nap and felt much better afterwards.<|endoftext|>Once upon a time, there was a little girl named Lily. She loved to eat beans, especially the green ones. One day, her mom brought home a bag of beans from the store. Lily was so excited and couldn't wait to eat them. But when she opened the bag, she saw a spider crawling on one of the beans. She got scared and didn't want to eat them anymore. Her mom told her not to be scared and that the spider was just trying to act like a friend. Lily realized that she shouldn't judge things based on their appearance and that sometimes things that scare us can actually be good for us. From that day on, she ate her beans without fear and even made a new friend in the spider. The end.<|endoftext|>One day, Jack was playing in his garden. He was wearing his favourite shirt and shorts. Suddenly, Jack spotted something very expensive in the garden. It was a shiny new dress. “Wow,” said Jack. “This dress is so pretty. I want to wear it!” So Jack grabbed the dress, and put it on. He looked in the mirror, and he felt like a prince. He even jumped and spun around, showing his new dress to the birds and bees. Just then, Jack heard his mum calling for him. He quickly ran inside the house and showed his mum the dress. “Where did you get this?” asked his mum. “I found it in my garden,” replied Jack, with a big smile. Mum smiled too. “Well, it looks like you found a very special dress. You should take very good care of it!” So Jack carefully hung the dress up in his wardrobe, and knew he would look very special the next time he wore it.<|endoftext|>Once upon a time, there was a little girl named Lily. She went to the park with her mommy and daddy. She loved playing on the swings and the slide. But today, she fell off the slide and hurt her knee. Lily started to cry and complain about the pain. Her mommy and daddy hugged her and said they would take her to see a nurse. The nurse was very kind and put a bandage on her knee. After seeing the nurse, Lily felt much better and was happy again. She thanked the nurse and her mommy and daddy for taking care of her. From that day on, Lily was more careful when playing\n",
      "Sequence 5:  it and take care of it. It will be your new friend.\" Tim and Lily hug their parent and the puppy. They say, \"Thank you, parent. You are the best. Moving is not so bad after all. Maybe it will be fun.\" Their parent smiles and says, \"You are welcome, Tim and Lily. I love you. Moving will be fun. We will have a new adventure together.\"<|endoftext|>There was a wall in the bedroom. It was tall and thick. It was there for a long time. One day, a fast truck came and brought a new wall. It was bigger and brighter. The workers put the new wall in place of the old wall. They took away the old wall and replaced it with the new one. The new wall looked shiny and pretty. Everyone was very happy. It was much better than the old wall. The family had so much fun with the new wall. They hung up toys and made it a play area. They used it as a background for fun family photos. They had many hours of enjoyment with the new wall. The new wall was much better than the old one. It was faster, brighter and it made everyone happy.<|endoftext|> <|endoftext|><|endoftext|>Once upon a time, there was a little boy named Timmy. Timmy loved to play with his toy cars and trucks. One day, he found a new truck that he really liked. It was big and blue and had a telephone on the back. Timmy's friend, Johnny, came over to play. Johnny brought his own truck to play with. It was also big and blue, but it didn't have a telephone on the back. Timmy said, \"My truck is better because it has a telephone on the back. It's original.\" Johnny didn't agree. He said, \"My truck is better because it matches the color of the sky.\" Timmy didn't like that. He wanted his truck to be the best. They argued for a while, but then Timmy had an idea. He said, \"Let's race our trucks and see which one is faster!\" Johnny agreed. They lined up their trucks and raced them down the hallway. Timmy's truck was faster, but Johnny's truck matched the color of the sky better. In the end, they both agreed that their trucks were special in their own way. They decided to play with both trucks together and haveLily and Tom are twins. They like to play with their new toys. Mom and Dad gave them new toys for their birthday. Lily has a new doll and Tom has a new car. One day, they go to the park with Mom and Dad. They see a big band playing music. The band has drums, trumpets, and flags. The band is doing a march. Lily and Tom want to see the march. They run to the band. They want to touch the drums and the flags. But the band does not like that. The band says, \"Stop! Go away! You are making noise!\" Lily and Tom are scared. They scream. They run back to Mom and Dad. Mom and Dad hug them. They say, \"It's okay. The band is not angry. They just need to play their music. You can watch from here. But you cannot touch their things.\" Lily and Tom nod. They watch the march from a distance. They clap their hands. They like the music. They forget their scream. They are happy.<|endoftext|>Anna and Ben like to pretend. They have a big box of toys and clothes. They can be anything they want. Today, they want to be cowboys and cowgirls. They put on hats and boots and belts. They find a rope and a stick. Anna and Ben go outside. They see a big tree. They say it is their ranch. They tie the rope to the tree. They say it is their lasso. They take the stick. They say it is their horse. They hop on the stick and make horse sounds. They run around the tree and pretend to catch cows. But then, they hear a loud noise. It is a dog. It is barking and running towards them. Anna and Ben are scared. They think the dog is a wolf. They drop the stick and the rope. They run back to the house. They slam the door and lock it. They hug each other and breathe hard. They are safe. They are not cowboys and cowgirls anymore. They are just Anna and Ben. They laugh and say it was a fun game. They say they will play again tomorrow. But they will find a different place to pretend. A place with no dogs.<|endoftext|>Once upon a time there was an owl who lived in a forest. Every day he woke up at night, but today he was feeling very sleepy. He yawned and rubbed his eyes as he looked around. Suddenly he heard a noise. He looked around and saw a small rabbit hopping around him. The rabbit said, \"Hi, Owl! Are you sleepy?\" The owl blinked and said, \"Yes, I feel very sleepy today. I think I'm going to go back to my nest and take a nap.\" So the owl flew up to his nest and tucked himself in. He yawned again, snuggled up and soon fell asleep. That night, when the sun came up, the owl was still fast asleep. He had a very long and peaceful sleep. The end.<|endoftext|>Tom was a humble boy who liked to help his mom and dad on the farm. He loved to feed the chickens, milk the cows and pick the apples. But his favorite thing was to ride his horse, Brownie. Brownie was a gentle and friendly horse who let Tom sit on his back and trot around the field. One day, Tom wanted to ride Brownie, but he could not find him. He looked in the barn, in the stable, in the meadow, but Brownie was nowhere to be seen. Tom felt sad and scared. He wondered if Brownie had run away or got lost. He started to cry. \"Tom, what's wrong?\" his mom asked, when she saw him crying. She hugged him and wiped his tears. \"I can't find Brownie, mom. He's gone. I miss him so much,\" Tom sobbed. \"Don't worry, Tom. Brownie is not gone. He's just visiting his friend, Daisy, the horse from the next farm. He'll be back soon. He loves you, and he knows you love him,\" his mom said. \"Really, mom? Brownie has a friend? And he'll come back?\" Tom asked, feeling a little better. \"Yes, really, Tom. Brownie has a friend, and he'll come back. He's a loyal and humble horse, just like you are a loyal and humble boy. Come on, let's go and make some cookies. Maybe we can share some with Brownie and Daisy when they come back,\" his mom said. Tom smiled and nodded. He followed his mom to the kitchen, still thinking about Brownie. He hoped he would see him soon. He knew Brownie was his best friend.<|endoftext|>Once upon a time, there was a little boy named Timmy. Timmy had a soft, cuddly teddy bear that he loved very much. One day, Timmy went to the park to play with his teddy bear. While he was playing, he accidentally dropped his teddy bear into a hole in the ground. Timmy was very sad because he couldn't reach his teddy bear and he didn't know how to get it out of the hole. Suddenly, Timmy had an idea. He took his pocket and filled it with dirt. Then, he used his hands to bury the dirt into the hole until it was full. After a few minutes, Timmy dug out the dirt with his hands and his teddy bear was back in his arms! Timmy was very happy and hugged his teddy bear tightly. From that day on, Timmy was more careful with his teddy bear and never let it out of his sight. He also learned that when things get buried, they can still be found if you try hard enough.<|endoftext|>Once upon a time there was a mighty coat. It lived in a far away land with a big friendly bear. One day, the bear found the coat and put it on. He wanted to keep the coat so he wore it all day. But when night came, the bear had to go home. He couldn't take the coat with him, so he carefully hung it on a tree. The coat was sad because the bear had to leave, but the next morning the bear returned with a smile. The bear took the coat off the tree and wrapped it around his shoulders. He was so happy to have his mighty coat back! Together, they walked through the woods, laughing and singing. The coat and bear were best friends. Every day the bear would take the coat off the tree and together they would go on grand adventures. The coat always felt safe and mighty with the bear by its side.<|endoftext|>Ben is a boy who likes to play with his dog, Max. Max is a lab, a big and friendly dog. Ben and Max like to run and jump and fetch in the park. They are happy together. One day, Ben and Max go to the park with Ben's mom. Ben's mom works in a lab, a place where she does science. She tells Ben and Max to stay near her while she talks to some other people who work in the lab. Ben and Max listen, but they are bored. They see a ball on the grass. It looks like a fun ball. Ben and Max run to the ball and start to play with it. They do not see that the ball belongs to another boy, who is angry. The boy runs after Ben and Max and yells at them. He tries to take the ball from Max, but\n",
      "Sequence 6:  Suddenly, a big, brown pony appeared in front of her! Lily was so happy and hugged the pony tightly. She thanked the whistle and promised to take good care of her new friend. From that day on, Lily carried the whistle with her everywhere she went, always hoping for more magical surprises.<|endoftext|>Tom is a cat. He has a long tail. He likes to play with his tail. He chases it and bites it. He thinks it is fun. One day, Tom sees a mouse. The mouse has a long tail too. Tom wants to catch the mouse. He runs after the mouse. The mouse runs into a hole. Tom follows the mouse. \"Come out, come out, little mouse!\" Tom says. \"I want to play with you and your tail!\" But the mouse does not come out. The mouse is scared of Tom. The mouse knows Tom does not want to play. Tom wants to eat him. Tom sticks his head into the hole. He tries to find the mouse. He does not see the mouse. He only sees darkness. He feels something move. He thinks it is the mouse. He bites it. But it is not the mouse. It is a snake. The snake has a long tail too. The snake is angry. The snake bites Tom back. Tom screams. He pulls his head out of the hole. He feels pain. He sees blood. He sees the snake. The snake hisses at him. Tom runs away. He is hurt. He is sad. He does not want to play with his tail anymore. He does not want to play with any tail anymore. He learned a hard lesson. He should not search for trouble.<|endoftext|>Ana was walking along the beach one evening. She looked down and she saw something in the sand. She bent down to look more closely. It was a palm! She had never seen one before. Ana picked up the palm and held it in her hand. All of a sudden, it spoke to her! \"Hello Ana,\" the palm said. \"I'm so happy to meet you. My name is Albert. I used to live on this beach but now I'm very lonely.\" Ana was so surprised to hear the palm speak that she gasped. She scooped him up and hugged him close. \"Don't worry Albert,\" she said. \"You won't be lonely anymore! I'm going to take care of you and visit you every day. We can go for regular walks along the beach.\" Albert was very happy. Ana smiled and she knew that she and Albert were going to be best friends forever.<|endoftext|>Once, in a small town, there was a loud dog named Spot. Spot liked to play with a big red ball. One day, Spot saw a girl named Sue. Sue was sad because her boot was lost. Spot wanted to help Sue. He looked all around the town for the boot. He looked in the park, behind the big tree, and near the pond. Then, Spot saw the boot near the pond. He barked loud and ran to Sue to offer her the boot. Sue was so happy to see her boot. She hugged Spot and said, \"Thank you, Spot!\" The people in the town were proud of Spot for helping Sue. The moral of the story is that it is good to help others when they need it.<|endoftext|>Bob was feeling very nervous. He had a long walk ahead of him. But he was excited too, because he had a special surprise at the end of the walk. Every few steps he walked, Bob looked up. There was something special hanging in the sky. He could not see it, but he knew what it was and he was excited. When they finally arrived at their destination, Bob was even more nervous. He was glad his surprise was near. As they walked through the door, they saw the surprise hanging on the wall. Bob's eyes widened and he shouted, \"A treasure map, I can't believe it!\". They had arrived at Bob's house and the treasure map was hanging right in the middle. Bob was overwhelmed with excitement and was so happy to find the map. He had been nervous about the long walk, but it was worth it. Bob and his friends started their adventure to find the treasure. They were happy and had lots of fun. This was the best surprise ever!<|endoftext|>Today was a big day for Mommy, Daddy, and their little girl. They were going on an adventure! Mommy packed a big bag with all the things they would need. Daddy had a flag to fly when they arrived. The girl was so excited. She was so playful, and while Mommy and Daddy packed the car, she ran all around the house, dreaming about their trip. Finally, Mommy and Daddy were finished packing and the car was ready to go. Mommy called, \"It's time to go!\" The little girl cheered, grabbed the flag, and off they drove. The adventure was about to begin!<|endoftext|>Once upon a time, there lived a young girl named Jamie. She was so sad that she often cried and always seemed a bit down. Her best friend, Maria, always tried to cheer her up. On a sunny day, Jamie was out in the garden with Maria, when Jamie started to weep. Maria asked her why she was so sad and Jamie explained that she had messed up in school that week and didn't want to tell her parents. She was feeling very ashamed. Maria hugged Jamie and promised to help her. She suggested they put some food on the grill and have a picnic in the garden. Jamie smiled, feeling a little better. When they were having their picnic, Jamie's parents joined them. When they asked what was going on, Jamie felt scared. But Maria spoke up and said that Jamie was sad because she had made a mistake in school. Jamie's parents were sad to hear it but they were more proud of Jamie for telling the truth. They smiled at her and said that everyone makes mistakes –what's important is to learn from them. Jamie smiled and hugged her parents, feeling much better. Maria had helped Jamie through her difficult time and Jamie was grateful for her friend. With Maria's help, Jamie knew she would never be too ashamed to tell the truth again.<|endoftext|>Once upon a time, there was a little boy named Timmy. Timmy loved to play hide-and-seek with his friends. One day, Timmy's friend Sally found a cool flashlight in her dad's garage. Timmy was excited to use the flashlight during their next game of hide-and-seek. But when they went to play, the flashlight was gone! Timmy asked Sally, \"Did you steal the flashlight?\" Sally said no. Timmy looked around and saw that his other friend, Billy, had the flashlight. Billy had taken it without asking. Timmy said, \"Billy, you can't steal things. That's not nice. Can we use the flashlight together?\" Billy said sorry and they all played hide-and-seek with the flashlight, having lots of fun. The end.<|endoftext|>Once upon a time, there was a little boy named Tim. Tim loved to play with his toys and eat yummy food. One day, Tim found a clear marble. It was shiny and pretty. He put it in his pocket, so he could show it to his friends later. Tim went to the kitchen to eat a snack. His mom gave him a big, red apple. Tim was very happy. He took a big bite of the apple. But, he forgot about the clear marble in his pocket. After Tim finished eating the apple, he felt something hard in his mouth. He remembered the clear marble! Tim was scared that he almost ate the marble. He took it out of his mouth and showed it to his mom. His mom told him to be careful and not to put toys in his mouth. Tim learned his lesson. From that day on, he always made sure to keep his toys away from his food. And he never forgot about the clear marble that almost got eaten.<|endoftext|>Once upon a time there was a pink rabbit called Daisy. Daisy wanted to race the other animals in the forest. All the other animals were so excited because they wanted to see Daisy race. Daisy was feeling a bit nervous but eventually, she was ready. So they all ran and ran, as fast as they could. All of them were going faster, while Daisy was far behind. But Daisy didn't give up! She kept running and running until finally she was in first place! Everyone cheered for Daisy when she crossed the finish line. Daisy couldn't believe it - she had won the race! All of the animals were so happy for her and cheered and cheered. Daisy was glowing with joy, because her first race had been a win. And everyone said she was the best pink rabbit racer ever!<|endoftext|>Once upon a time there was a little girl who was very sad. She wanted someone to comfort her. Her family was very poor, so they couldn't buy anything to help her feel better. One day, her father found some wood near their house. He decided to carve it into a toy for the little girl. He worked very hard, and the toy looked very nice when he was done! The little girl was very happy, and hugged the wooden toy. She hugged it so tightly that the wood started to crack. Before her father could do anything, the toy broke into pieces! The little girl felt terrible. She was sadder than before, and she didn't know what to do. She couldn't be comforted, and she cried and felt very alone. That was the end of the story. The little girl was never able to find comfort, and her sadness remained terrible forever.<|endoftext|>Once upon a time, there was a mole named Mike. He was a harmless creature who liked to stretch out his soft, furry body when he slept. One day, Mike was in his hole, feeling content,\n",
      "Sequence 7:  also about being kind and working hard. From that day on, Timmy worked hard and shared his cheese with others.<|endoftext|>Once upon a time, there was a little girl named Lily. One day, she saw her friend Timmy with a rabbit. It was so cute! Lily loved the rabbit and wanted to play with it. She asked Timmy if she could borrow the rabbit, but Timmy was nervous to let her take it. Lily promised to take good care of the rabbit and not to hurt it. She said she would bring it back as soon as she was done playing with it. Timmy finally agreed and let her borrow the rabbit. Lily had so much fun playing with the rabbit! She gave it carrots to eat and cuddled with it. When it was time to return the rabbit, Lily thanked Timmy for letting her borrow it. She promised to ask for permission next time before taking anything that wasn't hers.<|endoftext|>Once upon a time there were two best friends, John and Paula. One day they were walking through the park when they stopped to look at something big. John said, \"What's that?\" Paula pointed and said, \"It's a big cone.\" John said, \"What's included in the cone?\" Paula smiled and said, \"Lots of ice cream. We should get one.\" John and Paula got a big cone each and started eating it. They enjoyed it so much they kept going back for more. John and Paula loved the big cone so much they kept going back to the park and eating it. They even learned to share the big cone, which made them the best of friends!<|endoftext|>Billy woke up bright and early for school one morning. He was so excited to see his friends and learn something new. He ran into the kitchen to have breakfast and saw his mom looking frustrated. \"What's wrong, Mommy?\" Billy asked. His mom looked at him and said, “I have to repair my bike before you go to school.” Billy thought this was a bit strange, but he didn't say anything. He went to school and all his friends were talking about the amazing lunch they had brought in their lunch boxes. Billy was very excited, but he hadn’t been able to pack a lunch because his mom was busy repairing the bike. When Billy got back home after school, he was frustrated, but he saw that his mom had fixed the bike. When he went into the kitchen, he saw a big lunch box on the table. Inside was the most delicious lunch. Billy was so happy and started to eat it right away. His mom gave him a big hug and said, \"I didn't want you to be without lunch, so I made it for you while I was repairing the bike!\"<|endoftext|>Tom and Sam are brothers. They like to play with their toys, but they do not like to share. One day, they have a big fight over a red car. Tom says it is his car, and Sam says it is his car. They pull and push and yell. Mom hears the noise and comes to see what is wrong. She is not happy. She tells Tom and Sam to stop fighting and to share the car. She says they are part of a family, and a family is like a nation. A nation is a big group of people who live together and help each other. She says they have to be kind and fair to each other, or they will make the nation sad. But Tom and Sam are stubborn. They do not listen to Mom. They do not want to share the car. They want to have it all for themselves. They do not care about the nation. They only care about the car. Mom sees that they are stubborn and she is very angry. She orders them to go to their rooms and to stay there until they are sorry. She says they cannot play with the car or any other toys until they learn to share. She takes the car and puts it on a high shelf where they cannot reach it. Tom and Sam go to their rooms and cry. They are sad and lonely. They miss the car and they miss each other. They realize that they were wrong and that they hurt the nation. They wish they had listened to Mom and shared the car. They decide to say sorry to Mom and to each other. They hope that Mom will forgive them and let them play with the car again. They hope that the nation will be happy again.<|endoftext|>Once upon a time there was a spider. He was small and black and liked to explore his world. One day he found an animal that was much bigger than him - it was a lion! The lion roared and the spider was scared. The spider hid under a bush and watched the lion carefully. Suddenly, the lion noticed the spider and tried to strike it with his paw. The spider was scared and scurried out of sight. However, the lion did not give up. He searched and searched, until he eventually noticed the spider again. But this time, something had changed. The lion's face was different. Instead of being angry, it had a look of compassion. The lion gently reached out and lifted the spider. Then, he placed it upon a flower. The spider was surprised but happy. The lion let out a roar and said, \"Never forget - be compassionate in life, even to the smallest creatures.\" The spider couldn't believe his luck. He thanked the lion, before slowly making his way back home. The spider was now filled with new hope and knew that he could always find compassion in life.<|endoftext|>Sammy was a little boy who loved to have picnics. He loved playing outside, exploring and eating yummy food. One day, he noticed something purple on the ground. He picked it up and found it was a pretty flower! But then Sammy began to worry. Where had the flower come from? He didn't remember planting it. He wondered if he should put it back where he found it. He wanted to have a nice picnic, but didn't want the flower to be sad. He decided that he would bring the flower to his picnic. He carefully picked up the flower and put it in his pocket. When he arrived at the picnic spot, he took out the flower and placed it in the grass. Then he began to enjoy his picnic. He felt happy having the flower join him. Sammy had a lovely picnic, and he knew that the purple flower was happy too. He smiled and went on with his day, no longer worrying.<|endoftext|>Once upon a time, a bird named Bob lived in a big tree. Bob loved to soar high in the sky. He had a big chest that helped him fly very high. One day, a new bird named Tim came to the tree. Tim wanted to soar high like Bob, but he had a small chest. Bob laughed at Tim and said, \"You can't fly high like me!\" Tim was sad and wanted to prove Bob wrong. Tim tried and tried to fly high. He did not give up. One day, Tim found a way to fly high, even with his small chest. Bob saw Tim and was sorry for laughing at him. They became friends and soared high together. The moral of the story is: Never give up and never make fun of others.<|endoftext|>Once upon a time, there was a little girl named Lily. She loved to play outside all day long. One day, Lily's mommy told her that she needed to rest and take a break from playing. Lily didn't want to rest, she wanted to play more. But her mommy said that resting was important to help her body feel better. The next day, Lily's mommy hired a tutor to help her learn new things. The tutor was very nice and taught Lily many new things. But Lily thought the tutor was a little crazy because she made her do hard work. One day, Lily got very tired from playing and learning. She remembered what her mommy said about resting and decided to take a nap. When she woke up, she felt much better and was ready to play and learn again. Lily learned that resting was important and that sometimes people who seem crazy are actually very helpful.<|endoftext|>Once upon a time there was a pink house. It was a very weird house, but it was also very special. One day there was a knock on the door. Inside the house a little girl opened the door and said \"welcome\". Outside the house was a big pink elephant. The little girl was very surprised to see the elephant and she said \"welcome\". The elephant said hello back and asked if they could be friends. The little girl said yes and they started to have lots of fun together. Then the elephant said \"we can do something special together if you like\". The little girl was excited and said yes. They both started to jump and the ground started to shake. Suddenly the house started to change color and it became pink. The little girl was so happy she said \"welcome\" and asked the elephant if he wanted to live with her forever. The elephant was so pleased with the invitation that he said yes and from that day on they have been the best of friends.<|endoftext|>Once upon a time there was a little girl named Mary. Mary took a step onto her bed and felt a funny feeling on her feet. She looked down, and saw that the bed was covered with a big, soft sheet. She started to jump on the bed and the sheet felt so deep! Mary said to her mom, \"Mommy what is this thing?\" \"That's a sheet, sweetie,\" said Mommy. \"We use them to make our beds feel comfy and cozy.\" Mary smiled and said, \"Mommy can we play a game?\" Mommy smiled, and said, \"Yes! Let's jump in the sheet!\" So Mary and Mommy jumped into the deep sheet, laughing and giggling. Mary felt so happy to be playing with her mommy. They jumped up and down in the sheet until they were too tired to jump\n",
      "Sequence 8:  of the clouds. It wasn't scary afterall! The rabbit felt brave again and jumped out of its hiding place. It looked up at the wild clouds and saw a bright, shiny rainbow. That made the rabbit smile. It was an adventure after all!<|endoftext|>One day, Sam and his mom were playing with his toy cars in the living room. They heard a loud noise outside and saw the sky was dark and scary. Mom said, \"Sam, we have to go to the basement. There is a tornado coming. A tornado is a big wind that can break things and hurt people.\" Sam was scared and did not want to leave his cars. He said, \"But mom, I want to play with my cars. They are fun and normal. Tornadoes are not normal. They are bad and mean.\" Mom said, \"I know, Sam, but we have to be safe. You can bring your cars with you. We will play with them in the basement. Come on, let's go.\" She took Sam's hand and his cars and ran to the basement. They went down the stairs and closed the door. They heard the tornado roar and shake the house. Sam hugged his mom and his cars. He said, \"Mom, I'm scared. Will the tornado go away?\" Mom said, \"Yes, Sam, it will go away soon. We just have to wait and pause. Pause means to stop and be quiet. Can you pause with me?\" She kissed his head and held him tight. Sam nodded and tried to pause. He closed his eyes and listened to his mom's heartbeat. He felt her love and warmth. He thought, \"Maybe tornadoes are not so bad. They make me pause with mom. And mom makes me feel normal.\" He smiled and opened his eyes. He saw his cars and said, \"Mom, can we play with my cars now?\"<|endoftext|>Lily liked to draw figures on paper. She drew people, animals, and things she saw. She used many colors and shapes. She wanted to show her drawings to someone. One day, she saw a big poster on the wall. It had a figure of a man with a funny hat and a long beard. He was holding a book and a pen. The poster said: \"Come and meet the famous writer Mr. Brown. He will show you his new book and sign it for you.\" Lily was curious. She asked her mom: \"Who is Mr. Brown? Why is he famous?\" Her mom said: \"Mr. Brown is a writer. He writes stories for children. He is famous because many people like his stories. He is coming to the library today. Do you want to go and see him?\" Lily nodded. She said: \"Yes, I want to see him. Maybe he will like my drawings. Can I show him my drawings?\" Her mom smiled. She said: \"Sure, you can show him your drawings. Maybe he will be inspired by them. Let's go to the library.\" They went to the library. There were many people waiting in line to meet Mr. Brown. Lily held her drawings in her hand. She was excited and nervous. When it was their turn, Mr. Brown smiled at them. He said: \"Hello, I'm Mr. Brown. What's your name?\" Lily said: \"I'm Lily. I like your stories. I also like to draw figures. Can I show you my drawings?\" Mr. Brown said: \"Of course, I would love to see your drawings. Let me see what you have.\" Lily showed him her drawings. He looked at them carefully. He said: \"Wow, these are amazing. You have a lot of talent and imagination. You are a very good artist. Can I keep one of your drawings?\" Lily was surprised and happy. She said: \"Yes, you can keep one. Which one do you like?\" Mr. Brown said: \"I like this one. It has a figure of a girl with a big hat and a long scarf. She is holding a book and a pen. She looks like a writer. Can I have this one?\" Lily said: \"Yes, you can have it. It's me. I want to be a writer like you.\" Mr. Brown said: \"You do? That's wonderful. Maybe one day, you will be a famous writer too. Here, let me sign this book for you. It's my new book. It's about a girl who likes to draw figures and write stories. Maybe you will like it.\" He signed the book and gave it to Lily. He said: \"Thank you for your drawing. It's very special to me. Keep drawing and writing, Lily. You have a bright future ahead of you.\" Lily hugged him. She said: \"Thank you, Mr. Brown. You are very kind. I will read your book and write my own stories. Maybe one day, I will show them to you.\" They said goodbye and left. Lily was very happy. She had met a famous writer and showed him her drawings. He had liked them and given her a book. She felt proud and inspired. She couldn't wait to read the book and write her own stories. She had a big smile on her face.<|endoftext|>Once upon a time there was a little boy called Tim. He was a polite boy and he was friendly to everyone he met. One day, Tim went for a walk and heard a noise coming from a cave. He looked inside and saw lots of funny little animals. They were chatting to each other and singing a song. He thought they were so cute and decided he wanted to join in the fun. He politely asked can he join them and the animals all smiled and said yes. They welcomed him with open arms and soon he was dancing and singing away with them. They all had such a great time together and they waved goodbye as he left. Tim had a wonderful day and he knew he would always remember the happy cave and the friendly animals.<|endoftext|>One day, a little girl named Sue went to the park with her mom. They saw a big, black box on the ground. Sue was curious and asked her mom, \"What is that?\" Her mom said, \"It's a box, Sue. Let's open it and see what's inside.\" They opened the black box and found lots of popcorn inside! Sue and her mom were very happy. They decided to sit on the grass and eat the popcorn. As they ate, they watched the birds and the clouds in the sky. Sue said, \"I love popcorn and I love this day!\" Her mom smiled and hugged her. They had a great time together at the park.<|endoftext|>Lily and Ben are twins. They like to play with their toys. Sometimes they share, sometimes they disagree. One day, they find a telephone in the closet. It is old and has buttons and a cord. Lily wants to play with it. She says, \"I am a doctor. I need the telephone to talk to my patients.\" Ben disagrees. He says, \"No, I am a firefighter. I need the telephone to call for help. There is a fire in the kitchen.\" They both pull the telephone. The cord breaks. The telephone falls on the floor. It makes a loud noise. Mom hears the noise. She comes to the closet. She sees the broken telephone and the wet carpet. She asks, \"What happened here?\" Lily and Ben look at each other. They feel sorry. They say, \"We are sorry, Mom. We disagreed about the telephone. We broke it. We spilled the water.\" Mom is not happy. She says, \"You should not disagree so much. You should not break things. You should not make a mess. You need to clean up and say sorry to each other.\" Lily and Ben nod. They hug each other and say sorry. They help Mom clean up. They learn to play nicely. They do not disagree anymore.<|endoftext|>Lily and Ben are friends. They like to play at the park. There is a big plastic slide at the park. Lily and Ben want to go on the slide. They run to the slide and take turns to climb the steps. Lily goes first. She sits on the slide and says, \"Whee!\" She slides down fast and laughs. Ben waits for his turn. He climbs the steps and sits on the slide. He says, \"Whee!\" He slides down fast and laughs too. They do it again and again. They have fun. But then they hear a loud noise. It is a big dog. The dog barks and runs to the slide. Lily and Ben are scared. They do not like the dog. The dog jumps on the slide and slides down. He makes the slide dirty and wet. Lily and Ben run away from the slide. They find their moms and dads. They tell them about the dog. Their moms and dads hug them and say, \"It's okay. The dog is gone. You are safe. Do you want to play something else?\" Lily and Ben nod. They do not want to go on the slide anymore. They want to play with the swings and the sandbox. They hold hands and walk to the other side of the park. They are still friends. They are happy.<|endoftext|>Mr. and Mrs. Rabbit were getting ready for bed. They both closed their eyes and Mrs. Rabbit blew out the candle near their bed. Mr. Rabbit asked, “Why are we blowing out the candle?” Mrs. Rabbit replied, “It’s an ordinary thing to do when you go to sleep.” “Oh! That’s cool!” replied Mr. Rabbit. The two Rabbits closed their eyes and went to sleep. When they woke up the next morning, Mrs. Rabbit lit the candle again. The Rabbits enjoyed the gentle light and knew it was time to start their day.<|endoftext|>Once upon a time, there was\n",
      "Sequence 9:  that the sun made droplets scatter off of their backs! They felt so refreshed in the warm, wet water. After a while, the frogs decided it was time to go home. They said goodbye and hopped away. They would visit each other again soon!<|endoftext|>Once upon a time, there was a bunny named Betsy. Betsy loved to draw with pastels, but her room was always messy. Her mom told her to tidy up before she could draw. Betsy started to clean up her room, but she was sad because she wanted to draw. Suddenly, her friend Sammy arrived. Sammy also loved to draw, but he had a big box of pastels that he shared with Betsy. Betsy was happy to see Sammy, but she was also worried because her room was still messy. Sammy noticed and said, \"Don't worry about your room, let's draw together!\" Betsy was so excited and they drew beautiful pictures together. Betsy realized that sometimes it's okay to have a messy room as long as you have good friends to draw with.<|endoftext|>Once upon a time, there was a little girl named Lily. One day, she found a box in the park. She was very curious about what was inside the box. Lily tried to open the box, but it was too difficult. She asked her friend, Timmy, to help her. Timmy said, \"I can help you, but you must allow me to try.\" Timmy opened the box and they found a cute little puppy inside. The puppy was frightened and shaking. Lily and Timmy decided to take care of the puppy and give it a new home. Lily said, \"Don't be frightened little puppy, we will take good care of you.\" The puppy wagged its tail and licked their faces. Lily and Timmy were very happy to have a new friend.<|endoftext|>Once upon a time, there was a little girl named Lily. She loved to go outside and play in the grass. One day, she saw a bush with red berries on it. Lily was very curious, so she stepped closer to the bush. She picked a berry and tasted it. It was very sweet and kind of sour at the same time. Lily loved it! She picked more and more berries until her little hands were full. She ran back to her house to show her mommy and daddy. They were very happy and proud of her. From that day on, Lily loved to pick berries and share them with her family.<|endoftext|>Once upon a time, there was a girl who loved to play the piano. Every day, she went to sit in front of the piano and made lovely music. One day, her mom said she had to shut the piano, because she was too noisy. The girl was sad, but she did as she was told. She shut the piano and tried to find something else to do, but nothing seemed as useful as playing the piano. The girl soon got very lonely not being able to make music. She tried to think of something else she could do, but nothing was as useful to her as playing the piano. One day, the girl decided to disobey her parents and play the piano again. But this time, there was an awful noise coming from it. Suddenly the piano stopped working altogether. The girl was very sad, because she could no longer play the piano and her mom was very cross. Now the girl had to find something else useful to do with her time.<|endoftext|>Lily and her mom went to the big store to buy furniture. They needed a new bed for Lily, because she was too big for her old one. Lily saw many beds in the store, but she liked the one with pink flowers best. \"Mom, can we buy this bed?\" Lily asked, pointing to the bed. \"Let me see, sweetie,\" her mom said, looking at the price tag. \"Hmm, this bed is very expensive. How about this one?\" She showed Lily another bed, with blue stars. Lily shook her head. \"No, mom, I want the pink one. It is so pretty and cozy.\" Her mom sighed. \"I know, honey, but we have to save money. We can't buy everything we want. Maybe we can find something else that you like.\" Lily felt sad. She really wanted the pink bed. She wondered if her mom would ever buy it for her. They walked around the store, looking at other furniture. Lily saw a big couch, a round table, and a tall bookshelf. She also saw a small kitchen, with a stove, a sink, and a fridge. It had pots and pans, plates and cups, and fake food. Lily loved to play pretend, and she thought the kitchen was very fun. \"Mom, look at this!\" Lily said, running to the kitchen. \"Can we buy this?\" Her mom smiled. \"That is a nice kitchen, Lily. Do you want to play with it for a while?\" \"Yes, please!\" Lily said, happily. She put on an apron, and pretended to cook. She made soup, salad, and cake. She invited her mom to join her. \"Here, mom, have some soup. It is very tasty,\" Lily said, offering her mom a spoon. \"Thank you, Lily. Mmm, this is delicious,\" her mom said, pretending to eat. They played for a long time, and had a lot of fun. Lily forgot about the pink bed, and enjoyed the kitchen. She liked to make her mom happy. After a while, her mom said, \"Lily, it is time to go. We have to buy your bed, remember?\" Lily nodded. She cleaned up the kitchen, and said goodbye to it. She hoped she could play with it again someday. They went back to the bed section, and looked for a bed that they could afford. Lily saw a bed with yellow suns, and thought it was nice. It was not as expensive as the pink bed, but it was still cozy. \"Mom, how about this bed?\" Lily asked. Her mom looked at the bed, and smiled. \"That is a good choice, Lily. It is bright and cheerful, and it fits our budget. Do you like it?\" Lily nodded. She liked the yellow bed. She thought it would make her happy. \"OK, then, let's buy it,\" her mom said. She paid for the bed, and asked for help to load it in their car. They drove home, and set up the bed in Lily's room. Lily put on her pajamas, and climbed into her new bed. She hugged her mom, and said, \"Thank you, mom, for buying me this bed. I love you.\" \"I love you too, Lily,\" her mom said, kissing her goodnight. \"Sweet dreams.\" Lily closed her eyes, and felt warm and cozy. She dreamed of pink flowers, blue stars, and yellow suns. She was happy.<|endoftext|>Once upon a time, there was a little girl called Rosy who was very friendly. One day, Rosy was playing outside when she saw something shining in the grass. When she took a closer look, she realised that it was a shiny silver coin. Rosy was delighted and ran towards her house to show her mum. When Rosy showed her mother the shiny silver coin, they both started to laugh. Rosy's mum said, \"Rosy, it looks like you have found a silver coin. You must have been very lucky!\" Rosy was so happy to have found the silver coin and said, \"Maybe I can buy something nice with it!\". Suddenly, Rosy's best friend James came to the door. He had heard that Rosy had found a silver coin and said, \"What are you going to do with it?\". Rosy replied, \"I want to buy something nice with it!\". James started to tease her and said, \"You won't be able to buy anything. It's too small!\" Rosy's mum gave a stern look to James and said, \"Why are you teasing her like that? Remember, being friendly is always better than teasing someone.\" The moral of the story is that being friendly is always better than teasing somebody.<|endoftext|>Lila and Ben were friends who liked to play outside. One day, they saw a big pile of snow in the park. They ran to the snow and started to make a snowman. \"Let's make him a hat and a scarf,\" Lila said. \"And a nose and eyes and a mouth.\" \"OK,\" Ben said. \"I have a hat and a scarf in my bag. And I have some buttons and a carrot.\" They put the hat and the scarf on the snowman's head and neck. They used the buttons for the eyes and the mouth. They used the carrot for the nose. \"Look, he is so cute!\" Lila said. \"But he needs something else. Something orange.\" \"Like what?\" Ben asked. \"Like this!\" Lila said. She picked up an orange from her bag and threw it at the snowman. \"Hey, don't do that!\" Ben said. \"That's not nice. That's my orange. I was going to eat it.\" But it was too late. The orange hit the snowman and broke into pieces. The pieces fell on the snow and made it look dirty. \"Oops,\" Lila said. \"I'm sorry. I didn't mean to make a mess. I just wanted to make him more colorful.\" \"Well, you didn't,\" Ben said. \"You made him worse. And you wasted my orange. That was not a good thing to do.\" Lila felt bad. She realized she had been selfish and rude. She wanted to make it up to Ben. \"I'm sorry, Ben,\" she said. \"I was wrong.\n",
      "Sequence 10:  I think she likes it too. And I want to be her friend again.\" Grandma hugs Ben. \"That is a very good idea, Ben. I am proud of you. Sharing is a wonderful thing to do. I am sure Mia will be happy too.\" Ben runs to find Mia. He sees her playing with her doll. He holds his truck and smiles. \"Mia, I am sorry I was not nice to you. Do you want to play with my truck? We can take turns and have fun together.\" Mia looks at Ben. She sees his truck and his smile. She feels happy. She nods. \"Thank you, Ben. That is very kind of you. I am sorry I was sad. Yes, I want to play with your truck. And I want to be your friend again.\" Ben and Mia hug. They play with the truck and the doll. They laugh and talk. They are happy. They learn that sharing can make them gain more than they lose.<|endoftext|>Lily loved the sea. She liked to watch the big waves and the people who surfed on them. She wanted to surf too, but she was too small and scared. One night, she had a dream. She dreamed that she was on a surf board, riding the big waves. She felt happy and brave. She saw a friendly dolphin who said, \"Hello, Lily! You are a successful surfer!\" Lily smiled and said, \"Hello, dolphin! Thank you! You are a successful swimmer!\" They played together in the water, until Lily woke up. She felt warm and cozy in her bed. She remembered her dream and smiled. She thought, \"Maybe one day, I can surf like in my dream. Maybe I can meet a dolphin too. I will practice and learn and grow. Then I will surf and have fun!\"<|endoftext|>Once upon a time there was a little boy named Joe. He loved to explore the world and make new friends. One day Joe was walking in the park when he saw two girls sitting on a bench. He decided to go and say hello and see what they were doing. When Joe arrived, the two girls were arguing and they both had a label in their hands. Joe asked them what they were doing and the girls stopped arguing. The first girl said, “I think I should get the purple label because it’s prettier than the green one.” The second girl said, “No, I think it should be fair and we should both get one label each.” Joe smiled and said, “That’s a good idea! You should both decide to get one label each.” The girls decided it was fair and each got a label. They thanked Joe for helping them make a decision and they went on their way. Joe was very happy he was able to help the girls decide in a fair way.<|endoftext|>Once upon a time, there was a playful puppy named Max. Max loved to run and jump in the park. One day, Max's owner gave him a treat. It was a yummy bone that Max loved to chew on. After playing for a while, Max got thirsty and went to drink some water from his bowl. Max was happy and content with his treat and water. The end.<|endoftext|>Once upon a time, there was a little girl named Amy. She was three years old. One day, she was very anxious because she wanted to gain something. She wished and wished for something special. Suddenly, there was a magical present in the sky. It looked like a bag with oats inside it. She was so excited and quickly ran to get it! She opened the bag carefully and discovered that it was full of oats. Amy was so happy because now she had oats! She could eat them for breakfast every day and would never be hungry again. Amy smiled and thanked the magical present from the sky. She was no longer anxious because she had gained something special. The end.<|endoftext|>Ben liked to play with his helicopter. It was red and shiny and made a loud noise. He could make it fly up and down and all around. He was very happy with his helicopter. One day, he went to the park with his mom and his sister. He brought his helicopter with him. He wanted to show it to his friends. He saw some kids playing with a ball. He ran to them and said, \"Look at my helicopter! It is fast and cool!\" The kids looked at his helicopter. They liked it too. They asked him if they could play with it. Ben said, \"No, it is mine. You cannot touch it.\" He flew his helicopter over their heads. He made it go very close to them. He wanted to make them jealous. The kids did not like Ben. They thought he was mean and rude. They said, \"Go away, Ben. We do not want to play with you. You are not nice.\" They went to play with their ball. Ben was alone with his helicopter. He felt sad and angry. He did not understand why they did not like him. He flew his helicopter faster and faster. He did not see the big tree in front of him. He crashed his helicopter into the tree. It broke into pieces. He cried and cried. He had lost his helicopter. His mom and his sister came to him. They saw his broken helicopter. They felt sorry for him. They hugged him and said, \"We are sorry, Ben. We know you loved your helicopter. But you should have shared it with your friends. Sharing is caring. If you share, you will have more fun and more friends.\" Ben realized his mistake. He said, \"You are right, mom and sis. I was selfish and mean. I should have shared my helicopter. I am sorry. Can we fix it?\" His mom and his sister said, \"Maybe we can. But first, you have to say sorry to your friends. And next time, be nice and share your toys.\" Ben nodded. He wiped his tears. He went to his friends. He said, \"I am sorry, friends. I was wrong. I should have shared my helicopter. Can we be friends again?\" The kids smiled. They said, \"Sure, Ben. We forgive you. We can be friends. And maybe we can help you fix your helicopter.\" Ben felt happy. He learned his lesson. He learned that sharing is caring. He learned that being nice is better than being fast and cool. He learned that friends are more important than toys. He thanked his mom and his sister. He thanked his friends. He played with them. He had fun. He was happy.<|endoftext|>Once, there was a little boy named Tim. He loved to play with his toy cars. He had a big red car, a small blue car, and a yellow truck. The yellow truck was his original toy car. It was his favorite. One day, Tim and his friends had a race with their toy cars. They made a long road with lots of parts. Tim used his yellow truck, and his friends used their own cars. They all said, \"Ready, set, go!\" and the cars started to zoom down the road. Tim's yellow truck was very fast. It zoomed past the other cars and won the race. All the kids clapped and cheered for Tim. They had so much fun that they raced again and again. Tim was very happy with his original yellow truck.<|endoftext|>Mama was feeling good. With a smile on her face, she said to her three year old daughter, \"Let's have an idea. What do you think we should pour?\" The daughter thought for a moment, then with a gleam in her eyes said, \"Let's pour water in an old bucket\". Mama smiled, grabbed an old bucket and filled it with water. The daughter was so excited and looked around her garden. She saw the old watering can and a light bulb came on in her brain. \"Let's pour the water from the old bucket into the old watering can!\" she shouted. Mama thought it was a wonderful idea. Together they poured the water from the bucket into the old watering can. Just then, the daughter noticed something in the garden. On a branch of an old tree was a pot of freshly watered plants. It looked like they had been there a while, as they were quite old. \"Mama, did you pour the water from the bucket into the pot too?\" the daughter asked with surprise. Mama smiled. \"Yes, I thought it was a good idea.\" The daughter's eyes widened. She couldn't believe Mama had made such a clever plan.<|endoftext|>Once upon a time there were two animals who were very competitive with each other. Their names were Bunny and Duck. One day Bunny said to Duck, “I can measure the ground better than you.” Duck replied, “No you can’t! I can do it better!” Bunny was excited. “Let's have a competition to see who can measure the ground the best.” Duck said, “OK, I’m ready, let’s go!” So, both Bunny and Duck started to measure the ground and try to figure out who was the best at measuring. They went around and around the ground and finally, Bunny was finished first. “I measure the ground better than you!” exclaimed Bunny proudly. Duck was a little sad, but said, “That’s ok, try again next time and I’ll do better.” Bunny and Duck were still very competitive, but they were also very good friends. They laughed and hugged as they continued to measure the ground together.<|endoftext|>One day, a boy named Tim went to the park with his kite. He was very excited to play with it. The sky was blue and the sun was shining. It was a perfect day to fly a kite. When Tim got to the park, he saw his friend, Lily. She\n",
      "Sequence 11:  way to stop the bull and save the garden. Suddenly, he saw some big branches on the ground. He quickly grabbed them and built a barrier around the garden to protect it. The bull was still raging but with some help, the barrier held firm and Mark and Pete were able to keep their garden safe. They breathed a sigh of relief as the gloomy clouds finally cleared away.<|endoftext|>Mama and Toby were in the kitchen, getting ready for dinner. Toby was helping to put the items on the table. \"Mmm, the turkey smells so yummy,\" said Toby. Mama smiled and said, \"We should be thankful for everything we have.\" Toby nodded and said,\"Yeah, I'm thankful for the turkey and for everything else.\" After dinner, Toby went outside to play. He saw a pile of sticks and picked one up, wondering what he could do with it. He thought and thought, and then he had an idea. He started to arrange the sticks together. Before long, he had made a house! He was proud of himself and ran inside to show Mama what he had done. Mama was amazed when Toby showed her the house. \"This is wonderful! You are so creative. Sticks can be very useful. We can use them to build things and create things. And tonight we will use them to roast marshmallows.\" Toby was filled with joy. He said, \"Thank you, Mama! I'm really glad I found the sticks.\" Mama smiled, feeling thankful for a moment like this with her son. Together they roasted the marshmallows and ate them with delight. They thanked the turkey for giving them enough energy to be able to play and have fun. It was a sweet evening filled with thankfulness.<|endoftext|>Once upon a time, there was a little girl named Lily. She had a sister named Rose who was very fragile. One day, Lily asked her mommy if they could visit Rose. Mommy said yes and they got in the car. When they arrived, Rose was happy to see them. She showed Lily her dolls and they played together. But Lily had to be careful not to play too rough with Rose's fragile toys. After they played, they all had a snack together. Lily and Rose had cookies and milk. Then it was time to go home. Lily hugged her sister goodbye and promised to visit again soon.<|endoftext|>Sara and Ben are playing in the garden. They have a big sack and a mop. They want to make a fort with the sack and the mop. They put the sack over the mop and stick it in the ground. They crawl under the sack and pretend it is their castle. They have fun making noises and telling stories. \"Look at our fort!\" Sara says. \"It is the best fort ever!\" \"Yes, it is!\" Ben says. \"We are very proud of it!\" But then, a big wind comes and blows the sack away. The mop falls down and breaks. Sara and Ben are sad. They cry and hug each other. \"Where is our fort?\" Sara says. \"It is gone!\" \"It is okay,\" Ben says. \"We can make another fort. We still have each other.\" They wipe their tears and smile. They look for another sack and another mop. They are not afraid of the wind. They are brave and creative. They are happy.<|endoftext|>Once upon a time there was a little girl named Ella. Ella was always very glad. She was always smiling and she loved to play with her friends. One day, Ella was feeling very cold. She was standing outside and the wind was blowing. She shivered and shivered but she tried not to cry. Suddenly, Ella heard someone calling her name. It was her mom! Ella was so glad to see her. Mom said she had a special surprise for Ella. Ella was excited. When Ella and her mom opened the door, Ella couldn't believe her eyes. Her friends were all standing in the room and they were holding balloons! Ella was so happy. Ella and her friends spent the afternoon playing and laughing. Ella was so glad that her mom had brought her friends together. She felt warm and loved.<|endoftext|>Once upon a time, there was a funny queen who loved to sign songs. She had a big castle where she lived with her friends. One day, a bad dragon came and burned down the castle. The queen and her friends were very sad. The queen said, \"Oh no! What will we do now?\" Her friend replied, \"Let's build a new castle!\" So they started to build a new castle, but it was taking a long time. The bad dragon came back and burned down the new castle too. The queen and her friends were very sad again. The queen said, \"We can't keep building castles. We need to find a way to stop the dragon.\" But they couldn't find a way to stop the dragon, so they had to move away and find a new place to live. And they all lived happily ever after in their new home.<|endoftext|>Once upon a time, there was a robot who was very miserable. He didn't have any friends and no one to play with. He felt very lonely. One day, he decided to go for a walk to try and find someone to talk to. He was walking along and he was feeling very sad when he suddenly heard a loud noise. He looked up and saw a family of birds rushing across the sky. The robot was very excited to have seen something so interesting. He began to rush after the birds, hoping to catch up with them. But the birds flew away too quickly and the robot couldn't keep up. He let out a big sigh and continued walking, feeling even more miserable than before. Suddenly, he heard someone calling out to him. It was a small child who was only three years old. She motioned for the robot to come over and the robot happily followed her. The little girl had a big smile on her face and she showed the robot all the fun things she had been playing with. The robot smiled back and for the first time in a long time he felt happy.<|endoftext|>Once upon a time, there lived a bunny. He was very fast and loved to speed all around. One day, he was running really fast when he bumped into a twig on the ground. \"Ouch!\" he said, hopping around. It was a very long twig, so he wanted to take it with him. The bunny picked up the twig and ran as fast as he could towards the far-away forest. He wanted to make a house with the twig. When he got to the forest, he looked around. The trees were so tall and distant. \"Oh wow!\" the bunny said to himself. He started to move branches and leaves to make the walls of his house. He moved them so fast the twig seemed to fly. After he was done, he looked at the house proudly. Suddenly, he heard a voice from inside the house. \"Bunny! Is that you?\" he called. The bunny ran inside the house and saw a little chipmunk. \"Yes, it's me.\" he said. \"I thought I heard someone speed by.\" the chipmunk said. \"That was me carrying this twig to help me build my house.\" the bunny replied, hopping around with joy. And ever since that day, the twig became a special home for the bunny and the chipmunk. The bunny's fast feet made a lovely home in the distant forest.<|endoftext|>Lily and Sam liked to play in the park. They liked to slide, swing, and run. One day, they saw a big box near the fence. It had a picture of a whale on it. \"What is that?\" Lily asked. \"Maybe it is a mail,\" Sam said. \"Maybe someone wants to send a whale to someone else.\" They went closer to the box. They wanted to see the whale. They lifted the flap and peeked inside. \"Hello!\" a voice said. It was a whale. It was not a real whale, but a toy whale. It could talk and sing. \"Who are you?\" the whale asked. \"We are Lily and Sam,\" they said. \"We are sorry, we were nosy. We wanted to see you.\" \"That's okay,\" the whale said. \"I like to meet new friends. Do you want to play with me?\" \"Yes, please!\" Lily and Sam said. They climbed into the box with the whale. They had fun talking and singing with the whale. They did not see the man who came to the park. He was the mailman. He had a big truck. He saw the box with the whale on it. He did not know there were children inside. He picked up the box and put it in his truck. \"Bye, whale!\" Lily and Sam said. \"We hope you go to a nice place.\" \"Bye, Lily and Sam!\" the whale said. \"Thank you for playing with me.\" The mailman drove away with the box. He did not hear the children and the whale. He did not know he had a surprise in his truck.<|endoftext|>Once upon a time there was a bed. It was very popular with all the kids. All the kids liked to twist around on the bed. They laughed and played and had a lot of fun. One day, a little boy called Jack came to the bed. He was only 3 years old and he was so excited to play on the bed. He climbed up on the bed and started to twist and turn. He laughed and laughed as he twisted around. The other kids saw how much fun Jack was having and they all wanted to join in. So they all started to twist and turn with Jack. They laughed and played until it was time for them to go home.\n",
      "Sequence 12:  girl was so gifted at chewing, that she could even chew her shoe into a beautiful piece of art. Everyone was amazed at her wonderful gift. And so the little girl was known for her incredible chewing skills!<|endoftext|>One day, a boy named Tim went on a trip with his mom and dad. They went to a big park to observe animals. Tim saw a big, dry tree. He liked the tree very much. Tim heard a bird in the tree. The bird said, \"Hello, Tim!\" Tim was very happy. He said, \"Hello, bird! I like your tree. It is big and dry.\" The bird said, \"Thank you, Tim. I like my tree too. Do you want to be my friend?\" Tim said, \"Yes, I want to be your friend.\" They played and had fun. Tim and the bird were very happy on their trip.<|endoftext|>Lila and Ben are best friends. They like to play together every day. They have a task to do. They have to clean their room before they can go outside. But Lila and Ben are very tired. They want to take a nap. They lie down on their bed and close their eyes. They dream of a big adventure. In their dream, they are pirates. They sail on a ship with a loyal parrot. They look for treasure on an island. They fight with a mean crocodile. They find a chest full of gold and jewels. \"Wow, this is so fun!\" Lila says. \"Yes, we are the best pirates ever!\" Ben says. They hear a loud noise. It is their mom. She knocks on the door. \"Lila, Ben, wake up! It's time to clean your room!\" she says. Lila and Ben open their eyes. They see their toys and clothes all over the floor. \"Oh no, we forgot our task!\" Lila says. \"Maybe we can do it later?\" Ben says. \"No, we have to do it now. Or we can't go outside.\" Lila says. They get up and start to tidy their room. They put their toys in the box and their clothes in the closet. They make their bed and fluff their pillows. They finish their task. They are proud of themselves. \"Good job, Lila and Ben!\" their mom says. \"Now you can go outside and play.\" They run to the door. They grab their hats and their loyal parrot. \"Thank you, mom!\" they say. They go outside and play. They pretend to be pirates again. They have a lot of fun. They are happy. They are best friends.<|endoftext|>Sara and Ben were playing with their toys in the living room. They liked to make noises and pretend they were animals. Sara was a lion and Ben was a monkey. They roared and chattered and jumped around. But then Sara saw something shiny on the table. It was a glass of water that Mom had left there. Sara wanted to drink some water. She climbed on the couch and reached for the glass. But she was not careful and she knocked the glass over. The water spilled on the floor and the glass broke into pieces. \"Oh no!\" Sara cried. \"I broke the glass! Mom will be mad!\" Ben heard Sara and ran to see what happened. He saw the water and the glass and he was worried. He did not want Sara or Mom to get hurt by the glass. \"Sara, don't touch the glass!\" Ben said. \"It can cut you! We have to tell Mom!\" Sara was scared and sorry. She did not mean to break the glass. She wanted to fix it, but she did not know how. She nodded at Ben and they ran to find Mom. \"Mom, Mom!\" they shouted. \"We have a problem!\" Mom was in the kitchen. She heard the children and came to the living room. She saw the mess and she was worried too. She asked them what happened. \"Sara broke the glass,\" Ben said. \"She wanted water, but she was not careful. We are sorry, Mom.\" Mom hugged the children and told them it was okay. She was glad they were not hurt. She told them to stay away from the glass and she got a broom and a cloth. She cleaned up the water and the glass and threw them away. \"Next time, if you want water, ask me first,\" Mom said. \"And be careful with the glass. It can break and hurt you.\" Sara and Ben said they understood. They said they were sorry again and they thanked Mom. They gave her a kiss and a hug. Then they went back to playing with their toys. They decided to be quiet animals and not make a mess. They did not want to break anything else. They wanted Mom to be happy. The end.<|endoftext|>Once upon a time, there was a little girl named Lily. She was very curious and loved to study things. One day, she saw a tall candle on her mother's table. She asked her mother, \"Can I study the candle?\" Her mother said, \"Sure, but be careful not to touch the flame.\" Lily studied the candle for a while and then went to play. Later that night, Lily's mother lit the candle for dinner. But Lily had forgotten to blow it out earlier. The flame grew bigger and bigger until it caught onto the curtains. The fire spread quickly and sadly, their house burned down.<|endoftext|>Once upon a time, there was a kind man who was walking down the street. The street was lined with beautiful trees, and the man felt happy. Suddenly, the man noticed a lost dog. The dog had no collar, so the kind man decided to help it. He stopped and made a collar for the dog with some string. Once the collar was on, he poured some water out of his water bottle for the dog to drink. The dog was so grateful and started to follow the man. The kind man was so happy that he was able to help the lost dog. He petted the dog, thanked it, and they both went on their way. The end.<|endoftext|>Once upon a time, there was a bear named Bob. Bob was big and loved to eat honey. One day, he went to the woods to find some honey. He saw a bee flying around and decided to follow it. The bee led Bob to an icy cave. Bob was a little scared, but he wanted the honey. So, he took a deep breath and entered the cave. Inside, he found a big jar of honey. Bob was so happy and started to eat the honey. But, the icy cave was not safe. The ice on the walls started to break and fall. Bob was scared and tried to run away. But, he was too late. The ice fell on him and he could not move. The honey was not worth it.<|endoftext|>Once upon a time, there was a lazy bird named Tweety. Tweety loved to sleep all day and never wanted to work. One day, Tweety saw a helicopter flying in the sky. It was carrying lots of food and toys for the children. Tweety wanted to fly like the helicopter, but he was too lazy to learn how to fly. One day, the children were sad because the helicopter had to go away. Tweety saw this and felt bad. He decided to help the children by using his wings to part the clouds and make the sun shine brighter. The children were happy and thanked Tweety for his help. From that day on, Tweety realized that it's important to help others and not be lazy all the time. He learned that even small actions can make a big difference in someone's life.<|endoftext|>Once upon a time there was a guitar. It was blue. The guitar was in a big room. In the room was a man. The man was happy. He be smiling. The man had the blue guitar. He played it. The music be sweet. The man be playing the guitar all day. He be singing too. He be happy and the music be nice. The day was over and the man put the blue guitar away. He said goodbye to the guitar. That night the guitar be safe and happy. The End.<|endoftext|>Once upon a time, there was a little girl named May. She was three years old and she loved playing in the park with all her friends. One day, her mommy said to her: \"May, it's time for your bath!\" May wanted to get in the bath but she was a bit scared. May's friend Robert had a bathtub, and May wanted one too. She was so envious of Robert that she asked her mommy if they could get a bathtub. So the next day, May's mommy took her to the store to pick out a bathtub. She asked May: \"Which bathtub do you want, May?\" May picked out a bathtub that was pink with lots of bubbles on it. She was so excited and couldn't wait to take a bath. May and her mommy brought the bathtub home and put it in the bathroom. May said: \"I love my new bathtub!\" and she jumped in to take a bubble bath. The end.<|endoftext|>Once there was a clever monkey called Mandy. She loved to play and explore. One day she came across a red brick and started to chew it. She liked the crunchy sound and the taste. Suddenly, a voice called out from behind her. It was a rabbit, hopping around happily. Mandy held up the brick to show the rabbit and said, \"What is this?\" The rabbit replied, \"That's a brick. It's too hard for you to chew. Let me show you something better to chew.\" The rabbit hopped off and came back with a piece of carrot. The carrot was juicy and sweet - much better\n",
      "Sequence 13:  Tweetie said no, because he had a plan. The man with the big gray bag knocked on the door and said, \"I'm here to fix your roof.\" Tweetie and Squeaky peeked through the window and saw that the man was telling the truth. They felt relieved and happy that they didn't have to hide. From that day on, Tweetie and Squeaky learned that sometimes things aren't always what they seem, and it's important to peek before making a decision.<|endoftext|>Tom was excited. He had a new trumpet. He wanted to play it for his friends. He put on his hat and coat and ran outside. He saw Lily and Sam in the park. They were playing with a ball. He waved to them and shouted, \"Look at my trumpet! It is shiny and loud!\" Lily and Sam stopped playing and ran to Tom. They wanted to see his trumpet. They touched it and looked at it. It was shiny and had many buttons. \"Can you play it?\" Lily asked. \"Yes, I can!\" Tom said. He put the trumpet to his mouth and blew. He made a loud noise. It sounded like a honk. Lily and Sam laughed. They liked the noise. They clapped their hands and cheered. \"Can we try?\" Sam asked. \"Sure!\" Tom said. He was happy to share his trumpet. He gave it to Sam. Sam blew and made another loud noise. It sounded like a moo. Lily and Sam took turns playing the trumpet. They made different noises. They sounded like animals. They had fun. Tom smiled. He was glad he had a new trumpet. He was glad he had good friends. He joined them and played the trumpet too. They made music together. They shone like stars.<|endoftext|>Yesterday, I went to the park with my mommy. We walked and played on the swings. I saw a big white dog and it was so fluffy. I wanted to pet it, but it ran away. Then, we went to sit on a bench and eat our snacks. Mommy said, \"Let's seat here and enjoy the sunshine.\" We had a fun day at the park!<|endoftext|>Once upon a time, there was a little girl named Lily. She loved to play with puzzles. One day, her mom gave her a bright puzzle with many colors. Lily was so happy and said, \"Thank you, mommy! I love it!\" Lily spent the whole afternoon playing with her new puzzle. She was so proud when she finished it. She showed it to her little brother and said, \"Look, I finished my puzzle! It's so pretty!\" Her brother smiled and said, \"I want to play too!\" Lily said, \"Okay, let's play together!\" But her brother accidentally broke the puzzle. Lily was so sad and said, \"Oh no, my puzzle is broken! I can't fix it!\" She cried and cried because she loved her puzzle so much. The end.<|endoftext|>Once upon a time, there was a little girl named Lily. She loved to explore and go on adventures. One day, she came to a fork in the road. She had to choose which way to go. Lily asked a friendly bird, \"Which way should I go?\" The bird replied, \"The left road is long and windy, but it leads to a rare flower field. The right road is short and straight, but it leads to a yummy berry bush.\" Lily thought about it for a moment and decided to choose the left road. She wanted to see the rare flowers. She walked and walked until she finally found the field. It was filled with beautiful flowers she had never seen before! She picked some and brought them home to show her family. They were amazed and proud of her for choosing the road less traveled.<|endoftext|>One day, a little dog named Lucky was walking through a meadow. He looked around and noticed a leather ball lying in the grass. He wanted to take it, but the ball was special. Lucky struggled to pull it out, because it was stuck to the ground. He tried and tried until the ball finally came out. When Lucky held the ball, he noticed that it was heavy and hard to carry. He quickly ran back home to his boy, Tom. Tom was excited when he saw the ball, because he'd never seen anything like it! He asked Lucky, \"Where did you find this?\" Lucky smiled and said, \"in the meadow\". He was so proud and happy to have found it! Tom shook his head in disbelief. He couldn't believe that Lucky had found such a special ball. He asked his little dog, \"Is this normal?\" Lucky laughed and said, \"I don't know, but it was a struggle to get it!\" Tom was amazed. Lucky had gone through so much trouble to get the leather ball, and Tom was so grateful. Lucky's effort made a special moment even more special.<|endoftext|>Once upon a time, there was a little girl named Lily. She loved to play with her toys and eat cookies. One day, Lily's friend, Tommy, came over to play. He saw Lily's cookies on a tray and wanted one, but Lily didn't want to share. Tommy said, \"I need a cookie, please.\" But Lily was envious and didn't want to share her cookies. Tommy felt sad because he really wanted a cookie. Then, Lily's mom came in and saw what was happening. She explained to Lily that it's important to share and be kind to friends. Lily realized her mistake and gave Tommy a cookie from the tray. Tommy was happy and they continued to play together. From then on, Lily learned that sharing is important and it's always better to be kind to others.<|endoftext|>Once upon a time, there lived a little girl. She loved to look up and see the big impressive rainbow in the sky. Every day, she imagined she was an eagle, flying through the colourful sky and reaching the top of the rainbow. One day, when her mommy and daddy weren't looking, she found a way to try and touch the rainbow. She climbed a tall tree, squeezed tight and jumped. She flew through the air as if she was an eagle, reaching out to try and grab the rainbow. But sadly, she couldn't grab the rainbow. Instead, she felt the gentle sprinkle of the rain, falling down, and the rainbow disappeared. But when she looked up, the rainbow was still there, shining brightly like before. The little girl smiled - she had been so close to touching the impressive rainbow. She thanked the sky for the magical rainbow and said goodbye.<|endoftext|>Once upon a time, there was a little girl named Lily. She loved to hear her mom's stories every night before bed. One night, Lily's mom promised to tell her the perfect story. Lily was so excited! Her mom began, \"Once upon a time, there was a little bunny named Benny. He loved to hop and play with his friends in the forest. But one day, Benny got lost and couldn't find his way back home.\" Lily listened closely as her mom continued the story. She was so happy when Benny finally found his way back home. \"That was the perfect story, Mommy!\" Lily exclaimed. From that night on, Lily's mom promised to tell her a new story every night before bed. And Lily was always excited to hear them.<|endoftext|>Once upon a time, there was a boy named Tom. Tom loved to jog! One day, Tom went out jogging and came upon a bridge. As Tom started to jog across the bridge, he noticed how comfortable it was. Tom's mommy was out for a walk and spotted Tom jogging across the bridge. She smiled and said, \"Tom, that bridge looks so comfortable, can I jog along with you?\" Tom was so happy his mommy wanted to jog together! He smiled and shouted, \"Yeah!! Let's go!\" So Tom and his mommy started jogging across the bridge together. It was so much fun! The bridge felt even more comfortable with his mommy by his side. Tom and his mommy jogged across the bridge, hand in hand. When they reached the end, they stopped and hugged. \"Thanks for jogging with me, Mom\" said Tom. \"No problem, I had a great time jogging with you\" replied Mom. And they both enjoyed the rest of their afternoon together, happy as could be.<|endoftext|>Once there was a little bunny. The bunny was very independent. The bunny liked to explore. Every day the bunny ran around the garden looking for exciting things. One day the bunny was running around and bumped into a wall. It was a big wall and the bunny couldn't get over it. The bunny was tired from running, so it decided to rest. The bunny lay down and closed its eyes. The bunny felt so relaxed it fell asleep. The bunny slept for a long time until it felt well-rested. Then the bunny opened its eyes and hopped away. It was happy to be an independent bunny again, exploring the garden and running around freely.<|endoftext|>Bob wanted to race. He invited his friends to take part in an impressive race. Everyone agreed and ran to the starting line. Bob pressed the button and the race began. All the racers were so fast but Bob was the fastest. He passed the others and reached the finish line first. The crowd was very excited. They shouted and clapped for Bob. The organizers printed out a certificate for Bob. He was very proud to receive it. Bob was the winner of the race. He was so happy that he wanted to race again and again.<|endoftext|>Once upon a time, there was a big elephant. He had huge ears that he liked to wiggle. One day, he decided to make a cake. He got all the\n",
      "Sequence 14:  mom and dad. One day, Timmy saw a penguin in the zoo. The penguin was so cute and fluffy! Timmy asked his mom if he could touch the penguin. His mom said, \"Sure, but be gentle and don't squeeze too hard.\" Timmy gently touched the penguin's feathers and giggled. Suddenly, the penguin started acting crazy and flapping its wings. Timmy's mom said, \"I think the penguin wants to go for a swim.\" Timmy waved goodbye to the penguin and said, \"Bye-bye, crazy penguin!\"<|endoftext|>Once upon a time, there was a stubborn little rabbit who lived close to the shore. The rabbit loved to explore, but his parents were always warning him to be careful. \"If you go close to the water, you will get in trouble!” they said. One beautiful morning, the rabbit was looking at the shore and saw something very exciting - a pile of big rocks! He decided it would be fun to build something with them, so he started gathering rocks and piling them up. Just then, his parents came running up to him. “What do you think you're doing?” they shouted. \"You could get hurt if you play so close to the water!” The rabbit didn't give in. He was being stubborn and kept on building. Suddenly, the ground beneath him started to shake and he started to fall into the icy water! The rabbit’s parents were very scared and grabbed him before he got hurt. The moral of the story is to always listen to your parents and be careful when you are playing near the water!<|endoftext|>Once upon a time, there was a little girl named Lily. She loved to play outside in the park with her friends. One day, Lily found a treasure map on the ground. She followed the map and finally found the treasure. But when she opened it, she realized it was fake. Lily was very sad and angry. She screamed loudly and her friends came running to see what was wrong. Lily showed them the fake treasure and they all agreed to help her find the real treasure. They searched everywhere and finally found a real treasure chest. Lily was very happy and thanked her friends for helping her. She learned that sometimes things may not be what they seem, but if you keep trying, you can find something even better.<|endoftext|>Once upon a time, there was a little girl named June. She loved to explore and find new things. One day she went on a walk, and she found something special. She found a model car! It was so cool - it was bright red, and it even had wheels that spun. June was so happy that she found her model car. She showed it to her parents and thanked them for being so polite. They told June to take good care of it, and to be careful. June promised that she would. Every morning, June would take out her model car, and admire it. She liked to push it around the house, and pretend it was a real car. She also liked to take it on her long walks. June enjoyed having a model car to play with. She was so excited to have a special toy to keep. She was so grateful that her parents were so polite to let her have it.<|endoftext|>Once upon a time there was a fisherman. He went out on a boat to get fish for his family. On the way out, he noticed something in the water. It was a broken boat. He ordered his boat to go closer so he could see it better. When they got closer, he saw a big hole in the boat. He knew that it must have been broken by something big. When the fisherman got close enough he ordered his crew to help the other boat. His crew worked together to fix the boat and soon it was back in one piece again. The fisherman and his crew were happy that they were able to help. They said goodbye to the boat and its crew and headed back home. When they returned home the fisherman told his family about helping the broken boat and they were all so happy. Everyone thanked the fisherman and his crew for their hard work.<|endoftext|>Jacky was a lazy little rabbit. He liked to stay in bed and nap all day long. He had no ambition and was never interested in the things around him. One day, Jacky was out walking in the woods and he spotted a blueberry bush. Jacky was intrigued, he had never seen a blueberry before! Jacky ran up to the bush and started to pick the blueberries. Suddenly, a wise old fox appeared from the shadows. \"Little rabbit,\" the fox said, \"you should never be so lazy with your life, you should always reach for greater heights and never be content with mediocrity. Now, off you go and pick some more of those delicious blueberries!\" Jacky understood the lesson and he went back to picking blueberries with newfound ambition. He gathered enough for a nice blueberry pie, and Jacky and the fox had a wonderful meal that only a lazy little rabbit and wise old fox can appreciate. The moral of the story is that it's important to never be too lazy and complacent with your life. Whenever you have the opportunity to do something new, have an ambition to strive for greater heights and never be content with mediocrity. Learn from the example of Jacky the lazy little rabbit and reach for higher goals.<|endoftext|>Two friends named Jack and Jill were playing together in the garden. Jack was excited, because he saw a flame in the sky. He called to Jill and showed her the flame, and she was also very excited. They both ran over to the flame and started clapping their hands. They watched the flame move around in the sky, changing shape and color as it flew. Then, suddenly, a voice called out from above and a big eagle flew down and landed in front of them. Jill was so scared, but Jack was still excited. He stepped closer and patted the eagle's head. The eagle looked at them both and then flew away. Jack and Jill watched it until it was out of sight. They both laughed and smiled, knowing they had just seen something special. They held hands and ran back to the garden, still talking about the flame in the sky. They were both so excited about their adventure.<|endoftext|>Once upon a time, there was a woodcutter who had a very noisy axe. Every day, he would go to the forest to cut trees. But the noise of his axe would disturb the animals living in the forest. They would run away and hide. One day, a little rabbit came to the woodcutter and said, \"Please, Mr. Woodcutter, can you please use a quieter axe? Your noisy axe scares us and makes us run away.\" The woodcutter felt bad and realized that he was causing trouble for the animals. So, he promised the rabbit that he would use a quieter axe from now on. The rabbit was very happy and thanked the woodcutter. The woodcutter learned that being considerate of others is important. He bowed to the rabbit and promised to be more mindful of his actions in the future. From that day on, he used a quieter axe and the animals in the forest lived in peace.<|endoftext|>Once upon a time, there were two friends named Timmy and Tommy. They both lived in the same nation and loved to play together every day. One day, they found an old toy car in the park and both wanted to play with it at the same time. Timmy said, \"I want to play with the old toy car first.\" Tommy said, \"No, I want to play with the old toy car first.\" They started to argue and couldn't agree on who would play with the car first. So, they decided to separate and play with their own toys for a while. After some time, they both realized that playing alone was not as much fun as playing together. They then came back together and Timmy said, \"Let's take turns playing with the old toy car.\" Tommy agreed and they happily played with the toy car together, taking turns and having fun. They realized that sharing and taking turns was more important than having the toy all to themselves. From that day on, they were the best of friends and never fought over toys again.<|endoftext|>Once upon a time, there was a man with a big mustache. He went on a trip and brought a big bag with him. When he got home, he had to unpack his bag. He took out his clothes, shoes and toys. He was happy to be home, but he felt ashamed because he forgot to bring a present for his friend. The man decided to make a drawing for his friend to make up for forgetting a present. He drew a picture of a cat with a big mustache, just like him. He put the drawing in an envelope and went to his friend's house. When his friend opened the envelope, he was very happy to see the drawing. The man felt happy too, because he made his friend smile. From that day on, the man always remembered to bring a present when he went on a trip.<|endoftext|>Once upon a time, two friends David and Amy were walking down a path in the forest. David stopped and said to Amy, \"I'm so tired, I have to have a yawn!\" Amy looked at him and felt jealous. She wished she could take a nap too, just like David. David then said, \"Take a break with me, Amy. Let's have a rest on the path!\" Amy thought about this and said, \"No, I'm not tired. I can't have a match with you in yawning!\" David laughed and said to Amy, \"That's ok, I'm happy to stay here for a bit and rest before we keep walking.\" So the two friends David and Amy stopped on the path and took a few moments of rest. Later, they continued walking down the\n",
      "Sequence 15:  was very curious and wanted to see it up close. But suddenly, the volcano started to shake and make loud noises. The little girl was scared! Luckily, a kind man saw the little girl and ran to her. He picked her up and carried her away from the volcano. \"I care about you,\" he said. The little girl felt safe in his arms and was grateful for his help.<|endoftext|>Lily and Tom liked to play with the board. The board had many colors and shapes. They could make pictures and words with the board. But one day, the board broke. Lily and Tom were sad. They asked their mom to fix the board. Mom said she would try. She took the board to the garage. She used glue and tape and scissors. She worked hard to restore the board. She wanted Lily and Tom to be happy. After a while, mom came back with the board. She showed Lily and Tom the board. It looked like new. The colors and shapes were all there. Lily and Tom were very happy. They hugged mom and thanked her. They said she was successful. They went to play with the board again. They made pictures and words with the board. They had fun. Mom smiled and watched them. She was happy too.<|endoftext|>Once upon a time, there was a mommy, a daddy, and a little girl named Daisy. Daisy was only three years old, but she was always ready to play! One of her favorite things to do was sports. One day, Daisy's dad said that he had a surprise for her. He took her outside and showed her a new organized sports game. Daisy was so happy! She squeezed her dad's hand and said, \"Let's play!\" So, the two of them ran around, playing the game and having lots of fun. Daisy loved squeezing the ball, running around and playing. She was so organized and kept track of it all. It was her favorite new game. At the end of the day, Daisy hugged her dad and said, \"Thank you for the game. Let's play it again soon!\" Daisy's dad smiled and said, \"Of course! It was so much fun.\" And so, Daisy and her dad kept playing sports every day. They were so happy together. They were the perfect team!<|endoftext|>Tom and Lily were playing in the garden. They liked to water the flowers with the hose. Tom was holding the hose and Lily was telling him where to spray. \"Supply water to the red ones, Tom. They are thirsty,\" Lily said. Tom nodded and sprayed the red flowers. Then he saw a butterfly on a yellow flower. He wanted to see it closer. He moved the hose to the yellow flower. But he sprayed too hard and the butterfly flew away. The water also hit Lily in the face. She was wet and angry. \"Tom, why did you do that?\" Lily shouted. \"You scared the butterfly and you made me wet. That was not nice.\" Tom felt ashamed. He did not mean to hurt Lily or the butterfly. He dropped the hose and ran to Lily. He hugged her and said, \"I'm sorry, Lily. I was curious about the butterfly. I did not want to make you wet or angry. Please forgive me.\" Lily looked at Tom. She saw that he was sorry. She hugged him back and said, \"It's okay, Tom. I forgive you. But next time, be careful with the hose. And don't scare the butterflies. They are pretty and gentle.\" Tom and Lily smiled and went back to watering the flowers. They were friends again.<|endoftext|>Once upon a time, there was a girl named Lily. She loved to wander in the forest and look at all the pretty flowers. One day, she found a jewel on the ground. It was very shiny and she thought it was very pretty. Lily showed the jewel to her friend, Timmy. Timmy was very selfish and wanted the jewel for himself. He tried to take it from Lily, but she held onto it tightly. Lily knew that the jewel was special and that she should share it with her friends. So, she invited all her friends to come and see the jewel. They all thought it was very pretty and they were happy that Lily had shared it with them. From that day on, Lily and her friends would often wander in the forest together, looking for more pretty jewels to share with each other.<|endoftext|>Once upon a time, there was a little girl named Lily. She loved to make cakes with her mommy. One day, they decided to make a cake for Lily's grandma. They got all the ingredients and started to mix them together. Lily's mommy told her to use a small fork to mix the batter. While they were making the cake, Lily's little brother came into the kitchen. He wanted to help too. He grabbed the small fork and started to play with it. Suddenly, he accidentally swallowed the fork! Lily's mommy quickly called the doctor, but it was too late. The fork had gotten stuck in his throat and he couldn't breathe. Lily and her mommy were very sad that they couldn't save her little brother. They learned that it's important to be careful with small things, especially when making food. From that day on, they always made sure to keep small objects away from their little brother.<|endoftext|>Once upon a time, there was a little boy named Timmy. Timmy loved to play outside with his friends. They would run and jump and laugh together. One day, Timmy's mom came outside and said it was time for Timmy to come inside and eat lunch. Timmy didn't want to stop playing, but his mom said it was important to eat. Timmy's friends said goodbye and went home. Timmy's mom made him a sandwich and taught him how to make one too. Timmy was happy to learn something new. After lunch, Timmy went back outside to play. But then, he saw a big dog that he didn't know. The dog barked and ran towards him. Timmy was scared and ran away. The dog didn't hurt him, but it disturbed him. Timmy's mom came outside and saw what happened. She made sure Timmy was okay and told him it's important to be careful around dogs he doesn't know. From that day on, Timmy was more careful when playing outside. He remembered what his mom taught him and didn't want to get hurt or disturbed again.<|endoftext|>One day, William was very excited because he was going to the park with his mum. When he got there, he noticed a big machine with lots of colourful buttons on it. He thought it was a fan! William asked his mum what it was and she told him it was called an examine machine. She said, \"Let's take a closer look.\" So they walked towards the examine machine and they saw lots of lights and sounds. William was so excited he started pressing all the buttons. His mum was a bit worried, but she knew he was curious. Suddenly, the examine machine started spinning and making a loud noise. William jumped backwards and shouted, \"What's happening?\" His mum just laughed and said, \"It's just a fan, William! It's ok.\" William smiled and ran up to the fan. He started touching it and feeling its wind on his face. It felt so nice! From then on every time William went to the park he was so excited to see the examine machine and the fan. The End<|endoftext|>Once upon a time, there was a little train. The train loved to wave at his friends. Every day, he would go on a fun ride. The train was very comfortable. One day, the train saw some steam. The steam was coming from a big pot. The train was curious. He wanted to see what was in the pot. The train went closer to the pot. He saw a nice man cooking food. The man saw the train and waved back. The train was happy. He made a new friend. And they lived happily ever after.<|endoftext|>Once upon a time, there was a girl named Lily. She loved to paint pictures with her mommy. They would use lots of colors like red, blue, and yellow. One day, Lily wanted to paint a picture of a snowman. But it was too icy outside to go and play in the snow. Lily missed playing in the snow and making snowmen with her friends. She asked her mommy if they could paint a picture of a snowman instead. They got out their paint and started to create a beautiful picture of a snowman with a carrot nose and a big smile. Lily was happy because even though it was too icy outside, she could still have fun painting.<|endoftext|>Once upon a time, there was a boy called Tom. Tom lived with his dad and mum. Tom was very happy, but one day he got a troubled feeling inside. Tom was scared of the sound he heard coming from upstairs. He asked his dad and mum about the sound but they said he was imagining things. But Tom knew he was not imagining it. He heard the sound again. So he ran upstairs and saw a cat. The cat was scared too and was trying to hide. Tom was happy to own the cat. He promised to look after it and named it Scratch. Tom thought Scratch was the most beautiful cat in the world. Tom and Scratch were happy together. Tom was no longer troubled and the sound he heard was no more.<|endoftext|>Once upon a time, there was a little girl named Lily. She loved to play outside in the sun and the grass. One day, her mommy told her they were going on a picnic. Lily was so excited! They packed a basket with yummy sandwiches, juicy fruits, and cold drinks. They found a nice spot under a big tree and spread out a blanket. They ate their lunch and played games. But then, the clouds started to get\n"
     ]
    }
   ],
   "source": [
    "resp = dataset_manager.inspect.inspect_sample_by_batch(batch_id=1, batch_size=16, return_doc_details=False, return_detokenized=True, tokenizer=tokenizer)\n",
    "\n",
    "for i, r in enumerate(resp):\n",
    "    print(f\"Sequence {i}: {r}\")"
   ]
  },
  {
   "cell_type": "markdown",
   "id": "05af20e0",
   "metadata": {},
   "source": [
    "# Sample"
   ]
  },
  {
   "cell_type": "code",
   "execution_count": 30,
   "id": "d6c92b9e",
   "metadata": {},
   "outputs": [
    {
     "name": "stdout",
     "output_type": "stream",
     "text": [
      "Sample at index 10:  day, they find a big club on the grass. It is brown and heavy. \"Look, a club!\" Lily says. \"Let's play with it!\" \"OK!\" Ben says. \"What can we do with it?\" Lily thinks for a moment. Then she has an idea. \"We can spin it!\" she says. \"Like this!\" She holds the club with both hands and turns around fast. The club makes a whoosh sound in the air. \"Wow, that looks fun!\" Ben says. \"Can I try?\" \"Sure!\" Lily says. She gives the club to Ben. Ben tries to spin it, but it is too heavy for him. He falls down and drops the club. \"Ouch!\" Ben says. \"That hurts!\" Lily laughs. She helps Ben get up. \"You are lazy!\" she says. \"You need to be strong to spin the club!\" Ben makes a face. \"I am not lazy!\" he says. \"I am just small. You are big and strong. That's not fair!\" Lily smiles. She hugs Ben. \"Don't be sad,\" she says. \"We can play something else. How about we swing on the swings?\" \"OK!\" Ben says. \"That sounds fun!\" They leave the club on the grass and run to the swings. They swing high and low, and laugh and sing. They are happy. They are friends.<|endoftext|>Betty was an enthusiastic three year old. She loved to study. Every day, she went to the hall with her parents. Every morning, her parents would leave her with a teacher. She was excited to learn new things. One day, she noticed something different in the hall. Everyone was crowded around a new student. Betty asked her teacher what was going on. The teacher replied, \"That’s Jake. He's a new student. He's very enthusiastic about studying. He's looking forward to learning a lot!\" Betty smiled and said, \"I'm excited to get to know him!\" The teacher nodded and said, \"So am I. Let's introduce ourselves.\" The two children waved at each other and began to study. From that day onward, they were good friends. They had lots of fun learning and exploring the hall together.<|endoftext|>Once upon a time, there was a march. A march is like a walk, but with more people. Everyone had something to do and they worked together. It was difficult to get everyone to settle in the right place, however. Suddenly, they heard a fairy call out. \"If you work together, you can make it happen!\" Everyone listened, and started to help each other as they marched. It was still difficult, but the march eventually settled into the right place. Everyone clapped and cheered. It was a hard journey, but they had made it! The end!<|endoftext|>Once upon a time there was a little girl named Lily. Lily loved to play in her garden. One day she found a grape tree in her garden. She was so excited to find some grapes! She quickly picked a handful of grapes and put them into her pocket. At that moment, a sneaky rabbit jumped out from behind the tree. He eyed the grapes and said, “That’s mine!” Lily was shocked. She tried to explain that the grapes were actually hers but the rabbit wasn’t listening. The rabbit was being very selfish and didn’t want to give the grapes back. Lily was so sad. She wanted the grapes back but she didn’t know what to do. Suddenly, she had an idea. She bowed to the rabbit and said, “Please, please give me back my grapes.” The rabbit was very surprised by this. He looked at Lily and then at the grapes. He smiled, handed back the grapes and ran away. Lily was so happy! She thanked the rabbit for being so generous and then ate the juicy grapes. The end!<|endoftext|>Once upon a time, there was a little boy named Tim. Tim had to choose a toy to play with at school. There were many toys, but he saw one that caught his sight. It was an ugly old toy that no one liked to play with. Tim thought it was special, so he chose it. Every day, Tim played with the ugly toy. The other kids laughed at him, but Tim didn't care. He loved his ugly toy. One day, a new kid came to school and saw the toy. He wanted to play with it too. Tim didn't want to share, so the new kid was sad. As days went by, Tim kept playing with the ugly toy. The new kid tried to make friends, but Tim wouldn't let him play. One day, the ugly toy broke. Tim was sad and had no toy to play with. The new kid still had no friends. The moral of the story is to always share and be kind, or you might end up sad and alone.<|endoftext|>Tom and Mia are friends. They like to play outside in the park. Today it is cold, so they wear coats. Tom has a red coat and Mia has a blue coat. They run and jump and slide on the grass. They have fun. But then Tom sees a big dog. He is scared of dogs. He runs away from the dog. He does not see where he is going. He runs into a tree. His coat gets stuck on a branch. He tries to pull his coat, but it does not come off. He starts to cry. Mia hears Tom cry. She runs to him. She sees his coat on the tree. She is sad for Tom. She tries to help him. She climbs the tree. She reaches for his coat. She pulls his coat, but it is too hard. She loses her balance. She falls from the tree. Her coat falls with her. She lands on the ground. She hurts her knee. She starts to cry too. Now Tom and Mia are both crying. They have no coats. They are cold and hurt. They want to go home. They want their moms. They want their normal coats. They are not happy. They are not friends. They are mad at each other. They blame each other for losing their coats. They say mean words. They do not play anymore. They sit on the ground and cry.<|endoftext|>One day a little girl had an idea. She wanted to build a nice, soft fort out of sacks. She ran to the sack and asked her mom if she could take one. Her mom said yes and she started to drag it to her room. The little girl started to build the fort. She arranged the sack in a circle and tucked them in so they were nice and soft. She put some pillows, a blanket, stuffed animals and books inside. The little girl was so proud of her fort. She jumped inside and felt so safe. She brought a special storybook and read it quietly until she felt very sleepy. Then, she hugged her stuffed animal and fell asleep in her soft little fort.<|endoftext|>Once upon a time, there was a little girl named Lucy who was three years old. She liked to take care of things, like her toys and her pet dog Spike. One day, Lucy was very sad. Her mom had given her a sour lemon to eat, and she didn't like it. Lucy started to cry, and Spike looked so sad too. But Spike had a plan to make Lucy feel better. He ran to the kitchen and grabbed a few yummy snacks. He ran back to Lucy and gave them to her. Lucy smiled and hugged Spike, feeling very happy and cared for. They finished the snacks, and Spike went back to the kitchen to get more. Lucy hugged him again and saw how much he cared for her. From then on, Lucy and Spike were the best of friends. Even when things were sour, Lucy knew that Spike was always there to take care of her.<|endoftext|>Once upon a time, there was a fine ornament. It was round and shiny. The ornament lived on a big tree. The tree was in a house with a family. One day, a boy named Tim saw the ornament. He wanted to play with it. Tim took the ornament off the tree. He started to do a dance with it. The ornament liked the dance. It made the ornament happy. Tim put the ornament back on the tree. The ornament was safe and sound. The family and the ornament lived happily ever after.<|endoftext|>Once upon a time, there was a big, hot sun in the sky. The sun made everything feel warm and nice. One day, a little rat appeared from behind a tree. The rat was small and brown, with a long tail. It looked around and saw some cheese on the ground. The rat was hungry, so it ran over to the cheese and ate it all up. Then, the rat disappeared back behind the tree. The sun kept shining and everything was happy. The end.<|endoftext|>Once upon a time, there was a little girl named Lily. She loved to play with her toys and her cat named Mittens. One day, Lily's mommy told her that they were going to visit her daddy at work. Lily was very excited to see her daddy's work. When they arrived at her daddy's work, Lily saw a big building with lots of people inside. She thought it was scary, but her mommy held her hand and said it was okay. Lily saw her daddy sitting at a desk and typing on a computer. She asked him, \"Daddy, what do you do at work?\" Her daddy replied, \"I work with numbers and think of ways to help people with their money.\" Lily didn't understand what her daddy meant, but she was happy to see him at work. After a little while, they said goodbye to her daddy and went back home. Lily told Mittens all about her daddy's work and how she thought it was scary but fun.<|endoftext|>Once upon a time,\n",
      "Sample at index 50:  Ben's car fell on the ground and broke. The wheel came off and the paint scratched. \"Uh oh!\" Lily said, looking at Ben's car. \"I'm sorry, Ben. I did not mean to break your car.\" Ben picked up his car and saw the damage. He felt tears in his eyes. He loved his car. It was a gift from his grandpa. It was very expensive and special. \"It's okay, Lily,\" Ben said, trying to be brave. \"But you have to be more careful. And you have to be nicer. You can't just beep your horn all the time. It's rude and noisy.\" Lily felt bad. She realized she had been a bad friend. She wanted to make Ben happy again. \"I'm sorry, Ben,\" Lily said, giving him a hug. \"Can we still be friends?\" Ben smiled and hugged her back. He was a kind boy. He forgave Lily. \"Of course we can, Lily,\" Ben said. \"But can you please stop beeping your horn so much?\" Lily nodded. She learned her lesson. She decided to share her horn with Ben. They played together with their cars, taking turns to beep the horn. They had fun and were friends again.<|endoftext|>Once upon a time, there was a wild cat. The cat had big eyes and a long tail. One day, the cat saw a bird with a pretty bow on its head. The cat wanted to catch the bird, so it ran and ran. The bird flew away, but the cat saw a zipper on a bag. The cat played with the zipper and had fun. The end.<|endoftext|>Lily and Ben liked to play with their toy record. It was a big round thing that made music when they put it on a box. They had many records with different songs. They liked to sing and dance with the records. One day, they went to camp with their mom and dad. They brought their record and their box with them. They wanted to show their friends at camp how to play with them. But when they got to camp, they saw a big sign that said \"No records allowed\". The camp leader said records were too loud and old. He said they had to use CDs or phones instead. Lily and Ben were sad. They did not like CDs or phones. They liked their record and their box. They tried to hide them in their tent, but the camp leader found them. He took them away and threw them in the trash. He said they were junk and they had to learn new things. Lily and Ben cried. They wanted their record and their box back. They did not like the camp leader. They did not like the camp. They wanted to go home. But their mom and dad said they had to stay for a week. They said it was good for them to try new things. Lily and Ben were very sad. They had no record, no box, no music, no fun. They had a bad camp. They had a bad ending.<|endoftext|>Lily and Ben were twins who liked to play in the park. One day, they saw a big slide that looked very fun. Lily wanted to go first, but Ben said he was older by two minutes and he should go first. \"No, I want to go first!\" Lily said. \"No, I want to go first!\" Ben said. They both ran to the slide and tried to climb up, but they bumped into each other and fell down. They started to cry and shout. A kind lady who was sitting on a bench saw them and came to help. She said, \"Why are you crying, children? You can both have a turn on the slide, but you need to use wisdom and be clever. Do you know what wisdom and clever mean?\" Lily and Ben shook their heads. They did not know those words. The lady said, \"Wisdom means you know what is good and what is bad, and you choose what is good. Clever means you think of a way to solve a problem or do something better. For example, you can use wisdom and be clever by taking turns on the slide. You can decide who goes first by playing rock, paper, scissors, or by counting to ten, or by asking nicely. Then you can both have fun and be happy. Do you want to try?\" Lily and Ben nodded. They liked the lady's idea. They said, \"Thank you, lady. You are very kind and smart. We will use wisdom and be clever.\" They played rock, paper, scissors and Lily won. She said, \"I go first, then you go, Ben.\" Ben said, \"OK, Lily. Have fun.\" They both climbed up the slide and slid down with big smiles. They had a lot of fun and did not fight anymore. They learned to use wisdom and be clever.<|endoftext|>Once upon a time, there was a little boy named Timmy. Timmy loved playing golf with his dad. They would go to the golf course every weekend and have so much fun. Timmy's dad would always say, \"Timmy, one day you will be a great golfer!\" One day, Timmy and his dad went to the golf course like they always did. But this time, something bad happened. A big storm arrived and it started to rain really hard. Timmy and his dad tried to run back to their car, but they slipped on the wet grass and fell down. Timmy's dad hurt his leg really badly and they couldn't get up. Timmy was scared and he didn't know what to do. He said, \"Dad, I'm sorry. I can't help you. I'm just a little boy.\" They were stuck there in the rain for a long time until someone finally found them. Timmy's dad had to go to the hospital and he couldn't play golf anymore. Timmy was sad because he loved playing golf with his dad.<|endoftext|>Once upon a time there was a little girl named Tam. She was 3 years old and very curious. She was always asking questions and wanted to know more about the world. One day, Tam asked her mom for a new cell phone. Her mom said no, and told her that she was too young to have a cell phone. Tam was very disappointed. Later that day, Tam's mom talked to her and said, \"I have an idea that might be better than a cell phone. We could get you a modern toy instead!\" Tam was excited. The next day, Tam's mom took her to the toy store and Tam saw a beautiful playhouse. It was modern and very colorful. Tam's mom recommended it to her and said it would help her use her imagination and learn new things. Tam was very happy with her new toy and she loved to play with it. She learned a lot of things from it and enjoyed her new playhouse more than she would have enjoyed a new cell phone. The moral of this story is to remember that traditional toys can be very educational and fun!<|endoftext|>Once upon a time, there was a hungry kangaroo. He wanted something to eat, but he didn't know what to do. Then, he saw a big, green apple tree. He hopped over to it and started to bounce around. He saw a big, juicy apple and tried to reach it. He didn't quite get it, so he jumped higher and higher. Finally, the kangaroo reached the apple and took a big bite. He liked the sweet taste and was very happy. He was no longer hungry! The kangaroo was so happy that he started bouncing around the tree again. He bounced higher and higher until he reached the top of the tree. The kangaroo looked around and saw that he was the highest kangaroo in the area. He was so proud! He kept bouncing and jumping around until the sun went down. The kangaroo had a great day and was happy he was no longer hungry.<|endoftext|>Once upon a time, there was a frog named Fred. He was so adventurous and always excited for something new. One day, Fred got an invitation. He was so excited and couldn't wait to see what it was. He quickly hopped to the invitation. When Fred got there, he was surprised. He saw a giant pond with many other frogs. They were all hopping around and having fun. He quickly joined in and began to hop around. Every day, they would hop around the pond and have lots of fun. One evening, Fred was hopping a little further away from the pond. Suddenly he realised he had gone too far and he couldn't find his way back. Fred became very scared and exhausted. He hopped around for hours and hours, but eventually he ran out of energy and he couldn't find his way home. The next morning, the other frogs found Fred lying by the side of the pond. They were very sad and realised that they had to say goodbye to him. Fred had been too adventurous, and sadly had not been able to return.<|endoftext|>Anna loved to spin in her dress. She felt like a fairy when she spun. She spun and spun until she was dizzy. Then she fell on the grass and laughed. \"Anna, time for bed!\" her mom called. Anna did not want to go to bed. She wanted to spin more. She pouted and said, \"No, mom, I want to spin!\" \"Come on, sweetie, you need to sleep. You can spin again tomorrow,\" her mom said. She picked up Anna and carried her to her room. Anna did not like her room. It was dark and scary. She saw shadows and shapes that looked like monsters. She heard noises that sounded like growls and hisses. She was afraid of the unknown things that hid in the dark. She hugged her teddy bear and closed her eyes. She tried to think of happy\n",
      "Sample at index 99: Don't worry, I will be with you. We will nap together and have sweet dreams.\" But as she was falling asleep, she felt something sharp poke her arm. She opened her eyes and saw a needle sticking out of Anna's dress. She had forgotten that she had tried to sew a button on Anna's dress yesterday, but she did not finish. She had left the needle in Anna's dress and now it had hurt her. She cried out loud and dropped Anna on the floor. She looked at her arm and saw a little drop of blood. She was scared and sad. She wanted her mommy to come and make it better. She heard her mommy's voice from downstairs. \"Lily, what's wrong? Are you okay?\" Her mommy ran up the stairs and came into her room. She saw Lily on the bed, crying and holding her arm. She saw Anna on the floor, with a needle in her dress. She quickly went to Lily and hugged her. She said, \"Oh, Lily, I'm so sorry. You have a boo-boo. Let me see. It's not too bad. I will clean it and put a band-aid on it. It will heal soon. You are very brave.\" She took Lily to the bathroom and washed her arm. She put a band-aid on it and kissed it. She said, \"There, all done. How do you feel?\" Lily sniffled and said, \"I feel better, mommy. Thank you. But I'm sorry for Anna. I hurt her with the needle. I didn't mean to. I love her.\" Her mommy smiled and said, \"I know, Lily. You love Anna very much. And Anna loves you too. She knows you didn't mean to hurt her. She's not mad at you. She just wants to nap with you and have sweet dreams.\" She picked up Anna from the floor and took out the needle from her dress. She said, \"Look, Anna is fine. She's not hurt. She's just sleepy. Why don't you take her to your bed and nap with her? I will join you in a minute. I love you, Lily.\" Lily smiled and said, \"I love you too, mommy. And I love Anna. Come on, Anna. Let's nap together and have sweet dreams.\" She took Anna to her bed and climbed on it. She pulled the blanket over them and cuddled with Anna. She whispered to Anna, \"I'm sorry, Anna. I love you. Let's nap together and have sweet dreams.\" She closed her eyes and fell asleep. Her mommy came to her bed and lay down next to her. She wrapped her arms around Lily and Anna and kissed them both. She said, \"Good night, my sweet girls. Nap well and have sweet dreams.\" They all napped together and had sweet dreams.<|endoftext|>There were two friends, John and Paul. They both liked eating ice cream. One day, they thought it would be nice to eat ice cream outside in the sun. So, they went out and found a nice spot. But then, it suddenly started to rain. John said it was stupid that it was raining but Paul said the rain was magical. John and Paul ran back to Paul's house. As soon as they got inside, the rain stopped. Paul fetched the ice cream from the fridge and they both started eating it. But then, John said that the ice cream was stupid. Paul was really mad. He quickly grabbed the ice cream away from John and threw it at him. So, John and Paul didn't get to eat any ice cream, because the stupid rain ruined it all.<|endoftext|>Once upon a time there was a pig. He wanted to have a fun time. He saw a funny hat on the ground and he wanted to try it on. He thought if he wore the funny hat then maybe he could have a lot of fun. He put the hat on and looked in the mirror. He thought that he looked funny and started to laugh. He wanted to go outside and show the hat to his friends. He had a lot of fun that day and it was the best day ever!<|endoftext|>Anna and Ben are friends. They like to play at the park. They like to swing and climb and slide. One day, they find a shiny penny on the ground. Anna picks it up and shows it to Ben. \"Look, I have a penny!\" she says. \"It is so pretty and round. I can buy candy with it.\" Ben feels jealous. He wants the penny too. He thinks it is not fair that Anna has it. He tries to grab it from her hand. Anna pulls it back and says, \"No, it is mine! I found it first. You cannot have it.\" They start to fight over the penny. They tug and pull and shout. They forget to play and have fun. They make each other sad and angry. A lady sees them and comes over. She is kind and gentle. She says, \"What is wrong, children? Why are you fighting?\" Anna and Ben tell her about the penny. They both want it. They both think they deserve it. The lady smiles and says, \"I have an idea. Why don't you share the penny? You can take turns holding it and looking at it. You can also use it to play a game. You can flip it and see if it lands on heads or tails. You can slide it across the slide and see how far it goes. You can make a wish and toss it in the fountain. There are many ways to enjoy the penny together.\" Anna and Ben think about it. They realize that the lady is right. The penny is more fun when they share it. They also remember that they are friends. They say sorry to each other and hug. They thank the lady and run to the slide. They slide the penny and laugh. They are happy again.<|endoftext|>Tom and Sue are friends. They like to play with cars and trucks. They have many cars and trucks of different colors and sizes. Tom has a big red truck that can reverse. Sue has a small yellow car that can beep. One day, they go to the park with their cars and trucks. They see a big tree with many birds. The birds are singing and flying. Tom and Sue want to see the birds. They drive their cars and trucks to the tree. \"Look, Sue, a blue bird!\" Tom says, pointing to the sky. \"Wow, it is so pretty!\" Sue says, looking up. They park their cars and trucks under the tree. They get out and walk to the tree. They try to talk to the birds. \"Hello, birds!\" Tom says. \"Hi, hi, hi!\" Sue says. But the birds do not talk back. They only sing and fly. Tom and Sue are sad. \"Maybe the birds do not like us,\" Tom says. \"Maybe they are too rich,\" Sue says. \"Why do you say that?\" Tom asks. \"Because they have a big tree and many friends and they can fly,\" Sue says. Tom thinks for a moment. He has an idea. \"Maybe we can make them like us,\" he says. \"How?\" Sue asks. \"By giving them something they do not have,\" Tom says. \"What do they not have?\" Sue asks. Tom looks around. He sees his big red truck that can reverse. He smiles. \"Come on, Sue, I have a plan,\" he says. He runs to his truck and gets in. He drives it to the tree. He reverses it under a branch. He honks the horn. \"Beep, beep, beep!\" he says. Sue sees what Tom is doing. She thinks it is funny. She runs to her car and gets in. She drives it to the tree. She beeps the horn. \"Beep, beep, beep!\" she says. The birds hear the noise. They stop singing and flying. They look down. They see the cars and trucks. They are curious. They fly down to the cars and trucks. They land on them. They peck them. They flap their wings. Tom and Sue are happy. They laugh and clap. They talk to the birds. \"Hello, birds!\" Tom says. \"Hi, hi, hi!\" Sue says. The birds talk back. They make different sounds. They sound like the cars and trucks. \"Beep, beep, beep!\" a blue bird says. \"Reverse, reverse, reverse!\" a red bird says. Tom and Sue are amazed. They think the birds are smart and funny. They play with the birds. They share their cars and trucks with the birds. The birds share their tree and songs with Tom and Sue. They become friends. The end.<|endoftext|>Once upon a time, there was a little girl named Lily. She loved to play outside in the sunshine. One day, she woke up early and saw the beautiful sunrise. It made her feel happy and excited to start her day. As she was playing, she saw a bug on the ground. It was big and disgusting! Lily didn't like bugs, so she moved away from it quickly. She went to play with her toys instead. Later, Lily's friend came over to play with her. They had so much fun moving around and playing together. They even saw a rainbow in the sky! It was a wonderful day for Lily and she went to bed feeling happy and tired.<|endoftext|>Once upon a time, there was a little girl named Lily. She loved to take baths in the bathroom. One day, Lily's mom asked her to help attach a hook to the wall. Lily was glad to help her mom. Lily's mom said, \"We need to attach this hook to the wall so we can hang your towel.\" Lily didn't know what \"attach\" meant, but she watched\n",
      "Sample at index 133:  thinks Ben is a good brother. She thinks she was not fair to him. She wants to say sorry. She gets up and goes to Ben's room. She knocks on the door and says, \"Ben, can I come in?\" Ben hears Sara and feels sorry too. He thinks Sara is a good sister. He thinks he was not kind to her. He wants to say sorry. He opens the door and says, \"Sara, come in.\" Sara and Ben hug and say sorry. They decide to share the truck. They go back to the living room and play together. Mom sees them and smiles. She thinks they are thoughtful twins. She thinks they have learned a lesson. She thinks they have a happy ending.<|endoftext|>Once upon a time there were two friends, Jak and Sam. Jak was very interested in unusual fashion, so every Sunday he went to the mall to record all the new and strange styles. One day when Jak was walking around the mall, he saw a really unusual hat. 'Oh wow, what's that?' he said to Sam. 'It looks cool!' Sam said. 'Let's try it on!' The two friends grabbed the hat and put it on. Right away they both started laughing. 'This looks so funny!' Jak said. Jak took out his phone and said, 'I have to record this' as he took some pictures. When they finished, they put the hat back on the shelf and ran off to find more unusual fashion.<|endoftext|>Once upon a time, there was a princess who wore a long veil on her head. She loved her veil very much because it made her feel like a real princess. One day, while she was playing in the garden, she heard a loud ring. \"Who could that be?\" she wondered. She went to answer the door and found a little bird who had hurt its wing. The bird asked the princess for help. The princess was happy to help and took the little bird to her room. She took off her veil and used it to wrap the bird's wing. But when the bird was all better, it wouldn't give the princess back her veil! The princess was upset and said, \"Please give me back my veil. It's very important to me.\" The bird replied, \"I'm sorry, but I need it to make a nest for my babies.\" The princess thought for a moment and said, \"Okay, you can keep my veil, but can I come visit your babies sometime?\" The bird happily agreed, and the princess went back to playing in the garden, feeling happy that she had helped someone in need.<|endoftext|>Once upon a time there was a helpless little girl. She was very small, but she wanted to do big things. The little girl was walking through the forest one day when she spotted a jar. Inside the jar were all sorts of candy and sweets. The girl wanted the candy, but it was too far away - she couldn't reach it. Suddenly, the girl heard a voice. It was a gentle voice, so she knew it must belong to a kind person. \"I can help you,\" the voice said. \"I can order the jar to come to you!\" So the little girl ordered the jar, and suddenly, it flew towards her. The jar stopped just in front of her, and she was able to reach in and take the candy. She was so happy that she started laughing with joy! The little girl thanked the gentle voice before leaving the forest with her jar of candy. She felt that she had accomplished something big, despite feeling so helpless earlier. She went on to have many successes in life, always knowing that she could always order anything she wanted.<|endoftext|>Once upon a time, there was a cat. He was gentle and loved to play. One day, he decided to go for a walk. He walked and he walked until he came across an old tree. Inside the tree he found a jar of jam. He was so happy! He put the jam in his pocket and continued walking until it was time to go home. On the way back, he heard a noise. He turned around and saw a little bird. The bird was scared so the cat was very gentle. He moved slowly and spoke softly to the bird. The bird decided to come with him and they began to walk back together. They arrived home and the cat set the jar of jam down on the table. He remembered the bird and said goodbye. The bird thanked him and flew away. The cat thought about the bird all night and the next day he decided to return to the old tree. He looked everywhere but the bird was nowhere to be seen. He left some of the jam for the bird and then he gently walked back home.<|endoftext|>Once there was a boy called Tom and he was 3 years old. He lived in a very big house with his parents. One day, he asked his Dad, \"What do you do?\" His Dad replied, \"I work in an office every day. It's very cool\". Tom was excited and asked, \"Can I come with you?\" His Dad gave him a big smile and said, \"Of course you can!\" They went to the office the next day and Tom was very excited. He saw lots of people. His Dad showed him the big chair where he sat and the desk where he owned all the important things. That made him feel very grown up. Tom asked his Dad, \"Can I own my own office one day too?\" His Dad smiled and said, \"I'm sure you can do anything you put your mind to.\" Tom smiled back, feeling very cool.<|endoftext|>Once upon a time, there was a big parade. Lots of people and animals walked down the street. There were clowns and dancers too. A little girl named Lily watched the parade with her mommy. Lily liked to count the things she saw. She counted the clowns, the dancers, and the animals. She even counted the balloons! Mommy made sure Lily was safe while they watched the parade. They stood on the sidewalk and held hands. Lily felt happy and excited. She loved the parade and counting all the things she saw.<|endoftext|>Once there was a family having a fun afternoon in the park. They spread out a blanket on the grass, opened a special bag, and made some popcorn with their hands. The littlest one was a three-year-old girl named May, who was wearing a pretty gray dress. She was so excited to see the popcorn and kept asking, “What’s that?” “It’s popcorn, May!” said the mother. “It’s little bits of corn that we make in the kitchen.” May said, “I want to eat it!” So, the mother gave May some popcorn, and she started to eat it. She liked the taste so much that she started to break it with her hands. “Whoa!” she laughed. “I like to break it!” The family all laughed, and May continued to break her popcorn as she nibbled away. Gray bits of popcorn flew onto the blanket as May laughed and enjoyed the snack.<|endoftext|>Once upon a time, there was a fat cat named Tom. Tom loved to play in the garden and peek through the bushes. One day, he saw a little girl named Lily playing with her rake. Tom went over to Lily and asked, \"What are you doing with that rake?\" \"I am raking the leaves,\" Lily replied. Tom was curious and asked, \"Why do you need to rake the leaves?\" Lily explained, \"If we don't rake the leaves, they will cover the grass and the grass won't be able to grow.\" Tom learned that it's important to take care of the garden and help things grow. From that day on, he helped Lily rake the leaves and they became good friends.<|endoftext|>Once upon a time, there was a boy named Timmy. He loved to go on adventures with his friends. One day, they found a weird map that showed them where to go to find treasure. They followed the map and went through a big forest. As they walked, they saw a river that was part of the map. They crossed it and found a cave. Inside the cave, they found a chest full of gold coins! They were so happy and excited. They decided to share the treasure and part it equally among themselves. From that day on, Timmy and his friends went on many more adventures, using the weird map to guide them. They always had fun together and never forgot the day they found the treasure.<|endoftext|>John was excited for his safari. He was going to go with his mom and catch some animals. They started out in the morning and drove for hours on the bumpy road. When they finally arrived, John felt fit and ready. He was so happy that he jumped out of the car. John started running around and looking for animals. He was so excited that he was running faster and faster. He was enjoying himself and catching so many animals. He even caught a zebra! John wanted to keep running, but his mom stopped him. She said it was time to go home. John was sad but he got in the car. As they were driving away, a lion ran towards them! All of a sudden, the lion jumped on the car and it crashed. John and his mom were so scared. John had a bad ending to his safari. He was so sad but he was glad his mom was fit and safe. Hopefully he will be able to catch animals on his next safari!<|endoftext|>Once upon a time, there was a boy named Timmy. Timmy loved cars and trucks. One day, Timmy's dad took him to a factory where they made cars. Timmy thought it was so cool! At the factory, Timmy saw big machines and lots of workers. They were making all kinds of cars. Timmy's dad explained how the workers put all the parts together to make a car. Before they left, Tim\n"
     ]
    }
   ],
   "source": [
    "indices = [10, 50, 99, 133]\n",
    "\n",
    "resp = dataset_manager.sample.get_samples_by_indices(indices, return_doc_details=False, return_detokenized=True, tokenizer=tokenizer)\n",
    "\n",
    "for i, r in enumerate(resp):\n",
    "    print(f\"Sample at index {indices[i]}: {r}\")"
   ]
  },
  {
   "cell_type": "code",
   "execution_count": 31,
   "id": "cb8d0a99",
   "metadata": {},
   "outputs": [
    {
     "name": "stdout",
     "output_type": "stream",
     "text": [
      "Batch ID 1\n",
      "  Sequence 0:  agreed to marry him. They had a wonderful wedding and were very happy together. They lived happily ever after in the chamber with the thick walls. The End.<|endoftext|>Once upon a time, there was a little girl named Lily. One day, she went to the store with her mommy to buy a candle for their home. They picked out a pretty red candle with a rough texture. As they were leaving the store, a man stopped them and asked for some money. Lily's mommy said, \"I'm sorry, I can't pay you right now.\" The man looked sad and walked away. Later that night, Lily and her mommy lit the candle and it made their home smell nice. But then, the lights went out! It was very dark and scary. Lily's mommy remembered the man from the store and said, \"I wish we could have helped him. Maybe he could have fixed our lights.\" Suddenly, there was a knock on the door. It was the man from the store! He had fixed their lights and said, \"Thank you for helping me pay for my dinner. I saw you looking at that rough candle and knew you needed some light.\" Lily and her mommy were so happy and grateful. From that day on, they always tried to help others when they could.<|endoftext|>Once upon a time, there was a little boy named Tim. Tim was very hungry. He wanted to find something yummy to eat. Tim saw a trail of popcorn on the ground. \"I love popcorn!\" he said. He decided to follow the popcorn trail. As Tim followed the popcorn trail, he met a little girl named Sue. Sue was also hungry. \"I want popcorn too!\" Sue said. So, Tim and Sue followed the popcorn trail together. They picked up the popcorn and ate it as they walked. At the end of the trail, Tim and Sue found a big bowl of popcorn. They were so happy! They sat down and ate the popcorn together. \"This is the best popcorn ever!\" Tim said. Sue agreed. They both smiled and enjoyed their popcorn snack.<|endoftext|>Once there was a little girl who wanted an apple. She found a big red apple in the garden, and she was so excited. She picked the apple off the tree and took a bite. The apple was very bitter! The little girl was not happy. Suddenly, a magical fairy appeared! She was a very tiny fairy with wings. She flew over to the little girl and the apple tree. She waved her wand and the apple changed. The bitter taste was gone and it was sweet and delicious. The little girl was so excited. She thanked the fairy and took another bite. The sweet apple was so good! The little girl smiled as the fairy flew away. She ate the apple and enjoyed every bite.<|endoftext|>One day, a little boy named Tim and his dog, Spot, went for a walk. The sky was dark, and it looked like it would rain soon. Tim and Spot were very patient as they walked, waiting for the rain to start. They saw a skull on the ground. Tim picked it up and said, \"Look, Spot! A skull!\" Spot barked and wagged his tail. They both thought it was very cool. They decided to take it home with them. As they walked, it started to rain. Tim and Spot ran home as fast as they could. They got wet, but they didn't mind. They were happy they found the skull. When they got home, they showed the skull to Tim's mom. She said, \"Wow, what a find!\" Tim and Spot smiled and knew they had a fun adventure.<|endoftext|>Once upon a time, there was a young boy named Tim. Tim liked to play outside with his friends. They would run, jump, and do many fun things. Tim also liked to measure things. He would measure how high he could jump or how far he could throw a ball. One day, Tim wanted to measure the tallest tree in his yard. He thought it would be fun to climb the tree and see how tall it was. So, he started to climb the tree. His friends watched him and cheered. But Tim was not careful. He did not see a weak branch. When he stepped on it, the branch broke. Tim fell down from the tree and got hurt very badly. His friends ran to get help. Tim learned that he should not do things that are not safe.<|endoftext|>Once upon a time, there was a little girl named Lucy. She loved to work and patch with her dad. One day, Lucy asked her dad for help with a fragile patch. \"Daddy, can you help me patch this?\" asked Lucy. \"Sure thing, sweetie,\" he replied, \"but you'll have to be very careful. This patch is very fragile so you'll need to be extra gentle when mending it.\" Lucy nodded and slowly worked on the patch with her daddy, taking extra care not to damage it. After a while, their hard work paid off and the patch was as good as new. Lucy and her dad hugged each other proudly and smiled. \"I'm so glad we could fix it together,\" said Lucy. \"Me too,\" said her dad, \"We make a good team!\"<|endoftext|>John was a curious 3 year old. Every day he would go to the park to explore and play. One day, John thought he saw something shiny underground. He decided to dig around it to see what it was. John's mom saw him and said, \"John, stop digging! You're going to get dirty down there.\" John wanted to keep digging and said, \"Just one more minute, mom. I think I found something!\" But his mom was firm and said, \"No, John. Put the shovel away and come with me.\" John was disappointed, but he put the shovel away and followed his mom. The next day, his mom suggested that they go back to the park. But this time, she told John to bring a bag with them. John was confused, but he was excited to go back to the same spot and find out what he almost dug up the day before. When they arrived, his mom pulled out the bag and said, \"Let's go find that special something underground.\" John was overjoyed, and followed his mom as they walked around the park. After about 15 minutes of walking and searching, John finally found it! He had dug up a dirty old coin! John was so happy and hugged his mom to thank her. John finally understood why his mom made him put the shovel away the day before. Without that setup, he<|endoftext|>Once upon a time there was a little girl. She was only three and she was worrying a lot. One day her mom took her to the store. When they arrived at the store, the little girl saw the ceiling. It was disgusting. She was worried that something bad was going to happen. Her mother wrapped her arms around her to try and make her feel better. She asked the little girl what was wrong and why she was so worried. The little girl said that she was worried about the ceiling. It looked so gross. Her mom told her not to worry and that everything would be alright. She said that it existed only to keep the rain out and that it wasn't anything to be scared of. The little girl smiled and felt much better. She knew that her mom was right. She knew that everything would be alright.<|endoftext|>Once upon a time, there were two friends, Duke and Mia. They were both three years old. One day, Duke wanted to surprise Mia - so he quickly ran to the garden and picked a big, red rose. He was so excited to give it to Mia! He went back to her house and said, “Look what I got you!” Mia was so happy! She gave Duke a big hug and said, “Thank you! Can we mix it with some water?” Duke nodded, and they ran to the kitchen. Duke took out a cup and some water. He poured the water into the cup, and then Mia carefully placed the rose inside. She stirred it with a spoon and said, “Let's see what happens when we mix it!” They waited a few moments, but nothing happened. Duke began to get frustrated. Mia could tell and patted him on the shoulder. “We can try again tomorrow,” she said kindly. The two friends smiled and hugged - they knew they would make the most beautiful mix together.<|endoftext|>One day, Mommy and Sammy were out walking. Sammy wanted to find some paint to paint a picture. They went to the store and Sammy saw so many colors that it made him smile. He picked out red, blue and yellow and put them in his basket. When Sammy and Mommy got home, Sammy opened up the paint. He smiled again because the paint smelled so yummy! He put on his brown overalls and grabbed his brush. He made a big frown when the paint spilled all over his hands and the floor. Mommy helped him clean it up and Sammy had a great time painting pictures. He painted a big yellow sun and lots of blue sky. He painted a beautiful red flower, too. When he finished, he and Mommy hung them up on the wall and smiled. They thought Sammy’s paintings were yummy!<|endoftext|>Once upon a time, there was a boy who was very eager. He urged his dad to go on a walk together to a nearby park. His dad said yes, he was thoughtful and could see his son's enthusiasm. When they arrived at the park, they both played happily on the swing, the seesaw and the slides. But after a while, the boy's stomach started to grumble. He urged his dad to go home for dinner. His dad, being thoughtful, agreed and promised a bigger adventure tomorrow. When they arrived at home, delicious smells filled the entire house\n",
      "  Sequence 1:  sleep, Maggie's mommy saw something very rare and wet. It was raining outside and the street was wet. She said, \"Maggie, look! You won and we have a rare wet moment outside. Let's go have fun!” So Maggie, her mommy and all the family put on their raincoats, went outside and danced in the rare wet rain. It was wonderful!<|endoftext|>Once upon a time, there was a little girl named Lily. She loved to wear her favorite suit, a pink one with flowers on it. One night, Lily went to bed and started to dream. In her dream, she was flying high in the sky and could see all the stars. Suddenly, she heard a voice saying, \"You look so pretty in your suit, Lily.\" Lily turned around and saw a friendly bird who was flying next to her. \"Thank you,\" Lily replied with a smile. \"I love my suit.\" The bird then said, \"I have a bitter taste in my mouth. Do you know why?\" Lily thought for a moment and said, \"Maybe you ate something that wasn't yummy.\" The bird nodded and said, \"You're right. I ate a worm that tasted bitter.\" Lily and the bird continued to fly together in the dream, chatting about their favorite things. When Lily woke up the next morning, she remembered her dream and smiled. She put on her pink suit and went outside to play with her friends, hoping to see the friendly bird again in her dreams.<|endoftext|>Once upon a time, there was a little girl named Lily. She loved going to the store with her mommy to buy candy. One day, while they were at the store, Lily saw a bright red balloon. She wanted it so badly, but her mommy said no. Lily was sad and started to cry. Suddenly, a kind lady came over and waved at Lily. She gave her the balloon and Lily was so happy! But then, a big boy came and tried to take the balloon away from Lily. Lily didn't want to give it up, so she held on tight. The boy got angry and started to pull on the balloon. Lily was scared and didn't know what to do. Just then, her mommy came over and saw what was happening. She told the boy to stop and gave Lily a big hug. From then on, Lily was always careful with her balloons and never let anyone take them away.<|endoftext|>One day there was a patient tortoise and a graceful butterfly. The butterfly was so amazed by how slow the tortoise moved that it wanted to compete against him. The butterfly flapped its wings and said \"Let's have a race!\" The tortoise was hesitant at first, but then agreed to the race. The two animals started off, but the butterfly was too fast for the tortoise. It zipped past him with ease and was soon far ahead. The tortoise plodded along, but he was determined not to give up. The butterfly flew around and around the tortoise, waiting for him to part. But eventually, the tortoise caught up to the butterfly and they finished the race together! Both the tortoise and butterfly were tired, but they smiled at each other, proud of what they had achieved. The patient tortoise had won the race with his graceful movements. The butterfly was so amazed, and they both went home happy.<|endoftext|>Once upon a time, there was a little bird called Joe. Joe was a very shy bird. He was always scared to fly out of his nest in the big tree. One day, Joe decided to be brave and try soaring. He hopped out of his nest and started to flutter his wings. He flew up and up into the sky, higher and higher. Joe flew by a boy walking along the ground. He was wearing a red shoe. Joe watched the shoe as he soared and he wanted so badly to fly closer to it. The boy saw Joe and smiled. He reached out to Joe, but Joe was too shy to go near the boy's hand. Soo, Joe flew away, but he kept looking back at the shoe. Joe returned to his nest, safe and happy. He knew he would never forget the day he finally soared. He had been so brave and he was proud of himself.<|endoftext|>Once upon a time, there was a mommy and a little girl. The mommy loved to teach the little girl all sorts of things. She taught her to read, to write and to be kind. But the most important thing she taught her was about sugar. She showed her how sugar can be tasty but it is not good for your body. She said that sugar should only be eaten once in a while and never too much. When the little girl asked how sugar can be bad, the mommy showed her. She took the little girl to the kitchen and showed her the sugar. It was white and sparkly and looked so sweet. The mommy showed the little girl that if she ate too much it could make her feel bad. The mommy also taught the little girl how to keep her body clean. She said that it was very important to wash her hands and face often. She said that every day she should take a nice warm bath. The mommy showed her how to use the soap and wash her body. The little girl felt so clean and fresh afterwards. The little girl learned many things from her mommy. She learned to eat sugar in moderation and to keep her body clean. She was so thankful for the things her mommy taught her.<|endoftext|>Sam was eating a nice chew. It was soft and tasted yummy. He loved to chew it. When he was done, he noticed that his mom was getting the mail. Sam ran to help. He was so helpful! Mom opened the mail and was excited. There were two packages and some letters. Sam couldn't wait to see what was inside. Mom opened one of the packages and it was a new chew! It was pink and blue and really big. Sam was so excited and he wanted to try it right away. He started chewing and it was even yummier than the old one. Sam smiled and thanked his mom for the new chew. He was so happy.<|endoftext|>Once upon a time, there was a little girl named Lily. She loved to play outside with her friends and ride her bike. One day, she went inside to get a popsicle from the freezer. But the freezer was tough to open! She tried and tried, but it wouldn't budge. Lily's mom came in and saw her struggling. \"Let me help you, sweetie,\" she said. She opened the freezer and gave Lily a popsicle. \"Thank you, Mommy,\" Lily said. Later that day, Lily and her friends were playing tag. Lily's friend fell down and hurt her knee. Lily asked her friend if she was okay and told her to mind her knee. They sat down and had some popsicles from the freezer. It was a fun day!<|endoftext|>Once upon a time, there lived a generous clay. The clay could move but it liked to freeze in the sunshine. One day, a little boy saw the clay. He was so excited and wanted to take it home with him. The clay wanted to help the boy too, so it let the boy take it home. The little boy put the clay in his backyard. Every day, he would play with the clay. He would make shapes and pretend they were animals. He would try to find ways to make the clay move too. One morning, the boy woke up and saw something special. The clay was moving! It was still freezing, but now the clay could move around. The little boy was so happy. He hugged the clay and thanked it for being so generous. From then on, the clay would always move and freeze with the little boy in the backyard. They had lots of fun together!<|endoftext|>Once upon a time, there was a very adventurous boy. He wanted to have some fun, so he went to the forest. He saw a big piece of wood and he wanted to pull it. He grabbed hold of it and started to pull. He tugged and tugged, but the wood wouldn't move. He tried and tried, but he couldn't get it to budge! Then a big, furry bear came along and saw what the boy was doing. He said, \"Let me help you.\" He grabbed hold of the wood and pulled with all his might. With the bear's help, the wood moved a little. The boy and the bear kept pulling, and before long, the wood started to move more and more. The boy was so happy that he clapped his hands and cheered. After a lot of hard work, the wood was finally free! The boy thanked the bear for all his help. They said their goodbyes, and the boy went home feeling very accomplished. What an adventurous day it had been!<|endoftext|>Once upon a time, there was a princess who lived in a big castle. She was not happy. She wanted to go outside and play, but she was not ready. She had a big dress and fancy shoes that made it hard to run and jump. One day, she decided to talk to her mom, the queen. \"Mom, I want to play outside, but I can't in this big dress. Can I wear something else?\" The queen said, \"No, my dear. A princess must always look her best.\" The princess was sad, but she had an idea. She took off her big dress and fancy shoes and put on her play clothes. She ran outside and started to play. She was so happy! But then, a big storm came. The wind blew and the rain poured down. The princess got very wet and cold. She ran back inside, but she slipped on the wet floor and fell down. The queen was not happy. She told the princess that she should have\n",
      "Batch ID 7\n",
      "  Sequence 0: . She says: \"That is a bad man! He is not your friend! He wants to take you away from me! You have to mind me! You have to stay with me!\" Anna and Ben are scared. They do not understand. They say: \"But mom, he has a fun trip! He has toys and candy and games! Why can't we go with him?\" Their mom says: \"No, no, no! He is lying to you! He does not have a fun trip! He has a bad trip! He has no toys and candy and games! He has danger and pain and sadness! You have to trust me! You have to listen to me! I love you! I want to keep you safe!\" Anna and Ben are sad. They do not want to go on a bad trip. They do not want to have danger and pain and sadness. They want to have fun and joy and love. They hug their mom. They say: \"We are sorry, mom. We did not know. We love you, too. We will mind you. We will stay with you.\" Their mom says: \"It's okay, my darlings. I am not mad at you. I am glad you are with me. You are very brave and smart. You did the right thing. Come on, let's go home. We can have our own fun trip. We can play with your toys and eat some candy and read some books. How does that sound?\" Anna and Ben say: \"That sounds great, mom! Thank you, mom! You are the best mom!\" They smile and hold their mom's hand. They walk away from the bus. They do not look back. They are happy. They are safe. They are loved.<|endoftext|>Mama and Mikey were sad. They had lost their kitty and couldn't find her anywhere. All of a sudden, they heard a soft meow coming from the station. Mikey was so happy and ran as fast as he could. When they arrived at the station, they saw kitty sitting on a bench. Mikey hugged her so tightly and found comfort in her presence. Mama comforted Mikey, saying \"It's ok, we have found kitty\". She smiled and was so relieved. They made their way back home, kitty in tow. It was a peaceful evening and Mikey held kitty close to his chest. He knew that everything was going to be alright.<|endoftext|>Once upon a time there was a little girl called Ellie. Ellie was very curious. Everywhere she went she wanted to explore. One day she was walking in the forest and she saw something in the distance. It was a gray tent. Ellie walked over and pushed open the tent door. \"Hello!\" she said. She looked inside and there was someone sitting inside the tent. He was an old man. The old man looked at Ellie with a smile. \"Hello!\" he said. \"I'm Marco. Can I help you?\" Ellie was stunned. She didn't know what to say! \"I believe I'm lost,\" she finally answered. Marco said, \"That's okay. You can stay in my tent. I will show you the way back.\" Ellie was so happy! She said, \"Thank you! I believe you're very kind.\" From then on, Ellie visited Marco every day and they went exploring together. They had lots of adventures. And Ellie always knew she could believe in Marco to show her the way.<|endoftext|>John and Mommy were playing. John wanted to play with the toy train. However, Mommy did not allow it. She said it was too dirty. No matter how much John begged and pleaded, Mommy still wouldn't let him play. John was sad. He wanted to be victorious, so he decided to clean the train himself. He grabbed a cloth and wiped the train until it was sparkly clean. Mommy was so impressed by John's hard work she allowed him to play with the toy train. John was victorious and felt so proud! He played with the train until he was all tuckered out. The end.<|endoftext|>Lily liked to read books. She had many books in her room. Some books had pictures, some books had stories, some books had both. Lily liked to learn new words from her books. One day, Lily found a big book on her shelf. It was yellow and heavy. Lily opened the book and saw many words. The words were in order, from A to Z. Lily did not know what the book was. She asked her mom. Mom said, \"That is a dictionary. A dictionary is a book that tells you what words mean. You can use it to learn new words or to check how to spell them.\" Lily was curious. She wanted to learn new words from the dictionary. She asked mom, \"Can I join you in the kitchen and read the dictionary?\" Mom smiled and said, \"Of course, you can join me. You can read the dictionary while I make lunch. Maybe you can find some words that start with the same letter as your name.\" Lily was happy. She carried the yellow dictionary to the kitchen and sat on a chair. She opened the dictionary and looked for words that started with L. She found words like lamp, leaf, lion, and love. She read the words and their meanings aloud. Mom listened and praised her. Lily and mom had fun reading the dictionary together. Lily learned many new words and mom was proud of her. They also enjoyed their lunch and talked about the words they liked. Lily decided that the dictionary was a good book to read. She thanked mom for letting her join her in the kitchen.<|endoftext|>Lily and Ben are in the car with Mom. They are going to the park. But there is a lot of traffic on the road. The cars are moving very slowly. Lily and Ben are bored. \"Mom, why are there so many cars?\" Lily asks. \"Because it is a busy time of the day. Many people are going to work or school or other places. They have important things to do,\" Mom says. \"Can we play a game?\" Ben says. \"Sure, what game do you want to play?\" Mom says. \"Let's play count the cars. We can take turns to count how many cars we see of each color. I start with red. One, two, three, four, five red cars!\" Ben says. \"Good job, Ben. Now it's my turn. I choose blue. One, two, three, four, five, six blue cars!\" Lily says. They keep playing the game until they reach the park. They see many cars of different colors. They have fun counting them. They learn some new numbers. Mom is happy that they are not bored. She says they are very smart. Lily and Ben smile. They like to count. They like to play. They like to go to the park.<|endoftext|>Once upon a time, there was a little boy named Timmy. Timmy loved his cozy sweater. It was warm and soft, and he wore it every day. One day, Timmy's mom said, \"Timmy, it's time to go outside and play. But it's cold outside, so don't forget to put on your sweater.\" Timmy replied, \"Okay, Mommy. I will put on my sweater.\" He went to his room and found his sweater on the floor. He picked it up and put it on. \"I love my sweater,\" he said. \"It's so useful.\" As Timmy was playing outside, he saw his friend Billy. Billy said, \"Timmy, why do you always wear that sweater? It's not even that cold outside.\" Timmy said, \"I wear my sweater because it keeps me warm and it's my favorite. But now it's time to go inside. Mommy said it's getting close to dinner time.\" Timmy and Billy went inside and had dinner with their families. Timmy's sweater kept him warm and cozy all night long. The end.<|endoftext|>Mum had a brown owl. It was very cute. Mum used to sell it to people. She would go to the market and show it to anyone who wanted to buy it. One day, Mum saw a little girl. She had a dolly. The girl wanted to buy Mum's owl. Mum said yes and the girl paid her with lots of coins. The girl was very happy to have the owl. She said \"thank you\" to Mum. Then she hugged her owl and walked away. Mum was happy too. She had sold her owl and now she had lots of coins. It was a very good day.<|endoftext|>Anna likes to go to the gym with her mom. The gym has many fun things to play with. Anna can jump on the big mat, swing on the rope, and roll on the ball. She likes to part her hair in two and tie it with ribbons. She thinks it makes her look like a star. One day, Anna meets a new friend at the gym. Her name is Lily. Lily has long hair and a pink dress. She also likes to part her hair in two and tie it with ribbons. Anna and Lily play together on the big mat. They take turns jumping and clapping. They laugh and giggle. Anna and Lily are very happy. They decide to share their ribbons. Anna gives Lily one of her blue ribbons, and Lily gives Anna one of her yellow ribbons. They part their hair again and tie it with the new ribbons. They think they look like twins. Anna and Lily hug and say goodbye. They promise to play again next time. Anna runs to her mom and shows her the yellow ribbon. Her mom smiles and says, \"You are very lucky, Anna. You have a new friend and a new ribbon. I am proud of you.\" Anna feels warm and\n",
      "  Sequence 1: ,\" she said with a big, happy grin. Dad smiled and said, \"Yes, now you can. You can even close it if you want! So go ahead and close it.\" Millie was so excited that she ran to the goal, closed it, and shouted, \"I did it! I close the pink goal Daddy!\" Dad laughed and said, \"Yes, you did Millie. And now you can open it again, too!\" Millie opened the goal and was so happy she twirled around and around. She said, \"Thank you Daddy for my special surprise!\" Dad said, \"You're welcome, Millie. I<|endoftext|>Once upon a time, there was a little girl named Lisa. She loved to dance and twirl around her house. One day, she asked her mom for a special belt she saw in the store. Her mom said to be patient and that it would be a surprise for her birthday. A few days later, on her birthday, Lisa was so excited when she saw her mom had gotten her the belt. She quickly put it on and went to her room to show her doll. When Lisa's mom came into the room, she saw Lisa had put the belt on the wrong way and she quickly pointed out the mistake. Lisa felt guilty and asked her mom if she was angry. Her mom told her it was okay and gave her a big hug. Lisa knew her mom still loved her, even if she made mistakes. She was so happy and thanked her mom for the special belt.<|endoftext|>Mandy had a cup with her name on it. It was a pale blue mug with pretty flowers. She loved it so much. One day, Mandy's mom said: \"Let's write your name on this mug, Mandy.\" Mandy was so excited. She grabbed a pen and wrote her very long name on the mug. Mandy looked at her mug. \"Mom, I love it!\" she yelled. Mandy's mom chuckled. \"It looks great, Mandy,\" she said. Mandy grabbed her mug and hugged it tight. From then on, whenever she sipped her favorite drinks, she was proud to drink from her mug with her name written on it.<|endoftext|>Timmy was walking in the park one day. He saw a shiny gold piece next to the bench. He smiled and picked it up. It looked so easy to carry! He was happy to have found it. Timmy walked around the park showing off his shiny gold piece to everyone he saw. But as he walked and showed it off, the shiny gold piece started to disappear. He became very sad, and he frowned. Suddenly, a nice old man standing next to him saw his frown and asked him why he was sad. Timmy told him about the shiny gold piece and how it had started to disappear. The man smiled and said, \"That is an easy thing to fix.\" He then showed Timmy a special trick he had. He took out his handkerchief and rubbed the gold piece back and forth until it glittered again. Timmy was so happy, he was grinning from one ear to the other! He thanked the man for being so kind, and ran off to show off his shiny gold piece to all of his friends.<|endoftext|>Once there was a humble little girl named Becky who had a tool box. Every day, she liked to take her tools to the park. She would bring her trowel, shovel, and watering can, and have so much fun there. One day, when Becky was at the park, she bumped into a boy her age. His name was John and he was also playing with a toolbox. He had a hammer, a screwdriver, and a saw. Becky said, \"What are you doing?\" John replied, \"I'm making a birdhouse for my garden.\" Becky was so impressed. She asked, \"Can I help you?\" John was happy to have help, so the two of them worked together to create the birdhouse. When they were all done, they both stood back and admired their work. John thanked Becky for her help, and they went back to their homes, but Becky kept coming back to the park to work on her own special projects. From then on, the park became her favourite place!<|endoftext|>One day, a lazy gorilla decided to make a new friend. He looked around and saw a little boy sitting near the zoo. The gorilla walked over to him. \"Hi, who are you?\" said the gorilla. \"My name is Mike,\" said the little boy, smiling. \"Do you want to be friends?\" asked the gorilla. \"Yes!\" said Mike. So the lazy gorilla and Mike played together every day. They would climb trees and swing from vines. Mike even fed the gorilla bananas every once in a while. After a few months, the gorilla and Mike became the best of friends. Whenever Mike was feeling lazy, the gorilla would give him a big hug and it always made him feel better. From that day on, the lazy gorilla and the little boy were always happy to be together.<|endoftext|>Once there was a little girl called Jenny. She was three years old and loved sorting things. One day, Jenny's mommy had some pink clothes to wash. She asked Jenny to sort the clothes for her. Jenny went to work sorting the clothes into two piles. She put one pile of pink clothes in the washing machine and the other pile in the sink. When the washing machine finished, Jenny was supposed to take the clothes out, but the clothes were still wet. Jenny was feeling a little frustrated, but her mommy was very kind and gentle. She said to Jenny, \"That's ok, we can always try again\". The next time, Jenny made sure to sort the clothes more carefully. She was gentle with the clothes and made sure to sort the delicate ones separately. Finally, when the clothes were all clean and dry, Jenny's mommy thanked her for being so helpful and sorting the clothes so well. Jenny was proud of herself and said, \"It wasn't too harsh, was it?\"<|endoftext|>Once upon a time there was a bridge. It was big and dependable. It was there to help people get from one side of the river to the other. One day, the bridge was in danger! It was being taken away by the river and it was in danger of disappearing forever. The people wanted to save the bridge. They worked and worked together to make it strong and safe. They worked hard and together they saved the bridge. The bridge was now safe and dependable again. People could use it to get to the other side of the river. They all cheered, because the bridge was saved! The end.<|endoftext|>Once upon a time, there was a little girl named Lily. She loved to play outside in the sunshine. One day, she was running and spinning around so much that she got very dizzy. She fell down and hurt her knee. It caused her a lot of pain and she started to cry. Her mom came to her and asked, \"Lily, where does it hurt?\" Lily pointed to her knee and said, \"It hurts here.\" Her mom took out a little ruler and said, \"Let me measure how big the boo-boo is.\" She measured the cut and put a band-aid on it. Lily felt much better and was happy to go back to playing outside again.<|endoftext|>Once upon a time, there was a little dog named Max. Max loved to play outside in the sun, but one day he got a thorn in his paw. Max's owner took him to the veterinarian to get it out. Max was frightened at first, but the veterinarian was very nice and gentle. While Max was waiting to see the veterinarian, he peeked through the window and saw a cat getting a check-up. \"Meow!\" said the cat. \"Are you scared too?\" asked Max. \"Yes, I am,\" replied the cat. \"But the veterinarian is very kind and knows how to take care of us.\" After Max got his thorn removed, he felt much better. \"Thank you, veterinarian!\" said Max. \"You're welcome, Max,\" said the veterinarian with a smile. Max and his owner left the animal hospital and Max was happy to be outside again, running and playing in the sunshine.<|endoftext|>Once upon a time there were two little boys called Tom and Will. Tom was three years old and Will was five. They were playing in the park and having lots of fun. Suddenly Tom saw an apple fall from a tree. With excitement he ran over to pick it up. He took a big bite and smiled. It was so tasty! Will said to Tom \"But you shouldn't just eat someone else's food without asking. That's not very polite.\" Tom thought about what Will said, and realized that he was right. Tom said \"Will, the apple tastes really good, but it doesn't belong to us. We should just leave it here so someone else can enjoy it too.\" Will smiled and gave Tom a hug. \"That was really kind of you\", he said. Tom felt really happy and proud. He had discovered the value of sharing.<|endoftext|>Once upon a time, there was a little girl named Lily. She loved candy and sweets, but she hated mint. One day, her mom gave her a candy that had a terrible mint flavor. Lily made a face and said, \"I hate mint, Mommy!\" Her mom replied, \"Oh no, I'm sorry you don't like it. Would you like a different candy instead?\" Lily nodded her head and her mom gave her a delicious candy that tasted like strawberries. Lily smiled and said, \"Yum, this candy is so yummy! Thank you, Mommy!\" From that day on, Lily made sure to always ask if her candy had mint\n",
      "Batch ID 89\n",
      "  Sequence 0:  in a branch just out of reach. So Jane tried to climb the tree, but it was too tall for her. She started to cry. Suddenly, a friendly voice came from behind. It was the old woman who lived next door. She said to Jane, \"Don't worry, I can help you get the needle. What do you need?\" Jane said, \"I need a stick so I can reach the needle\". The old woman smiled and gave Jane a long stick. Jane reached up with the stick and was able to grab the needle. Jane was so happy. She thanked the old woman and ran home with the needle. She was able to make her dress, and she lived happily ever after.<|endoftext|>John was very sad. His skin was dry and itchy and he felt terrible. He was starting to feel even more sad when he heard something. It made him scared. He screamed at the top of his lungs. John's mother came and looked around. She saw no one. She took John and hugged him and asked him what was wrong. John couldn't explain, but he was still crying. John's mother knew that she needed to help him feel better. She softly rubbed his skin and sang to him. She was happy when she saw that John stopped crying. The next day John felt a little happier. He didn't have to scream again. He was glad that his skin was feeling better and that his mom had made him feel better.<|endoftext|>Once upon a time, there was a boy who loved to play baseball. He played with his friends every day and they had so much fun. One day, the boy's mom asked him to take a nap because he looked very tired. The boy didn't want to nap, but he knew it was good for him. While the boy was napping, his friends played baseball without him. They had a lot of fun, but they were also thoughtful and missed their friend. When the boy woke up from his nap, he was sad to see that his friends had played without him. The boy felt left out and didn't want to play with his friends anymore. He stopped going outside and playing baseball altogether. His friends tried to talk to him, but he didn't want to listen. Eventually, the boy became very lonely and unhappy. He realized that taking a nap was important, but so was playing with his friends. Sadly, it was too late and he lost his friends forever. The end.<|endoftext|>Sara liked to create things with her toys. She had many blocks, dolls, cars and animals. She liked to make houses, roads, farms and stories with them. She was very good at creating. One day, her dad brought home a new toy. It was a microscope. He said it was a tool to see very small things that you cannot see with your eyes. He showed Sara how to use it. He put a drop of water on a slide and put it under the microscope. He let Sara look through the eye-piece. \"Wow!\" Sara said. \"What are those things? They are moving and swimming!\" \"Those are called microbes,\" her dad said. \"They are very tiny living things that are in the water. They are too small to see without the microscope. They are amazing, aren't they?\" Sara nodded. She was amazed. She wanted to see more. She asked her dad if she could use the microscope to see other things. He said yes, but she had to be careful and gentle with it. He said it was a very special and expensive toy. Sara thanked her dad and hugged him. She was very happy. She said she would share the microscope with her friends. She said she wanted to learn more about the small things in the world. She said she was very humble and grateful for the microscope. Her dad smiled. He was proud of Sara. He said she was a very smart and kind girl. He said he loved her very much. He said he was happy to see her create and explore with the microscope. He said he would help her whenever she needed. He said they could have fun and learn together.<|endoftext|>Once upon a time, there was a little girl named Lily. She loved to eat yummy food, especially her mom's homemade cookies. One day, Lily's mom made her a big plate of spaghetti for dinner. Lily was so excited to eat it! As she was about to take a bite, her little brother Jack appeared in the kitchen. Jack had a hairy spider toy in his hand and he was pretending to scare Lily with it. Lily got scared and knocked over her plate of spaghetti, making a big mess. Lily's mom came into the kitchen and saw the mess. She asked Lily what happened and Lily told her about Jack and the hairy spider. Her mom said, \"Lily, it's not nice to scare others. You should always be kind and considerate.\" Lily felt bad and apologized to her mom. From that day on, Lily always remembered to be kind to others and not to scare them, even if it was just a pretend spider. And she learned that accidents can happen, but it's important to clean up and try again.<|endoftext|>One day, a girl went outside to play. She was wearing her favourite jacket. It was a very unusual jacket. It had colourful running along the sides and sparkling buttons. The girl had lots of fun. She skipped, jumped and chased after butterflies. After a while, she needed a rest. As she sat down on the grass, she remembered her jacket. It was an unusual jacket. It had made her happy when she wore it. She wanted to find it and put it on again. She started to look around. The girl kept looking and finally, she spotted her jacket in a bush. She ran to it and put it on. She felt very happy and smiled. She was happy to remember her unusual jacket.<|endoftext|>Once upon a time, there was a boy named Timmy. Timmy loved to<|endoftext|>Once upon a time, there was a big ship. The ship was on the blue sea. It was a sunny day. The ship had a captain. The captain was a strong man. He had a hat and a big smile. One day, the ship saw a small boat. The small boat was sad. The small boat wanted to play. The captain wanted to help the small boat. He had an idea. He would shoot a ball to the small boat. The small boat could play with the ball. The captain took a big ball and shot it to the small boat. The small boat caught the ball. The small boat was not sad anymore. The small boat played with the ball all day. The ship and the small boat were happy. They were friends. They played together on the blue sea.<|endoftext|>Once upon a time, there was a little boy named Timmy. Timmy loved to play outside with his friends. One day, Timmy and his friends were playing ball when they accidentally broke a window. Timmy knew he was in trouble because his mommy always said breaking things is bad. When Timmy's mommy came home, she saw the broken window and asked Timmy what happened. Timmy told her the truth and said he and his friends accidentally broke it. His mommy was not happy and told Timmy that he would be punished by not being able to play outside for a week. Timmy was sad that he was in trouble and couldn't play outside with his friends. But he knew he had to be alert and make sure he didn't break anything else. He promised his mommy that he would be more careful in the future.<|endoftext|>Tom liked to mark on the wall with his crayons. He made big lines and circles and stars. He thought his marks were pretty and fun. But Mom did not like Tom's marks. She said they were messy and bad. She made Tom wash the wall with a wet cloth. One day, Tom found a new thing to mark with. It was a stick that had ash on the end. Tom saw Dad use it to make fire in the fireplace. Tom thought the ash was black and cool. He wanted to mark with it. He took the stick and went to the wall. Tom made ash marks on the wall. He made big lines and circles and stars. He thought his ash marks were pretty and fun. But Mom did not like Tom's ash marks. She said they were dirty and worse. She made Tom wash the wall with a wet cloth and soap. Mom was angry and sad. She said Tom was naughty and careless. She said he could not mark on the wall anymore. She took away his crayons and his stick. Tom was sorry and sad. He said he was sorry and he loved Mom. Mom was thoughtful and kind. She said she loved Tom too. She said he could mark on paper or on a board. She gave him some paper and some chalk. Tom was happy and glad. He said thank you and he hugged Mom. He marked on the paper with the chalk. He made big lines and circles and stars. He thought his chalk marks were pretty and fun. And Mom thought so too.<|endoftext|>Once upon a time, there was a little girl named Kim. Today was a very special day because Kim was going to decorate her first lab! Kim was so excited, but also a bit nervous. She gathered all of her supplies - some markers, some glitter, and a special type of glue. She had never done anything like this before! When she got to the lab, Kim was so excited that she started to decorate right away. When she was finished, she stepped back to admire her work. She looked around the room and saw that everything was exactly how she wanted it. Just then, Kim's mom walked into the lab. She gasped in amazement. \"Wow, Kim! You did such a great job decorating! I'm so proud of you!\" Kim smiled. She felt much less nervous now that\n",
      "  Sequence 1:  to exercise and play more, and he felt much better. Max learned that it's important to take care of your body and have fun while doing it. He also learned that trying new things can be exciting and rewarding. From that day on, Max made sure to exercise every day and chase after the laser pointer whenever he got the chance.<|endoftext|>Once upon a time there was a rabbit. He was very hungry. He went to find food. He hopped and hopped until he found a banana tree. The bananas were deep yellow. The rabbit was so happy. He ate one banana. Then he hopped away. He wanted to find more food. He hopped and hopped until he found another banana tree. The banana looked so sweet and juicy. The rabbit was so happy. He ate one more banana and hopped away. He was full and happy. He saw a flower and hopped off to see it. He enjoyed the wonderful smell and hopped away. The rabbit hopped until the sun went down. What a lovely day hopping around!<|endoftext|>Tom and Sue are friends. They like to play in the park. One day, they see a big fire in a house. They are scared. \"Look, fire!\" Tom says. \"We have to run!\" \"No, wait!\" Sue says. \"My doll is in there! I forget her!\" Sue runs to the house. Tom follows her. He does not want her to get hurt. They see a door. It is not on fire. They go inside. \"Where is your doll?\" Tom asks. Sue looks around. She sees a lot of things. But she does not see her doll. She is sad. \"I don't know,\" she says. \"Maybe she is in the bedroom.\" They go to the bedroom. They see a bed. They see a closet. They see a window. But they do not see the doll. \"Maybe she is under the bed,\" Tom says. He bends down. He looks under the bed. He sees something. It is not the doll. It is a cat. \"Meow!\" the cat says. Tom is surprised. He likes cats. He picks up the cat. He shows it to Sue. \"Look, a cat!\" he says. \"Maybe he knows where your doll is.\" Sue looks at the cat. She likes cats too. She smiles. \"Maybe he does,\" she says. \"Hello, cat. Do you know where my doll is?\" The cat looks at Sue. He looks at Tom. He looks at the fire. He is scared too. He shakes his head. \"No, I don't,\" he says. \"But I know where the exit is. Follow me!\" The cat jumps out of the window. Tom and Sue follow him. They see a ladder. They see a fireman. He helps them down. \"Are you okay?\" he asks. \"Yes, we are,\" Tom says. \"But we forget Sue's doll.\" \"I'm sorry,\" the fireman says. \"Maybe we can find her later. But you are very brave. And very modest. You saved the cat.\" Tom and Sue look at the cat. The cat looks at them. He purrs. \"Thank you,\" he says. \"You are my friends. And you can have my toy mouse. It is in the garden.\" Tom and Sue are happy. They hug the cat. They hug the fireman. They go to the garden. They find the toy mouse. They play with it. They forget the fire. They forget the doll. They have fun.<|endoftext|>Anna and Ben are playing in the park. They like to swing, slide and run. They are very happy and laugh a lot. \"Look, Anna, I can swing very high!\" Ben says. He pushes his legs and goes up and down. \"Wow, Ben, you are very good!\" Anna says. She swings too, but not as high as Ben. Suddenly, they hear a loud noise. It sounds like a big bang. They stop swinging and look around. \"What is that?\" Anna asks. \"I don't know. Let's go and see!\" Ben says. They jump off the swings and run to the noise. They see a big truck. The truck has a lot of boxes. One of the boxes has fallen from the truck and broken on the ground. There are books and papers everywhere. \"Oops!\" Ben says. \"Who did that?\" Anna asks. A man comes out of the truck. He looks angry and sad. He sees the box and the books and papers. \"Oh no! This is my box! It has all my work in it!\" he says. He picks up some of the papers and looks at them. They have a lot of words and numbers that Anna and Ben don't understand. \"What is your work?\" Ben asks. \"I am a teacher. I teach big kids about science and math. These are my notes and tests. They are very important. But now they are all ruined!\" the man says. He sighs and shakes his head. \"I'm sorry, mister,\" Anna says. \"Can we help you?\" Ben asks. The man looks at Anna and Ben. He sees their curious and kind faces. He smiles a little. \"Thank you, kids. You are very sweet. And very intelligent. You want to learn new things. That's good. Maybe you can help me. Can you help me pick up the books and papers and put them back in the box?\" he asks. \"Sure, we can!\" Anna and Ben say. They start to help the man. They pick up the books and papers and put them in the box. They are careful not to tear or bend them. They work together and have fun. The man is happy and grateful. He thanks Anna and Ben for their help. He gives them each a book. The books have pictures and stories about animals and plants. \"These are for you. You can read them and learn more about science and math. You are very smart kids. I hope you enjoy them,\" he says. \"Thank you, mister!\" Anna and Ben say. They hug the man and say goodbye. They take their books and run back to the swings. They are very excited and proud. They have helped someone and learned something new. They are very happy and laugh a lot.<|endoftext|>Once upon a time, there was a little girl named Lily. She loved to play with her toys and watch videos on her tablet. One day, she tried to watch a video but it wouldn't work. She got very upset and said, \"I hate this tablet!\" Her mom tried to fix it, but it still wouldn't work. Lily's dad suggested they try watching the video on the TV instead. They found a tube that connected the tablet to the TV and soon the video was playing. Lily was so happy and said, \"Wow, that was fast!\" From then on, Lily always used the tube to watch videos on the TV. She never hated her tablet again because she knew there was another way to watch her favorite shows.<|endoftext|>Once upon a time, there was a little boy named Tim. Tim was very happy because it was his birthday. He knew he would get a big present from his mom and dad. In the morning, Tim found a big box with a lock on it. His mom said, \"Tim, you need to unlock the box to find your present.\" Tim was excited and used a key to unlock the box. Inside, he found a new shirt. The shirt was very fit on Tim. He wore it all day and showed it to all his friends. They all liked the shirt and said it was a great present. Tim was very happy and said thank you to his mom and dad. And they all lived happily ever after.<|endoftext|>Once upon a time there was a boy named Jack. He was three years old and loved to go to the park with his mom and dad. One day they decided to go to the park and Jack was so happy! When they arrived, Jack could see a lot of other kids playing in the park. He wanted to join in, but he was a bit scared. Suddenly, he heard his Dad say, \"Come on Jack, let's go play.\" So together, they went over to the swings. While Jack was swinging, he noticed something on the ground. It was a sour lemon. Jack looked up at his mom and said, \"Mommy, can I eat this lemon?\" His mom shook her head and said, \"No, Jack. It will make you feel yucky\". Jack said okay and then he put it back on the ground. He watched some other kids play and he thought that they looked like they were having so much fun. He was happy and was glad he was at the park with his family. The end.<|endoftext|>Once upon a time, there was a little girl named Lily. One day, she went outside to pick some fruit from the trees. She saw a big, juicy apple and a small, sweet orange. She wanted to eat them both, but she couldn't carry them all by herself. Suddenly, she saw her friend Billy walking by. She asked him if he wanted to join her and share the fruit. Billy was scared of climbing the tree, but Lily helped him up. Together, they picked the fruit and sat down to eat it. They were happy they could share and be friends.<|endoftext|>Once upon a time there was a little girl called Margaret who liked to explore. One day Margaret was exploring in her garden when she saw something funny – a big number sitting in the grass! Margaret went over to pick it up and noticed it smelt yummy like a treat. She quickly popped it in her mouth to find out what it tasted like. Unfortunately, it wasn’t yummy at all; it was poison! Margaret started to feel really sick and her face went all red. She ran\n",
      "Batch ID 100\n",
      "  Sequence 0: my!” said the little girl. Then she got up and stood next to her mommy and started to stretch her arms too. They both reached for the top shelf and put the books back in their place. It was a lot of fun for the little girl and her mommy, and at the end of the day, the bookshelf was all neat and tidy. The end.<|endoftext|>Gina wanted to learn a new skill, so she asked her mom if she could manage it. Her mom said yes and gave her a lecture about how to do it. She explained that it was important to practice and be patient. Gina got some books from the library and watched videos online. She practiced every day and was determined to learn the skill. At first, it was a little tricky, but Gina persevered. Eventually, she managed to master it. Her mom was so proud, she gave her a big hug! Gina was so pleased with herself and she shared her Achievement with her friends. The skill was now available to everyone who wanted to learn it. The End.<|endoftext|>Once upon a time, there was a little boy named Timmy. Timmy loved to play outside in the park. One day, he saw a big, wild dog running around. Timmy got scared and ran away. Timmy's mommy saw him running and asked, \"What's wrong, Timmy?\" \"A big, wild dog is chasing me!\" Timmy said. Mommy said, \"Don't worry, I'll protect you with my shield.\" She held out her arms and made a big circle around Timmy. \"Please, mommy, can we go home now?\" Timmy asked. Mommy picked up Timmy and said, \"Sure thing, let's go home.\" They walked away, safe and sound.<|endoftext|>Once there was a little girl. She was very excited because she was going to the market with her mommy. When they arrived, she was amazed to see all the things that were there. Her eyes blinked in amazement as she looked around the market. When they began to walk around, she saw fake jewels. The jewels sparkled so brightly and looked so beautiful, she wanted to have them all. Her mommy noticed this and explained that they were fake. The little girl was disappointed and started to cry. But her mommy said they might be able to find something else that was real and beautiful. After walking around, the little girl finally spotted something she knew was real. It was a pretty flower. Its petals were so soft and wispy. She smiled and reached out to take it in her hands. Her mommy smiled too and said that the flower was real and not fake. The little girl was very happy and went home with the flower hugged tightly in her arms. Her mommy was proud of her for finding something real and beautiful in the market.<|endoftext|>Sam and his mom went to the shop. Sam wanted to get some ice cream. Then he saw something unusual near the counter. It was a toy he had never seen before. He asked his mom if he could have it. His mom said that he could if he said please. So Sam said please and his mom said yes. She said he could buy the toy. Sam was so happy. He thanked his mom and went to the shop keeper to buy the toy. The shop keeper was very friendly and gave Sam an extra candy. He thanked the shop keeper, then went to the ice-cream shop with his mom. They both got some ice cream. It tasted delicious. Sam and his mom went back home with his new toy. He was so excited that he could hardly wait to show it to all his friends.<|endoftext|>Once upon a time, there was a young puppy named Spot. Spot loved to play in the park with his friends. One day, Spot saw an envelope on the ground. He picked it up with his mouth and started to play with it. Suddenly, Spot felt something bite his tail! It was his friend, a little kitten named Mittens. Spot didn't like being bitten, but he knew Mittens was just playing. They continued to play together and forgot all about the envelope. The end.<|endoftext|>Once upon a time, there was a little girl named Lily. Lily loved to play with her toys and dolls, but her room was always messy. One day, her mom said, \"Lily, we need to organize your toys. Let's have a meeting and decide where everything should go.\" Lily didn't know what a meeting was, but she was excited to help her mom. They sat down on the floor and started to sort through her toys. \"This doll can go in the toy box,\" said Lily. \"And this teddy bear can go on the shelf.\" Suddenly, Lily's nosy little brother came in and started to grab toys. \"No, no, no!\" said Lily. \"We're organizing! You have to ask before you take something.\" Her brother looked sad, but Lily explained that they were making things neat and tidy. In the end, Lily and her mom had a clean room and everything was in its place. Lily felt proud and happy that she had helped to organize her toys. And her little brother learned to ask before taking things. The end.<|endoftext|>Once there was a little boy. He was so curious to see a beautiful sunset. The sunset was so green. He asked his mum if he could go and watch the sunset. She said yes, but only if he was careful. So, he put on his special hat and shoes and went. The boy watched the sunset for a long time. He was so happy! He watched the clouds change into all sorts of shapes, and the sun slowly sinking into the horizon. While the boy was watching the sunset, he felt something furry next to him. It was a big green frog. It was jumping up and down. The boy laughed. The frog went back to its pond and the boy went home. The next day the frog came back and brought some food for the boy. It was a supply from the pond. The boy smiled and thanked the frog. He was so happy that the frog had supplied him with food. He watched the sunset with the frog and he was so excited to see the beautiful green colours in the sky every day.<|endoftext|>Once upon a time, there was a little boy named Timmy. Timmy loved to play in the bathtub. He would splash and laugh and have so much fun. One day, Timmy's mom told him it was time to get out of the bathtub. Timmy didn't want to get out yet, so he tried to hide under the bubbles. But his mom found him and said, \"Timmy, you can't rot in the bathtub all day!\" Timmy thought his mom was being stupid. He didn't want to get out of the bathtub. But he knew he had to listen to his mom, so he got out and dried off. Even though he was sad to leave the bathtub, he knew he could always come back and play again later.<|endoftext|>Once upon a time, a boy named Timmy went to play in the garden. He saw a spade lying on the ground and picked it up. It was a charming spade, with a shiny silver handle and a sharp blade. Timmy held the spade tightly and started digging a hole. But then, Timmy's little sister came to play with him. She wanted to hold the spade too, but Timmy didn't want to share. He held the spade even tighter and said, \"No, it's mine!\" Suddenly, Timmy accidentally hit his sister with the spade. She cried and cried, and Timmy felt very bad. He learned that it's not nice to hold things all to yourself and hurt others. From that day on, Timmy shared his toys and never held onto them too tightly.<|endoftext|>Once upon a time there was a mighty superhero. She had special powers and could do anything. She was brave and never afraid of a challenge. One day she saw some dust and wanted to touch it. She flew over to it and put her finger in the dust. Suddenly she felt a powerful energy coming from the dust. The superhero asked, \"What is this?\" The dust said, \"I am powerful and I can hurt you.\" The superhero said, \"No way, I'm too mighty for you.\" But the dust was too powerful, and with a puff of wind, it blew the superhero away, never to be seen again. The dust laughed and spread itself all over the land, haphazardly and undisciplined. The dust was mighty and had won the day.<|endoftext|>Once upon a time, there was a boy named Timmy. Timmy was very lazy and he didn't like to do anything. One day, his mommy made spaghetti for dinner. Timmy loved spaghetti but he didn't want to unpack the plates. His mommy said, \"Timmy, please unpack the plates so we can eat the spaghetti.\" Timmy sighed and said, \"Okay, mommy.\" He unpacked the plates and his mommy served the spaghetti. It was so delicious! After dinner, Timmy felt happy that he unpacked the plates. He realized that sometimes it's important to help out and not be lazy. From that day on, Timmy tried to be more helpful around the house. The end.<|endoftext|>Once upon a time, there was a little bear named Benny. Benny loved to play in the forest with his friends. One day, Benny's tummy started to hurt, so he ran to his mommy and said, \"Mommy, I need to go to the toilet!\" Benny's mommy took him to the toilet and waited outside for him. Benny felt sad because he didn't want to be alone in the toilet. But then\n",
      "  Sequence 1:  explored a different part of the reef and found something new.<|endoftext|>Once there was a tall ranch. It was a happy farm with lots of animals. On this ranch there lived a little girl named Rosa. Every day her mommy would take her to the ranch to play. They would go and play with the rabbits, the chickens, the ducks and all the other animals. Rosa would follow the animals around, talking to them as if they were her friends. Rosa's mommy would bring her a lunch and the two of them would eat it in the grass next to the barn. They would watch the animals play and when it was time to go home, Rosa's mommy would take her hand and they would say goodbye to all their animal friends. Rosa went to the tall ranch every day and every day she had lots of fun. She never tired of playing with the animals and watching them have fun.<|endoftext|>Once upon a time, there was a little girl named Lily. She lived in a house with a big white door. Every day, Lily's mommy would cook yummy food in the kitchen. One day, Lily wanted to help her mommy cook. She put on her apron and stood on a chair to reach the counter. She helped stir the soup and sprinkle salt on the chicken. After they finished cooking, Lily's mommy opened the white door to let in some fresh air. They sat at the table and ate the delicious food together. Lily was so happy that she helped cook the meal.<|endoftext|>Amy and Bill were walking in the park. Amy found an ashtray on the ground. Amy said, \"Let's keep it.\" Bill said, \"No, we can't have an ashtray. We should leave it here.\" Amy was embarrassed and didn't want to take it back. They argued for a few minutes before Bill said, \"Fine, we can take it, but we have to hide it when we get home.\" They took the ashtray home, put it in the bedroom and then went out to play. But it wasn't long before Amy's mom saw the ashtray and was very upset. Amy was embarrassed and Bill was too. They quickly put the ashtray in the trash and the arguing ended.<|endoftext|>Once upon a time, there was a little girl named Lily. She loved to play outside with her friends. One day, they were playing on the side of the road. Lily's mommy had told her to stay away from the road because it was dangerous, but she didn't listen. Suddenly, a car came speeding down the road. Lily's friends quickly ran away, but Lily didn't move. The car stopped just in time, but it was a very close call. Lily's mommy came running over and asked if she was okay. Lily realized how important it was to listen to her mommy's rules and promises to be more careful in the future. From that day on, Lily always asked her mommy for permission before going near the road. She learned that it's important to listen to those who care about you and keep yourself safe.<|endoftext|>Once upon a time, there was a fat monkey named Momo. Momo loved to eat bananas. One day, Momo found a big, yellow banana under a tree. Momo was very happy and started to eat the banana. But then, a little bird came and disturb Momo. The bird wanted some of the banana too. Momo did not want to share his banana. But then, Momo thought about it and decided to share the banana with the bird. They both ate the banana and became good friends. From that day on, Momo and the bird always shared their food and played together.<|endoftext|>Once upon a time, there was a clever bunny. She loved to jump around and play in her garden. One day, she heard a strange noise. It sounded like it came from the sky! The bunny said to herself, \"What can that be?\" With curiosity, she went closer to look. She saw a shooting star! The bunny was so excited. She said, \"Oh wow! I wish I can touch it!\" Just then, an angel flew down and handed the bunny a magical brush. The angel said, \"You can use it to reach that shooting star. Be quick, though. You don't have much time.\" The bunny was so glad. She quickly used the brush to fly up to the star. As she touched it, it sparkled with the brightest light. The bunny was so happy! She carefully flew back to the ground, thanked the angel and ran off to share her wonderful story with her friends.<|endoftext|>Once there was a yellow bird. It was looking for a place to belong. It flew all around searching for the perfect nest. Finally it spied a cozy yellow nest in the tree. It hopped inside and knew that this was the place for it. It felt like it belonged. The bird stayed in the nest and kept it clean. Every morning it would look out from the nest and sing a song. All the other birds heard the yellow bird's beautiful song and they knew it had found its home. The yellow bird was very happy with its nest. It was safe and warm and it was the perfect place to belong. The bird knew it was lucky to have such a great home.<|endoftext|>Lila was very happy today. She was going to visit her friend Sami, who came from a different country. She wanted to learn about his culture and play with his toys. She also wanted to try his food, because it smelled very good. When she arrived at Sami's house, his mom greeted her with a big smile. She said, \"Hello, Lila. Welcome to our home. I'm Sami's mom. Let me introduce you to our food. This is couscous, this is lamb, and this is harissa. Harissa is a spicy sauce that we put on our food. Do you like spicy food?\" Lila nodded. She liked spicy food. She liked to eat chili and salsa with her dad. She said, \"Yes, I like spicy food. Thank you for sharing your food with me. It looks yummy. Can I have some?\" Sami's mom said, \"Of course, you can have some. Here, take a plate and help yourself. Sami, why don't you show Lila your room and your toys? You can play together after you eat.\" Sami said, \"Okay, mom. Come on, Lila. I have a lot of cool toys. I have cars, puzzles, books, and a drum. Do you like drums?\" Lila said, \"Yes, I like drums. I have a tambourine at home. We can make music together. You are a very nice friend, Sami. I'm glad I met you.\" Sami said, \"You are a very nice friend, too, Lila. I'm glad you came to visit me. We have a lot in common. We both like spicy food and drums. And we both like to learn new things.\" They smiled at each other and ran to Sami's room, holding hands. They had a lot of fun playing and eating. They learned more about each other's culture and language. They became very good friends.<|endoftext|>Once upon a time, there was a tall boy named Tim. Tim lived on a ranch with his mom and dad. They had many animals on the ranch like cows, horses, and chickens. One day, while Tim was playing, he saw a big horse. Tim wanted to ride the horse, so he rushed to it. But his dad said, \"No, Tim! That horse is not nice. You can't ride it.\" Tim didn't listen to his dad. When his dad went away, Tim went to the horse again. He tried to ride it, but the horse didn't like it. The horse ran very fast, and Tim fell off. Tim was hurt and sad. He should have listened to his dad.<|endoftext|>Once upon a time there was a clumsy bear named Sam. He was a lazy bear and liked to take long naps. One day, he was walking in the woods when he heard a loud noise. It was coming from the left. He was so excited to find what it was! He walked closer and closer until he seen it. A long yellow slide! He had never seen anything of the sort. He could hardly wait to try it out. He pushed and shoved his way up to the top. As he was about to slide down, suddenly something caught his eye. A long yellow ladder! He was even more excited than before. He ran over to the ladder, grabbed on and began climbing. He climbed for what felt like forever until he reached the very top. He looked down and couldn't believe his eyes. He had been so excited to slide down the slide, but he realized what he had actually done. He had climbed to the top of a huge tree! He was feeling a bit scared until he noticed something amazing. There was a beautiful view of the whole forest beneath him! The sight filled him with so much happiness that he forgot he was scared. He hugged the tree tightly, so happy and excited to have made it to the top of the tree. He had never felt so proud. From that moment on, Sam was always up for an adventure. He couldn't wait to explore and climb around to see the<|endoftext|>Once upon a time, there was a happy little boy, who loved to make things. One day, the little boy's mommy gave him some paper, and taught him how to fold it. The little boy had so much fun folding the paper! He made lots of shapes, like boats and flowers. But his favorite thing to make was a little igloo. He was so happy and proud of his igloo. He wished he could have a real igloo! But for now, his folded paper\n"
     ]
    }
   ],
   "source": [
    "batch_ids = [1, 7, 89, 100]\n",
    "\n",
    "resp = dataset_manager.sample.get_batches_by_ids(batch_ids, batch_size=2, return_doc_details=False, return_detokenized=True, tokenizer=tokenizer)\n",
    "\n",
    "for i, r in enumerate(resp):\n",
    "    print(f\"Batch ID {batch_ids[i]}\")\n",
    "    for j, seq in enumerate(r):\n",
    "        print(f\"  Sequence {j}: {seq}\")\n"
   ]
  },
  {
   "cell_type": "code",
   "execution_count": null,
   "id": "f890809d",
   "metadata": {},
   "outputs": [],
   "source": []
  },
  {
   "cell_type": "code",
   "execution_count": 10,
   "id": "a34a4dbf",
   "metadata": {},
   "outputs": [],
   "source": [
    "import numpy as np\n",
    "\n",
    "RNG = np.random.default_rng(42)"
   ]
  },
  {
   "cell_type": "code",
   "execution_count": 12,
   "id": "95d3da46",
   "metadata": {},
   "outputs": [
    {
     "name": "stderr",
     "output_type": "stream",
     "text": [
      "WARNING:tokensmith.utils:>> Casting injection data from int64 to <class 'numpy.uint16'>\n",
      "WARNING:tokensmith.utils:This warning will not be shown again. The process will wait for 10 seconds before starting the edit process.\n"
     ]
    },
    {
     "name": "stdout",
     "output_type": "stream",
     "text": [
      "Dummy sample: [1552  310  247 1071 6197   15    0]\n",
      "Training sample 699\n",
      "Sample consists of segments from 12 documents\n",
      "Raw sample: [16522   497   594 ...  5972    15   380]\n",
      "---\n",
      "Decoded sample:  Dad were so excited to show me their new thing. It was tall and wide with a shapely top. It was bright red and had pretty decorations. I was so amazed! Mum and Dad had designed a beautiful red chair for me. I squealed with delight as I hugged them and spun around in it. It was the best thing ever!<|endoftext|>Once upon a time, there was a little bird with gray feathers. The bird loved to fly high in the sky and sit on a branch. One day, the bird saw a big, juicy worm on the ground. The bird wanted to eat the worm but his mother told him it was not safe to eat worms on the ground. She said only worms on the branch were safe to eat. But the little bird didn't listen to his mother and flew down to the ground to eat the worm. As he was eating, a big, mean cat came and chased after him. The little bird tried to fly away, but he was too slow. The cat caught him and ate him for his dinner. The little bird's mother was very sad and wished she had not permitted her little bird to fly down to the ground. She knew he would still be alive if he had listened to her and stayed on the branch. The end.<|endoftext|>Sam was a very tired little boy. He had been playing outside all day. When it came time to go home, Sam started to cry. His mommy saw him and said, \"Don't worry. I have something special for you at home.\" Sam stopped crying and was so excited. When they arrived at home mommy made him his favorite sandwich and gave it to him. Sam gobbled it up and was very happy. Mommies special surprise turned out to be something even better than a sandwich- an extra hour of playtime at the playground! Sam was so thrilled, he squealed with delight and hugged his mommy. Just like she promised, Sam was no longer tired and had plenty of energy to play at the playground.<|endoftext|>Once upon a time, there was a naughty lizard. He was scuttling around the garden when he saw a big box. He got so excited and said, \"Mmm, what is in the box?\" He poked the box with his nose and opened it. Suddenly, a big hurty spider jumped out! The lizard got scared and said, \"Help! Help!\" But no one was there to help him. He quickly jumped away and ran over to a bush. The spider chased him, but he was too fast and the spider fell over. The lizard was so happy and he said, \"Whew! I'm safe!\" But then the spider started to climb up the bush. The lizard was so scared and said, \"Help!\" Suddenly, a nice soldier ant came to the rescue. She bravely fought off the spider, and the lizard thanked her for saving him. The soldier ant said, \"It's my job to protect lizards and other creatures. You're safe now.\" The lizard gave a big smile and said, \"Thank you! I'm so happy.\" They both went on their separate ways, happy to be alive.<|endoftext|>Once upon a time there was a family who loved going on adventures. One day they decided to go camping. Mum said, “We need to prepare for our camping trip!” Dad said, “Let’s get the tent, food and games ready.” The little girl smiled, she was so excited to go! On the way to their camping spot, they stopped at a river. Suddenly, the little girl saw a very unusual word written in the sand. The little girl asked: “What does that word mean?” “It’s a surprise,” mum said. When the family got to their campsite, the little girl looked back at the word in the sand and shouted with joy, “It’s the name of the river!” Mum laughed and said, “That’s right! Now, let’s prepare for a wonderful camping adventure!”<|endoftext|>Once there was a small dog named Sandy. Sandy was very curious. One day, Sandy was out for a walk and he saw a fat cat. Sandy decided to follow the cat. Everywhere the fat cat went, Sandy followed. The fat cat stopped in front of a big house and went inside. Sandy followed the cat until they both reached the kitchen. Sandy was very excited and wanted to see what was inside. Inside, the fat cat was eating a big steak. Sandy's mouth watered as he watched the cat eat. Suddenly, the cat said, \"Come here, Sandy. You can have the rest of my steak. I'm too fat to finish it.\" Sandy was so happy he began to eat the steak right away. He enjoyed it very much and thanked the fat cat for sharing. From that day forward, Sandy and the fat cat became good friends. Everywhere the fat cat went, Sandy followed.<|endoftext|>Once upon a time, there was a girl named Lily. She loved to play dress-up and try on different clothes. One day, she found a pretty dress in her closet. It was a modest style dress, with a simple design. Lily wanted to make the dress look even prettier, so she decided to mix it up with some accessories. She put on a sparkly necklace and a shiny bracelet. She even found a pair of shoes that matched perfectly. When Lily looked in the mirror, she was so happy with her new outfit. She twirled around and danced, feeling like a princess. From that day on, Lily loved to mix and match her clothes to create new styles.<|endoftext|>Once upon a time, there was a litttle girl. She was only three years old, but she loved to sing and dance. Every day, she would spin and twirl around the garden, singing to herself. One day, a big, scary spider crawled onto her shoulder. She was so scared and she ran all around the garden trying to get it off. The spider said, \"Why are you scared, little girl? I just want to dance!\" The little girl stopped and looked at the spider. She laughed and answered, \"Ok, lets dance!\" So the spider started to dance. He did a spin and then a twirl with his eight legs. The little girl copied the spider, spinning around the garden. At last, the spider said, \"Now sing!\" So the little girl sang a happy song as she twirled and danced. The spider sang along, and they had a wonderful time. When the song was finished, the spider thanked the little girl and said goodbye. She watched him run away into the bush and then she twirled off, singing and dancing her way across the garden.<|endoftext|>Once upon a time, there was a little bunny called Dan. He was a very sweet bunny, but he was easily distracted. One day, Dan was walking through the woods, when he spotted a soft print on the ground. It was a rabbit print! He quickly followed the prints, determined to catch up with the rabbit. As he followed the prints, Dan heard a voice. It was the rabbit! \"I surrender!\" the rabbit yelled. Dan stopped in his tracks, and then peeked around the tree. The rabbit was caught in a trap! Dan was very worried, and he wanted to help the rabbit. He thought of a clever plan - he quickly hopped around, and then moved some sticks until the trap stopped working. The rabbit was able to break out of the trap and hop away to safety. Dan felt proud of his bravery and kindness, and he learned a valuable lesson – that day he learnt that sometimes, surrendering and asking for help is an admirable act of courage.<|endoftext|>Tom and Jen were friends who liked to play in the woods. One day, they found a big cave with a white door. They wanted to see what was inside, but they had a quarrel. \"I want to go first!\" Tom said. \"No, I want to go first!\" Jen said. They pushed and pulled each other, but no one could open the door. They got angry and shouted. \"Go away, you are mean!\" Tom said. \"Go away, you are silly!\" Jen said. They stopped being friends and went to different sides of the cave. They did not see the big bear that was sleeping inside. The bear heard the noise and woke up. He was hungry and angry. He saw Tom and Jen and roared. \"Who are you? This is my cave!\" the bear said. Tom and Jen were scared and tried to run away, but it was too late. The bear caught them and ate them. He closed the white door and went back to sleep. Tom and Jen were no more.<|endoftext|>Once upon a time, in a lively little town, there lived a boy named Tim. He loved to ride his bike up and down the streets. One day, Tim found a tool on the ground. It was a big wrench. Tim was very happy and put the tool in his pocket. Tim wanted to show his friends the tool he found. He rode his bike very fast to his friend's house. On the way, his bike hit a big bump. Tim fell off his bike and the tool fell out of his pocket. The tool broke into pieces. Tim was very sad. He could not show his friends the tool he found. He walked back home with his broken bike and broken tool. The lively little town was not so lively for Tim that day.<|endoftext|>Once upon a time, there was a little girl named Lily. She loved to play at the park and swing on the swings. One day, a stranger came to the park. He had a gentle voice and asked Lily if she wanted to play with him. Lily was happy to have a new friend, but she didn't know the stranger was bad. He asked her to balance on the edge of the slide, but she fell and hurt herself. The\n",
      "---\n"
     ]
    },
    {
     "name": "stderr",
     "output_type": "stream",
     "text": [
      "DEBUG:tokensmith.utils:>>> Inserting 72 of 2049 tokens starting at position 8562636\n",
      "DEBUG:tokensmith.utils:>>> Injection Data Shape (72,) | Injection Data Dtype uint16\n",
      "DEBUG:tokensmith.utils:>>> Inserting 189 of 2049 tokens starting at position 7462992\n",
      "DEBUG:tokensmith.utils:>>> Inserting 152 of 2049 tokens starting at position 4710212\n",
      "DEBUG:tokensmith.utils:>>> Inserting 242 of 2049 tokens starting at position 3269832\n",
      "DEBUG:tokensmith.utils:>>> Inserting 173 of 2049 tokens starting at position 1322428\n",
      "DEBUG:tokensmith.utils:>>> Inserting 188 of 2049 tokens starting at position 4877468\n",
      "DEBUG:tokensmith.utils:>>> Inserting 143 of 2049 tokens starting at position 3814036\n",
      "DEBUG:tokensmith.utils:>>> Inserting 227 of 2049 tokens starting at position 1944972\n",
      "DEBUG:tokensmith.utils:>>> Inserting 205 of 2049 tokens starting at position 8853872\n",
      "DEBUG:tokensmith.utils:>>> Inserting 211 of 2049 tokens starting at position 1577198\n",
      "DEBUG:tokensmith.utils:>>> Inserting 156 of 2049 tokens starting at position 4277628\n",
      "DEBUG:tokensmith.utils:>>> Inserting 91 of 2049 tokens starting at position 7906036\n"
     ]
    },
    {
     "name": "stdout",
     "output_type": "stream",
     "text": [
      "Training sample 699 after injection\n",
      "Raw sample: [ 921  479  616 ...  285 8513 5972]\n",
      "---\n",
      "Decoded sample:  show me their new thing. It was tall and wide with a shapely top. It was bright red and had pretty decorations. I was so amazed! Mum and Dad had designed a beautiful red chair for me. I squealed with delight as I hugged them and spun around in it. It was the best thing ever!<|endoftext|>This is a test sentence.<|endoftext|>Once upon a time, there was a little bird with gray feathers. The bird loved to fly high in the sky and sit on a branch. One day, the bird saw a big, juicy worm on the ground. The bird wanted to eat the worm but his mother told him it was not safe to eat worms on the ground. She said only worms on the branch were safe to eat. But the little bird didn't listen to his mother and flew down to the ground to eat the worm. As he was eating, a big, mean cat came and chased after him. The little bird tried to fly away, but he was too slow. The cat caught him and ate him for his dinner. The little bird's mother was very sad and wished she had not permitted her little bird to fly down to the ground. She knew he would still be alive if he had listened to her and stayed on the branch. The end.<|endoftext|>Sam was a very tired little boy. He had been playing outside all day. When it came time to go home, Sam started to cry. His mommy saw him and said, \"Don't worry. I have something special for you at home.\" Sam stopped crying and was so excited. When they arrived at home mommy made him his favorite sandwich and gave it to him. Sam gobbled it up and was very happy. Mommies special surprise turned out to be something even better than a sandwich- an extra hour of playtime at the playground! Sam was so thrilled, he squealed with delight and hugged his mommy. Just like she promised, Sam was no longer tired and had plenty of energy to play at the playground.<|endoftext|>Once upon a time, there was a naughty lizard. He was scuttling around the garden when he saw a big box. He got so excited and said, \"Mmm, what is in the box?\" He poked the box with his nose and opened it. Suddenly, a big hurty spider jumped out! The lizard got scared and said, \"Help! Help!\" But no one was there to help him. He quickly jumped away and ran over to a bush. The spider chased him, but he was too fast and the spider fell over. The lizard was so happy and he said, \"Whew! I'm safe!\" But then the spider started to climb up the bush. The lizard was so scared and said, \"Help!\" Suddenly, a nice soldier ant came to the rescue. She bravely fought off the spider, and the lizard thanked her for saving him. The soldier ant said, \"It's my job to protect lizards and other creatures. You're safe now.\" The lizard gave a big smile and said, \"Thank you! I'm so happy.\" They both went on their separate ways, happy to be alive.<|endoftext|>Once upon a time there was a family who loved going on adventures. One day they decided to go camping. Mum said, “We need to prepare for our camping trip!” Dad said, “Let’s get the tent, food and games ready.” The little girl smiled, she was so excited to go! On the way to their camping spot, they stopped at a river. Suddenly, the little girl saw a very unusual word written in the sand. The little girl asked: “What does that word mean?” “It’s a surprise,” mum said. When the family got to their campsite, the little girl looked back at the word in the sand and shouted with joy, “It’s the name of the river!” Mum laughed and said, “That’s right! Now, let’s prepare for a wonderful camping adventure!”<|endoftext|>Once there was a small dog named Sandy. Sandy was very curious. One day, Sandy was out for a walk and he saw a fat cat. Sandy decided to follow the cat. Everywhere the fat cat went, Sandy followed. The fat cat stopped in front of a big house and went inside. Sandy followed the cat until they both reached the kitchen. Sandy was very excited and wanted to see what was inside. Inside, the fat cat was eating a big steak. Sandy's mouth watered as he watched the cat eat. Suddenly, the cat said, \"Come here, Sandy. You can have the rest of my steak. I'm too fat to finish it.\" Sandy was so happy he began to eat the steak right away. He enjoyed it very much and thanked the fat cat for sharing. From that day forward, Sandy and the fat cat became good friends. Everywhere the fat cat went, Sandy followed.<|endoftext|>Once upon a time, there was a girl named Lily. She loved to play dress-up and try on different clothes. One day, she found a pretty dress in her closet. It was a modest style dress, with a simple design. Lily wanted to make the dress look even prettier, so she decided to mix it up with some accessories. She put on a sparkly necklace and a shiny bracelet. She even found a pair of shoes that matched perfectly. When Lily looked in the mirror, she was so happy with her new outfit. She twirled around and danced, feeling like a princess. From that day on, Lily loved to mix and match her clothes to create new styles.<|endoftext|>Once upon a time, there was a litttle girl. She was only three years old, but she loved to sing and dance. Every day, she would spin and twirl around the garden, singing to herself. One day, a big, scary spider crawled onto her shoulder. She was so scared and she ran all around the garden trying to get it off. The spider said, \"Why are you scared, little girl? I just want to dance!\" The little girl stopped and looked at the spider. She laughed and answered, \"Ok, lets dance!\" So the spider started to dance. He did a spin and then a twirl with his eight legs. The little girl copied the spider, spinning around the garden. At last, the spider said, \"Now sing!\" So the little girl sang a happy song as she twirled and danced. The spider sang along, and they had a wonderful time. When the song was finished, the spider thanked the little girl and said goodbye. She watched him run away into the bush and then she twirled off, singing and dancing her way across the garden.<|endoftext|>Once upon a time, there was a little bunny called Dan. He was a very sweet bunny, but he was easily distracted. One day, Dan was walking through the woods, when he spotted a soft print on the ground. It was a rabbit print! He quickly followed the prints, determined to catch up with the rabbit. As he followed the prints, Dan heard a voice. It was the rabbit! \"I surrender!\" the rabbit yelled. Dan stopped in his tracks, and then peeked around the tree. The rabbit was caught in a trap! Dan was very worried, and he wanted to help the rabbit. He thought of a clever plan - he quickly hopped around, and then moved some sticks until the trap stopped working. The rabbit was able to break out of the trap and hop away to safety. Dan felt proud of his bravery and kindness, and he learned a valuable lesson – that day he learnt that sometimes, surrendering and asking for help is an admirable act of courage.<|endoftext|>Tom and Jen were friends who liked to play in the woods. One day, they found a big cave with a white door. They wanted to see what was inside, but they had a quarrel. \"I want to go first!\" Tom said. \"No, I want to go first!\" Jen said. They pushed and pulled each other, but no one could open the door. They got angry and shouted. \"Go away, you are mean!\" Tom said. \"Go away, you are silly!\" Jen said. They stopped being friends and went to different sides of the cave. They did not see the big bear that was sleeping inside. The bear heard the noise and woke up. He was hungry and angry. He saw Tom and Jen and roared. \"Who are you? This is my cave!\" the bear said. Tom and Jen were scared and tried to run away, but it was too late. The bear caught them and ate them. He closed the white door and went back to sleep. Tom and Jen were no more.<|endoftext|>Once upon a time, in a lively little town, there lived a boy named Tim. He loved to ride his bike up and down the streets. One day, Tim found a tool on the ground. It was a big wrench. Tim was very happy and put the tool in his pocket. Tim wanted to show his friends the tool he found. He rode his bike very fast to his friend's house. On the way, his bike hit a big bump. Tim fell off his bike and the tool fell out of his pocket. The tool broke into pieces. Tim was very sad. He could not show his friends the tool he found. He walked back home with his broken bike and broken tool. The lively little town was not so lively for Tim that day.<|endoftext|>Once upon a time, there was a little girl named Lily. She loved to play at the park and swing on the swings. One day, a stranger came to the park. He had a gentle voice and asked Lily if she wanted to play with him. Lily was happy to have a new friend, but she didn't know the stranger was bad. He asked her to balance on the edge of the slide, but she fell and hurt herself\n",
      "---\n"
     ]
    }
   ],
   "source": [
    "dataset_manager.edit.inject_and_preview(\n",
    "    text = 'This is a test sentence.',\n",
    "    tokenizer=tokenizer,\n",
    "    injection_loc=699,\n",
    "    injection_type=\"seq_shuffle\",\n",
    "    rng=RNG,\n",
    "    add_eos_token=True,\n",
    "    dry_run=False,\n",
    ")"
   ]
  },
  {
   "cell_type": "code",
   "execution_count": null,
   "id": "e8e9468d",
   "metadata": {},
   "outputs": [
    {
     "data": {
      "text/plain": [
       "'This is a test sentence.'"
      ]
     },
     "execution_count": 12,
     "metadata": {},
     "output_type": "execute_result"
    }
   ],
   "source": [
    "tokenizer.decode([1552 , 310 , 247 ,1071 ,6197 ,  15])"
   ]
  },
  {
   "cell_type": "code",
   "execution_count": null,
   "id": "61c31e43",
   "metadata": {},
   "outputs": [
    {
     "data": {
      "text/plain": [
       "{'input_ids': [1552, 310, 247, 1071, 3425, 15], 'attention_mask': [1, 1, 1, 1, 1, 1]}"
      ]
     },
     "execution_count": 13,
     "metadata": {},
     "output_type": "execute_result"
    }
   ],
   "source": [
    "tokenizer('This is a test sequence.', add_special_tokens=True)"
   ]
  },
  {
   "cell_type": "code",
   "execution_count": null,
   "id": "946b34a9",
   "metadata": {},
   "outputs": [
    {
     "data": {
      "text/plain": [
       "0"
      ]
     },
     "execution_count": 14,
     "metadata": {},
     "output_type": "execute_result"
    }
   ],
   "source": [
    "tokenizer.eos_token_id"
   ]
  },
  {
   "cell_type": "code",
   "execution_count": null,
   "id": "c5a51e30",
   "metadata": {},
   "outputs": [],
   "source": [
    "test_sample = list(tokenizer(\"big\")[\"input_ids\"])"
   ]
  },
  {
   "cell_type": "code",
   "execution_count": null,
   "id": "1d1fca5d",
   "metadata": {},
   "outputs": [
    {
     "data": {
      "text/plain": [
       "[2760]"
      ]
     },
     "execution_count": 10,
     "metadata": {},
     "output_type": "execute_result"
    }
   ],
   "source": [
    "test_sample"
   ]
  },
  {
   "cell_type": "code",
   "execution_count": null,
   "id": "5237e391",
   "metadata": {},
   "outputs": [
    {
     "ename": "AttributeError",
     "evalue": "'NoneType' object has no attribute 'count'",
     "output_type": "error",
     "traceback": [
      "\u001b[31m---------------------------------------------------------------------------\u001b[39m",
      "\u001b[31mAttributeError\u001b[39m                            Traceback (most recent call last)",
      "\u001b[36mCell\u001b[39m\u001b[36m \u001b[39m\u001b[32mIn[11]\u001b[39m\u001b[32m, line 1\u001b[39m\n\u001b[32m----> \u001b[39m\u001b[32m1\u001b[39m \u001b[43mdataset_manager\u001b[49m\u001b[43m.\u001b[49m\u001b[43msearch\u001b[49m\u001b[43m.\u001b[49m\u001b[43mcount\u001b[49m(test_sample)\n",
      "\u001b[31mAttributeError\u001b[39m: 'NoneType' object has no attribute 'count'"
     ]
    }
   ],
   "source": [
    "dataset_manager.search.count(test_sample)"
   ]
  },
  {
   "cell_type": "code",
   "execution_count": null,
   "id": "97c84498",
   "metadata": {},
   "outputs": [
    {
     "name": "stdout",
     "output_type": "stream",
     "text": [
      "Sorting indices...\n",
      "True\n"
     ]
    }
   ],
   "source": [
    "from tokengrams import MemmapIndex\n",
    "\n",
    "# Create a new index from an on-disk corpus of u16 tokens and save it to a .idx file. \n",
    "# Set verbose to true to include a progress bar for the index sort.\n",
    "index = MemmapIndex.build(\n",
    "    \"/NS/llm-pretraining/work/afkhan/tokensmith/artifacts/data_tokenized_text_document.bin\",\n",
    "    \"/NS/llm-pretraining/work/afkhan/tokensmith/artifacts/data_tokenized_text_document_search_2_32.idx\",\n",
    "    vocab=2**16,\n",
    ")\n",
    "\n",
    "# True for any valid index.\n",
    "print(index.is_sorted())\n",
    "  "
   ]
  },
  {
   "cell_type": "code",
   "execution_count": null,
   "id": "ae28b59c",
   "metadata": {},
   "outputs": [
    {
     "name": "stderr",
     "output_type": "stream",
     "text": [
      "Special tokens have been added in the vocabulary, make sure the associated word embeddings are fine-tuned or trained.\n"
     ]
    },
    {
     "name": "stdout",
     "output_type": "stream",
     "text": [
      "15326\n"
     ]
    }
   ],
   "source": [
    "# Get the count of \"hello world\" in the corpus.\n",
    "from transformers import AutoTokenizer\n",
    "\n",
    "tokenizer = AutoTokenizer.from_pretrained(\"EleutherAI/gpt-neox-20b\")\n",
    "print(index.count(tokenizer.encode(\"Once\")))"
   ]
  },
  {
   "cell_type": "code",
   "execution_count": null,
   "id": "c74b2517",
   "metadata": {},
   "outputs": [
    {
     "data": {
      "text/plain": [
       "[19131]"
      ]
     },
     "execution_count": 82,
     "metadata": {},
     "output_type": "execute_result"
    }
   ],
   "source": [
    "tokenizer.encode(\"once\")"
   ]
  },
  {
   "cell_type": "code",
   "execution_count": null,
   "id": "f6c0ce9b",
   "metadata": {},
   "outputs": [
    {
     "data": {
      "text/plain": [
       "[2760]"
      ]
     },
     "execution_count": 79,
     "metadata": {},
     "output_type": "execute_result"
    }
   ],
   "source": [
    "tokenizer.encode(\"big\")"
   ]
  },
  {
   "cell_type": "code",
   "execution_count": null,
   "id": "d12d7c05",
   "metadata": {},
   "outputs": [],
   "source": []
  },
  {
   "cell_type": "markdown",
   "id": "cc477473",
   "metadata": {},
   "source": [
    "# Policy-based Sampling Examples\n",
    "\n",
    "Examples of using `get_samples_by_policy` and `get_batches_by_policy` with custom sampling policies."
   ]
  },
  {
   "cell_type": "code",
   "execution_count": 34,
   "id": "648fc503",
   "metadata": {},
   "outputs": [],
   "source": [
    "import numpy as np\n",
    "import random"
   ]
  },
  {
   "cell_type": "code",
   "execution_count": 35,
   "id": "ea3d308c",
   "metadata": {},
   "outputs": [],
   "source": [
    "# Define some example policy functions for sampling\n",
    "\n",
    "def random_sample_policy(num_samples, max_index, rng_seed=42):\n",
    "    \"\"\"\n",
    "    Policy function that returns random sample indices.\n",
    "    \n",
    "    Args:\n",
    "        num_samples: Number of samples to return\n",
    "        max_index: Maximum index value (exclusive)\n",
    "        rng_seed: Random seed for reproducibility\n",
    "    \n",
    "    Returns:\n",
    "        List of random sample indices\n",
    "    \"\"\"\n",
    "    rng = np.random.default_rng(rng_seed)\n",
    "    return rng.integers(0, max_index, size=num_samples).tolist()\n",
    "\n",
    "def sequential_sample_policy(start_index, num_samples):\n",
    "    \"\"\"\n",
    "    Policy function that returns sequential sample indices.\n",
    "    \n",
    "    Args:\n",
    "        start_index: Starting index\n",
    "        num_samples: Number of consecutive samples to return\n",
    "    \n",
    "    Returns:\n",
    "        List of sequential sample indices\n",
    "    \"\"\"\n",
    "    return list(range(start_index, start_index + num_samples))\n",
    "\n",
    "def sparse_sample_policy(start_index, num_samples, step_size=10):\n",
    "    \"\"\"\n",
    "    Policy function that returns sparsely distributed sample indices.\n",
    "    \n",
    "    Args:\n",
    "        start_index: Starting index\n",
    "        num_samples: Number of samples to return\n",
    "        step_size: Step size between samples\n",
    "    \n",
    "    Returns:\n",
    "        List of sparse sample indices\n",
    "    \"\"\"\n",
    "    return [start_index + i * step_size for i in range(num_samples)]"
   ]
  },
  {
   "cell_type": "code",
   "execution_count": 36,
   "id": "5b4b45cf",
   "metadata": {},
   "outputs": [
    {
     "name": "stdout",
     "output_type": "stream",
     "text": [
      "=== Random Sample Policy Example ===\n",
      "Random Sample 1:  with a frown on its face. She was very curious and wanted to know why the tree was sad. Lily asked ...\n",
      "Random Sample 2:  on the slide. She didn't want to hurt it, so she gently picked it up. But then a boy came and said,...\n",
      "Random Sample 3: uffy's ball. He bit it hard and the ball popped. Fluffy was sad and ran away. Spot felt bad. He want...\n",
      "Random Sample 4: . Timmy did not like going to the doctor because he was scared of shots. He hated shots. When Timmy ...\n",
      "Random Sample 5:  said, \"Can I go play in it?\" Her mom said, \"Of course! But, put on your warm clothes first.\" The li...\n"
     ]
    }
   ],
   "source": [
    "# Example 1: get_samples_by_policy with random sampling\n",
    "print(\"=== Random Sample Policy Example ===\")\n",
    "\n",
    "# Get 5 random samples using the random policy\n",
    "random_samples = dataset_manager.sample.get_samples_by_policy(\n",
    "    policy_fn=random_sample_policy,\n",
    "    num_samples=5,\n",
    "    max_index=1000,  # Assuming we have at least 1000 samples\n",
    "    rng_seed=42,\n",
    "    return_detokenized=True,\n",
    "    tokenizer=tokenizer\n",
    ")\n",
    "\n",
    "for i, sample in enumerate(random_samples):\n",
    "    print(f\"Random Sample {i+1}: {sample[:100]}...\")  # Show first 100 chars"
   ]
  },
  {
   "cell_type": "code",
   "execution_count": 1,
   "id": "e18c9d4f",
   "metadata": {},
   "outputs": [
    {
     "ename": "NameError",
     "evalue": "name 'dataset_manager' is not defined",
     "output_type": "error",
     "traceback": [
      "\u001b[31m---------------------------------------------------------------------------\u001b[39m",
      "\u001b[31mNameError\u001b[39m                                 Traceback (most recent call last)",
      "\u001b[36mCell\u001b[39m\u001b[36m \u001b[39m\u001b[32mIn[1]\u001b[39m\u001b[32m, line 1\u001b[39m\n\u001b[32m----> \u001b[39m\u001b[32m1\u001b[39m \u001b[38;5;28mlen\u001b[39m(\u001b[43mdataset_manager\u001b[49m.WriteableMMapIndexedDataset.batch_info.shuffle_idx)\n",
      "\u001b[31mNameError\u001b[39m: name 'dataset_manager' is not defined"
     ]
    }
   ],
   "source": []
  },
  {
   "cell_type": "code",
   "execution_count": 37,
   "id": "fa36fff2",
   "metadata": {},
   "outputs": [
    {
     "name": "stdout",
     "output_type": "stream",
     "text": [
      "\n",
      "=== Sequential Sample Policy Example ===\n",
      "Sequential Sample 1 (index 100):  and peeked over the grass to get a better look. Sally asked the sheep, “What’s your name?” The youn...\n",
      "Sequential Sample 2 (index 101):  it.\" Lily nodded and put the pebble in her pocket. She played for a while and then went back inside...\n",
      "Sequential Sample 3 (index 102):  better than the brick! Mandy was very pleased with her new snack. She ate the carrot and thanked th...\n"
     ]
    }
   ],
   "source": [
    "# Example 2: get_samples_by_policy with sequential sampling\n",
    "print(\"\\n=== Sequential Sample Policy Example ===\")\n",
    "\n",
    "# Get 3 consecutive samples starting from index 100\n",
    "sequential_samples = dataset_manager.sample.get_samples_by_policy(\n",
    "    policy_fn=sequential_sample_policy,\n",
    "    start_index=100,\n",
    "    num_samples=3,\n",
    "    return_detokenized=True,\n",
    "    tokenizer=tokenizer\n",
    ")\n",
    "\n",
    "for i, sample in enumerate(sequential_samples):\n",
    "    print(f\"Sequential Sample {i+1} (index {100+i}): {sample[:100]}...\")  # Show first 100 chars"
   ]
  },
  {
   "cell_type": "code",
   "execution_count": 38,
   "id": "6a2aa57f",
   "metadata": {},
   "outputs": [
    {
     "name": "stdout",
     "output_type": "stream",
     "text": [
      "\n",
      "=== Sparse Sample Policy with Document Details Example ===\n",
      "Sparse Sample 1 (index 50):\n",
      "  Document details: {'doc_index_f': 14417, 'doc_index_l': 14425, 'offset_f': 215, 'offset_l': 176}\n",
      "  Text:  Ben's car fell on the ground and broke. The wheel came off and the paint scratched. \"Uh oh!\" Lily s...\n",
      "\n",
      "Sparse Sample 2 (index 75):\n",
      "  Document details: {'doc_index_f': 16055, 'doc_index_l': 16064, 'offset_f': 215, 'offset_l': 36}\n",
      "  Text:  the museum. Sam was very happy that she was able to help BRO when he was broken. The end.<|endoftex...\n",
      "\n",
      "Sparse Sample 3 (index 100):\n",
      "  Document details: {'doc_index_f': 21659, 'doc_index_l': 21670, 'offset_f': 45, 'offset_l': 103}\n",
      "  Text:  and peeked over the grass to get a better look. Sally asked the sheep, “What’s your name?” The youn...\n",
      "\n"
     ]
    }
   ],
   "source": [
    "# Example 3: get_samples_by_policy with sparse sampling and document details\n",
    "print(\"\\n=== Sparse Sample Policy with Document Details Example ===\")\n",
    "\n",
    "# Get sparse samples with document details\n",
    "sparse_samples = dataset_manager.sample.get_samples_by_policy(\n",
    "    policy_fn=sparse_sample_policy,\n",
    "    start_index=50,\n",
    "    num_samples=3,\n",
    "    step_size=25,  # Every 25th sample\n",
    "    return_doc_details=True,\n",
    "    return_detokenized=True,\n",
    "    tokenizer=tokenizer\n",
    ")\n",
    "\n",
    "for i, (sample, doc_details) in enumerate(sparse_samples):\n",
    "    sample_index = 50 + i * 25\n",
    "    print(f\"Sparse Sample {i+1} (index {sample_index}):\")\n",
    "    print(f\"  Document details: {doc_details}\")\n",
    "    print(f\"  Text: {sample[:100]}...\")  # Show first 100 chars\n",
    "    print()"
   ]
  },
  {
   "cell_type": "code",
   "execution_count": 39,
   "id": "756ba04f",
   "metadata": {},
   "outputs": [],
   "source": [
    "# Define policy functions for batch sampling\n",
    "\n",
    "def random_batch_policy(num_batches, max_batch_id, rng_seed=42):\n",
    "    \"\"\"\n",
    "    Policy function that returns random batch IDs.\n",
    "    \n",
    "    Args:\n",
    "        num_batches: Number of batches to return\n",
    "        max_batch_id: Maximum batch ID value (exclusive)\n",
    "        rng_seed: Random seed for reproducibility\n",
    "    \n",
    "    Returns:\n",
    "        List of random batch IDs\n",
    "    \"\"\"\n",
    "    rng = np.random.default_rng(rng_seed)\n",
    "    return rng.integers(0, max_batch_id, size=num_batches).tolist()\n",
    "\n",
    "def sequential_batch_policy(start_batch_id, num_batches):\n",
    "    \"\"\"\n",
    "    Policy function that returns sequential batch IDs.\n",
    "    \n",
    "    Args:\n",
    "        start_batch_id: Starting batch ID\n",
    "        num_batches: Number of consecutive batches to return\n",
    "    \n",
    "    Returns:\n",
    "        List of sequential batch IDs\n",
    "    \"\"\"\n",
    "    return list(range(start_batch_id, start_batch_id + num_batches))\n",
    "\n",
    "def stride_batch_policy(start_batch_id, num_batches, stride=5):\n",
    "    \"\"\"\n",
    "    Policy function that returns batch IDs with a specific stride.\n",
    "    \n",
    "    Args:\n",
    "        start_batch_id: Starting batch ID\n",
    "        num_batches: Number of batches to return\n",
    "        stride: Stride between batch IDs\n",
    "    \n",
    "    Returns:\n",
    "        List of strided batch IDs\n",
    "    \"\"\"\n",
    "    return [start_batch_id + i * stride for i in range(num_batches)]"
   ]
  },
  {
   "cell_type": "code",
   "execution_count": 40,
   "id": "deccc4b4",
   "metadata": {},
   "outputs": [
    {
     "name": "stdout",
     "output_type": "stream",
     "text": [
      "\n",
      "=== Random Batch Policy Example ===\n",
      "Random Batch 1:\n",
      "  Sample 1:  thing happened. Lily's little brother came running and accidentally stepped on ...\n",
      "  Sample 2: . She had gone to the office for a minute. Lily had an idea. \"Let's steal some c...\n",
      "  Sample 3:  agreed to marry him. They had a wonderful wedding and were very happy together....\n",
      "\n",
      "Random Batch 2:\n",
      "  Sample 1:  better than the brick! Mandy was very pleased with her new snack. She ate the c...\n",
      "  Sample 2:  ran to the house. She was cold and sad. She wished she had listened to Tom. She...\n",
      "  Sample 3:  you done? This was my special doll. How could you be so careless and selfish? Y...\n",
      "\n"
     ]
    }
   ],
   "source": [
    "# Example 4: get_batches_by_policy with random batch sampling\n",
    "print(\"\\n=== Random Batch Policy Example ===\")\n",
    "\n",
    "# Get 2 random batches with batch size 3\n",
    "random_batches = dataset_manager.sample.get_batches_by_policy(\n",
    "    policy_fn=random_batch_policy,\n",
    "    batch_size=3,\n",
    "    num_batches=2,\n",
    "    max_batch_id=50,  # Assuming we have at least 50 batches\n",
    "    rng_seed=123,\n",
    "    return_detokenized=True,\n",
    "    tokenizer=tokenizer\n",
    ")\n",
    "\n",
    "for batch_idx, batch in enumerate(random_batches):\n",
    "    print(f\"Random Batch {batch_idx + 1}:\")\n",
    "    for sample_idx, sample in enumerate(batch):\n",
    "        print(f\"  Sample {sample_idx + 1}: {sample[:80]}...\")  # Show first 80 chars\n",
    "    print()"
   ]
  },
  {
   "cell_type": "code",
   "execution_count": 41,
   "id": "c263332a",
   "metadata": {},
   "outputs": [
    {
     "name": "stdout",
     "output_type": "stream",
     "text": [
      "=== Sequential Batch Policy Example ===\n",
      "Sequential Batch 1 (Batch ID 10):\n",
      "  Sample 1 (ID 40): . The ball is empty and flat. \"Oh no, we broke the ball!\" Lily says. \"I am sorry...\n",
      "  Sample 2 (ID 41):  dad said they could go and play on the sand and look for shells. Anna and Ben w...\n",
      "  Sample 3 (ID 42):  when she saw a group of people waving their arms in the air. She walked closer ...\n",
      "  Sample 4 (ID 43):  the birds. Sometimes, at night, they saw the moon and the stars. They thought t...\n",
      "\n",
      "Sequential Batch 2 (Batch ID 11):\n",
      "  Sample 1 (ID 44):  \"Love you, sis.\" She put a blanket on him and they went home.<|endoftext|>Once ...\n",
      "  Sample 2 (ID 45):  Tom. He looked very sad and sorry. She decided to forgive him. She looked at th...\n",
      "  Sample 3 (ID 46):  their mom. They tell her about the truck and the hose and the horn. They had fu...\n",
      "  Sample 4 (ID 47):  feel better. So, he decided to take Teddy to the toy doctor to get his zipper f...\n",
      "\n"
     ]
    }
   ],
   "source": [
    "# Example 5: get_batches_by_policy with sequential batch sampling\n",
    "print(\"=== Sequential Batch Policy Example ===\")\n",
    "\n",
    "# Get 2 consecutive batches starting from batch ID 10\n",
    "sequential_batches = dataset_manager.sample.get_batches_by_policy(\n",
    "    policy_fn=sequential_batch_policy,\n",
    "    batch_size=4,\n",
    "    start_batch_id=10,\n",
    "    num_batches=2,\n",
    "    return_detokenized=True,\n",
    "    tokenizer=tokenizer\n",
    ")\n",
    "\n",
    "for batch_idx, batch in enumerate(sequential_batches):\n",
    "    batch_id = 10 + batch_idx\n",
    "    print(f\"Sequential Batch {batch_idx + 1} (Batch ID {batch_id}):\")\n",
    "    for sample_idx, sample in enumerate(batch):\n",
    "        sample_id = batch_id * 4 + sample_idx  # Assuming batch_size=4\n",
    "        print(f\"  Sample {sample_idx + 1} (ID {sample_id}): {sample[:80]}...\")  # Show first 80 chars\n",
    "    print()"
   ]
  },
  {
   "cell_type": "code",
   "execution_count": 42,
   "id": "874fe15c",
   "metadata": {},
   "outputs": [
    {
     "name": "stdout",
     "output_type": "stream",
     "text": [
      "=== Stride Batch Policy with Document Details Example ===\n",
      "Stride Batch 1 (Batch ID 5):\n",
      "  Sample 1 (ID 10):\n",
      "    Document details: {'doc_index_f': 7983, 'doc_index_l': 7994, 'offset_f': 16, 'offset_l': 4}\n",
      "    Text:  day, they find a big club on the grass. It is brown and hea...\n",
      "  Sample 2 (ID 11):\n",
      "    Document details: {'doc_index_f': 13066, 'doc_index_l': 13077, 'offset_f': 97, 'offset_l': 30}\n",
      "    Text:  and dad said it seemed too dangerous, so they said no. The ...\n",
      "\n",
      "Stride Batch 2 (Batch ID 8):\n",
      "  Sample 1 (ID 16):\n",
      "    Document details: {'doc_index_f': 9361, 'doc_index_l': 9371, 'offset_f': 639, 'offset_l': 30}\n",
      "    Text:  you too,\" she says. \"But you have to promise me that you wo...\n",
      "  Sample 2 (ID 17):\n",
      "    Document details: {'doc_index_f': 13023, 'doc_index_l': 13035, 'offset_f': 245, 'offset_l': 4}\n",
      "    Text:  and Dad's hands. They were alone in the crowd. \"Mom! Dad! W...\n",
      "\n"
     ]
    }
   ],
   "source": [
    "# Example 6: get_batches_by_policy with stride batch sampling and document details\n",
    "print(\"=== Stride Batch Policy with Document Details Example ===\")\n",
    "\n",
    "# Get 2 batches with stride 3 and include document details\n",
    "stride_batches = dataset_manager.sample.get_batches_by_policy(\n",
    "    policy_fn=stride_batch_policy,\n",
    "    batch_size=2,\n",
    "    start_batch_id=5,\n",
    "    num_batches=2,\n",
    "    stride=3,  # Skip 2 batches between selected batches\n",
    "    return_doc_details=True,\n",
    "    return_detokenized=True,\n",
    "    tokenizer=tokenizer\n",
    ")\n",
    "\n",
    "for batch_idx, batch in enumerate(stride_batches):\n",
    "    batch_id = 5 + batch_idx * 3  # stride=3\n",
    "    print(f\"Stride Batch {batch_idx + 1} (Batch ID {batch_id}):\")\n",
    "    for sample_idx, (sample, doc_details) in enumerate(batch):\n",
    "        sample_id = batch_id * 2 + sample_idx  # Assuming batch_size=2\n",
    "        print(f\"  Sample {sample_idx + 1} (ID {sample_id}):\")\n",
    "        print(f\"    Document details: {doc_details}\")\n",
    "        print(f\"    Text: {sample[:60]}...\")  # Show first 60 chars\n",
    "    print()"
   ]
  },
  {
   "cell_type": "code",
   "execution_count": 43,
   "id": "7a64faca",
   "metadata": {},
   "outputs": [
    {
     "name": "stdout",
     "output_type": "stream",
     "text": [
      "=== Lambda Policy Functions Example ===\n",
      "Samples at prime indices (first 5):\n",
      "Prime Index 2:  agreed to marry him. They had a wonderful wedding and were very happy...\n",
      "Prime Index 3:  sleep, Maggie's mommy saw something very rare and wet. It was raining...\n",
      "Prime Index 5: Let's look at the pictures. They might tell us something.\" Lila and Be...\n",
      "Prime Index 7:  said. Bella was shocked and excited. She hugged her parents and thank...\n",
      "Prime Index 11:  and dad said it seemed too dangerous, so they said no. The boy didn't...\n",
      "\n",
      "==================================================\n",
      "Batches at power-of-2 IDs:\n",
      "Batch ID 2:\n",
      "  Sample 1:  Benny learned that not all big, wild animals are scary. Som...\n",
      "  Sample 2: Let's look at the pictures. They might tell us something.\" L...\n",
      "\n",
      "Batch ID 4:\n",
      "  Sample 1:  park. They see the slide and the swing. They wish they had ...\n",
      "  Sample 2:  run around the faucet, letting the water spray all over him...\n",
      "\n",
      "Batch ID 8:\n",
      "  Sample 1:  you too,\" she says. \"But you have to promise me that you wo...\n",
      "  Sample 2:  and Dad's hands. They were alone in the crowd. \"Mom! Dad! W...\n",
      "\n"
     ]
    }
   ],
   "source": [
    "# Example 7: Using lambda functions as policies\n",
    "print(\"=== Lambda Policy Functions Example ===\")\n",
    "\n",
    "# Example with lambda for prime-numbered indices\n",
    "prime_indices = [2, 3, 5, 7, 11, 13, 17, 19, 23, 29]\n",
    "\n",
    "# Use lambda to create a simple policy\n",
    "lambda_samples = dataset_manager.sample.get_samples_by_policy(\n",
    "    policy_fn=lambda indices_list: indices_list[:5],  # Just take first 5 from the list\n",
    "    indices_list=prime_indices,\n",
    "    return_detokenized=True,\n",
    "    tokenizer=tokenizer\n",
    ")\n",
    "\n",
    "print(\"Samples at prime indices (first 5):\")\n",
    "for i, sample in enumerate(lambda_samples):\n",
    "    print(f\"Prime Index {prime_indices[i]}: {sample[:70]}...\")  # Show first 70 chars\n",
    "\n",
    "print(\"\\n\" + \"=\"*50)\n",
    "\n",
    "# Lambda policy for batch IDs that are powers of 2\n",
    "power_of_2_batches = dataset_manager.sample.get_batches_by_policy(\n",
    "    policy_fn=lambda base, count: [base ** i for i in range(1, count + 1)],\n",
    "    batch_size=2,\n",
    "    base=2,\n",
    "    count=3,  # 2^1, 2^2, 2^3 = batches 2, 4, 8\n",
    "    return_detokenized=True,\n",
    "    tokenizer=tokenizer\n",
    ")\n",
    "\n",
    "print(\"Batches at power-of-2 IDs:\")\n",
    "for batch_idx, batch in enumerate(power_of_2_batches):\n",
    "    batch_id = 2 ** (batch_idx + 1)\n",
    "    print(f\"Batch ID {batch_id}:\")\n",
    "    for sample_idx, sample in enumerate(batch):\n",
    "        print(f\"  Sample {sample_idx + 1}: {sample[:60]}...\")\n",
    "    print()"
   ]
  },
  {
   "cell_type": "code",
   "execution_count": null,
   "id": "751d2015",
   "metadata": {},
   "outputs": [],
   "source": []
  },
  {
   "cell_type": "markdown",
   "id": "27c16489",
   "metadata": {},
   "source": [
    "# Export Examples\n",
    "\n",
    "Examples of using the export functionality to save datasets in different formats (JSONL and CSV) with various selection strategies."
   ]
  },
  {
   "cell_type": "code",
   "execution_count": 10,
   "id": "47fa0518",
   "metadata": {},
   "outputs": [
    {
     "name": "stdout",
     "output_type": "stream",
     "text": [
      "Export directory: /NS/llm-pretraining/work/afkhan/tokensmith/exports\n",
      "Export directory exists: True\n"
     ]
    }
   ],
   "source": [
    "from pathlib import Path\n",
    "import os\n",
    "import json\n",
    "\n",
    "# Create export directory if it doesn't exist\n",
    "export_dir = Path(\"/NS/llm-pretraining/work/afkhan/tokensmith/exports\")\n",
    "export_dir.mkdir(exist_ok=True)\n",
    "\n",
    "print(f\"Export directory: {export_dir}\")\n",
    "print(f\"Export directory exists: {export_dir.exists()}\")"
   ]
  },
  {
   "cell_type": "code",
   "execution_count": 11,
   "id": "e2ae509a",
   "metadata": {},
   "outputs": [
    {
     "name": "stdout",
     "output_type": "stream",
     "text": [
      "=== Export Specific Sequences Example ===\n",
      "Exported 5 sequences to: /NS/llm-pretraining/work/afkhan/tokensmith/exports/specific_sequences.jsonl\n",
      "Record 1: Index 0, Content:  day, they find a big club on the grass. It is brown and heavy. \"Look, a club!\" ...\n",
      "Record 2: Index 1, Content:  that the sun made droplets scatter off of their backs! They felt so refreshed i...\n"
     ]
    }
   ],
   "source": [
    "# Example 1: Export specific sequences to JSONL\n",
    "print(\"=== Export Specific Sequences Example ===\")\n",
    "\n",
    "# Define sequence indices to export\n",
    "sequence_indices = [10, 25, 50, 75, 100]\n",
    "output_path_jsonl = export_dir / \"specific_sequences.jsonl\"\n",
    "\n",
    "# Export to JSONL format with detokenized text\n",
    "dataset_manager.export.export_sequences(\n",
    "    sequence_indices=sequence_indices,\n",
    "    output_path=str(output_path_jsonl),\n",
    "    format_type=\"jsonl\",\n",
    "    return_detokenized=True,\n",
    "    tokenizer=tokenizer,\n",
    "    include_doc_details=False\n",
    ")\n",
    "\n",
    "print(f\"Exported {len(sequence_indices)} sequences to: {output_path_jsonl}\")\n",
    "\n",
    "# Read and display first few lines to verify\n",
    "with open(output_path_jsonl, 'r') as f:\n",
    "    for i, line in enumerate(f):\n",
    "        if i < 2:  # Show first 2 records\n",
    "            record = json.loads(line)\n",
    "            print(f\"Record {i+1}: Index {record['index']}, Content: {record['content'][:80]}...\")\n",
    "        else:\n",
    "            break"
   ]
  },
  {
   "cell_type": "code",
   "execution_count": 12,
   "id": "978bb0e3",
   "metadata": {},
   "outputs": [
    {
     "name": "stdout",
     "output_type": "stream",
     "text": [
      "\n",
      "=== Export Sequences with Document Details to CSV ===\n",
      "Exported 4 sequences with document details to: /NS/llm-pretraining/work/afkhan/tokensmith/exports/sequences_with_details.csv\n",
      "CSV shape: (4, 6)\n",
      "Columns: ['index', 'content', 'doc_index_f', 'doc_index_l', 'offset_f', 'offset_l']\n",
      "First row preview:\n",
      "  Index: 0\n",
      "  Content (first 80 chars): Let's look at the pictures. They might tell us something.\" Lila and Ben look at ...\n"
     ]
    }
   ],
   "source": [
    "# Example 2: Export specific sequences to CSV with document details\n",
    "print(\"\\n=== Export Sequences with Document Details to CSV ===\")\n",
    "\n",
    "# Different sequence indices\n",
    "sequence_indices_detailed = [5, 15, 30, 45]\n",
    "output_path_csv = export_dir / \"sequences_with_details.csv\"\n",
    "\n",
    "# Export to CSV format with document details\n",
    "dataset_manager.export.export_sequences(\n",
    "    sequence_indices=sequence_indices_detailed,\n",
    "    output_path=str(output_path_csv),\n",
    "    format_type=\"csv\",\n",
    "    return_detokenized=True,\n",
    "    tokenizer=tokenizer,\n",
    "    include_doc_details=True\n",
    ")\n",
    "\n",
    "print(f\"Exported {len(sequence_indices_detailed)} sequences with document details to: {output_path_csv}\")\n",
    "\n",
    "# Read and display CSV content\n",
    "import pandas as pd\n",
    "df = pd.read_csv(output_path_csv)\n",
    "print(f\"CSV shape: {df.shape}\")\n",
    "print(f\"Columns: {list(df.columns)}\")\n",
    "print(f\"First row preview:\")\n",
    "print(f\"  Index: {df.iloc[0]['index']}\")\n",
    "print(f\"  Content (first 80 chars): {df.iloc[0]['content'][:80]}...\")\n",
    "if 'doc_details' in df.columns:\n",
    "    print(f\"  Doc details: {df.iloc[0]['doc_details']}\")"
   ]
  },
  {
   "cell_type": "code",
   "execution_count": 13,
   "id": "fb82ebf6",
   "metadata": {},
   "outputs": [
    {
     "name": "stdout",
     "output_type": "stream",
     "text": [
      "\n",
      "=== Export Specific Batches Example ===\n"
     ]
    },
    {
     "ename": "AttributeError",
     "evalue": "'list' object has no attribute 'tolist'",
     "output_type": "error",
     "traceback": [
      "\u001b[31m---------------------------------------------------------------------------\u001b[39m",
      "\u001b[31mAttributeError\u001b[39m                            Traceback (most recent call last)",
      "\u001b[36mCell\u001b[39m\u001b[36m \u001b[39m\u001b[32mIn[13]\u001b[39m\u001b[32m, line 10\u001b[39m\n\u001b[32m      7\u001b[39m output_path_batches = export_dir / \u001b[33m\"\u001b[39m\u001b[33mspecific_batches.jsonl\u001b[39m\u001b[33m\"\u001b[39m\n\u001b[32m      9\u001b[39m \u001b[38;5;66;03m# Export specific batches to JSONL\u001b[39;00m\n\u001b[32m---> \u001b[39m\u001b[32m10\u001b[39m \u001b[43mdataset_manager\u001b[49m\u001b[43m.\u001b[49m\u001b[43mexport\u001b[49m\u001b[43m.\u001b[49m\u001b[43mexport_batches\u001b[49m\u001b[43m(\u001b[49m\n\u001b[32m     11\u001b[39m \u001b[43m    \u001b[49m\u001b[43mbatch_ids\u001b[49m\u001b[43m=\u001b[49m\u001b[43mbatch_ids\u001b[49m\u001b[43m,\u001b[49m\n\u001b[32m     12\u001b[39m \u001b[43m    \u001b[49m\u001b[43mbatch_size\u001b[49m\u001b[43m=\u001b[49m\u001b[43mbatch_size\u001b[49m\u001b[43m,\u001b[49m\n\u001b[32m     13\u001b[39m \u001b[43m    \u001b[49m\u001b[43moutput_path\u001b[49m\u001b[43m=\u001b[49m\u001b[38;5;28;43mstr\u001b[39;49m\u001b[43m(\u001b[49m\u001b[43moutput_path_batches\u001b[49m\u001b[43m)\u001b[49m\u001b[43m,\u001b[49m\n\u001b[32m     14\u001b[39m \u001b[43m    \u001b[49m\u001b[43mformat_type\u001b[49m\u001b[43m=\u001b[49m\u001b[33;43m\"\u001b[39;49m\u001b[33;43mjsonl\u001b[39;49m\u001b[33;43m\"\u001b[39;49m\u001b[43m,\u001b[49m\n\u001b[32m     15\u001b[39m \u001b[43m    \u001b[49m\u001b[43mreturn_detokenized\u001b[49m\u001b[43m=\u001b[49m\u001b[38;5;28;43;01mTrue\u001b[39;49;00m\u001b[43m,\u001b[49m\n\u001b[32m     16\u001b[39m \u001b[43m    \u001b[49m\u001b[43mtokenizer\u001b[49m\u001b[43m=\u001b[49m\u001b[43mtokenizer\u001b[49m\u001b[43m,\u001b[49m\n\u001b[32m     17\u001b[39m \u001b[43m    \u001b[49m\u001b[43minclude_doc_details\u001b[49m\u001b[43m=\u001b[49m\u001b[38;5;28;43;01mFalse\u001b[39;49;00m\u001b[43m,\u001b[49m\n\u001b[32m     18\u001b[39m \u001b[43m    \u001b[49m\u001b[43mflatten_batches\u001b[49m\u001b[43m=\u001b[49m\u001b[38;5;28;43;01mFalse\u001b[39;49;00m\u001b[43m  \u001b[49m\u001b[38;5;66;43;03m# Keep batch structure\u001b[39;49;00m\n\u001b[32m     19\u001b[39m \u001b[43m)\u001b[49m\n\u001b[32m     21\u001b[39m \u001b[38;5;28mprint\u001b[39m(\u001b[33mf\u001b[39m\u001b[33m\"\u001b[39m\u001b[33mExported \u001b[39m\u001b[38;5;132;01m{\u001b[39;00m\u001b[38;5;28mlen\u001b[39m(batch_ids)\u001b[38;5;132;01m}\u001b[39;00m\u001b[33m batches (batch_size=\u001b[39m\u001b[38;5;132;01m{\u001b[39;00mbatch_size\u001b[38;5;132;01m}\u001b[39;00m\u001b[33m) to: \u001b[39m\u001b[38;5;132;01m{\u001b[39;00moutput_path_batches\u001b[38;5;132;01m}\u001b[39;00m\u001b[33m\"\u001b[39m)\n\u001b[32m     23\u001b[39m \u001b[38;5;66;03m# Read and display structure\u001b[39;00m\n",
      "\u001b[36mFile \u001b[39m\u001b[32m/NS/llm-pretraining/work/afkhan/tokensmith/tokensmith/export/handler.py:60\u001b[39m, in \u001b[36mExportHandler.export_batches\u001b[39m\u001b[34m(self, batch_ids, batch_size, output_path, format_type, return_detokenized, tokenizer, include_doc_details, flatten_batches)\u001b[39m\n\u001b[32m     57\u001b[39m os.makedirs(os.path.dirname(output_path), exist_ok=\u001b[38;5;28;01mTrue\u001b[39;00m)\n\u001b[32m     59\u001b[39m \u001b[38;5;28;01mif\u001b[39;00m format_type == \u001b[33m\"\u001b[39m\u001b[33mjsonl\u001b[39m\u001b[33m\"\u001b[39m:\n\u001b[32m---> \u001b[39m\u001b[32m60\u001b[39m     \u001b[38;5;28;43mself\u001b[39;49m\u001b[43m.\u001b[49m\u001b[43m_export_to_jsonl\u001b[49m\u001b[43m(\u001b[49m\u001b[43mbatches\u001b[49m\u001b[43m,\u001b[49m\u001b[43m \u001b[49m\u001b[43moutput_path\u001b[49m\u001b[43m,\u001b[49m\u001b[43m \u001b[49m\u001b[43mflatten_batches\u001b[49m\u001b[43m,\u001b[49m\u001b[43m \u001b[49m\u001b[43minclude_doc_details\u001b[49m\u001b[43m,\u001b[49m\u001b[43m \u001b[49m\u001b[33;43m\"\u001b[39;49m\u001b[33;43mbatch\u001b[39;49m\u001b[33;43m\"\u001b[39;49m\u001b[43m)\u001b[49m\n\u001b[32m     61\u001b[39m \u001b[38;5;28;01melif\u001b[39;00m format_type == \u001b[33m\"\u001b[39m\u001b[33mcsv\u001b[39m\u001b[33m\"\u001b[39m:\n\u001b[32m     62\u001b[39m     \u001b[38;5;28mself\u001b[39m._export_to_csv(batches, output_path, flatten_batches, include_doc_details, \u001b[33m\"\u001b[39m\u001b[33mbatch\u001b[39m\u001b[33m\"\u001b[39m)\n",
      "\u001b[36mFile \u001b[39m\u001b[32m/NS/llm-pretraining/work/afkhan/tokensmith/tokensmith/export/handler.py:394\u001b[39m, in \u001b[36mExportHandler._export_to_jsonl\u001b[39m\u001b[34m(self, data, output_path, flatten, include_doc_details, export_type)\u001b[39m\n\u001b[32m    391\u001b[39m         flattened_data.extend(batch)\n\u001b[32m    392\u001b[39m     data = flattened_data\n\u001b[32m--> \u001b[39m\u001b[32m394\u001b[39m \u001b[38;5;28;43mself\u001b[39;49m\u001b[43m.\u001b[49m\u001b[43m_write_chunk_to_jsonl\u001b[49m\u001b[43m(\u001b[49m\u001b[43mdata\u001b[49m\u001b[43m,\u001b[49m\u001b[43m \u001b[49m\u001b[43mf\u001b[49m\u001b[43m,\u001b[49m\u001b[43m \u001b[49m\u001b[43minclude_doc_details\u001b[49m\u001b[43m,\u001b[49m\u001b[43m \u001b[49m\u001b[32;43m0\u001b[39;49m\u001b[43m)\u001b[49m\n",
      "\u001b[36mFile \u001b[39m\u001b[32m/NS/llm-pretraining/work/afkhan/tokensmith/tokensmith/export/handler.py:434\u001b[39m, in \u001b[36mExportHandler._write_chunk_to_jsonl\u001b[39m\u001b[34m(self, chunk_data, file_handle, include_doc_details, start_idx)\u001b[39m\n\u001b[32m    426\u001b[39m     record = {\n\u001b[32m    427\u001b[39m         \u001b[33m\"\u001b[39m\u001b[33mindex\u001b[39m\u001b[33m\"\u001b[39m: start_idx + i,\n\u001b[32m    428\u001b[39m         \u001b[33m\"\u001b[39m\u001b[33mcontent\u001b[39m\u001b[33m\"\u001b[39m: content \u001b[38;5;28;01mif\u001b[39;00m \u001b[38;5;28misinstance\u001b[39m(content, \u001b[38;5;28mstr\u001b[39m) \u001b[38;5;28;01melse\u001b[39;00m content.tolist(),\n\u001b[32m    429\u001b[39m         \u001b[33m\"\u001b[39m\u001b[33mdoc_details\u001b[39m\u001b[33m\"\u001b[39m: doc_details\n\u001b[32m    430\u001b[39m     }\n\u001b[32m    431\u001b[39m \u001b[38;5;28;01melse\u001b[39;00m:\n\u001b[32m    432\u001b[39m     record = {\n\u001b[32m    433\u001b[39m         \u001b[33m\"\u001b[39m\u001b[33mindex\u001b[39m\u001b[33m\"\u001b[39m: start_idx + i,\n\u001b[32m--> \u001b[39m\u001b[32m434\u001b[39m         \u001b[33m\"\u001b[39m\u001b[33mcontent\u001b[39m\u001b[33m\"\u001b[39m: sample \u001b[38;5;28;01mif\u001b[39;00m \u001b[38;5;28misinstance\u001b[39m(sample, \u001b[38;5;28mstr\u001b[39m) \u001b[38;5;28;01melse\u001b[39;00m \u001b[43msample\u001b[49m\u001b[43m.\u001b[49m\u001b[43mtolist\u001b[49m()\n\u001b[32m    435\u001b[39m     }\n\u001b[32m    437\u001b[39m json.dump(record, file_handle, ensure_ascii=\u001b[38;5;28;01mFalse\u001b[39;00m)\n\u001b[32m    438\u001b[39m file_handle.write(\u001b[33m'\u001b[39m\u001b[38;5;130;01m\\n\u001b[39;00m\u001b[33m'\u001b[39m)\n",
      "\u001b[31mAttributeError\u001b[39m: 'list' object has no attribute 'tolist'"
     ]
    }
   ],
   "source": [
    "# Example 3: Export specific batches\n",
    "print(\"\\n=== Export Specific Batches Example ===\")\n",
    "\n",
    "# Define batch IDs to export\n",
    "batch_ids = [1, 5, 10]\n",
    "batch_size = 4\n",
    "output_path_batches = export_dir / \"specific_batches.jsonl\"\n",
    "\n",
    "# Export specific batches to JSONL\n",
    "dataset_manager.export.export_batches(\n",
    "    batch_ids=batch_ids,\n",
    "    batch_size=batch_size,\n",
    "    output_path=str(output_path_batches),\n",
    "    format_type=\"jsonl\",\n",
    "    return_detokenized=True,\n",
    "    tokenizer=tokenizer,\n",
    "    include_doc_details=False,\n",
    "    flatten_batches=False  # Keep batch structure\n",
    ")\n",
    "\n",
    "print(f\"Exported {len(batch_ids)} batches (batch_size={batch_size}) to: {output_path_batches}\")\n",
    "\n",
    "# Read and display structure\n",
    "with open(output_path_batches, 'r') as f:\n",
    "    lines = f.readlines()\n",
    "    print(f\"Total records in file: {len(lines)}\")\n",
    "    print(f\"Expected records: {len(batch_ids) * batch_size} (3 batches × 4 samples each)\")\n",
    "    \n",
    "    # Show first record from each batch\n",
    "    for i in range(min(3, len(lines))):\n",
    "        record = json.loads(lines[i])\n",
    "        print(f\"Batch record {i+1}: Index {record['index']}, Content: {record['content'][:60]}...\")"
   ]
  },
  {
   "cell_type": "code",
   "execution_count": null,
   "id": "6da27d42",
   "metadata": {},
   "outputs": [
    {
     "name": "stdout",
     "output_type": "stream",
     "text": [
      "\n",
      "=== Export Flattened Batches Example ===\n",
      "Exported 2 batches (flattened) to: /NS/llm-pretraining/work/afkhan/tokensmith/exports/flattened_batches.jsonl\n",
      "Total flattened records: 6\n",
      "Flattened record 1: Index 0, Content:  baby, saving them from certain injury. The creative baby fe...\n",
      "Flattened record 2: Index 1, Content:  said. Bella was shocked and excited. She hugged her parents...\n",
      "Flattened record 3: Index 2, Content:  park. They see the slide and the swing. They wish they had ...\n"
     ]
    }
   ],
   "source": [
    "# Example 4: Export batches with flattening\n",
    "print(\"\\n=== Export Flattened Batches Example ===\")\n",
    "\n",
    "# Export the same batches but flattened into a single list\n",
    "batch_ids_flat = [2, 6]\n",
    "output_path_flat = export_dir / \"flattened_batches.jsonl\"\n",
    "\n",
    "dataset_manager.export.export_batches(\n",
    "    batch_ids=batch_ids_flat,\n",
    "    batch_size=3,\n",
    "    output_path=str(output_path_flat),\n",
    "    format_type=\"jsonl\",\n",
    "    return_detokenized=True,\n",
    "    tokenizer=tokenizer,\n",
    "    include_doc_details=False,\n",
    "    flatten_batches=True  # Flatten all samples into single list\n",
    ")\n",
    "\n",
    "print(f\"Exported {len(batch_ids_flat)} batches (flattened) to: {output_path_flat}\")\n",
    "\n",
    "# Verify flattened structure\n",
    "with open(output_path_flat, 'r') as f:\n",
    "    lines = f.readlines()\n",
    "    print(f\"Total flattened records: {len(lines)}\")\n",
    "    \n",
    "    # Show a few records\n",
    "    for i in range(min(3, len(lines))):\n",
    "        record = json.loads(lines[i])\n",
    "        print(f\"Flattened record {i+1}: Index {record['index']}, Content: {record['content'][:60]}...\")"
   ]
  },
  {
   "cell_type": "code",
   "execution_count": null,
   "id": "dcd102c3",
   "metadata": {},
   "outputs": [
    {
     "name": "stdout",
     "output_type": "stream",
     "text": [
      "\n",
      "=== Export Sequence Range Example ===\n"
     ]
    },
    {
     "ename": "TypeError",
     "evalue": "Object of type int32 is not JSON serializable",
     "output_type": "error",
     "traceback": [
      "\u001b[31m---------------------------------------------------------------------------\u001b[39m",
      "\u001b[31mTypeError\u001b[39m                                 Traceback (most recent call last)",
      "\u001b[36mCell\u001b[39m\u001b[36m \u001b[39m\u001b[32mIn[50]\u001b[39m\u001b[32m, line 9\u001b[39m\n\u001b[32m      6\u001b[39m end_idx = \u001b[32m120\u001b[39m  \u001b[38;5;66;03m# Export indices 100-119 (20 sequences)\u001b[39;00m\n\u001b[32m      7\u001b[39m output_path_range = export_dir / \u001b[33m\"\u001b[39m\u001b[33msequence_range.jsonl\u001b[39m\u001b[33m\"\u001b[39m\n\u001b[32m----> \u001b[39m\u001b[32m9\u001b[39m \u001b[43mdataset_manager\u001b[49m\u001b[43m.\u001b[49m\u001b[43mexport\u001b[49m\u001b[43m.\u001b[49m\u001b[43mexport_sequence_range\u001b[49m\u001b[43m(\u001b[49m\n\u001b[32m     10\u001b[39m \u001b[43m    \u001b[49m\u001b[43mstart_idx\u001b[49m\u001b[43m=\u001b[49m\u001b[43mstart_idx\u001b[49m\u001b[43m,\u001b[49m\n\u001b[32m     11\u001b[39m \u001b[43m    \u001b[49m\u001b[43mend_idx\u001b[49m\u001b[43m=\u001b[49m\u001b[43mend_idx\u001b[49m\u001b[43m,\u001b[49m\n\u001b[32m     12\u001b[39m \u001b[43m    \u001b[49m\u001b[43moutput_path\u001b[49m\u001b[43m=\u001b[49m\u001b[38;5;28;43mstr\u001b[39;49m\u001b[43m(\u001b[49m\u001b[43moutput_path_range\u001b[49m\u001b[43m)\u001b[49m\u001b[43m,\u001b[49m\n\u001b[32m     13\u001b[39m \u001b[43m    \u001b[49m\u001b[43mformat_type\u001b[49m\u001b[43m=\u001b[49m\u001b[33;43m\"\u001b[39;49m\u001b[33;43mjsonl\u001b[39;49m\u001b[33;43m\"\u001b[39;49m\u001b[43m,\u001b[49m\n\u001b[32m     14\u001b[39m \u001b[43m    \u001b[49m\u001b[43mreturn_detokenized\u001b[49m\u001b[43m=\u001b[49m\u001b[38;5;28;43;01mTrue\u001b[39;49;00m\u001b[43m,\u001b[49m\n\u001b[32m     15\u001b[39m \u001b[43m    \u001b[49m\u001b[43mtokenizer\u001b[49m\u001b[43m=\u001b[49m\u001b[43mtokenizer\u001b[49m\u001b[43m,\u001b[49m\n\u001b[32m     16\u001b[39m \u001b[43m    \u001b[49m\u001b[43minclude_doc_details\u001b[49m\u001b[43m=\u001b[49m\u001b[38;5;28;43;01mTrue\u001b[39;49;00m\n\u001b[32m     17\u001b[39m \u001b[43m)\u001b[49m\n\u001b[32m     19\u001b[39m \u001b[38;5;28mprint\u001b[39m(\u001b[33mf\u001b[39m\u001b[33m\"\u001b[39m\u001b[33mExported sequence range [\u001b[39m\u001b[38;5;132;01m{\u001b[39;00mstart_idx\u001b[38;5;132;01m}\u001b[39;00m\u001b[33m:\u001b[39m\u001b[38;5;132;01m{\u001b[39;00mend_idx\u001b[38;5;132;01m}\u001b[39;00m\u001b[33m] to: \u001b[39m\u001b[38;5;132;01m{\u001b[39;00moutput_path_range\u001b[38;5;132;01m}\u001b[39;00m\u001b[33m\"\u001b[39m)\n\u001b[32m     21\u001b[39m \u001b[38;5;66;03m# Verify the range export\u001b[39;00m\n",
      "\u001b[36mFile \u001b[39m\u001b[32m/NS/llm-pretraining/work/afkhan/tokensmith/tokensmith/export/handler.py:221\u001b[39m, in \u001b[36mExportHandler.export_sequence_range\u001b[39m\u001b[34m(self, start_idx, end_idx, output_path, format_type, return_detokenized, tokenizer, include_doc_details)\u001b[39m\n\u001b[32m    218\u001b[39m sequence_indices = \u001b[38;5;28mlist\u001b[39m(\u001b[38;5;28mrange\u001b[39m(start_idx, end_idx))\n\u001b[32m    220\u001b[39m \u001b[38;5;66;03m# Use the existing export_sequences method\u001b[39;00m\n\u001b[32m--> \u001b[39m\u001b[32m221\u001b[39m \u001b[38;5;28;43mself\u001b[39;49m\u001b[43m.\u001b[49m\u001b[43mexport_sequences\u001b[49m\u001b[43m(\u001b[49m\n\u001b[32m    222\u001b[39m \u001b[43m    \u001b[49m\u001b[43msequence_indices\u001b[49m\u001b[43m=\u001b[49m\u001b[43msequence_indices\u001b[49m\u001b[43m,\u001b[49m\n\u001b[32m    223\u001b[39m \u001b[43m    \u001b[49m\u001b[43moutput_path\u001b[49m\u001b[43m=\u001b[49m\u001b[43moutput_path\u001b[49m\u001b[43m,\u001b[49m\n\u001b[32m    224\u001b[39m \u001b[43m    \u001b[49m\u001b[43mformat_type\u001b[49m\u001b[43m=\u001b[49m\u001b[43mformat_type\u001b[49m\u001b[43m,\u001b[49m\n\u001b[32m    225\u001b[39m \u001b[43m    \u001b[49m\u001b[43mreturn_detokenized\u001b[49m\u001b[43m=\u001b[49m\u001b[43mreturn_detokenized\u001b[49m\u001b[43m,\u001b[49m\n\u001b[32m    226\u001b[39m \u001b[43m    \u001b[49m\u001b[43mtokenizer\u001b[49m\u001b[43m=\u001b[49m\u001b[43mtokenizer\u001b[49m\u001b[43m,\u001b[49m\n\u001b[32m    227\u001b[39m \u001b[43m    \u001b[49m\u001b[43minclude_doc_details\u001b[49m\u001b[43m=\u001b[49m\u001b[43minclude_doc_details\u001b[49m\n\u001b[32m    228\u001b[39m \u001b[43m\u001b[49m\u001b[43m)\u001b[49m\n",
      "\u001b[36mFile \u001b[39m\u001b[32m/NS/llm-pretraining/work/afkhan/tokensmith/tokensmith/export/handler.py:105\u001b[39m, in \u001b[36mExportHandler.export_sequences\u001b[39m\u001b[34m(self, sequence_indices, output_path, format_type, return_detokenized, tokenizer, include_doc_details)\u001b[39m\n\u001b[32m    102\u001b[39m os.makedirs(os.path.dirname(output_path), exist_ok=\u001b[38;5;28;01mTrue\u001b[39;00m)\n\u001b[32m    104\u001b[39m \u001b[38;5;28;01mif\u001b[39;00m format_type == \u001b[33m\"\u001b[39m\u001b[33mjsonl\u001b[39m\u001b[33m\"\u001b[39m:\n\u001b[32m--> \u001b[39m\u001b[32m105\u001b[39m     \u001b[38;5;28;43mself\u001b[39;49m\u001b[43m.\u001b[49m\u001b[43m_export_to_jsonl\u001b[49m\u001b[43m(\u001b[49m\u001b[43m[\u001b[49m\u001b[43msamples\u001b[49m\u001b[43m]\u001b[49m\u001b[43m,\u001b[49m\u001b[43m \u001b[49m\u001b[43moutput_path\u001b[49m\u001b[43m,\u001b[49m\u001b[43m \u001b[49m\u001b[38;5;28;43;01mTrue\u001b[39;49;00m\u001b[43m,\u001b[49m\u001b[43m \u001b[49m\u001b[43minclude_doc_details\u001b[49m\u001b[43m,\u001b[49m\u001b[43m \u001b[49m\u001b[33;43m\"\u001b[39;49m\u001b[33;43msequence\u001b[39;49m\u001b[33;43m\"\u001b[39;49m\u001b[43m)\u001b[49m\n\u001b[32m    106\u001b[39m \u001b[38;5;28;01melif\u001b[39;00m format_type == \u001b[33m\"\u001b[39m\u001b[33mcsv\u001b[39m\u001b[33m\"\u001b[39m:\n\u001b[32m    107\u001b[39m     \u001b[38;5;28mself\u001b[39m._export_to_csv([samples], output_path, \u001b[38;5;28;01mTrue\u001b[39;00m, include_doc_details, \u001b[33m\"\u001b[39m\u001b[33msequence\u001b[39m\u001b[33m\"\u001b[39m)\n",
      "\u001b[36mFile \u001b[39m\u001b[32m/NS/llm-pretraining/work/afkhan/tokensmith/tokensmith/export/handler.py:394\u001b[39m, in \u001b[36mExportHandler._export_to_jsonl\u001b[39m\u001b[34m(self, data, output_path, flatten, include_doc_details, export_type)\u001b[39m\n\u001b[32m    391\u001b[39m         flattened_data.extend(batch)\n\u001b[32m    392\u001b[39m     data = flattened_data\n\u001b[32m--> \u001b[39m\u001b[32m394\u001b[39m \u001b[38;5;28;43mself\u001b[39;49m\u001b[43m.\u001b[49m\u001b[43m_write_chunk_to_jsonl\u001b[49m\u001b[43m(\u001b[49m\u001b[43mdata\u001b[49m\u001b[43m,\u001b[49m\u001b[43m \u001b[49m\u001b[43mf\u001b[49m\u001b[43m,\u001b[49m\u001b[43m \u001b[49m\u001b[43minclude_doc_details\u001b[49m\u001b[43m,\u001b[49m\u001b[43m \u001b[49m\u001b[32;43m0\u001b[39;49m\u001b[43m)\u001b[49m\n",
      "\u001b[36mFile \u001b[39m\u001b[32m/NS/llm-pretraining/work/afkhan/tokensmith/tokensmith/export/handler.py:437\u001b[39m, in \u001b[36mExportHandler._write_chunk_to_jsonl\u001b[39m\u001b[34m(self, chunk_data, file_handle, include_doc_details, start_idx)\u001b[39m\n\u001b[32m    431\u001b[39m \u001b[38;5;28;01melse\u001b[39;00m:\n\u001b[32m    432\u001b[39m     record = {\n\u001b[32m    433\u001b[39m         \u001b[33m\"\u001b[39m\u001b[33mindex\u001b[39m\u001b[33m\"\u001b[39m: start_idx + i,\n\u001b[32m    434\u001b[39m         \u001b[33m\"\u001b[39m\u001b[33mcontent\u001b[39m\u001b[33m\"\u001b[39m: sample \u001b[38;5;28;01mif\u001b[39;00m \u001b[38;5;28misinstance\u001b[39m(sample, \u001b[38;5;28mstr\u001b[39m) \u001b[38;5;28;01melse\u001b[39;00m sample.tolist()\n\u001b[32m    435\u001b[39m     }\n\u001b[32m--> \u001b[39m\u001b[32m437\u001b[39m \u001b[43mjson\u001b[49m\u001b[43m.\u001b[49m\u001b[43mdump\u001b[49m\u001b[43m(\u001b[49m\u001b[43mrecord\u001b[49m\u001b[43m,\u001b[49m\u001b[43m \u001b[49m\u001b[43mfile_handle\u001b[49m\u001b[43m,\u001b[49m\u001b[43m \u001b[49m\u001b[43mensure_ascii\u001b[49m\u001b[43m=\u001b[49m\u001b[38;5;28;43;01mFalse\u001b[39;49;00m\u001b[43m)\u001b[49m\n\u001b[32m    438\u001b[39m file_handle.write(\u001b[33m'\u001b[39m\u001b[38;5;130;01m\\n\u001b[39;00m\u001b[33m'\u001b[39m)\n",
      "\u001b[36mFile \u001b[39m\u001b[32m/usr/lib/python3.11/json/__init__.py:179\u001b[39m, in \u001b[36mdump\u001b[39m\u001b[34m(obj, fp, skipkeys, ensure_ascii, check_circular, allow_nan, cls, indent, separators, default, sort_keys, **kw)\u001b[39m\n\u001b[32m    173\u001b[39m     iterable = \u001b[38;5;28mcls\u001b[39m(skipkeys=skipkeys, ensure_ascii=ensure_ascii,\n\u001b[32m    174\u001b[39m         check_circular=check_circular, allow_nan=allow_nan, indent=indent,\n\u001b[32m    175\u001b[39m         separators=separators,\n\u001b[32m    176\u001b[39m         default=default, sort_keys=sort_keys, **kw).iterencode(obj)\n\u001b[32m    177\u001b[39m \u001b[38;5;66;03m# could accelerate with writelines in some versions of Python, at\u001b[39;00m\n\u001b[32m    178\u001b[39m \u001b[38;5;66;03m# a debuggability cost\u001b[39;00m\n\u001b[32m--> \u001b[39m\u001b[32m179\u001b[39m \u001b[43m\u001b[49m\u001b[38;5;28;43;01mfor\u001b[39;49;00m\u001b[43m \u001b[49m\u001b[43mchunk\u001b[49m\u001b[43m \u001b[49m\u001b[38;5;129;43;01min\u001b[39;49;00m\u001b[43m \u001b[49m\u001b[43miterable\u001b[49m\u001b[43m:\u001b[49m\n\u001b[32m    180\u001b[39m \u001b[43m    \u001b[49m\u001b[43mfp\u001b[49m\u001b[43m.\u001b[49m\u001b[43mwrite\u001b[49m\u001b[43m(\u001b[49m\u001b[43mchunk\u001b[49m\u001b[43m)\u001b[49m\n",
      "\u001b[36mFile \u001b[39m\u001b[32m/usr/lib/python3.11/json/encoder.py:432\u001b[39m, in \u001b[36m_make_iterencode.<locals>._iterencode\u001b[39m\u001b[34m(o, _current_indent_level)\u001b[39m\n\u001b[32m    430\u001b[39m     \u001b[38;5;28;01myield from\u001b[39;00m _iterencode_list(o, _current_indent_level)\n\u001b[32m    431\u001b[39m \u001b[38;5;28;01melif\u001b[39;00m \u001b[38;5;28misinstance\u001b[39m(o, \u001b[38;5;28mdict\u001b[39m):\n\u001b[32m--> \u001b[39m\u001b[32m432\u001b[39m     \u001b[38;5;28;01myield from\u001b[39;00m _iterencode_dict(o, _current_indent_level)\n\u001b[32m    433\u001b[39m \u001b[38;5;28;01melse\u001b[39;00m:\n\u001b[32m    434\u001b[39m     \u001b[38;5;28;01mif\u001b[39;00m markers \u001b[38;5;129;01mis\u001b[39;00m \u001b[38;5;129;01mnot\u001b[39;00m \u001b[38;5;28;01mNone\u001b[39;00m:\n",
      "\u001b[36mFile \u001b[39m\u001b[32m/usr/lib/python3.11/json/encoder.py:406\u001b[39m, in \u001b[36m_make_iterencode.<locals>._iterencode_dict\u001b[39m\u001b[34m(dct, _current_indent_level)\u001b[39m\n\u001b[32m    404\u001b[39m         \u001b[38;5;28;01melse\u001b[39;00m:\n\u001b[32m    405\u001b[39m             chunks = _iterencode(value, _current_indent_level)\n\u001b[32m--> \u001b[39m\u001b[32m406\u001b[39m         \u001b[38;5;28;01myield from\u001b[39;00m chunks\n\u001b[32m    407\u001b[39m \u001b[38;5;28;01mif\u001b[39;00m newline_indent \u001b[38;5;129;01mis\u001b[39;00m \u001b[38;5;129;01mnot\u001b[39;00m \u001b[38;5;28;01mNone\u001b[39;00m:\n\u001b[32m    408\u001b[39m     _current_indent_level -= \u001b[32m1\u001b[39m\n",
      "\u001b[36mFile \u001b[39m\u001b[32m/usr/lib/python3.11/json/encoder.py:406\u001b[39m, in \u001b[36m_make_iterencode.<locals>._iterencode_dict\u001b[39m\u001b[34m(dct, _current_indent_level)\u001b[39m\n\u001b[32m    404\u001b[39m         \u001b[38;5;28;01melse\u001b[39;00m:\n\u001b[32m    405\u001b[39m             chunks = _iterencode(value, _current_indent_level)\n\u001b[32m--> \u001b[39m\u001b[32m406\u001b[39m         \u001b[38;5;28;01myield from\u001b[39;00m chunks\n\u001b[32m    407\u001b[39m \u001b[38;5;28;01mif\u001b[39;00m newline_indent \u001b[38;5;129;01mis\u001b[39;00m \u001b[38;5;129;01mnot\u001b[39;00m \u001b[38;5;28;01mNone\u001b[39;00m:\n\u001b[32m    408\u001b[39m     _current_indent_level -= \u001b[32m1\u001b[39m\n",
      "\u001b[36mFile \u001b[39m\u001b[32m/usr/lib/python3.11/json/encoder.py:439\u001b[39m, in \u001b[36m_make_iterencode.<locals>._iterencode\u001b[39m\u001b[34m(o, _current_indent_level)\u001b[39m\n\u001b[32m    437\u001b[39m         \u001b[38;5;28;01mraise\u001b[39;00m \u001b[38;5;167;01mValueError\u001b[39;00m(\u001b[33m\"\u001b[39m\u001b[33mCircular reference detected\u001b[39m\u001b[33m\"\u001b[39m)\n\u001b[32m    438\u001b[39m     markers[markerid] = o\n\u001b[32m--> \u001b[39m\u001b[32m439\u001b[39m o = \u001b[43m_default\u001b[49m\u001b[43m(\u001b[49m\u001b[43mo\u001b[49m\u001b[43m)\u001b[49m\n\u001b[32m    440\u001b[39m \u001b[38;5;28;01myield from\u001b[39;00m _iterencode(o, _current_indent_level)\n\u001b[32m    441\u001b[39m \u001b[38;5;28;01mif\u001b[39;00m markers \u001b[38;5;129;01mis\u001b[39;00m \u001b[38;5;129;01mnot\u001b[39;00m \u001b[38;5;28;01mNone\u001b[39;00m:\n",
      "\u001b[36mFile \u001b[39m\u001b[32m/usr/lib/python3.11/json/encoder.py:180\u001b[39m, in \u001b[36mJSONEncoder.default\u001b[39m\u001b[34m(self, o)\u001b[39m\n\u001b[32m    161\u001b[39m \u001b[38;5;28;01mdef\u001b[39;00m\u001b[38;5;250m \u001b[39m\u001b[34mdefault\u001b[39m(\u001b[38;5;28mself\u001b[39m, o):\n\u001b[32m    162\u001b[39m \u001b[38;5;250m    \u001b[39m\u001b[33;03m\"\"\"Implement this method in a subclass such that it returns\u001b[39;00m\n\u001b[32m    163\u001b[39m \u001b[33;03m    a serializable object for ``o``, or calls the base implementation\u001b[39;00m\n\u001b[32m    164\u001b[39m \u001b[33;03m    (to raise a ``TypeError``).\u001b[39;00m\n\u001b[32m   (...)\u001b[39m\u001b[32m    178\u001b[39m \n\u001b[32m    179\u001b[39m \u001b[33;03m    \"\"\"\u001b[39;00m\n\u001b[32m--> \u001b[39m\u001b[32m180\u001b[39m     \u001b[38;5;28;01mraise\u001b[39;00m \u001b[38;5;167;01mTypeError\u001b[39;00m(\u001b[33mf\u001b[39m\u001b[33m'\u001b[39m\u001b[33mObject of type \u001b[39m\u001b[38;5;132;01m{\u001b[39;00mo.\u001b[34m__class__\u001b[39m.\u001b[34m__name__\u001b[39m\u001b[38;5;132;01m}\u001b[39;00m\u001b[33m \u001b[39m\u001b[33m'\u001b[39m\n\u001b[32m    181\u001b[39m                     \u001b[33mf\u001b[39m\u001b[33m'\u001b[39m\u001b[33mis not JSON serializable\u001b[39m\u001b[33m'\u001b[39m)\n",
      "\u001b[31mTypeError\u001b[39m: Object of type int32 is not JSON serializable"
     ]
    }
   ],
   "source": [
    "# Example 5: Export sequence range\n",
    "print(\"\\n=== Export Sequence Range Example ===\")\n",
    "\n",
    "# Export a range of consecutive sequences\n",
    "start_idx = 100\n",
    "end_idx = 120  # Export indices 100-119 (20 sequences)\n",
    "output_path_range = export_dir / \"sequence_range.jsonl\"\n",
    "\n",
    "dataset_manager.export.export_sequence_range(\n",
    "    start_idx=start_idx,\n",
    "    end_idx=end_idx,\n",
    "    output_path=str(output_path_range),\n",
    "    format_type=\"jsonl\",\n",
    "    return_detokenized=True,\n",
    "    tokenizer=tokenizer,\n",
    "    include_doc_details=True\n",
    ")\n",
    "\n",
    "print(f\"Exported sequence range [{start_idx}:{end_idx}] to: {output_path_range}\")\n",
    "\n",
    "# Verify the range export\n",
    "with open(output_path_range, 'r') as f:\n",
    "    lines = f.readlines()\n",
    "    print(f\"Exported {len(lines)} sequences\")\n",
    "    \n",
    "    # Check first and last records\n",
    "    first_record = json.loads(lines[0])\n",
    "    last_record = json.loads(lines[-1])\n",
    "    \n",
    "    print(f\"First record index: {first_record['index']}\")\n",
    "    print(f\"Last record index: {last_record['index']}\")\n",
    "    print(f\"First record content: {first_record['content'][:70]}...\")\n",
    "    print(f\"First record doc_details: {first_record.get('doc_details', 'N/A')}\")"
   ]
  },
  {
   "cell_type": "code",
   "execution_count": null,
   "id": "259e9d88",
   "metadata": {},
   "outputs": [
    {
     "name": "stdout",
     "output_type": "stream",
     "text": [
      "\n",
      "=== Export Batch Range Example ===\n",
      "Exported batch range [3:8] with batch_size=2 to: /NS/llm-pretraining/work/afkhan/tokensmith/exports/batch_range.csv\n",
      "Exported 10 total samples\n",
      "Expected samples: 10 (5 batches × 2 samples each)\n",
      "Index range: 0 to 9\n",
      "Sample from batch range:\n",
      "  Index 0:  baby, saving them from certain injury. The creative baby fe...\n"
     ]
    }
   ],
   "source": [
    "# Example 6: Export batch range\n",
    "print(\"\\n=== Export Batch Range Example ===\")\n",
    "\n",
    "# Export a range of consecutive batches\n",
    "start_batch = 3\n",
    "end_batch = 8  # Export batch IDs 3, 4, 5, 6, 7 (5 batches)\n",
    "batch_size = 2\n",
    "output_path_batch_range = export_dir / \"batch_range.csv\"\n",
    "\n",
    "dataset_manager.export.export_batch_range(\n",
    "    start_batch=start_batch,\n",
    "    end_batch=end_batch,\n",
    "    batch_size=batch_size,\n",
    "    output_path=str(output_path_batch_range),\n",
    "    format_type=\"csv\",\n",
    "    return_detokenized=True,\n",
    "    tokenizer=tokenizer,\n",
    "    include_doc_details=False,\n",
    "    flatten_batches=True  # Flatten for easier CSV reading\n",
    ")\n",
    "\n",
    "print(f\"Exported batch range [{start_batch}:{end_batch}] with batch_size={batch_size} to: {output_path_batch_range}\")\n",
    "\n",
    "# Read and analyze the CSV\n",
    "df_batch_range = pd.read_csv(output_path_batch_range)\n",
    "print(f\"Exported {len(df_batch_range)} total samples\")\n",
    "print(f\"Expected samples: {(end_batch - start_batch) * batch_size} ({end_batch - start_batch} batches × {batch_size} samples each)\")\n",
    "print(f\"Index range: {df_batch_range['index'].min()} to {df_batch_range['index'].max()}\")\n",
    "print(f\"Sample from batch range:\")\n",
    "print(f\"  Index {df_batch_range.iloc[0]['index']}: {df_batch_range.iloc[0]['content'][:60]}...\")"
   ]
  },
  {
   "cell_type": "code",
   "execution_count": null,
   "id": "795f8a80",
   "metadata": {},
   "outputs": [
    {
     "name": "stdout",
     "output_type": "stream",
     "text": [
      "\n",
      "=== Export Dataset Range with Chunking Example ===\n"
     ]
    },
    {
     "ename": "TypeError",
     "evalue": "object of type 'WriteableMMapIndexedDataset' has no len()",
     "output_type": "error",
     "traceback": [
      "\u001b[31m---------------------------------------------------------------------------\u001b[39m",
      "\u001b[31mTypeError\u001b[39m                                 Traceback (most recent call last)",
      "\u001b[36mCell\u001b[39m\u001b[36m \u001b[39m\u001b[32mIn[52]\u001b[39m\u001b[32m, line 9\u001b[39m\n\u001b[32m      6\u001b[39m end_idx = \u001b[32m250\u001b[39m  \u001b[38;5;66;03m# Export 50 sequences\u001b[39;00m\n\u001b[32m      7\u001b[39m output_path_dataset_range = export_dir / \u001b[33m\"\u001b[39m\u001b[33mdataset_range_chunked.jsonl\u001b[39m\u001b[33m\"\u001b[39m\n\u001b[32m----> \u001b[39m\u001b[32m9\u001b[39m \u001b[43mdataset_manager\u001b[49m\u001b[43m.\u001b[49m\u001b[43mexport\u001b[49m\u001b[43m.\u001b[49m\u001b[43mexport_dataset_range\u001b[49m\u001b[43m(\u001b[49m\n\u001b[32m     10\u001b[39m \u001b[43m    \u001b[49m\u001b[43mstart_idx\u001b[49m\u001b[43m=\u001b[49m\u001b[43mstart_idx\u001b[49m\u001b[43m,\u001b[49m\n\u001b[32m     11\u001b[39m \u001b[43m    \u001b[49m\u001b[43mend_idx\u001b[49m\u001b[43m=\u001b[49m\u001b[43mend_idx\u001b[49m\u001b[43m,\u001b[49m\n\u001b[32m     12\u001b[39m \u001b[43m    \u001b[49m\u001b[43moutput_path\u001b[49m\u001b[43m=\u001b[49m\u001b[38;5;28;43mstr\u001b[39;49m\u001b[43m(\u001b[49m\u001b[43moutput_path_dataset_range\u001b[49m\u001b[43m)\u001b[49m\u001b[43m,\u001b[49m\n\u001b[32m     13\u001b[39m \u001b[43m    \u001b[49m\u001b[43mformat_type\u001b[49m\u001b[43m=\u001b[49m\u001b[33;43m\"\u001b[39;49m\u001b[33;43mjsonl\u001b[39;49m\u001b[33;43m\"\u001b[39;49m\u001b[43m,\u001b[49m\n\u001b[32m     14\u001b[39m \u001b[43m    \u001b[49m\u001b[43mreturn_detokenized\u001b[49m\u001b[43m=\u001b[49m\u001b[38;5;28;43;01mTrue\u001b[39;49;00m\u001b[43m,\u001b[49m\n\u001b[32m     15\u001b[39m \u001b[43m    \u001b[49m\u001b[43mtokenizer\u001b[49m\u001b[43m=\u001b[49m\u001b[43mtokenizer\u001b[49m\u001b[43m,\u001b[49m\n\u001b[32m     16\u001b[39m \u001b[43m    \u001b[49m\u001b[43minclude_doc_details\u001b[49m\u001b[43m=\u001b[49m\u001b[38;5;28;43;01mTrue\u001b[39;49;00m\u001b[43m,\u001b[49m\n\u001b[32m     17\u001b[39m \u001b[43m    \u001b[49m\u001b[43mchunk_size\u001b[49m\u001b[43m=\u001b[49m\u001b[32;43m10\u001b[39;49m\u001b[43m  \u001b[49m\u001b[38;5;66;43;03m# Process in chunks of 10 for demonstration\u001b[39;49;00m\n\u001b[32m     18\u001b[39m \u001b[43m)\u001b[49m\n\u001b[32m     20\u001b[39m \u001b[38;5;28mprint\u001b[39m(\u001b[33mf\u001b[39m\u001b[33m\"\u001b[39m\u001b[33mExported dataset range [\u001b[39m\u001b[38;5;132;01m{\u001b[39;00mstart_idx\u001b[38;5;132;01m}\u001b[39;00m\u001b[33m:\u001b[39m\u001b[38;5;132;01m{\u001b[39;00mend_idx\u001b[38;5;132;01m}\u001b[39;00m\u001b[33m] with chunking to: \u001b[39m\u001b[38;5;132;01m{\u001b[39;00moutput_path_dataset_range\u001b[38;5;132;01m}\u001b[39;00m\u001b[33m\"\u001b[39m)\n\u001b[32m     22\u001b[39m \u001b[38;5;66;03m# Verify chunked export\u001b[39;00m\n",
      "\u001b[36mFile \u001b[39m\u001b[32m/NS/llm-pretraining/work/afkhan/tokensmith/tokensmith/export/handler.py:334\u001b[39m, in \u001b[36mExportHandler.export_dataset_range\u001b[39m\u001b[34m(self, start_idx, end_idx, output_path, format_type, return_detokenized, tokenizer, include_doc_details, chunk_size)\u001b[39m\n\u001b[32m    331\u001b[39m     \u001b[38;5;28;01mraise\u001b[39;00m \u001b[38;5;167;01mValueError\u001b[39;00m(\u001b[33m\"\u001b[39m\u001b[33mstart_idx must be less than end_idx\u001b[39m\u001b[33m\"\u001b[39m)\n\u001b[32m    333\u001b[39m \u001b[38;5;66;03m# Get total number of samples to validate range\u001b[39;00m\n\u001b[32m--> \u001b[39m\u001b[32m334\u001b[39m total_samples = \u001b[38;5;28;43mlen\u001b[39;49m\u001b[43m(\u001b[49m\u001b[38;5;28;43mself\u001b[39;49m\u001b[43m.\u001b[49m\u001b[43mmanager\u001b[49m\u001b[43m.\u001b[49m\u001b[43mWriteableMMapIndexedDataset\u001b[49m\u001b[43m)\u001b[49m\n\u001b[32m    335\u001b[39m \u001b[38;5;28;01mif\u001b[39;00m end_idx > total_samples:\n\u001b[32m    336\u001b[39m     \u001b[38;5;28;01mraise\u001b[39;00m \u001b[38;5;167;01mValueError\u001b[39;00m(\u001b[33mf\u001b[39m\u001b[33m\"\u001b[39m\u001b[33mend_idx (\u001b[39m\u001b[38;5;132;01m{\u001b[39;00mend_idx\u001b[38;5;132;01m}\u001b[39;00m\u001b[33m) exceeds dataset size (\u001b[39m\u001b[38;5;132;01m{\u001b[39;00mtotal_samples\u001b[38;5;132;01m}\u001b[39;00m\u001b[33m)\u001b[39m\u001b[33m\"\u001b[39m)\n",
      "\u001b[31mTypeError\u001b[39m: object of type 'WriteableMMapIndexedDataset' has no len()"
     ]
    }
   ],
   "source": [
    "# Example 7: Export dataset range with chunking\n",
    "print(\"\\n=== Export Dataset Range with Chunking Example ===\")\n",
    "\n",
    "# Export a large range of the dataset using memory-efficient chunking\n",
    "start_idx = 200\n",
    "end_idx = 250  # Export 50 sequences\n",
    "output_path_dataset_range = export_dir / \"dataset_range_chunked.jsonl\"\n",
    "\n",
    "dataset_manager.export.export_dataset_range(\n",
    "    start_idx=start_idx,\n",
    "    end_idx=end_idx,\n",
    "    output_path=str(output_path_dataset_range),\n",
    "    format_type=\"jsonl\",\n",
    "    return_detokenized=True,\n",
    "    tokenizer=tokenizer,\n",
    "    include_doc_details=True,\n",
    "    chunk_size=10  # Process in chunks of 10 for demonstration\n",
    ")\n",
    "\n",
    "print(f\"Exported dataset range [{start_idx}:{end_idx}] with chunking to: {output_path_dataset_range}\")\n",
    "\n",
    "# Verify chunked export\n",
    "with open(output_path_dataset_range, 'r') as f:\n",
    "    lines = f.readlines()\n",
    "    print(f\"Total records exported: {len(lines)}\")\n",
    "    print(f\"Expected records: {end_idx - start_idx}\")\n",
    "    \n",
    "    # Show every 10th record to demonstrate chunking worked\n",
    "    for i in range(0, min(len(lines), 30), 10):\n",
    "        record = json.loads(lines[i])\n",
    "        print(f\"Record at position {i}: Index {record['index']}, Content: {record['content'][:50]}...\")"
   ]
  },
  {
   "cell_type": "code",
   "execution_count": null,
   "id": "0c3c2236",
   "metadata": {},
   "outputs": [
    {
     "name": "stdout",
     "output_type": "stream",
     "text": [
      "\n",
      "=== Export Raw Tokens Example ===\n"
     ]
    },
    {
     "ename": "AttributeError",
     "evalue": "'list' object has no attribute 'tolist'",
     "output_type": "error",
     "traceback": [
      "\u001b[31m---------------------------------------------------------------------------\u001b[39m",
      "\u001b[31mAttributeError\u001b[39m                            Traceback (most recent call last)",
      "\u001b[36mCell\u001b[39m\u001b[36m \u001b[39m\u001b[32mIn[53]\u001b[39m\u001b[32m, line 8\u001b[39m\n\u001b[32m      5\u001b[39m sequence_indices_tokens = [\u001b[32m20\u001b[39m, \u001b[32m21\u001b[39m, \u001b[32m22\u001b[39m]\n\u001b[32m      6\u001b[39m output_path_tokens = export_dir / \u001b[33m\"\u001b[39m\u001b[33mraw_tokens.jsonl\u001b[39m\u001b[33m\"\u001b[39m\n\u001b[32m----> \u001b[39m\u001b[32m8\u001b[39m \u001b[43mdataset_manager\u001b[49m\u001b[43m.\u001b[49m\u001b[43mexport\u001b[49m\u001b[43m.\u001b[49m\u001b[43mexport_sequences\u001b[49m\u001b[43m(\u001b[49m\n\u001b[32m      9\u001b[39m \u001b[43m    \u001b[49m\u001b[43msequence_indices\u001b[49m\u001b[43m=\u001b[49m\u001b[43msequence_indices_tokens\u001b[49m\u001b[43m,\u001b[49m\n\u001b[32m     10\u001b[39m \u001b[43m    \u001b[49m\u001b[43moutput_path\u001b[49m\u001b[43m=\u001b[49m\u001b[38;5;28;43mstr\u001b[39;49m\u001b[43m(\u001b[49m\u001b[43moutput_path_tokens\u001b[49m\u001b[43m)\u001b[49m\u001b[43m,\u001b[49m\n\u001b[32m     11\u001b[39m \u001b[43m    \u001b[49m\u001b[43mformat_type\u001b[49m\u001b[43m=\u001b[49m\u001b[33;43m\"\u001b[39;49m\u001b[33;43mjsonl\u001b[39;49m\u001b[33;43m\"\u001b[39;49m\u001b[43m,\u001b[49m\n\u001b[32m     12\u001b[39m \u001b[43m    \u001b[49m\u001b[43mreturn_detokenized\u001b[49m\u001b[43m=\u001b[49m\u001b[38;5;28;43;01mFalse\u001b[39;49;00m\u001b[43m,\u001b[49m\u001b[43m  \u001b[49m\u001b[38;5;66;43;03m# Export raw tokens\u001b[39;49;00m\n\u001b[32m     13\u001b[39m \u001b[43m    \u001b[49m\u001b[43mtokenizer\u001b[49m\u001b[43m=\u001b[49m\u001b[38;5;28;43;01mNone\u001b[39;49;00m\u001b[43m,\u001b[49m\u001b[43m  \u001b[49m\u001b[38;5;66;43;03m# Not needed when return_detokenized=False\u001b[39;49;00m\n\u001b[32m     14\u001b[39m \u001b[43m    \u001b[49m\u001b[43minclude_doc_details\u001b[49m\u001b[43m=\u001b[49m\u001b[38;5;28;43;01mFalse\u001b[39;49;00m\n\u001b[32m     15\u001b[39m \u001b[43m)\u001b[49m\n\u001b[32m     17\u001b[39m \u001b[38;5;28mprint\u001b[39m(\u001b[33mf\u001b[39m\u001b[33m\"\u001b[39m\u001b[33mExported \u001b[39m\u001b[38;5;132;01m{\u001b[39;00m\u001b[38;5;28mlen\u001b[39m(sequence_indices_tokens)\u001b[38;5;132;01m}\u001b[39;00m\u001b[33m sequences as raw tokens to: \u001b[39m\u001b[38;5;132;01m{\u001b[39;00moutput_path_tokens\u001b[38;5;132;01m}\u001b[39;00m\u001b[33m\"\u001b[39m)\n\u001b[32m     19\u001b[39m \u001b[38;5;66;03m# Read and display token arrays\u001b[39;00m\n",
      "\u001b[36mFile \u001b[39m\u001b[32m/NS/llm-pretraining/work/afkhan/tokensmith/tokensmith/export/handler.py:105\u001b[39m, in \u001b[36mExportHandler.export_sequences\u001b[39m\u001b[34m(self, sequence_indices, output_path, format_type, return_detokenized, tokenizer, include_doc_details)\u001b[39m\n\u001b[32m    102\u001b[39m os.makedirs(os.path.dirname(output_path), exist_ok=\u001b[38;5;28;01mTrue\u001b[39;00m)\n\u001b[32m    104\u001b[39m \u001b[38;5;28;01mif\u001b[39;00m format_type == \u001b[33m\"\u001b[39m\u001b[33mjsonl\u001b[39m\u001b[33m\"\u001b[39m:\n\u001b[32m--> \u001b[39m\u001b[32m105\u001b[39m     \u001b[38;5;28;43mself\u001b[39;49m\u001b[43m.\u001b[49m\u001b[43m_export_to_jsonl\u001b[49m\u001b[43m(\u001b[49m\u001b[43m[\u001b[49m\u001b[43msamples\u001b[49m\u001b[43m]\u001b[49m\u001b[43m,\u001b[49m\u001b[43m \u001b[49m\u001b[43moutput_path\u001b[49m\u001b[43m,\u001b[49m\u001b[43m \u001b[49m\u001b[38;5;28;43;01mTrue\u001b[39;49;00m\u001b[43m,\u001b[49m\u001b[43m \u001b[49m\u001b[43minclude_doc_details\u001b[49m\u001b[43m,\u001b[49m\u001b[43m \u001b[49m\u001b[33;43m\"\u001b[39;49m\u001b[33;43msequence\u001b[39;49m\u001b[33;43m\"\u001b[39;49m\u001b[43m)\u001b[49m\n\u001b[32m    106\u001b[39m \u001b[38;5;28;01melif\u001b[39;00m format_type == \u001b[33m\"\u001b[39m\u001b[33mcsv\u001b[39m\u001b[33m\"\u001b[39m:\n\u001b[32m    107\u001b[39m     \u001b[38;5;28mself\u001b[39m._export_to_csv([samples], output_path, \u001b[38;5;28;01mTrue\u001b[39;00m, include_doc_details, \u001b[33m\"\u001b[39m\u001b[33msequence\u001b[39m\u001b[33m\"\u001b[39m)\n",
      "\u001b[36mFile \u001b[39m\u001b[32m/NS/llm-pretraining/work/afkhan/tokensmith/tokensmith/export/handler.py:394\u001b[39m, in \u001b[36mExportHandler._export_to_jsonl\u001b[39m\u001b[34m(self, data, output_path, flatten, include_doc_details, export_type)\u001b[39m\n\u001b[32m    391\u001b[39m         flattened_data.extend(batch)\n\u001b[32m    392\u001b[39m     data = flattened_data\n\u001b[32m--> \u001b[39m\u001b[32m394\u001b[39m \u001b[38;5;28;43mself\u001b[39;49m\u001b[43m.\u001b[49m\u001b[43m_write_chunk_to_jsonl\u001b[49m\u001b[43m(\u001b[49m\u001b[43mdata\u001b[49m\u001b[43m,\u001b[49m\u001b[43m \u001b[49m\u001b[43mf\u001b[49m\u001b[43m,\u001b[49m\u001b[43m \u001b[49m\u001b[43minclude_doc_details\u001b[49m\u001b[43m,\u001b[49m\u001b[43m \u001b[49m\u001b[32;43m0\u001b[39;49m\u001b[43m)\u001b[49m\n",
      "\u001b[36mFile \u001b[39m\u001b[32m/NS/llm-pretraining/work/afkhan/tokensmith/tokensmith/export/handler.py:434\u001b[39m, in \u001b[36mExportHandler._write_chunk_to_jsonl\u001b[39m\u001b[34m(self, chunk_data, file_handle, include_doc_details, start_idx)\u001b[39m\n\u001b[32m    426\u001b[39m     record = {\n\u001b[32m    427\u001b[39m         \u001b[33m\"\u001b[39m\u001b[33mindex\u001b[39m\u001b[33m\"\u001b[39m: start_idx + i,\n\u001b[32m    428\u001b[39m         \u001b[33m\"\u001b[39m\u001b[33mcontent\u001b[39m\u001b[33m\"\u001b[39m: content \u001b[38;5;28;01mif\u001b[39;00m \u001b[38;5;28misinstance\u001b[39m(content, \u001b[38;5;28mstr\u001b[39m) \u001b[38;5;28;01melse\u001b[39;00m content.tolist(),\n\u001b[32m    429\u001b[39m         \u001b[33m\"\u001b[39m\u001b[33mdoc_details\u001b[39m\u001b[33m\"\u001b[39m: doc_details\n\u001b[32m    430\u001b[39m     }\n\u001b[32m    431\u001b[39m \u001b[38;5;28;01melse\u001b[39;00m:\n\u001b[32m    432\u001b[39m     record = {\n\u001b[32m    433\u001b[39m         \u001b[33m\"\u001b[39m\u001b[33mindex\u001b[39m\u001b[33m\"\u001b[39m: start_idx + i,\n\u001b[32m--> \u001b[39m\u001b[32m434\u001b[39m         \u001b[33m\"\u001b[39m\u001b[33mcontent\u001b[39m\u001b[33m\"\u001b[39m: sample \u001b[38;5;28;01mif\u001b[39;00m \u001b[38;5;28misinstance\u001b[39m(sample, \u001b[38;5;28mstr\u001b[39m) \u001b[38;5;28;01melse\u001b[39;00m \u001b[43msample\u001b[49m\u001b[43m.\u001b[49m\u001b[43mtolist\u001b[49m()\n\u001b[32m    435\u001b[39m     }\n\u001b[32m    437\u001b[39m json.dump(record, file_handle, ensure_ascii=\u001b[38;5;28;01mFalse\u001b[39;00m)\n\u001b[32m    438\u001b[39m file_handle.write(\u001b[33m'\u001b[39m\u001b[38;5;130;01m\\n\u001b[39;00m\u001b[33m'\u001b[39m)\n",
      "\u001b[31mAttributeError\u001b[39m: 'list' object has no attribute 'tolist'"
     ]
    }
   ],
   "source": [
    "# Example 8: Export raw tokens (non-detokenized)\n",
    "print(\"\\n=== Export Raw Tokens Example ===\")\n",
    "\n",
    "# Export sequences as raw token arrays instead of detokenized text\n",
    "sequence_indices_tokens = [20, 21, 22]\n",
    "output_path_tokens = export_dir / \"raw_tokens.jsonl\"\n",
    "\n",
    "dataset_manager.export.export_sequences(\n",
    "    sequence_indices=sequence_indices_tokens,\n",
    "    output_path=str(output_path_tokens),\n",
    "    format_type=\"jsonl\",\n",
    "    return_detokenized=False,  # Export raw tokens\n",
    "    tokenizer=None,  # Not needed when return_detokenized=False\n",
    "    include_doc_details=False\n",
    ")\n",
    "\n",
    "print(f\"Exported {len(sequence_indices_tokens)} sequences as raw tokens to: {output_path_tokens}\")\n",
    "\n",
    "# Read and display token arrays\n",
    "with open(output_path_tokens, 'r') as f:\n",
    "    for i, line in enumerate(f):\n",
    "        record = json.loads(line)\n",
    "        tokens = record['content']\n",
    "        print(f\"Sequence {record['index']}: {len(tokens)} tokens\")\n",
    "        print(f\"  First 20 tokens: {tokens[:20]}\")\n",
    "        print(f\"  Last 10 tokens: {tokens[-10:]}\")\n",
    "        print(f\"  Token range: {min(tokens)} to {max(tokens)}\")\n",
    "        print()"
   ]
  },
  {
   "cell_type": "code",
   "execution_count": null,
   "id": "f00b8ecf",
   "metadata": {},
   "outputs": [],
   "source": [
    "# Example 9: Compare JSONL vs CSV formats\n",
    "print(\"\\n=== Compare Export Formats Example ===\")\n",
    "\n",
    "# Export the same data in both formats for comparison\n",
    "comparison_indices = [80, 85, 90]\n",
    "\n",
    "# Export as JSONL\n",
    "jsonl_path = export_dir / \"format_comparison.jsonl\"\n",
    "dataset_manager.export.export_sequences(\n",
    "    sequence_indices=comparison_indices,\n",
    "    output_path=str(jsonl_path),\n",
    "    format_type=\"jsonl\",\n",
    "    return_detokenized=True,\n",
    "    tokenizer=tokenizer,\n",
    "    include_doc_details=True\n",
    ")\n",
    "\n",
    "# Export as CSV\n",
    "csv_path = export_dir / \"format_comparison.csv\"\n",
    "dataset_manager.export.export_sequences(\n",
    "    sequence_indices=comparison_indices,\n",
    "    output_path=str(csv_path),\n",
    "    format_type=\"csv\",\n",
    "    return_detokenized=True,\n",
    "    tokenizer=tokenizer,\n",
    "    include_doc_details=True\n",
    ")\n",
    "\n",
    "print(f\"Exported to both formats:\")\n",
    "print(f\"  JSONL: {jsonl_path}\")\n",
    "print(f\"  CSV: {csv_path}\")\n",
    "\n",
    "# Compare file sizes\n",
    "import os\n",
    "jsonl_size = os.path.getsize(jsonl_path)\n",
    "csv_size = os.path.getsize(csv_path)\n",
    "print(f\"\\nFile sizes:\")\n",
    "print(f\"  JSONL: {jsonl_size} bytes\")\n",
    "print(f\"  CSV: {csv_size} bytes\")\n",
    "print(f\"  Size ratio (CSV/JSONL): {csv_size/jsonl_size:.2f}\")\n",
    "\n",
    "# Show structure differences\n",
    "print(f\"\\nJSONL structure (first record):\")\n",
    "with open(jsonl_path, 'r') as f:\n",
    "    first_jsonl = json.loads(f.readline())\n",
    "    print(f\"  Keys: {list(first_jsonl.keys())}\")\n",
    "    print(f\"  Index: {first_jsonl['index']}\")\n",
    "    print(f\"  Content length: {len(first_jsonl['content'])}\")\n",
    "\n",
    "print(f\"\\nCSV structure:\")\n",
    "df_comp = pd.read_csv(csv_path)\n",
    "print(f\"  Columns: {list(df_comp.columns)}\")\n",
    "print(f\"  Shape: {df_comp.shape}\")\n",
    "print(f\"  First row index: {df_comp.iloc[0]['index']}\")\n",
    "print(f\"  First row content length: {len(df_comp.iloc[0]['content'])}\")"
   ]
  },
  {
   "cell_type": "code",
   "execution_count": null,
   "id": "865557b1",
   "metadata": {},
   "outputs": [],
   "source": [
    "# Example 10: Export summary and file management\n",
    "print(\"\\n=== Export Summary and File Management ===\")\n",
    "\n",
    "# List all export files created\n",
    "export_files = list(export_dir.glob(\"*\"))\n",
    "print(f\"Created {len(export_files)} export files:\")\n",
    "\n",
    "total_size = 0\n",
    "for file_path in sorted(export_files):\n",
    "    if file_path.is_file():\n",
    "        size = file_path.stat().st_size\n",
    "        total_size += size\n",
    "        print(f\"  {file_path.name}: {size} bytes ({size/1024:.1f} KB)\")\n",
    "\n",
    "print(f\"\\nTotal export size: {total_size} bytes ({total_size/1024:.1f} KB)\")\n",
    "\n",
    "# Show file formats summary\n",
    "jsonl_files = list(export_dir.glob(\"*.jsonl\"))\n",
    "csv_files = list(export_dir.glob(\"*.csv\"))\n",
    "\n",
    "print(f\"\\nFile format summary:\")\n",
    "print(f\"  JSONL files: {len(jsonl_files)}\")\n",
    "print(f\"  CSV files: {len(csv_files)}\")\n",
    "\n",
    "# Optional: Clean up demo files (uncomment to remove files)\n",
    "# print(f\"\\nCleaning up demo export files...\")\n",
    "# for file_path in export_files:\n",
    "#     if file_path.is_file():\n",
    "#         file_path.unlink()\n",
    "#         print(f\"  Removed: {file_path.name}\")\n",
    "\n",
    "print(f\"\\nExport examples completed successfully!\")\n",
    "print(f\"Check the '{export_dir}' directory to see all exported files.\")"
   ]
  },
  {
   "cell_type": "code",
   "execution_count": null,
   "id": "1c9ae006",
   "metadata": {},
   "outputs": [],
   "source": []
  }
 ],
 "metadata": {
  "kernelspec": {
   "display_name": "neox_updated_env",
   "language": "python",
   "name": "python3"
  },
  "language_info": {
   "codemirror_mode": {
    "name": "ipython",
    "version": 3
   },
   "file_extension": ".py",
   "mimetype": "text/x-python",
   "name": "python",
   "nbconvert_exporter": "python",
   "pygments_lexer": "ipython3",
   "version": "3.11.2"
  }
 },
 "nbformat": 4,
 "nbformat_minor": 5
}
