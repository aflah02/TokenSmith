{
 "cells": [
  {
   "cell_type": "markdown",
   "id": "509e2538",
   "metadata": {},
   "source": [
    "# Setup - \n",
    "Run jupyter-notebook in env and pick link\n"
   ]
  },
  {
   "cell_type": "code",
   "execution_count": 1,
   "id": "03f43b94",
   "metadata": {},
   "outputs": [],
   "source": [
    "import logging\n",
    "# show both debug and warning messages\n",
    "logging.basicConfig(level=logging.DEBUG)"
   ]
  },
  {
   "cell_type": "code",
   "execution_count": 2,
   "id": "1e62e52d",
   "metadata": {},
   "outputs": [],
   "source": [
    "import sys\n",
    "sys.path.insert(0, \"/NS/llm-pretraining/work/afkhan/tokensmith\")"
   ]
  },
  {
   "cell_type": "code",
   "execution_count": 3,
   "id": "9673caf6",
   "metadata": {},
   "outputs": [],
   "source": [
    "import sys\n",
    "sys.path.insert(0, \"/NS/llm-pretraining/work/afkhan/USC_Colab/gpt-neox\")"
   ]
  },
  {
   "cell_type": "code",
   "execution_count": 4,
   "id": "c3c9a061",
   "metadata": {},
   "outputs": [],
   "source": [
    "# import os\n",
    "# import torch\n",
    "# import torch.distributed as dist\n",
    "\n",
    "# def setup():\n",
    "#     # Set required env vars manually\n",
    "#     os.environ['RANK'] = '0'\n",
    "#     os.environ['WORLD_SIZE'] = '1'\n",
    "#     os.environ['MASTER_ADDR'] = '127.0.0.1'\n",
    "#     os.environ['MASTER_PORT'] = '29500'\n",
    "\n",
    "#     dist.init_process_group(backend='nccl', init_method='env://')\n",
    "\n",
    "# setup()\n",
    "\n",
    "# import torch\n",
    "# import os\n",
    "\n",
    "# os.environ['MASTER_ADDR'] = '127.0.0.1'\n",
    "# os.environ['MASTER_PORT'] = '29500'\n",
    "# torch.distributed.init_process_group(backend='nccl', rank=0, world_size=1)"
   ]
  },
  {
   "cell_type": "code",
   "execution_count": 5,
   "id": "7a5f9556",
   "metadata": {},
   "outputs": [
    {
     "name": "stderr",
     "output_type": "stream",
     "text": [
      "INFO:numexpr.utils:Note: NumExpr detected 32 cores but \"NUMEXPR_MAX_THREADS\" not set, so enforcing safe limit of 16.\n",
      "INFO:numexpr.utils:NumExpr defaulting to 16 threads.\n",
      "INFO:datasets:PyTorch version 2.5.1+cu118 available.\n"
     ]
    },
    {
     "name": "stdout",
     "output_type": "stream",
     "text": [
      "[2025-06-26 08:02:00,018] [INFO] [real_accelerator.py:161:get_accelerator] Setting ds_accelerator to cuda (auto detect)\n"
     ]
    },
    {
     "name": "stderr",
     "output_type": "stream",
     "text": [
      "/NS/venvs/work/afkhan/neox_updated_env/lib/python3.11/site-packages/deepspeed/runtime/zero/linear.py:47: FutureWarning: `torch.cuda.amp.custom_fwd(args...)` is deprecated. Please use `torch.amp.custom_fwd(args..., device_type='cuda')` instead.\n",
      "  @autocast_custom_fwd\n",
      "/NS/venvs/work/afkhan/neox_updated_env/lib/python3.11/site-packages/deepspeed/runtime/zero/linear.py:66: FutureWarning: `torch.cuda.amp.custom_bwd(args...)` is deprecated. Please use `torch.amp.custom_bwd(args..., device_type='cuda')` instead.\n",
      "  @autocast_custom_bwd\n",
      "DEBUG:git.cmd:Popen(['git', 'version'], cwd=/NS/llm-pretraining/work/afkhan/tokensmith, stdin=None, shell=False, universal_newlines=False)\n",
      "DEBUG:git.cmd:Popen(['git', 'version'], cwd=/NS/llm-pretraining/work/afkhan/tokensmith, stdin=None, shell=False, universal_newlines=False)\n",
      "DEBUG:wandb.docker.auth:Trying paths: ['/home/afkhan/.docker/config.json', '/home/afkhan/.dockercfg']\n",
      "DEBUG:wandb.docker.auth:Found file at path: /home/afkhan/.docker/config.json\n",
      "DEBUG:wandb.docker.auth:Found 'auths' section\n",
      "DEBUG:wandb.docker.auth:Found entry (registry='registry.mpi-sws.org', username='ns-llm-1')\n"
     ]
    }
   ],
   "source": [
    "from tokensmith.manager import DatasetManager"
   ]
  },
  {
   "cell_type": "code",
   "execution_count": 6,
   "id": "7fc92c48",
   "metadata": {},
   "outputs": [],
   "source": [
    "dataset_manager = DatasetManager()"
   ]
  },
  {
   "cell_type": "markdown",
   "id": "affe7a55",
   "metadata": {},
   "source": [
    "# Setup Search"
   ]
  },
  {
   "cell_type": "code",
   "execution_count": 7,
   "id": "c21b5328",
   "metadata": {},
   "outputs": [],
   "source": [
    "# dataset_manager.setup_search(\n",
    "#     bin_file_path=\"/NS/llm-pretraining/work/afkhan/tokensmith/artifacts/data_tokenized_text_document.bin\",\n",
    "#     search_index_save_path=\"/NS/llm-pretraining/work/afkhan/tokensmith/artifacts/search_index_text_document.idx\",\n",
    "#     vocab=2**32,\n",
    "#     verbose=True,\n",
    "#     reuse=True,\n",
    "# )"
   ]
  },
  {
   "cell_type": "code",
   "execution_count": null,
   "id": "a9eebc3c",
   "metadata": {},
   "outputs": [],
   "source": []
  },
  {
   "cell_type": "code",
   "execution_count": 8,
   "id": "08207b9d",
   "metadata": {},
   "outputs": [
    {
     "name": "stderr",
     "output_type": "stream",
     "text": [
      "DEBUG:tokensmith.utils:Initializing WriteableMMapIndexedDataset with pointer: /NS/llm-pretraining/work/afkhan/tokensmith/artifacts/data_tokenized_text_document.bin and index: /NS/llm-pretraining/work/afkhan/tokensmith/artifacts/data_tokenized_text_document.idx\n",
      "DEBUG:tokensmith.utils:Loading doc/sample/shuffle indexes with prefix: /NS/llm-pretraining/work/afkhan/tokensmith/artifacts/batch_info\n"
     ]
    },
    {
     "name": "stdout",
     "output_type": "stream",
     "text": [
      "    warming up index mmap file...\n",
      "    reading sizes...\n",
      "    reading pointers...\n",
      "    reading document index...\n",
      "[2025-06-26 08:02:05,479] [INFO] [comm.py:637:init_distributed] cdb=None\n",
      "[2025-06-26 08:02:05,479] [INFO] [comm.py:652:init_distributed] Not using the DeepSpeed or dist launchers, attempting to detect MPI environment...\n"
     ]
    },
    {
     "name": "stdout",
     "output_type": "stream",
     "text": [
      "[2025-06-26 08:02:05,848] [INFO] [comm.py:702:mpi_discovery] Discovered MPI settings of world_rank=0, local_rank=0, world_size=1, master_addr=172.17.0.1, master_port=6000\n",
      "[2025-06-26 08:02:05,849] [INFO] [comm.py:668:init_distributed] Initializing TorchBackend in DeepSpeed with backend nccl\n"
     ]
    },
    {
     "name": "stderr",
     "output_type": "stream",
     "text": [
      "WARNING:tokensmith.utils:Simulating training run. This is method generates the shuffling and batching order for the training data.\n",
      "WARNING:tokensmith.utils:> Data prefix: /NS/llm-pretraining/work/afkhan/tokensmith/artifacts/batch_info, num_samples: 1600, seq_length: 2048, seed: 42, packing_impl: packed\n"
     ]
    },
    {
     "name": "stdout",
     "output_type": "stream",
     "text": [
      "> initializing model parallel with size 1\n",
      "MPU DP: [0]\n",
      "MPU PP: [0]\n",
      "MPU MP: [0]\n",
      " > WARNING: could not find index map files, building the indices on rank 0 ...\n",
      " > elapsed time to build and save doc-idx mapping (seconds): 0.013146\n",
      "    using:\n",
      "     number of documents:       21770\n",
      "     number of epochs:          1\n",
      "     sequence length:           2048\n",
      "     total number of samples:   2213\n",
      " > elapsed time to build and save sample-idx mapping (seconds): 0.005534\n",
      " > elapsed time to build and save shuffle-idx mapping (seconds): 0.003343\n"
     ]
    },
    {
     "name": "stderr",
     "output_type": "stream",
     "text": [
      "/NS/llm-pretraining/work/afkhan/USC_Colab/gpt-neox/megatron/data/gpt2_dataset.py:373: UserWarning: The torch.cuda.*DtypeTensor constructors are no longer recommended. It's best to use methods such as torch.tensor(data, dtype=*, device='cuda') to create tensors. (Triggered internally at ../torch/csrc/tensor/python_tensor.cpp:78.)\n",
      "  counts = torch.cuda.LongTensor([1])\n"
     ]
    },
    {
     "name": "stdout",
     "output_type": "stream",
     "text": [
      " > loading doc-idx mapping from /NS/llm-pretraining/work/afkhan/tokensmith/artifacts/batch_info_train_indexmap_1600ns_2048sl_42s_packedpi_ac_doc_idx.npy\n",
      " > loading sample-idx mapping from /NS/llm-pretraining/work/afkhan/tokensmith/artifacts/batch_info_train_indexmap_1600ns_2048sl_42s_packedpi_ac_sample_idx.npy\n",
      " > loading shuffle-idx mapping from /NS/llm-pretraining/work/afkhan/tokensmith/artifacts/batch_info_train_indexmap_1600ns_2048sl_42s_packedpi_ac_shuffle_idx.npy\n",
      "    loaded indexed file in 0.004 seconds\n",
      "    total number of samples: 2214\n",
      "    total number of epochs: 1\n"
     ]
    }
   ],
   "source": [
    "dataset_manager.setup_edit_inspect_sample_export(\n",
    "    dataset_prefix='/NS/llm-pretraining/work/afkhan/tokensmith/artifacts/data_tokenized_text_document',\n",
    "    # batch_info_prefix='dataset_train_indexmap_100ns_2048sl_1s_packedpi_ac',\n",
    "    batch_info_save_prefix='/NS/llm-pretraining/work/afkhan/tokensmith/artifacts/batch_info',\n",
    "    train_iters=100,\n",
    "    train_batch_size=16,\n",
    "    train_seq_len=2048,\n",
    "    seed=42,\n",
    "    splits_string='990,5,5',\n",
    "    packing_impl='packed',\n",
    "    allow_chopped=True,\n",
    ")"
   ]
  },
  {
   "cell_type": "code",
   "execution_count": 9,
   "id": "d6c92b9e",
   "metadata": {},
   "outputs": [
    {
     "data": {
      "text/plain": [
       "[([array([ 1388,    13,   597,  1089,   247,  1943,  5453,   327,   253,\n",
       "          10583,    15,   733,   310,  8516,   285,  5536,    15,   346,\n",
       "           7745,    13,   247,  5453,  1476, 32817,  2296,    15,   346,\n",
       "           1466,   434,  1132,   342,   352,  1476,   346, 10249,  1476,\n",
       "           6029,  2296,    15,   346,  1276,   476,   359,   513,   342,\n",
       "            352,   865, 32817, 11121,   323,   247,  2774,    15,  2635,\n",
       "            703,   556,   271,  2934,    15,   346,  1231,   476,  5508,\n",
       "            352,  1476,   703,  2296,    15,   346,  9817,   436,  1476,\n",
       "           1500,  6556,   253,  5453,   342,  1097,  3564,   285,  7819,\n",
       "           1475,  3809,    15,   380,  5453,  2789,   247,   665,  6934,\n",
       "           3590,   275,   253,  2329,    15,   346, 24243,    13,   326,\n",
       "           4453,   794,  1476,  6029,  2296,    15,   346,  5804,   309,\n",
       "           1611,   865,   346, 17833,  1476, 32817,  2296,    15,  1500,\n",
       "           4245,   253,  5453,   281,  6029,    15,  6029, 14177,   281,\n",
       "           5508,   352,    13,   533,   352,   310,  1512,  5536,   323,\n",
       "            779,    15,   754, 11521,  1066,   285, 15323,   253,  5453,\n",
       "             15,   346,    48,   976,  1476,  6029,  2296,    15,   346,\n",
       "           2773, 31835,  1476, 32817, 33350,    15,  1500,  7729,  6029,\n",
       "            755,   598,    15,   346,  1394,   403, 22658,  1476,   703,\n",
       "           2296,    15,   346,  1394,   878,   281,   320,  2266,   281,\n",
       "           5508,   253,  5453,  1476,  6029,  2789,   247,  2454,    15,\n",
       "            346,    42,   717,   417, 22658,  1476,   344,  2296,    15,\n",
       "            346,    42,   717,   816,  1355,    15,  1422,   403,  1943,\n",
       "            285,  2266,    15,  2064,   434,   417,  4344,  1476, 32817,\n",
       "          28582,    15,  1500, 15729,    84,  6029,    15,   346,  5498,\n",
       "            626,   320,  8872,   937,   703,  2296,    15,   346,  1231,\n",
       "            476,  1132,  1633,  2010,    15,  1359,   670,   359, 14284,\n",
       "            327,   253, 42534,   865,   346, 10249,  1476,  6029,  2296,\n",
       "             15,   346,  2773,  7835,   794,  1476,  1583,  3553,   253,\n",
       "           5453,   327,   253, 10583,   285,  1408,   281,   253, 42534,\n",
       "             15,  1583, 14284,  1029,   285,  1698,    13,   285,  9012,\n",
       "            285,  1625,    15,  1583,   403,  5211,    15,  1583,   403,\n",
       "           3858,    15,     0], dtype=uint16),\n",
       "   array([16339,   555,   369,   271, 31905,  1264,   807,  1711,    15,\n",
       "           1500,  7636,   281,  1263,    15,  6000,  1388,    13,   703,\n",
       "           2427,   281,   253,  7423,   342,   617,  4651,    15,  6000,\n",
       "           4131,    13,   617,  4651,   651,  3553,   617,   342,   247,\n",
       "           9732,    15,  1500,   369,  9049,   281,  3037,   747,  1841,\n",
       "             15,  2596,  1388,    13,   703,  8344,  1633,  1027,   275,\n",
       "            253,  7423,    15, 17814,   369, 22299,  1475,   247,   747,\n",
       "           5974,    15, 33686,  2546,   617,  9732,   752,   369,  1469,\n",
       "            327,    15,   380,  9732, 10017,    13,   346,  2773,   457,\n",
       "             84, 23239,    15,   754,   434,   247,   747,  5974,    15,\n",
       "            754,   434,  1077, 31905,   670, 12392,    15,   754,   434,\n",
       "           2819,  3579,   281,  4715,   247,  2257,  1476, 33686, 11373,\n",
       "            285,   753,    13,   346,    42,  1353,  9049,   281,   755,\n",
       "            281,   871,   779,  1476,   380,  9732, 11522,   285,   753,\n",
       "             13,   346,  2598,   717,   309,    15,  1281,   434,  9569,\n",
       "           9361,   449,   380,   767,  2151, 27194,   387,  1016,   643,\n",
       "            285,  3407,   281,  1263,    15,  4325,   326,  1388, 47768,\n",
       "             13,   597,   497,  1175,  3858,    15,  1583,   574,  8783,\n",
       "            273,   794,  4715,   285, 18216,   253,  7423,  2366,    15,\n",
       "              0], dtype=uint16),\n",
       "   array([10758,  2220,   247,   673,    13,   627,   369,   247, 14172,\n",
       "             15,   329, 14172,   310,   751,   247,  2940,    13,   533,\n",
       "            342,   625,   952,    15, 17814,   574,  1633,   281,   513,\n",
       "            285,   597,  4307,  2366,    15,   733,   369,  2834,   281,\n",
       "            755,  4130,   281, 16359,   275,   253,   987,  1659,    13,\n",
       "           2299,    15, 34399,    13,   597,  3735,   247, 33784,  1067,\n",
       "            562,    15,   346,  2042,   368,   789,  2366,    13,   368,\n",
       "            476,  1056,   352,  5108,  1476, 17814, 18029,    13,   285,\n",
       "           3053,   281,  1361,  1016,   643,   347,   597, 31653,    15,\n",
       "            733,   369,  1335,  2834,    13,   533,   253, 14172,  6524,\n",
       "          11371,   715,   253,   987,  1659,    15, 17814,   502,  6965,\n",
       "            285,  1161,  2122,    15,   733,   369,   247,  1892,  9455,\n",
       "             13,   533,   597,   574,  1160,   352,     2,   380,   990,\n",
       "              2,     0], dtype=uint16),\n",
       "   array([10758,  2220,   247,   673,   627,   369,   247,  1652,  3226,\n",
       "           4907, 32817,    15, 32817,  7636,   281,  1132,   275,   617,\n",
       "          10329,    15,  2596,  1388,   703,  1119,   247, 31388,  5202,\n",
       "            275,   617, 10329,    15,  1500,   369,   594,  9049,   281,\n",
       "           1089,   690, 41417,     2,  1500,  4541,  5055,   247, 17167,\n",
       "            273, 41417,   285,  1691,   731,   715,   617, 11320,    15,\n",
       "           2058,   326,  2774,    13,   247, 16037, 22560, 17876, 16780,\n",
       "            562,   432,  3212,   253,  5202,    15,   754, 46993,   253,\n",
       "          41417,   285,   753,    13,   773,  2773,   457,    84,  7477,\n",
       "          11602, 32817,   369, 19961,    15,  1500,  3597,   281,  5513,\n",
       "            326,   253, 41417,   497,  2686, 22502,   533,   253, 17876,\n",
       "           3589,   457,    85, 11298,    15,   380, 17876,   369,  1146,\n",
       "           1077, 27915,   285,  1904,   457,    85,   971,   281,  1918,\n",
       "            253, 41417,   896,    15, 32817,   369,   594,  8872,    15,\n",
       "           1500,  3078,   253, 41417,   896,   533,   703,  1904,   457,\n",
       "             85,   871,   752,   281,   513,    15, 34399,    13,   703,\n",
       "            574,   271,  2934,    15,  1500, 33766,   281,   253, 17876,\n",
       "            285,   753,    13,   773,  7845,    13,  4496,  1918,   479,\n",
       "            896,   619, 41417,  1425,   380, 17876,   369,  1077,  9861,\n",
       "            407,   436,    15,   754,  3261,   387, 32817,   285,   840,\n",
       "            387,   253, 41417,    15,   754, 11373,    13, 14048,   896,\n",
       "            253, 41417,   285,  6337,  1977,    15, 32817,   369,   594,\n",
       "           5211,     2,  1500, 35891,   253, 17876,   323,  1146,   594,\n",
       "          19649,   285,   840, 18739,   253,  7166,  2576, 41417,    15,\n",
       "            380,   990,     2,     0], dtype=uint16),\n",
       "   array([10758,  2220,   247,   673,    13,   627,   369,   247,  1652,\n",
       "           5006,  4907,  8969,    15,  8969,   574,   281,  5206,   247,\n",
       "          20953,   281,  1132,   342,   387,  2143,    15,  1707,   497,\n",
       "           1142, 23908,    13,   533,   344,  3047,   581,   326,  7270,\n",
       "            521,  8184,    15,   733,   369,   271, 19513,  1711, 20953,\n",
       "            326,   642,   581, 10490,   281,  1132,   342,    15,  8969,\n",
       "           1869,   352,   369,  2714,    13,   594,   344,  9703,   352,\n",
       "             15,  6000,  1388,    13,  8969,  4546,   342,   253, 19513,\n",
       "          20953,    15,   380,   643,  5753, 12918,   387,   779,    13,\n",
       "            533,  8969,  1904,   626,  1557,    15,   754,  7636,   521,\n",
       "          19513, 20953,    15,  2596,  1388,    13,   247,   747,  5772,\n",
       "           2210,   281,  2143,   285,  3047,   253, 20953,    15,   754,\n",
       "           3078,   281,  1132,   342,   352,  1512,    15,  8969,  1904,\n",
       "            626,   971,   281,  3894,    13,   594,   253,   747,  5772,\n",
       "            369,  8872,    15,  1284,  1897,  2427,   407,    13,  8969,\n",
       "           4934,  4882,   342,   253, 19513, 20953,    15,   380,   747,\n",
       "           5772,  3597,   281,  1056,  3858,    13,   533,  8969,  5082,\n",
       "            626,  1339,   779,  1132,    15,  2596,  1388,    13,   253,\n",
       "          19513, 20953,  9377,    15,  8969,   369,  8872,   285,   574,\n",
       "            642, 20953,   281,  1132,   342,    15,   380,   747,  5772,\n",
       "           1335,   574,   642,  3858,    15,   380,  9447,   273,   253,\n",
       "           2926,   310,   281,  1900,  3894,   285,   320,  2238,    13,\n",
       "            390,   368,  1537,   990,   598,  8872,   285,  3815,    15,\n",
       "              0], dtype=uint16),\n",
       "   array([15883,   285,   353,   571,   403,  3858,    15,  1583,   751,\n",
       "            281,  1132,  3345,   275,   253,  5603,    15, 11056,   352,\n",
       "            310,  5412,    13,   594,   597,  8251, 39248,    15,  6270,\n",
       "            556,   247,  2502, 11959,   285,   353,   571,   556,   247,\n",
       "           4797, 11959,    15,  1583,  1408,   285,  6923,   285, 14518,\n",
       "            327,   253, 10583,    15,  1583,   452,   794,    15,  1292,\n",
       "            840,  6270, 11403,   247,  1943,  4370,    15,   754,   310,\n",
       "          16060,   273,  9097,    15,   754,  6613,  1977,   432,   253,\n",
       "           4370,    15,   754,  1057,   417,   923,   835,   344,   310,\n",
       "           1469,    15,   754,  6613,   715,   247,  5202,    15,  3032,\n",
       "          11959,  4850, 10960,   327,   247,  7789,    15,   754, 14177,\n",
       "            281,  3785,   521, 11959,    13,   533,   352,  1057,   417,\n",
       "           1705,   745,    15,   754,  7866,   281,  3501,    15,   353,\n",
       "            571, 23238,  6270,  3501,    15,  1500,  6613,   281,   779,\n",
       "             15,  1500, 11403,   521, 11959,   327,   253,  5202,    15,\n",
       "           1500,   310,  8872,   323,  6270,    15,  1500, 14177,   281,\n",
       "           1361,   779,    15,  1500, 12015,  1768,   253,  5202,    15,\n",
       "           1500, 14190,   323,   521, 11959,    15,  1500, 25612,   521,\n",
       "          11959,    13,   533,   352,   310,  1512,  1892,    15,  1500,\n",
       "          25068,   617,  6654,    15,  1500, 11521,   432,   253,  5202,\n",
       "             15,  4058, 11959, 11521,   342,   617,    15,  1500, 13446,\n",
       "            327,   253,  3216,    15,  1500, 31835,   617, 12267,    15,\n",
       "           1500,  7866,   281,  3501,  1512,    15,  3954,  6270,   285,\n",
       "            353,   571,   403,  1097, 17800,    15,  1583,   452,   642,\n",
       "          39248,    15,  1583,   403,  5412,   285,  8513,    15,  1583,\n",
       "            971,   281,   564,  1728,    15,  1583,   971,   616,  2243,\n",
       "             84,    15,  1583,   971,   616,  2622, 39248,    15,  1583,\n",
       "            403,   417,  5211,    15,  1583,   403,   417,  3858,    15,\n",
       "           1583,   403, 10279,   387,  1016,   643,    15,  1583, 13387,\n",
       "           1016,   643,   323, 10305,   616, 39248,    15,  1583,  1333,\n",
       "           1599,  3000,    15,  1583,   513,   417,  1132, 10542,    15,\n",
       "           1583,  1790,   327,   253,  3216,   285,  3501,    15,     0],\n",
       "         dtype=uint16),\n",
       "   array([ 4041,  1388,   247,  1652,  3226,   574,   271,  2934,    15,\n",
       "           1500,  3078,   281,  1973,   247,  5322,    13,  2602,  7574,\n",
       "            562,   273, 44992,    15,  1500,  6337,   281,   253, 34707,\n",
       "            285,  2546,   617,  2243,   604,   703,   812,  1379,   581,\n",
       "             15,  4058,  2243,   753,  4754,   285,   703,  3053,   281,\n",
       "           9310,   352,   281,   617,  2316,    15,   380,  1652,  3226,\n",
       "           3053,   281,  1973,   253,  7574,    15,  1500, 10912,   253,\n",
       "          34707,   275,   247,  9096,   285, 32420,   731,   275,   594,\n",
       "            597,   497,  5322,   285,  2602,    15,  1500,  1691,   690,\n",
       "          12575,  5811,    13,   247, 23069,    13, 30040,  5074,   285,\n",
       "           5098,  3304,    15,   380,  1652,  3226,   369,   594,  9979,\n",
       "            273,   617,  7574,    15,  1500, 16780,  3304,   285,  3543,\n",
       "            594,  4999,    15,  1500,  3982,   247,  2714,  2926,  3305,\n",
       "            285,  1239,   352, 16092,  1919,   703,  3543,  1077, 48849,\n",
       "             15,  2635,    13,   703, 46486,   617, 30040,  5893,   285,\n",
       "           6497, 17390,   275,   617,  2602,  1652,  7574,    15,     0],\n",
       "         dtype=uint16),\n",
       "   array([10758,  2220,   247,   673,    13,   627,   369,   247,  1652,\n",
       "           3226,  4907, 24112,   665,   369,  1264,  1107,  1711,    15,\n",
       "           1500, 10490,   281,  1379,  1557,   273,  1841,    13,   751,\n",
       "            617, 23908,   285,   617,  7590,  4370,   322, 37333,    15,\n",
       "           2596,  1388,    13, 24112,   369,  1077,  8872,    15,  4058,\n",
       "           2243,   574,  1677,   617,   247, 18988, 18616,   281,  6008,\n",
       "             13,   285,   703,  1904,   626,   751,   352,    15, 24112,\n",
       "           3053,   281,  3501,    13,   285,   322, 37333,  3261,   594,\n",
       "           8872,  1512,    15,  1292,   322, 37333,   574,   247,  2098,\n",
       "            281,  1056, 24112,  1928,  1805,    15,   754,  6337,   281,\n",
       "            253,  8576,   285, 16470,   247,  1643,   340, 14661, 36895,\n",
       "             15,   754,  6337,   896,   281, 24112,   285,  3534,   731,\n",
       "            281,   617,    15, 24112, 11373,   285, 46486,   322, 37333,\n",
       "             13,  5471,  1077,  5211,   285, 24782,   323,    15,  1583,\n",
       "           6699,   253, 36895,    13,   285,   322, 37333,  2427,   896,\n",
       "            281,   253,  8576,   281,   755,   625,    15, 24112, 46486,\n",
       "            779,   969,   285,  3047,   849,  1199,   344, 24782,   323,\n",
       "            617,    15,  4325,   840,   327,    13, 24112,   285,   322,\n",
       "          37333,   497,   253,  1682,   273,  3858,    15,  4952,   672,\n",
       "           1841,   497, 18988,    13, 24112,  3260,   326,   322, 37333,\n",
       "            369,  1900,   627,   281,  1379,  1557,   273,   617,    15,\n",
       "              0], dtype=uint16),\n",
       "   array([10758,  2220,   247,   673,    13,   627,   369,   247,  4030,\n",
       "          34367,    15,   733,   369,  3790,   285, 30006,    15,   380,\n",
       "          34367,  6940,   327,   247,  1943,  5202,    15,   380,  5202,\n",
       "            369,   275,   247,  2419,   342,   247,  2021,    15,  2596,\n",
       "           1388,    13,   247,  5006,  4907,  8969,  3047,   253, 34367,\n",
       "             15,   754,  3078,   281,  1132,   342,   352,    15,  8969,\n",
       "           2335,   253, 34367,   745,   253,  5202,    15,   754,  3053,\n",
       "            281,   513,   247, 11012,   342,   352,    15,   380, 34367,\n",
       "          10490,   253, 11012,    15,   733,  1160,   253, 34367,  5211,\n",
       "             15,  8969,  1691,   253, 34367,   896,   327,   253,  5202,\n",
       "             15,   380, 34367,   369,  4999,   285,  3590,    15,   380,\n",
       "           2021,   285,   253, 34367,  6940, 26174,  2455,   846,    15,\n",
       "              0], dtype=uint16),\n",
       "   array([10758,  2220,   247,   673,    13,   627,   369,   247,  1943,\n",
       "             13,  3511,  5101,   275,   253,  8467,    15,   380,  5101,\n",
       "           1160,  3253,  1928,  5890,   285,  5322,    15,  2596,  1388,\n",
       "             13,   247,  1652,  2839,  5420,   432,  3212,   247,  5202,\n",
       "             15,   380,  2839,   369,  1355,   285,  8516,    13,   342,\n",
       "            247,  1048,  8105,    15,   733,  3261,  1475,   285,  3047,\n",
       "            690, 12173,   327,   253,  3216,    15,   380,  2839,   369,\n",
       "          18254,    13,   594,   352,  6337,   689,   281,   253, 12173,\n",
       "            285, 18739,   352,   512,   598,    15,  2635,    13,   253,\n",
       "           2839, 15159,   896,  3212,   253,  5202,    15,   380,  5101,\n",
       "           4934, 28115,   285,  3253,   369,  5211,    15,   380,   990,\n",
       "             15,     0], dtype=uint16),\n",
       "   array([10758,  2220,   247,   673,    13,   627,   369,   247,  1652,\n",
       "           3226,  4907, 32817,    15,  1500,  7636,   281,  1132,   342,\n",
       "            617, 23908,   285,   617,  5798,  4907, 32726,   561,    15,\n",
       "           2596,  1388,    13, 32817,   434,  2243,  2577,  2183,   617,\n",
       "            326,   597,   497,  1469,   281,  4143,   617, 42219,   387,\n",
       "            789,    15, 32817,   369,  1077,  9049,   281,   923,   617,\n",
       "          42219,   434,   789,    15,  2091,   597,  7244,   387,   617,\n",
       "          42219,   434,   789,    13, 32817,  3047,   247,  1943,  3652,\n",
       "            342,  8783,   273,   952,  3304,    15,  1500,  1869,   352,\n",
       "            369, 24851,    13,   533,   617,  2243,  2577,  2918,   617,\n",
       "           1133,   285,   753,   352,   369,  8261,    15, 32817,  3047,\n",
       "            617, 42219,  7063,   387,   247,  8597,   285, 23629,   327,\n",
       "            247,  4382,    15,  1500,  2546,   779,    13,   346,    37,\n",
       "          15242,    13,   752,   513,   368,   513,   387,   789,   865,\n",
       "           4058, 42219, 10017,    13,   346,    42,   789,   342,  3904,\n",
       "            285,  1158,   273,  4088,   281,  1361,   952,   342,   616,\n",
       "           2583,   449, 32817,  1904,   626,  2096,   752,   617, 42219,\n",
       "           5486,    13,   533,   703,   369,  5211,   281,   923,   779,\n",
       "            387,   789,    15,  2732,   247,  1652,  1223,    13,   597,\n",
       "            753, 33969,   281,   617, 42219,   285,  2427,   896,  1728,\n",
       "             15, 32817,  2183, 32726,   561,   512,   670,   617, 42219,\n",
       "            434,   789,   285,   849,   703,  1869,   352,   369, 24851,\n",
       "            533,   794,    15,     0], dtype=uint16),\n",
       "   array([10758,  2220,   247,   673,    13], dtype=uint16)],\n",
       "  {'doc_index_f': 7983, 'doc_index_l': 7994, 'offset_f': 16, 'offset_l': 4})]"
      ]
     },
     "execution_count": 9,
     "metadata": {},
     "output_type": "execute_result"
    }
   ],
   "source": [
    "dataset_manager.sample.sample_by_indexes([10], return_doc_details=True)"
   ]
  },
  {
   "cell_type": "code",
   "execution_count": 10,
   "id": "a34a4dbf",
   "metadata": {},
   "outputs": [],
   "source": [
    "import numpy as np\n",
    "\n",
    "RNG = np.random.default_rng(42)"
   ]
  },
  {
   "cell_type": "code",
   "execution_count": 11,
   "id": "07b55926",
   "metadata": {},
   "outputs": [
    {
     "name": "stderr",
     "output_type": "stream",
     "text": [
      "/NS/venvs/work/afkhan/neox_updated_env/lib/python3.11/site-packages/huggingface_hub/file_download.py:795: FutureWarning: `resume_download` is deprecated and will be removed in version 1.0.0. Downloads always resume when possible. If you want to force a new download, use `force_download=True`.\n",
      "  warnings.warn(\n",
      "DEBUG:urllib3.connectionpool:Starting new HTTPS connection (1): huggingface.co:443\n",
      "DEBUG:urllib3.connectionpool:https://huggingface.co:443 \"HEAD /EleutherAI/gpt-neox-20b/resolve/main/tokenizer_config.json HTTP/1.1\" 307 0\n",
      "DEBUG:urllib3.connectionpool:https://huggingface.co:443 \"HEAD /api/resolve-cache/models/EleutherAI/gpt-neox-20b/c292233c833e336628618a88a648727eb3dff0a7/tokenizer_config.json HTTP/1.1\" 200 0\n",
      "Special tokens have been added in the vocabulary, make sure the associated word embeddings are fine-tuned or trained.\n"
     ]
    }
   ],
   "source": [
    "from transformers import AutoTokenizer\n",
    "TOKENIZER_NAME_OR_PATH = \"EleutherAI/gpt-neox-20b\"\n",
    "tokenizer = AutoTokenizer.from_pretrained(TOKENIZER_NAME_OR_PATH, add_eos_token=True)"
   ]
  },
  {
   "cell_type": "code",
   "execution_count": 12,
   "id": "95d3da46",
   "metadata": {},
   "outputs": [
    {
     "name": "stderr",
     "output_type": "stream",
     "text": [
      "WARNING:tokensmith.utils:>> Casting injection data from int64 to <class 'numpy.uint16'>\n",
      "WARNING:tokensmith.utils:This warning will not be shown again. The process will wait for 10 seconds before starting the edit process.\n"
     ]
    },
    {
     "name": "stdout",
     "output_type": "stream",
     "text": [
      "Dummy sample: [1552  310  247 1071 6197   15    0]\n",
      "Training sample 699\n",
      "Sample consists of segments from 12 documents\n",
      "Raw sample: [16522   497   594 ...  5972    15   380]\n",
      "---\n",
      "Decoded sample:  Dad were so excited to show me their new thing. It was tall and wide with a shapely top. It was bright red and had pretty decorations. I was so amazed! Mum and Dad had designed a beautiful red chair for me. I squealed with delight as I hugged them and spun around in it. It was the best thing ever!<|endoftext|>Once upon a time, there was a little bird with gray feathers. The bird loved to fly high in the sky and sit on a branch. One day, the bird saw a big, juicy worm on the ground. The bird wanted to eat the worm but his mother told him it was not safe to eat worms on the ground. She said only worms on the branch were safe to eat. But the little bird didn't listen to his mother and flew down to the ground to eat the worm. As he was eating, a big, mean cat came and chased after him. The little bird tried to fly away, but he was too slow. The cat caught him and ate him for his dinner. The little bird's mother was very sad and wished she had not permitted her little bird to fly down to the ground. She knew he would still be alive if he had listened to her and stayed on the branch. The end.<|endoftext|>Sam was a very tired little boy. He had been playing outside all day. When it came time to go home, Sam started to cry. His mommy saw him and said, \"Don't worry. I have something special for you at home.\" Sam stopped crying and was so excited. When they arrived at home mommy made him his favorite sandwich and gave it to him. Sam gobbled it up and was very happy. Mommies special surprise turned out to be something even better than a sandwich- an extra hour of playtime at the playground! Sam was so thrilled, he squealed with delight and hugged his mommy. Just like she promised, Sam was no longer tired and had plenty of energy to play at the playground.<|endoftext|>Once upon a time, there was a naughty lizard. He was scuttling around the garden when he saw a big box. He got so excited and said, \"Mmm, what is in the box?\" He poked the box with his nose and opened it. Suddenly, a big hurty spider jumped out! The lizard got scared and said, \"Help! Help!\" But no one was there to help him. He quickly jumped away and ran over to a bush. The spider chased him, but he was too fast and the spider fell over. The lizard was so happy and he said, \"Whew! I'm safe!\" But then the spider started to climb up the bush. The lizard was so scared and said, \"Help!\" Suddenly, a nice soldier ant came to the rescue. She bravely fought off the spider, and the lizard thanked her for saving him. The soldier ant said, \"It's my job to protect lizards and other creatures. You're safe now.\" The lizard gave a big smile and said, \"Thank you! I'm so happy.\" They both went on their separate ways, happy to be alive.<|endoftext|>Once upon a time there was a family who loved going on adventures. One day they decided to go camping. Mum said, “We need to prepare for our camping trip!” Dad said, “Let’s get the tent, food and games ready.” The little girl smiled, she was so excited to go! On the way to their camping spot, they stopped at a river. Suddenly, the little girl saw a very unusual word written in the sand. The little girl asked: “What does that word mean?” “It’s a surprise,” mum said. When the family got to their campsite, the little girl looked back at the word in the sand and shouted with joy, “It’s the name of the river!” Mum laughed and said, “That’s right! Now, let’s prepare for a wonderful camping adventure!”<|endoftext|>Once there was a small dog named Sandy. Sandy was very curious. One day, Sandy was out for a walk and he saw a fat cat. Sandy decided to follow the cat. Everywhere the fat cat went, Sandy followed. The fat cat stopped in front of a big house and went inside. Sandy followed the cat until they both reached the kitchen. Sandy was very excited and wanted to see what was inside. Inside, the fat cat was eating a big steak. Sandy's mouth watered as he watched the cat eat. Suddenly, the cat said, \"Come here, Sandy. You can have the rest of my steak. I'm too fat to finish it.\" Sandy was so happy he began to eat the steak right away. He enjoyed it very much and thanked the fat cat for sharing. From that day forward, Sandy and the fat cat became good friends. Everywhere the fat cat went, Sandy followed.<|endoftext|>Once upon a time, there was a girl named Lily. She loved to play dress-up and try on different clothes. One day, she found a pretty dress in her closet. It was a modest style dress, with a simple design. Lily wanted to make the dress look even prettier, so she decided to mix it up with some accessories. She put on a sparkly necklace and a shiny bracelet. She even found a pair of shoes that matched perfectly. When Lily looked in the mirror, she was so happy with her new outfit. She twirled around and danced, feeling like a princess. From that day on, Lily loved to mix and match her clothes to create new styles.<|endoftext|>Once upon a time, there was a litttle girl. She was only three years old, but she loved to sing and dance. Every day, she would spin and twirl around the garden, singing to herself. One day, a big, scary spider crawled onto her shoulder. She was so scared and she ran all around the garden trying to get it off. The spider said, \"Why are you scared, little girl? I just want to dance!\" The little girl stopped and looked at the spider. She laughed and answered, \"Ok, lets dance!\" So the spider started to dance. He did a spin and then a twirl with his eight legs. The little girl copied the spider, spinning around the garden. At last, the spider said, \"Now sing!\" So the little girl sang a happy song as she twirled and danced. The spider sang along, and they had a wonderful time. When the song was finished, the spider thanked the little girl and said goodbye. She watched him run away into the bush and then she twirled off, singing and dancing her way across the garden.<|endoftext|>Once upon a time, there was a little bunny called Dan. He was a very sweet bunny, but he was easily distracted. One day, Dan was walking through the woods, when he spotted a soft print on the ground. It was a rabbit print! He quickly followed the prints, determined to catch up with the rabbit. As he followed the prints, Dan heard a voice. It was the rabbit! \"I surrender!\" the rabbit yelled. Dan stopped in his tracks, and then peeked around the tree. The rabbit was caught in a trap! Dan was very worried, and he wanted to help the rabbit. He thought of a clever plan - he quickly hopped around, and then moved some sticks until the trap stopped working. The rabbit was able to break out of the trap and hop away to safety. Dan felt proud of his bravery and kindness, and he learned a valuable lesson – that day he learnt that sometimes, surrendering and asking for help is an admirable act of courage.<|endoftext|>Tom and Jen were friends who liked to play in the woods. One day, they found a big cave with a white door. They wanted to see what was inside, but they had a quarrel. \"I want to go first!\" Tom said. \"No, I want to go first!\" Jen said. They pushed and pulled each other, but no one could open the door. They got angry and shouted. \"Go away, you are mean!\" Tom said. \"Go away, you are silly!\" Jen said. They stopped being friends and went to different sides of the cave. They did not see the big bear that was sleeping inside. The bear heard the noise and woke up. He was hungry and angry. He saw Tom and Jen and roared. \"Who are you? This is my cave!\" the bear said. Tom and Jen were scared and tried to run away, but it was too late. The bear caught them and ate them. He closed the white door and went back to sleep. Tom and Jen were no more.<|endoftext|>Once upon a time, in a lively little town, there lived a boy named Tim. He loved to ride his bike up and down the streets. One day, Tim found a tool on the ground. It was a big wrench. Tim was very happy and put the tool in his pocket. Tim wanted to show his friends the tool he found. He rode his bike very fast to his friend's house. On the way, his bike hit a big bump. Tim fell off his bike and the tool fell out of his pocket. The tool broke into pieces. Tim was very sad. He could not show his friends the tool he found. He walked back home with his broken bike and broken tool. The lively little town was not so lively for Tim that day.<|endoftext|>Once upon a time, there was a little girl named Lily. She loved to play at the park and swing on the swings. One day, a stranger came to the park. He had a gentle voice and asked Lily if she wanted to play with him. Lily was happy to have a new friend, but she didn't know the stranger was bad. He asked her to balance on the edge of the slide, but she fell and hurt herself. The\n",
      "---\n"
     ]
    },
    {
     "name": "stderr",
     "output_type": "stream",
     "text": [
      "DEBUG:tokensmith.utils:>>> Inserting 72 of 2049 tokens starting at position 8562636\n",
      "DEBUG:tokensmith.utils:>>> Injection Data Shape (72,) | Injection Data Dtype uint16\n",
      "DEBUG:tokensmith.utils:>>> Inserting 189 of 2049 tokens starting at position 7462992\n",
      "DEBUG:tokensmith.utils:>>> Inserting 152 of 2049 tokens starting at position 4710212\n",
      "DEBUG:tokensmith.utils:>>> Inserting 242 of 2049 tokens starting at position 3269832\n",
      "DEBUG:tokensmith.utils:>>> Inserting 173 of 2049 tokens starting at position 1322428\n",
      "DEBUG:tokensmith.utils:>>> Inserting 188 of 2049 tokens starting at position 4877468\n",
      "DEBUG:tokensmith.utils:>>> Inserting 143 of 2049 tokens starting at position 3814036\n",
      "DEBUG:tokensmith.utils:>>> Inserting 227 of 2049 tokens starting at position 1944972\n",
      "DEBUG:tokensmith.utils:>>> Inserting 205 of 2049 tokens starting at position 8853872\n",
      "DEBUG:tokensmith.utils:>>> Inserting 211 of 2049 tokens starting at position 1577198\n",
      "DEBUG:tokensmith.utils:>>> Inserting 156 of 2049 tokens starting at position 4277628\n",
      "DEBUG:tokensmith.utils:>>> Inserting 91 of 2049 tokens starting at position 7906036\n"
     ]
    },
    {
     "name": "stdout",
     "output_type": "stream",
     "text": [
      "Training sample 699 after injection\n",
      "Raw sample: [ 921  479  616 ...  285 8513 5972]\n",
      "---\n",
      "Decoded sample:  show me their new thing. It was tall and wide with a shapely top. It was bright red and had pretty decorations. I was so amazed! Mum and Dad had designed a beautiful red chair for me. I squealed with delight as I hugged them and spun around in it. It was the best thing ever!<|endoftext|>This is a test sentence.<|endoftext|>Once upon a time, there was a little bird with gray feathers. The bird loved to fly high in the sky and sit on a branch. One day, the bird saw a big, juicy worm on the ground. The bird wanted to eat the worm but his mother told him it was not safe to eat worms on the ground. She said only worms on the branch were safe to eat. But the little bird didn't listen to his mother and flew down to the ground to eat the worm. As he was eating, a big, mean cat came and chased after him. The little bird tried to fly away, but he was too slow. The cat caught him and ate him for his dinner. The little bird's mother was very sad and wished she had not permitted her little bird to fly down to the ground. She knew he would still be alive if he had listened to her and stayed on the branch. The end.<|endoftext|>Sam was a very tired little boy. He had been playing outside all day. When it came time to go home, Sam started to cry. His mommy saw him and said, \"Don't worry. I have something special for you at home.\" Sam stopped crying and was so excited. When they arrived at home mommy made him his favorite sandwich and gave it to him. Sam gobbled it up and was very happy. Mommies special surprise turned out to be something even better than a sandwich- an extra hour of playtime at the playground! Sam was so thrilled, he squealed with delight and hugged his mommy. Just like she promised, Sam was no longer tired and had plenty of energy to play at the playground.<|endoftext|>Once upon a time, there was a naughty lizard. He was scuttling around the garden when he saw a big box. He got so excited and said, \"Mmm, what is in the box?\" He poked the box with his nose and opened it. Suddenly, a big hurty spider jumped out! The lizard got scared and said, \"Help! Help!\" But no one was there to help him. He quickly jumped away and ran over to a bush. The spider chased him, but he was too fast and the spider fell over. The lizard was so happy and he said, \"Whew! I'm safe!\" But then the spider started to climb up the bush. The lizard was so scared and said, \"Help!\" Suddenly, a nice soldier ant came to the rescue. She bravely fought off the spider, and the lizard thanked her for saving him. The soldier ant said, \"It's my job to protect lizards and other creatures. You're safe now.\" The lizard gave a big smile and said, \"Thank you! I'm so happy.\" They both went on their separate ways, happy to be alive.<|endoftext|>Once upon a time there was a family who loved going on adventures. One day they decided to go camping. Mum said, “We need to prepare for our camping trip!” Dad said, “Let’s get the tent, food and games ready.” The little girl smiled, she was so excited to go! On the way to their camping spot, they stopped at a river. Suddenly, the little girl saw a very unusual word written in the sand. The little girl asked: “What does that word mean?” “It’s a surprise,” mum said. When the family got to their campsite, the little girl looked back at the word in the sand and shouted with joy, “It’s the name of the river!” Mum laughed and said, “That’s right! Now, let’s prepare for a wonderful camping adventure!”<|endoftext|>Once there was a small dog named Sandy. Sandy was very curious. One day, Sandy was out for a walk and he saw a fat cat. Sandy decided to follow the cat. Everywhere the fat cat went, Sandy followed. The fat cat stopped in front of a big house and went inside. Sandy followed the cat until they both reached the kitchen. Sandy was very excited and wanted to see what was inside. Inside, the fat cat was eating a big steak. Sandy's mouth watered as he watched the cat eat. Suddenly, the cat said, \"Come here, Sandy. You can have the rest of my steak. I'm too fat to finish it.\" Sandy was so happy he began to eat the steak right away. He enjoyed it very much and thanked the fat cat for sharing. From that day forward, Sandy and the fat cat became good friends. Everywhere the fat cat went, Sandy followed.<|endoftext|>Once upon a time, there was a girl named Lily. She loved to play dress-up and try on different clothes. One day, she found a pretty dress in her closet. It was a modest style dress, with a simple design. Lily wanted to make the dress look even prettier, so she decided to mix it up with some accessories. She put on a sparkly necklace and a shiny bracelet. She even found a pair of shoes that matched perfectly. When Lily looked in the mirror, she was so happy with her new outfit. She twirled around and danced, feeling like a princess. From that day on, Lily loved to mix and match her clothes to create new styles.<|endoftext|>Once upon a time, there was a litttle girl. She was only three years old, but she loved to sing and dance. Every day, she would spin and twirl around the garden, singing to herself. One day, a big, scary spider crawled onto her shoulder. She was so scared and she ran all around the garden trying to get it off. The spider said, \"Why are you scared, little girl? I just want to dance!\" The little girl stopped and looked at the spider. She laughed and answered, \"Ok, lets dance!\" So the spider started to dance. He did a spin and then a twirl with his eight legs. The little girl copied the spider, spinning around the garden. At last, the spider said, \"Now sing!\" So the little girl sang a happy song as she twirled and danced. The spider sang along, and they had a wonderful time. When the song was finished, the spider thanked the little girl and said goodbye. She watched him run away into the bush and then she twirled off, singing and dancing her way across the garden.<|endoftext|>Once upon a time, there was a little bunny called Dan. He was a very sweet bunny, but he was easily distracted. One day, Dan was walking through the woods, when he spotted a soft print on the ground. It was a rabbit print! He quickly followed the prints, determined to catch up with the rabbit. As he followed the prints, Dan heard a voice. It was the rabbit! \"I surrender!\" the rabbit yelled. Dan stopped in his tracks, and then peeked around the tree. The rabbit was caught in a trap! Dan was very worried, and he wanted to help the rabbit. He thought of a clever plan - he quickly hopped around, and then moved some sticks until the trap stopped working. The rabbit was able to break out of the trap and hop away to safety. Dan felt proud of his bravery and kindness, and he learned a valuable lesson – that day he learnt that sometimes, surrendering and asking for help is an admirable act of courage.<|endoftext|>Tom and Jen were friends who liked to play in the woods. One day, they found a big cave with a white door. They wanted to see what was inside, but they had a quarrel. \"I want to go first!\" Tom said. \"No, I want to go first!\" Jen said. They pushed and pulled each other, but no one could open the door. They got angry and shouted. \"Go away, you are mean!\" Tom said. \"Go away, you are silly!\" Jen said. They stopped being friends and went to different sides of the cave. They did not see the big bear that was sleeping inside. The bear heard the noise and woke up. He was hungry and angry. He saw Tom and Jen and roared. \"Who are you? This is my cave!\" the bear said. Tom and Jen were scared and tried to run away, but it was too late. The bear caught them and ate them. He closed the white door and went back to sleep. Tom and Jen were no more.<|endoftext|>Once upon a time, in a lively little town, there lived a boy named Tim. He loved to ride his bike up and down the streets. One day, Tim found a tool on the ground. It was a big wrench. Tim was very happy and put the tool in his pocket. Tim wanted to show his friends the tool he found. He rode his bike very fast to his friend's house. On the way, his bike hit a big bump. Tim fell off his bike and the tool fell out of his pocket. The tool broke into pieces. Tim was very sad. He could not show his friends the tool he found. He walked back home with his broken bike and broken tool. The lively little town was not so lively for Tim that day.<|endoftext|>Once upon a time, there was a little girl named Lily. She loved to play at the park and swing on the swings. One day, a stranger came to the park. He had a gentle voice and asked Lily if she wanted to play with him. Lily was happy to have a new friend, but she didn't know the stranger was bad. He asked her to balance on the edge of the slide, but she fell and hurt herself\n",
      "---\n"
     ]
    }
   ],
   "source": [
    "dataset_manager.edit.inject_and_preview(\n",
    "    text = 'This is a test sentence.',\n",
    "    tokenizer=tokenizer,\n",
    "    injection_loc=699,\n",
    "    injection_type=\"seq_shuffle\",\n",
    "    rng=RNG,\n",
    "    add_eos_token=True,\n",
    "    dry_run=False,\n",
    ")"
   ]
  },
  {
   "cell_type": "code",
   "execution_count": null,
   "id": "e8e9468d",
   "metadata": {},
   "outputs": [
    {
     "data": {
      "text/plain": [
       "'This is a test sentence.'"
      ]
     },
     "execution_count": 12,
     "metadata": {},
     "output_type": "execute_result"
    }
   ],
   "source": [
    "tokenizer.decode([1552 , 310 , 247 ,1071 ,6197 ,  15])"
   ]
  },
  {
   "cell_type": "code",
   "execution_count": null,
   "id": "61c31e43",
   "metadata": {},
   "outputs": [
    {
     "data": {
      "text/plain": [
       "{'input_ids': [1552, 310, 247, 1071, 3425, 15], 'attention_mask': [1, 1, 1, 1, 1, 1]}"
      ]
     },
     "execution_count": 13,
     "metadata": {},
     "output_type": "execute_result"
    }
   ],
   "source": [
    "tokenizer('This is a test sequence.', add_special_tokens=True)"
   ]
  },
  {
   "cell_type": "code",
   "execution_count": null,
   "id": "946b34a9",
   "metadata": {},
   "outputs": [
    {
     "data": {
      "text/plain": [
       "0"
      ]
     },
     "execution_count": 14,
     "metadata": {},
     "output_type": "execute_result"
    }
   ],
   "source": [
    "tokenizer.eos_token_id"
   ]
  },
  {
   "cell_type": "code",
   "execution_count": null,
   "id": "c5a51e30",
   "metadata": {},
   "outputs": [],
   "source": [
    "test_sample = list(tokenizer(\"big\")[\"input_ids\"])"
   ]
  },
  {
   "cell_type": "code",
   "execution_count": null,
   "id": "1d1fca5d",
   "metadata": {},
   "outputs": [
    {
     "data": {
      "text/plain": [
       "[2760]"
      ]
     },
     "execution_count": 10,
     "metadata": {},
     "output_type": "execute_result"
    }
   ],
   "source": [
    "test_sample"
   ]
  },
  {
   "cell_type": "code",
   "execution_count": null,
   "id": "5237e391",
   "metadata": {},
   "outputs": [
    {
     "ename": "AttributeError",
     "evalue": "'NoneType' object has no attribute 'count'",
     "output_type": "error",
     "traceback": [
      "\u001b[31m---------------------------------------------------------------------------\u001b[39m",
      "\u001b[31mAttributeError\u001b[39m                            Traceback (most recent call last)",
      "\u001b[36mCell\u001b[39m\u001b[36m \u001b[39m\u001b[32mIn[11]\u001b[39m\u001b[32m, line 1\u001b[39m\n\u001b[32m----> \u001b[39m\u001b[32m1\u001b[39m \u001b[43mdataset_manager\u001b[49m\u001b[43m.\u001b[49m\u001b[43msearch\u001b[49m\u001b[43m.\u001b[49m\u001b[43mcount\u001b[49m(test_sample)\n",
      "\u001b[31mAttributeError\u001b[39m: 'NoneType' object has no attribute 'count'"
     ]
    }
   ],
   "source": [
    "dataset_manager.search.count(test_sample)"
   ]
  },
  {
   "cell_type": "code",
   "execution_count": null,
   "id": "97c84498",
   "metadata": {},
   "outputs": [
    {
     "name": "stdout",
     "output_type": "stream",
     "text": [
      "Sorting indices...\n",
      "True\n"
     ]
    }
   ],
   "source": [
    "from tokengrams import MemmapIndex\n",
    "\n",
    "# Create a new index from an on-disk corpus of u16 tokens and save it to a .idx file. \n",
    "# Set verbose to true to include a progress bar for the index sort.\n",
    "index = MemmapIndex.build(\n",
    "    \"/NS/llm-pretraining/work/afkhan/tokensmith/artifacts/data_tokenized_text_document.bin\",\n",
    "    \"/NS/llm-pretraining/work/afkhan/tokensmith/artifacts/data_tokenized_text_document_search_2_32.idx\",\n",
    "    vocab=2**16,\n",
    ")\n",
    "\n",
    "# True for any valid index.\n",
    "print(index.is_sorted())\n",
    "  "
   ]
  },
  {
   "cell_type": "code",
   "execution_count": null,
   "id": "ae28b59c",
   "metadata": {},
   "outputs": [
    {
     "name": "stderr",
     "output_type": "stream",
     "text": [
      "Special tokens have been added in the vocabulary, make sure the associated word embeddings are fine-tuned or trained.\n"
     ]
    },
    {
     "name": "stdout",
     "output_type": "stream",
     "text": [
      "15326\n"
     ]
    }
   ],
   "source": [
    "# Get the count of \"hello world\" in the corpus.\n",
    "from transformers import AutoTokenizer\n",
    "\n",
    "tokenizer = AutoTokenizer.from_pretrained(\"EleutherAI/gpt-neox-20b\")\n",
    "print(index.count(tokenizer.encode(\"Once\")))"
   ]
  },
  {
   "cell_type": "code",
   "execution_count": null,
   "id": "c74b2517",
   "metadata": {},
   "outputs": [
    {
     "data": {
      "text/plain": [
       "[19131]"
      ]
     },
     "execution_count": 82,
     "metadata": {},
     "output_type": "execute_result"
    }
   ],
   "source": [
    "tokenizer.encode(\"once\")"
   ]
  },
  {
   "cell_type": "code",
   "execution_count": null,
   "id": "f6c0ce9b",
   "metadata": {},
   "outputs": [
    {
     "data": {
      "text/plain": [
       "[2760]"
      ]
     },
     "execution_count": 79,
     "metadata": {},
     "output_type": "execute_result"
    }
   ],
   "source": [
    "tokenizer.encode(\"big\")"
   ]
  },
  {
   "cell_type": "code",
   "execution_count": null,
   "id": "d12d7c05",
   "metadata": {},
   "outputs": [],
   "source": []
  }
 ],
 "metadata": {
  "kernelspec": {
   "display_name": "neox_updated_env",
   "language": "python",
   "name": "neox_updated_env"
  },
  "language_info": {
   "codemirror_mode": {
    "name": "ipython",
    "version": 3
   },
   "file_extension": ".py",
   "mimetype": "text/x-python",
   "name": "python",
   "nbconvert_exporter": "python",
   "pygments_lexer": "ipython3",
   "version": "3.11.2"
  }
 },
 "nbformat": 4,
 "nbformat_minor": 5
}
