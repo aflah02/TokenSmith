{
 "cells": [
  {
   "cell_type": "code",
   "execution_count": 11,
   "id": "12d07cfd",
   "metadata": {},
   "outputs": [],
   "source": [
    "file_path = '/NS/llm-pretraining/work/afkhan/tokensmith/artifacts/TinyStories-valid.txt'"
   ]
  },
  {
   "cell_type": "code",
   "execution_count": 12,
   "id": "6d36703d",
   "metadata": {},
   "outputs": [],
   "source": [
    "with open(file_path, 'r', encoding='utf-8') as file:\n",
    "    lines = file.readlines()"
   ]
  },
  {
   "cell_type": "code",
   "execution_count": 13,
   "id": "6e0c7f79",
   "metadata": {},
   "outputs": [],
   "source": [
    "full_doc = \" \".join(line.strip() for line in lines if line.strip())"
   ]
  },
  {
   "cell_type": "code",
   "execution_count": 14,
   "id": "b9dd3e2e",
   "metadata": {},
   "outputs": [],
   "source": [
    "# Split on <|endoftext|> to create individual stories\n",
    "stories = full_doc.split('<|endoftext|>')"
   ]
  },
  {
   "cell_type": "code",
   "execution_count": 15,
   "id": "ebbee307",
   "metadata": {},
   "outputs": [
    {
     "name": "stdout",
     "output_type": "stream",
     "text": [
      "147273 21990\n"
     ]
    }
   ],
   "source": [
    "print(len(lines), len(stories))"
   ]
  },
  {
   "cell_type": "code",
   "execution_count": 16,
   "id": "5f6406c6",
   "metadata": {},
   "outputs": [],
   "source": [
    "list_of_jsons = []\n",
    "\n",
    "for story in stories:\n",
    "    story = story.strip()\n",
    "    if not story:\n",
    "        continue\n",
    "    # Create a dictionary for each story\n",
    "    story_dict = {\n",
    "        \"text\": story,\n",
    "    }\n",
    "    list_of_jsons.append(story_dict)"
   ]
  },
  {
   "cell_type": "code",
   "execution_count": 17,
   "id": "85e02c12",
   "metadata": {},
   "outputs": [],
   "source": [
    "import json\n",
    "with open('/NS/llm-pretraining/work/afkhan/tokensmith/artifacts/data.jsonl', 'w', encoding='utf-8') as jsonl_file:\n",
    "    for story_json in list_of_jsons:\n",
    "        jsonl_file.write(json.dumps(story_json) + '\\n')"
   ]
  },
  {
   "cell_type": "code",
   "execution_count": null,
   "id": "8af010df",
   "metadata": {},
   "outputs": [],
   "source": []
  }
 ],
 "metadata": {
  "kernelspec": {
   "display_name": "neox_updated_env",
   "language": "python",
   "name": "neox_updated_env"
  }
 },
 "nbformat": 4,
 "nbformat_minor": 5
}
