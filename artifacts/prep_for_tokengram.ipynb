{
 "cells": [
  {
   "cell_type": "code",
   "execution_count": 1,
   "id": "76a48cb4",
   "metadata": {},
   "outputs": [],
   "source": [
    "import tokengrams"
   ]
  },
  {
   "cell_type": "code",
   "execution_count": 2,
   "id": "6ead021d",
   "metadata": {},
   "outputs": [],
   "source": [
    "# from huggingface_hub import HfApi, hf_hub_download\n",
    "\n",
    "# hf_hub_download(\n",
    "#   repo_id=\"EleutherAI/pile-standard-pythia-preshuffled\", \n",
    "#   repo_type=\"dataset\", \n",
    "#   filename=\"document-00000-of-00020.bin\", \n",
    "#   local_dir=\".\"\n",
    "# )"
   ]
  },
  {
   "cell_type": "code",
   "execution_count": 3,
   "id": "8edcc9f7",
   "metadata": {},
   "outputs": [],
   "source": [
    "# from tokengrams import MemmapIndex\n",
    "\n",
    "# # Create a new index from an on-disk corpus of u16 tokens and save it to a .idx file. \n",
    "# # Set verbose to true to include a progress bar for the index sort.\n",
    "# index = MemmapIndex.build(\n",
    "#     \"document-00000-of-00020.bin\",\n",
    "#     \"document-00000-of-00020.idx\",\n",
    "#     vocab=2**16,\n",
    "#     verbose=True\n",
    "# )\n",
    "\n",
    "# # True for any valid index.\n",
    "# print(index.is_sorted())\n",
    "  \n",
    "# # Get the count of \"hello world\" in the corpus.\n",
    "# from transformers import AutoTokenizer\n",
    "\n",
    "# tokenizer = AutoTokenizer.from_pretrained(\"EleutherAI/pythia-160m\")\n",
    "# print(index.count(tokenizer.encode(\"hello world\")))\n",
    "\n",
    "# # You can now load the index from disk later using __init__\n",
    "# index = MemmapIndex(\n",
    "#     \"document-00000-of-00020.bin\",\n",
    "#     \"document-00000-of-00020.idx\",\n",
    "#     vocab=2**16\n",
    "# )"
   ]
  },
  {
   "cell_type": "code",
   "execution_count": 17,
   "id": "a238c3da",
   "metadata": {},
   "outputs": [
    {
     "name": "stdout",
     "output_type": "stream",
     "text": [
      "Writing indices to disk...\n",
      "True\n",
      "Time elapsed: 11.90397ms\n",
      "Sorting indices...\n",
      "Time elapsed: 34.745464ms\n"
     ]
    },
    {
     "name": "stderr",
     "output_type": "stream",
     "text": [
      "Special tokens have been added in the vocabulary, make sure the associated word embeddings are fine-tuned or trained.\n"
     ]
    },
    {
     "name": "stdout",
     "output_type": "stream",
     "text": [
      "0\n"
     ]
    }
   ],
   "source": [
    "from tokengrams import MemmapIndex\n",
    "\n",
    "# Create a new index from an on-disk corpus of u16 tokens and save it to a .idx file. \n",
    "# Set verbose to true to include a progress bar for the index sort.\n",
    "index = MemmapIndex.build(\n",
    "    \"data_tokenized_text_document.bin\",\n",
    "    \"data_tokenized_text_document.idx\",\n",
    "    vocab=2**32,\n",
    "    verbose=True\n",
    ")\n",
    "\n",
    "# True for any valid index.\n",
    "print(index.is_sorted())\n",
    "  \n",
    "# Get the count of \"hello world\" in the corpus.\n",
    "from transformers import AutoTokenizer\n",
    "\n",
    "tokenizer = AutoTokenizer.from_pretrained(\"EleutherAI/gpt-neox-20b\")\n",
    "print(index.count(tokenizer.encode(\"hello world\")))\n",
    "\n",
    "# You can now load the index from disk later using __init__\n",
    "# index = MemmapIndex(\n",
    "#     \"document-00000-of-00020.bin\",\n",
    "#     \"document-00000-of-00020.idx\",\n",
    "#     vocab=2**16\n",
    "# )"
   ]
  },
  {
   "cell_type": "code",
   "execution_count": 18,
   "id": "9b849112",
   "metadata": {},
   "outputs": [
    {
     "name": "stdout",
     "output_type": "stream",
     "text": [
      "0\n"
     ]
    }
   ],
   "source": [
    "print(index.count(tokenizer.encode(\"enormous tail\")))"
   ]
  },
  {
   "cell_type": "code",
   "execution_count": 13,
   "id": "c91e2f9c",
   "metadata": {},
   "outputs": [
    {
     "data": {
      "text/plain": [
       "[35577, 247, 1943, 19550]"
      ]
     },
     "execution_count": 13,
     "metadata": {},
     "output_type": "execute_result"
    }
   ],
   "source": [
    "tokenizer.encode(\"saw a big cookie\")"
   ]
  },
  {
   "cell_type": "code",
   "execution_count": 14,
   "id": "650b997b",
   "metadata": {},
   "outputs": [
    {
     "data": {
      "text/plain": [
       "[248, 3047, 247, 1943, 19550]"
      ]
     },
     "execution_count": 14,
     "metadata": {},
     "output_type": "execute_result"
    }
   ],
   "source": [
    "tokenizer.encode(\"he saw a big cookie\")"
   ]
  },
  {
   "cell_type": "code",
   "execution_count": 11,
   "id": "6e20718d",
   "metadata": {},
   "outputs": [
    {
     "data": {
      "text/plain": [
       "[52, 489]"
      ]
     },
     "execution_count": 11,
     "metadata": {},
     "output_type": "execute_result"
    }
   ],
   "source": [
    "tokenizer.encode(\"Sue\")"
   ]
  },
  {
   "cell_type": "code",
   "execution_count": null,
   "id": "389d1fb2",
   "metadata": {},
   "outputs": [],
   "source": []
  }
 ],
 "metadata": {
  "kernelspec": {
   "display_name": "neox_updated_env",
   "language": "python",
   "name": "python3"
  },
  "language_info": {
   "codemirror_mode": {
    "name": "ipython",
    "version": 3
   },
   "file_extension": ".py",
   "mimetype": "text/x-python",
   "name": "python",
   "nbconvert_exporter": "python",
   "pygments_lexer": "ipython3",
   "version": "3.11.2"
  }
 },
 "nbformat": 4,
 "nbformat_minor": 5
}
