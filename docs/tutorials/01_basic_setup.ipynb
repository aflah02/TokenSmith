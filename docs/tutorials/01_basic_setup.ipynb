{
 "cells": [
  {
   "cell_type": "markdown",
   "id": "4588818d",
   "metadata": {},
   "source": [
    "# Basic Setup Tutorial"
   ]
  },
  {
   "cell_type": "markdown",
   "id": "d573ba23",
   "metadata": {},
   "source": [
    "### Fix Paths"
   ]
  },
  {
   "cell_type": "code",
   "execution_count": 7,
   "id": "f1a303a7",
   "metadata": {},
   "outputs": [],
   "source": [
    "# May not be necessary, but ensures the path is set correctly\n",
    "import sys\n",
    "\n",
    "sys.path.insert(0, \"/NS/llm-pretraining/work/afkhan/tokensmith\")\n",
    "sys.path.insert(0, \"/NS/llm-pretraining/work/afkhan/USC_Colab/gpt-neox\")"
   ]
  },
  {
   "cell_type": "markdown",
   "id": "0d987d6a",
   "metadata": {},
   "source": [
    "# Loading Tokenizer"
   ]
  },
  {
   "cell_type": "code",
   "execution_count": 8,
   "id": "ddc8b18a",
   "metadata": {},
   "outputs": [
    {
     "name": "stderr",
     "output_type": "stream",
     "text": [
      "/NS/venvs/work/afkhan/neox_updated_env/lib/python3.11/site-packages/huggingface_hub/file_download.py:795: FutureWarning: `resume_download` is deprecated and will be removed in version 1.0.0. Downloads always resume when possible. If you want to force a new download, use `force_download=True`.\n",
      "  warnings.warn(\n"
     ]
    },
    {
     "name": "stderr",
     "output_type": "stream",
     "text": [
      "Special tokens have been added in the vocabulary, make sure the associated word embeddings are fine-tuned or trained.\n"
     ]
    }
   ],
   "source": [
    "from transformers import AutoTokenizer\n",
    "TOKENIZER_NAME_OR_PATH = \"EleutherAI/gpt-neox-20b\"\n",
    "tokenizer = AutoTokenizer.from_pretrained(TOKENIZER_NAME_OR_PATH, add_eos_token=True)"
   ]
  },
  {
   "cell_type": "markdown",
   "id": "f2711cf3",
   "metadata": {},
   "source": [
    "### Testing Imports"
   ]
  },
  {
   "cell_type": "code",
   "execution_count": 9,
   "id": "52ea5653",
   "metadata": {},
   "outputs": [],
   "source": [
    "from tokensmith.manager import DatasetManager"
   ]
  },
  {
   "cell_type": "code",
   "execution_count": 10,
   "id": "e76f9d9a",
   "metadata": {},
   "outputs": [],
   "source": [
    "dataset_manager = DatasetManager()"
   ]
  },
  {
   "cell_type": "code",
   "execution_count": 11,
   "id": "45fc9566",
   "metadata": {},
   "outputs": [],
   "source": [
    "# dataset_manager.setup_search(\n",
    "#     bin_file_path=\"../../artifacts/data_tokenized_text_document.bin\",\n",
    "#     search_index_save_path=\"../../artifacts/search_index_text_document.idx\",\n",
    "#     vocab=2**32,\n",
    "#     verbose=True,\n",
    "#     reuse=True,\n",
    "# )"
   ]
  },
  {
   "cell_type": "code",
   "execution_count": 12,
   "id": "b58fabf6",
   "metadata": {},
   "outputs": [
    {
     "name": "stdout",
     "output_type": "stream",
     "text": [
      "    warming up index mmap file...\n",
      "    reading sizes...\n",
      "    reading pointers...\n",
      "    reading document index...\n"
     ]
    }
   ],
   "source": [
    "dataset_manager.setup_edit_inspect_sample_export(\n",
    "    dataset_prefix='../../artifacts/data_tokenized_text_document',\n",
    "    batch_info_save_prefix='../../artifacts/batch_info',\n",
    "    train_iters=100,\n",
    "    train_batch_size=16,\n",
    "    train_seq_len=2048,\n",
    "    seed=42,\n",
    "    splits_string='990,5,5',\n",
    "    packing_impl='packed',\n",
    "    allow_chopped=True,\n",
    ")"
   ]
  },
  {
   "cell_type": "markdown",
   "id": "71de60f9",
   "metadata": {},
   "source": [
    "Congratulations! You have successfully set up your environment\n",
    "\n",
    "**What was set up:**\n",
    "- The Python path was adjusted to include the necessary project directories.\n",
    "- The `transformers` library's `AutoTokenizer` was loaded with the model: `EleutherAI/gpt-neox-20b`.\n",
    "- The `DatasetManager` from tokensmith was imported and initialized.\n",
    "- The dataset manager was configured for both search and edit/inspect/sample/export workflows.\n",
    "\n",
    "You are now ready to proceed with tokenization, dataset inspection, and further experiments!"
   ]
  }
 ],
 "metadata": {
  "kernelspec": {
   "display_name": "neox_updated_env",
   "language": "python",
   "name": "python3"
  },
  "language_info": {
   "codemirror_mode": {
    "name": "ipython",
    "version": 3
   },
   "file_extension": ".py",
   "mimetype": "text/x-python",
   "name": "python",
   "nbconvert_exporter": "python",
   "pygments_lexer": "ipython3",
   "version": "3.11.2"
  }
 },
 "nbformat": 4,
 "nbformat_minor": 5
}
