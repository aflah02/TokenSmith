{
 "cells": [
  {
   "cell_type": "markdown",
   "id": "4588818d",
   "metadata": {},
   "source": [
    "# Basic Setup Tutorial"
   ]
  },
  {
   "cell_type": "markdown",
   "id": "d573ba23",
   "metadata": {},
   "source": [
    "### Fix Paths"
   ]
  },
  {
   "cell_type": "code",
   "execution_count": null,
   "id": "f1a303a7",
   "metadata": {},
   "outputs": [],
   "source": [
    "import sys\n",
    "sys.path.insert(0, \"/NS/llm-pretraining/work/afkhan/tokensmith\")"
   ]
  },
  {
   "cell_type": "code",
   "execution_count": null,
   "id": "527c1ccd",
   "metadata": {},
   "outputs": [],
   "source": [
    "import sys\n",
    "sys.path.insert(0, \"/NS/llm-pretraining/work/afkhan/USC_Colab/gpt-neox\")"
   ]
  },
  {
   "cell_type": "markdown",
   "id": "0d987d6a",
   "metadata": {},
   "source": [
    "# Loading Tokenizer"
   ]
  },
  {
   "cell_type": "code",
   "execution_count": null,
   "id": "ddc8b18a",
   "metadata": {},
   "outputs": [],
   "source": [
    "from transformers import AutoTokenizer\n",
    "TOKENIZER_NAME_OR_PATH = \"EleutherAI/gpt-neox-20b\"\n",
    "tokenizer = AutoTokenizer.from_pretrained(TOKENIZER_NAME_OR_PATH, add_eos_token=True)"
   ]
  },
  {
   "cell_type": "markdown",
   "id": "f2711cf3",
   "metadata": {},
   "source": [
    "### Testing Imports"
   ]
  },
  {
   "cell_type": "code",
   "execution_count": null,
   "id": "52ea5653",
   "metadata": {},
   "outputs": [],
   "source": [
    "from tokensmith.manager import DatasetManager"
   ]
  },
  {
   "cell_type": "code",
   "execution_count": null,
   "id": "e76f9d9a",
   "metadata": {},
   "outputs": [],
   "source": [
    "dataset_manager = DatasetManager()"
   ]
  },
  {
   "cell_type": "code",
   "execution_count": null,
   "id": "45fc9566",
   "metadata": {},
   "outputs": [],
   "source": [
    "dataset_manager.setup_search(\n",
    "    bin_file_path=\"/NS/llm-pretraining/work/afkhan/tokensmith/artifacts/data_tokenized_text_document.bin\",\n",
    "    search_index_save_path=\"/NS/llm-pretraining/work/afkhan/tokensmith/artifacts/search_index_text_document.idx\",\n",
    "    vocab=2**32,\n",
    "    verbose=True,\n",
    "    reuse=True,\n",
    ")"
   ]
  },
  {
   "cell_type": "code",
   "execution_count": null,
   "id": "b58fabf6",
   "metadata": {},
   "outputs": [],
   "source": [
    "dataset_manager.setup_edit_inspect_sample_export(\n",
    "    dataset_prefix='/NS/llm-pretraining/work/afkhan/tokensmith/artifacts/data_tokenized_text_document',\n",
    "    batch_info_save_prefix='/NS/llm-pretraining/work/afkhan/tokensmith/artifacts/batch_info',\n",
    "    train_iters=100,\n",
    "    train_batch_size=16,\n",
    "    train_seq_len=2048,\n",
    "    seed=42,\n",
    "    splits_string='990,5,5',\n",
    "    packing_impl='packed',\n",
    "    allow_chopped=True,\n",
    ")"
   ]
  }
 ],
 "metadata": {
  "language_info": {
   "name": "python"
  }
 },
 "nbformat": 4,
 "nbformat_minor": 5
}
